{
  "nbformat": 4,
  "nbformat_minor": 0,
  "metadata": {
    "colab": {
      "name": "Parte 3 PIN.ipynb",
      "provenance": [],
      "collapsed_sections": [],
      "toc_visible": true
    },
    "kernelspec": {
      "display_name": "Python 3",
      "name": "python3"
    },
    "language_info": {
      "name": "python"
    }
  },
  "cells": [
    {
      "cell_type": "markdown",
      "metadata": {
        "id": "7sMsjFTTZFN8"
      },
      "source": [
        "# TRABAJO TALLER FINAL DIPLOMADO INTELIGENCIA DE NEGOCIOS\n",
        "# Parte 3: Clasificación\n"
      ]
    },
    {
      "cell_type": "markdown",
      "metadata": {
        "id": "wwvqtoPaN9tl"
      },
      "source": [
        "## LIBRERIAS Y HERRAMIENTAS"
      ]
    },
    {
      "cell_type": "code",
      "metadata": {
        "id": "j3w65YP8Gx0l"
      },
      "source": [
        "# @markdown Importación de Librerías y Herramientas\n",
        "\n",
        "# manejo de datos\n",
        "import numpy as np\n",
        "import pandas as pd\n",
        "\n",
        "# hay algunos warnings en la sección de \"Desbalance de clases\", con estas lineas los omitimos\n",
        "import warnings\n",
        "warnings.filterwarnings(\"ignore\")\n",
        "\n",
        "# imputación de datos\n",
        "from sklearn.experimental import enable_iterative_imputer\n",
        "from sklearn.impute import IterativeImputer\n",
        "\n",
        "# transformación\n",
        "from sklearn.preprocessing import MinMaxScaler\n",
        "\n",
        "# seleccion de modelos\n",
        "from sklearn.model_selection import cross_val_score\n",
        "from sklearn import model_selection \n",
        "# metricas\n",
        "from sklearn.metrics import recall_score, precision_score, accuracy_score\n",
        "from sklearn.metrics import classification_report, confusion_matrix\n",
        "\n",
        "# visualización\n",
        "import matplotlib.pyplot as plt\n",
        "import seaborn as sns\n",
        "%matplotlib inline\n",
        "sns.set(style='white', palette='inferno')\n",
        "\n",
        "# desbalance de clases\n",
        "# Undersampling\n",
        "from imblearn.under_sampling import RandomUnderSampler\n",
        "from collections import Counter\n",
        "# Oversampling\n",
        "from imblearn.over_sampling import RandomOverSampler\n",
        "# SMOTE\n",
        "from imblearn.over_sampling import SMOTE\n",
        "\n",
        "# indicadores de desempeño\n",
        "# accuracy\n",
        "from sklearn.metrics import accuracy_score\n",
        "# ROC\n",
        "from sklearn.metrics import roc_curve\n",
        "# probabilidades de predicción\n",
        "from sklearn import metrics\n",
        "from sklearn.metrics import recall_score, precision_score, accuracy_score\n",
        "\n",
        "# seleccion de modelos\n",
        "from sklearn.model_selection import cross_val_score\n",
        "from sklearn import model_selection\n",
        "\n",
        "# matriz de confusión\n",
        "from sklearn.metrics import classification_report, confusion_matrix\n",
        "\n",
        "# algoritmos\n",
        "# KNN\n",
        "from sklearn.neighbors import KNeighborsClassifier\n",
        "# Logit\n",
        "from sklearn.linear_model import LogisticRegression\n",
        "# árbol de decisión\n",
        "from sklearn.tree import DecisionTreeClassifier\n",
        "# tree (árbol de decisión gráfico)\n",
        "from sklearn import tree\n",
        "# SVM\n",
        "from sklearn.svm import SVC\n",
        "# random forest\n",
        "from sklearn.ensemble import RandomForestClassifier\n",
        "\n"
      ],
      "execution_count": null,
      "outputs": []
    },
    {
      "cell_type": "code",
      "metadata": {
        "id": "m8my_r0bloMJ"
      },
      "source": [
        "# @markdown Matriz de Confusión\n",
        "\n",
        "def plot_confusion_matrix(cm, classes, title='Confusion matrix', cmap=plt.cm.Blues):\n",
        "    \"\"\"\n",
        "    This function prints and plots the confusion matrix.\n",
        "    Normalization can be applied by setting `normalize=True`.\n",
        "    \"\"\"\n",
        "    import itertools\n",
        "    fig = plt.figure(figsize=(6,6))\n",
        "    plt.title(title, figure=fig)\n",
        "    tick_marks = np.arange(len(classes))\n",
        "    plt.xticks(tick_marks, classes, rotation=45, figure=fig)\n",
        "    plt.yticks(tick_marks, classes, figure=fig)\n",
        "\n",
        "    # normalized confusion matrix\n",
        "    ncm = cm.astype('float') / cm.sum(axis=1)[:, np.newaxis]\n",
        "\n",
        "    thresh = 0.5\n",
        "    for i, j in itertools.product(range(ncm.shape[0]), range(ncm.shape[1])):\n",
        "        plt.text(j, i, str(round(100*ncm[i, j],2))+\"%\",\n",
        "                 horizontalalignment=\"center\",\n",
        "                 color=\"white\" if ncm[i, j] > thresh else \"black\",\n",
        "                 fontsize=12, figure=fig)\n",
        "        plt.text(j, i+0.1, str(cm[i, j]),\n",
        "                 horizontalalignment=\"center\",\n",
        "                 color=\"black\",\n",
        "                 fontsize=10, figure=fig)\n",
        "\n",
        "    plt.imshow(ncm, interpolation='nearest', cmap=cmap, vmin=0, vmax=1, figure=fig)\n",
        "\n",
        "    plt.colorbar()\n",
        "\n",
        "    plt.tight_layout()\n",
        "    plt.ylabel('True label',figure=fig)\n",
        "    plt.xlabel('Predicted label',figure=fig)\n",
        "    plt.close(fig)\n",
        "    return fig\n",
        "\n",
        "\n",
        "def get_cm(true_labels, predicted_labels):\n",
        "    #get confusion matrix\n",
        "    labels = np.unique(predicted_labels)\n",
        "    cm = confusion_matrix(true_labels, predicted_labels, labels=labels)\n",
        "    #get plot of confusion matrix\n",
        "    plot = plot_confusion_matrix(cm, labels)\n",
        "    return plot"
      ],
      "execution_count": null,
      "outputs": []
    },
    {
      "cell_type": "code",
      "metadata": {
        "id": "36ioY2YLPjZl"
      },
      "source": [
        "def get_cm(true_labels, predicted_labels):\n",
        "    #get confusion matrix\n",
        "    labels = np.unique(true_labels) # Antes esta línea tenia lo siguiente: np.unique(predicted_labels)\n",
        "    cm = confusion_matrix(true_labels, predicted_labels, labels=labels)\n",
        "    #get plot of confusion matrix\n",
        "    plot = plot_confusion_matrix(cm, labels)\n",
        "    return plot"
      ],
      "execution_count": null,
      "outputs": []
    },
    {
      "cell_type": "markdown",
      "metadata": {
        "id": "2qTBBUKhPtIP"
      },
      "source": [
        "##IMPORTACIÓN Y RECONOCIMIENTO DE DATOS"
      ]
    },
    {
      "cell_type": "code",
      "metadata": {
        "colab": {
          "base_uri": "https://localhost:8080/"
        },
        "id": "Hc09TL7b8K1z",
        "outputId": "498057f1-3204-4175-a31d-0523f22999e6"
      },
      "source": [
        "#Importación de Datos Procesados\n",
        "\n",
        "# read data (esta base ya ha sido procesada)\n",
        "url=\"https://raw.githubusercontent.com/Mlabrana/BI-Diplo/master/dfpro.csv\"\n",
        "data = pd.read_csv(url, sep=\",\")\n",
        "# contar missing values\n",
        "data.isna().sum()"
      ],
      "execution_count": null,
      "outputs": [
        {
          "output_type": "execute_result",
          "data": {
            "text/plain": [
              "Unnamed: 0                0\n",
              "ID                        0\n",
              "GENERO                    0\n",
              "EDAD                      0\n",
              "NIV_EDUC                  0\n",
              "E_CIVIL                   0\n",
              "CIUDAD                    0\n",
              "M_MOROSO                  0\n",
              "MONTO                     0\n",
              "SEGURO                    0\n",
              "FUGA                      0\n",
              "logVM_MayoAbril           0\n",
              "logVM_JunioMayo           0\n",
              "logVM_JulioJunio          0\n",
              "logVM_AgostoJulio         0\n",
              "logVM_SeptiembreAgosto    0\n",
              "logVM_AbrilMarzo          0\n",
              "Recency                   0\n",
              "Frecuencia                0\n",
              "logDMax/Renta             0\n",
              "logMTD/Renta              0\n",
              "dtype: int64"
            ]
          },
          "metadata": {
            "tags": []
          },
          "execution_count": 5
        }
      ]
    },
    {
      "cell_type": "code",
      "metadata": {
        "colab": {
          "base_uri": "https://localhost:8080/",
          "height": 310
        },
        "id": "h-sogZU46eQq",
        "outputId": "92e1ff34-089a-43ae-cb56-8c9dc726f973"
      },
      "source": [
        "# Reconocimiento de Datos Disponibles\n",
        "Dat = data.copy()\n",
        "Dat.describe()"
      ],
      "execution_count": null,
      "outputs": [
        {
          "output_type": "execute_result",
          "data": {
            "text/html": [
              "<div>\n",
              "<style scoped>\n",
              "    .dataframe tbody tr th:only-of-type {\n",
              "        vertical-align: middle;\n",
              "    }\n",
              "\n",
              "    .dataframe tbody tr th {\n",
              "        vertical-align: top;\n",
              "    }\n",
              "\n",
              "    .dataframe thead th {\n",
              "        text-align: right;\n",
              "    }\n",
              "</style>\n",
              "<table border=\"1\" class=\"dataframe\">\n",
              "  <thead>\n",
              "    <tr style=\"text-align: right;\">\n",
              "      <th></th>\n",
              "      <th>Unnamed: 0</th>\n",
              "      <th>ID</th>\n",
              "      <th>GENERO</th>\n",
              "      <th>EDAD</th>\n",
              "      <th>NIV_EDUC</th>\n",
              "      <th>E_CIVIL</th>\n",
              "      <th>CIUDAD</th>\n",
              "      <th>M_MOROSO</th>\n",
              "      <th>MONTO</th>\n",
              "      <th>SEGURO</th>\n",
              "      <th>FUGA</th>\n",
              "      <th>logVM_MayoAbril</th>\n",
              "      <th>logVM_JunioMayo</th>\n",
              "      <th>logVM_JulioJunio</th>\n",
              "      <th>logVM_AgostoJulio</th>\n",
              "      <th>logVM_SeptiembreAgosto</th>\n",
              "      <th>logVM_AbrilMarzo</th>\n",
              "      <th>Recency</th>\n",
              "      <th>Frecuencia</th>\n",
              "      <th>logDMax/Renta</th>\n",
              "      <th>logMTD/Renta</th>\n",
              "    </tr>\n",
              "  </thead>\n",
              "  <tbody>\n",
              "    <tr>\n",
              "      <th>count</th>\n",
              "      <td>2294.000000</td>\n",
              "      <td>2294.000000</td>\n",
              "      <td>2294.000000</td>\n",
              "      <td>2294.000000</td>\n",
              "      <td>2294.000000</td>\n",
              "      <td>2294.000000</td>\n",
              "      <td>2294.000000</td>\n",
              "      <td>2294.000000</td>\n",
              "      <td>2294.000000</td>\n",
              "      <td>2294.000000</td>\n",
              "      <td>2294.000000</td>\n",
              "      <td>2.294000e+03</td>\n",
              "      <td>2294.000000</td>\n",
              "      <td>2294.000000</td>\n",
              "      <td>2294.000000</td>\n",
              "      <td>2294.000000</td>\n",
              "      <td>2294.000000</td>\n",
              "      <td>2294.000000</td>\n",
              "      <td>2294.000000</td>\n",
              "      <td>2294.000000</td>\n",
              "      <td>2294.000000</td>\n",
              "    </tr>\n",
              "    <tr>\n",
              "      <th>mean</th>\n",
              "      <td>1146.500000</td>\n",
              "      <td>0.500000</td>\n",
              "      <td>0.391456</td>\n",
              "      <td>0.501510</td>\n",
              "      <td>0.711072</td>\n",
              "      <td>0.169137</td>\n",
              "      <td>0.094082</td>\n",
              "      <td>0.416739</td>\n",
              "      <td>0.396946</td>\n",
              "      <td>0.208370</td>\n",
              "      <td>0.495641</td>\n",
              "      <td>1.422563e-02</td>\n",
              "      <td>0.373903</td>\n",
              "      <td>0.203316</td>\n",
              "      <td>0.131836</td>\n",
              "      <td>0.234713</td>\n",
              "      <td>0.543709</td>\n",
              "      <td>0.926669</td>\n",
              "      <td>0.490223</td>\n",
              "      <td>0.140317</td>\n",
              "      <td>0.152655</td>\n",
              "    </tr>\n",
              "    <tr>\n",
              "      <th>std</th>\n",
              "      <td>662.365081</td>\n",
              "      <td>0.288864</td>\n",
              "      <td>0.488182</td>\n",
              "      <td>0.194603</td>\n",
              "      <td>0.258867</td>\n",
              "      <td>0.259469</td>\n",
              "      <td>0.183075</td>\n",
              "      <td>0.250635</td>\n",
              "      <td>0.305724</td>\n",
              "      <td>0.406231</td>\n",
              "      <td>0.500090</td>\n",
              "      <td>6.787073e-02</td>\n",
              "      <td>0.335259</td>\n",
              "      <td>0.279958</td>\n",
              "      <td>0.229348</td>\n",
              "      <td>0.256463</td>\n",
              "      <td>0.343763</td>\n",
              "      <td>0.133027</td>\n",
              "      <td>0.180010</td>\n",
              "      <td>0.159794</td>\n",
              "      <td>0.169038</td>\n",
              "    </tr>\n",
              "    <tr>\n",
              "      <th>min</th>\n",
              "      <td>0.000000</td>\n",
              "      <td>0.000000</td>\n",
              "      <td>0.000000</td>\n",
              "      <td>0.000000</td>\n",
              "      <td>0.000000</td>\n",
              "      <td>0.000000</td>\n",
              "      <td>0.000000</td>\n",
              "      <td>0.000000</td>\n",
              "      <td>0.000000</td>\n",
              "      <td>0.000000</td>\n",
              "      <td>0.000000</td>\n",
              "      <td>0.000000e+00</td>\n",
              "      <td>0.000000</td>\n",
              "      <td>0.000000</td>\n",
              "      <td>0.000000</td>\n",
              "      <td>0.000000</td>\n",
              "      <td>0.000000</td>\n",
              "      <td>0.000000</td>\n",
              "      <td>0.000000</td>\n",
              "      <td>0.000000</td>\n",
              "      <td>0.000000</td>\n",
              "    </tr>\n",
              "    <tr>\n",
              "      <th>25%</th>\n",
              "      <td>573.250000</td>\n",
              "      <td>0.250000</td>\n",
              "      <td>0.000000</td>\n",
              "      <td>0.390244</td>\n",
              "      <td>0.400000</td>\n",
              "      <td>0.000000</td>\n",
              "      <td>0.013514</td>\n",
              "      <td>0.333333</td>\n",
              "      <td>0.160000</td>\n",
              "      <td>0.000000</td>\n",
              "      <td>0.000000</td>\n",
              "      <td>1.558530e-07</td>\n",
              "      <td>0.041155</td>\n",
              "      <td>0.000131</td>\n",
              "      <td>0.000286</td>\n",
              "      <td>0.013884</td>\n",
              "      <td>0.044663</td>\n",
              "      <td>0.888889</td>\n",
              "      <td>0.285714</td>\n",
              "      <td>0.026371</td>\n",
              "      <td>0.029644</td>\n",
              "    </tr>\n",
              "    <tr>\n",
              "      <th>50%</th>\n",
              "      <td>1146.500000</td>\n",
              "      <td>0.500000</td>\n",
              "      <td>0.000000</td>\n",
              "      <td>0.512195</td>\n",
              "      <td>0.600000</td>\n",
              "      <td>0.000000</td>\n",
              "      <td>0.013514</td>\n",
              "      <td>0.333333</td>\n",
              "      <td>0.280000</td>\n",
              "      <td>0.000000</td>\n",
              "      <td>0.000000</td>\n",
              "      <td>4.769378e-07</td>\n",
              "      <td>0.422709</td>\n",
              "      <td>0.006710</td>\n",
              "      <td>0.006112</td>\n",
              "      <td>0.058642</td>\n",
              "      <td>0.722565</td>\n",
              "      <td>1.000000</td>\n",
              "      <td>0.571429</td>\n",
              "      <td>0.081204</td>\n",
              "      <td>0.092410</td>\n",
              "    </tr>\n",
              "    <tr>\n",
              "      <th>75%</th>\n",
              "      <td>1719.750000</td>\n",
              "      <td>0.750000</td>\n",
              "      <td>1.000000</td>\n",
              "      <td>0.658537</td>\n",
              "      <td>1.000000</td>\n",
              "      <td>0.333333</td>\n",
              "      <td>0.054054</td>\n",
              "      <td>0.666667</td>\n",
              "      <td>0.573333</td>\n",
              "      <td>0.000000</td>\n",
              "      <td>1.000000</td>\n",
              "      <td>6.078084e-06</td>\n",
              "      <td>0.710022</td>\n",
              "      <td>0.422352</td>\n",
              "      <td>0.146299</td>\n",
              "      <td>0.444257</td>\n",
              "      <td>0.813554</td>\n",
              "      <td>1.000000</td>\n",
              "      <td>0.571429</td>\n",
              "      <td>0.193341</td>\n",
              "      <td>0.215853</td>\n",
              "    </tr>\n",
              "    <tr>\n",
              "      <th>max</th>\n",
              "      <td>2293.000000</td>\n",
              "      <td>1.000000</td>\n",
              "      <td>1.000000</td>\n",
              "      <td>1.000000</td>\n",
              "      <td>1.000000</td>\n",
              "      <td>1.000000</td>\n",
              "      <td>1.000000</td>\n",
              "      <td>1.000000</td>\n",
              "      <td>1.000000</td>\n",
              "      <td>1.000000</td>\n",
              "      <td>1.000000</td>\n",
              "      <td>1.000000e+00</td>\n",
              "      <td>1.000000</td>\n",
              "      <td>1.000000</td>\n",
              "      <td>1.000000</td>\n",
              "      <td>1.000000</td>\n",
              "      <td>1.000000</td>\n",
              "      <td>1.000000</td>\n",
              "      <td>1.000000</td>\n",
              "      <td>1.000000</td>\n",
              "      <td>1.000000</td>\n",
              "    </tr>\n",
              "  </tbody>\n",
              "</table>\n",
              "</div>"
            ],
            "text/plain": [
              "        Unnamed: 0           ID  ...  logDMax/Renta  logMTD/Renta\n",
              "count  2294.000000  2294.000000  ...    2294.000000   2294.000000\n",
              "mean   1146.500000     0.500000  ...       0.140317      0.152655\n",
              "std     662.365081     0.288864  ...       0.159794      0.169038\n",
              "min       0.000000     0.000000  ...       0.000000      0.000000\n",
              "25%     573.250000     0.250000  ...       0.026371      0.029644\n",
              "50%    1146.500000     0.500000  ...       0.081204      0.092410\n",
              "75%    1719.750000     0.750000  ...       0.193341      0.215853\n",
              "max    2293.000000     1.000000  ...       1.000000      1.000000\n",
              "\n",
              "[8 rows x 21 columns]"
            ]
          },
          "metadata": {
            "tags": []
          },
          "execution_count": 5
        }
      ]
    },
    {
      "cell_type": "code",
      "metadata": {
        "colab": {
          "base_uri": "https://localhost:8080/",
          "height": 206
        },
        "id": "GQwyXOweDVUx",
        "outputId": "ce3f4554-0dd0-453c-e1d2-6f44eafb52be"
      },
      "source": [
        "Dat.head(4)"
      ],
      "execution_count": null,
      "outputs": [
        {
          "output_type": "execute_result",
          "data": {
            "text/html": [
              "<div>\n",
              "<style scoped>\n",
              "    .dataframe tbody tr th:only-of-type {\n",
              "        vertical-align: middle;\n",
              "    }\n",
              "\n",
              "    .dataframe tbody tr th {\n",
              "        vertical-align: top;\n",
              "    }\n",
              "\n",
              "    .dataframe thead th {\n",
              "        text-align: right;\n",
              "    }\n",
              "</style>\n",
              "<table border=\"1\" class=\"dataframe\">\n",
              "  <thead>\n",
              "    <tr style=\"text-align: right;\">\n",
              "      <th></th>\n",
              "      <th>Unnamed: 0</th>\n",
              "      <th>ID</th>\n",
              "      <th>GENERO</th>\n",
              "      <th>EDAD</th>\n",
              "      <th>NIV_EDUC</th>\n",
              "      <th>E_CIVIL</th>\n",
              "      <th>CIUDAD</th>\n",
              "      <th>M_MOROSO</th>\n",
              "      <th>MONTO</th>\n",
              "      <th>SEGURO</th>\n",
              "      <th>FUGA</th>\n",
              "      <th>logVM_MayoAbril</th>\n",
              "      <th>logVM_JunioMayo</th>\n",
              "      <th>logVM_JulioJunio</th>\n",
              "      <th>logVM_AgostoJulio</th>\n",
              "      <th>logVM_SeptiembreAgosto</th>\n",
              "      <th>logVM_AbrilMarzo</th>\n",
              "      <th>Recency</th>\n",
              "      <th>Frecuencia</th>\n",
              "      <th>logDMax/Renta</th>\n",
              "      <th>logMTD/Renta</th>\n",
              "    </tr>\n",
              "  </thead>\n",
              "  <tbody>\n",
              "    <tr>\n",
              "      <th>0</th>\n",
              "      <td>0</td>\n",
              "      <td>0.000000</td>\n",
              "      <td>0.0</td>\n",
              "      <td>0.390244</td>\n",
              "      <td>0.4</td>\n",
              "      <td>0.0</td>\n",
              "      <td>0.000000</td>\n",
              "      <td>0.666667</td>\n",
              "      <td>0.200000</td>\n",
              "      <td>0.0</td>\n",
              "      <td>0.0</td>\n",
              "      <td>1.550251e-06</td>\n",
              "      <td>0.770767</td>\n",
              "      <td>0.000443</td>\n",
              "      <td>0.161198</td>\n",
              "      <td>0.003107</td>\n",
              "      <td>0.679989</td>\n",
              "      <td>1.000000</td>\n",
              "      <td>0.714286</td>\n",
              "      <td>0.062739</td>\n",
              "      <td>0.068267</td>\n",
              "    </tr>\n",
              "    <tr>\n",
              "      <th>1</th>\n",
              "      <td>1</td>\n",
              "      <td>0.000436</td>\n",
              "      <td>1.0</td>\n",
              "      <td>0.634146</td>\n",
              "      <td>0.4</td>\n",
              "      <td>1.0</td>\n",
              "      <td>0.013514</td>\n",
              "      <td>0.333333</td>\n",
              "      <td>0.933333</td>\n",
              "      <td>1.0</td>\n",
              "      <td>0.0</td>\n",
              "      <td>4.143709e-02</td>\n",
              "      <td>0.041155</td>\n",
              "      <td>0.427387</td>\n",
              "      <td>0.001784</td>\n",
              "      <td>0.058642</td>\n",
              "      <td>0.044663</td>\n",
              "      <td>0.777778</td>\n",
              "      <td>0.142857</td>\n",
              "      <td>0.000551</td>\n",
              "      <td>0.000550</td>\n",
              "    </tr>\n",
              "    <tr>\n",
              "      <th>2</th>\n",
              "      <td>2</td>\n",
              "      <td>0.000872</td>\n",
              "      <td>0.0</td>\n",
              "      <td>0.390244</td>\n",
              "      <td>0.6</td>\n",
              "      <td>0.0</td>\n",
              "      <td>0.027027</td>\n",
              "      <td>0.333333</td>\n",
              "      <td>1.000000</td>\n",
              "      <td>0.0</td>\n",
              "      <td>0.0</td>\n",
              "      <td>8.806927e-08</td>\n",
              "      <td>0.041155</td>\n",
              "      <td>0.631881</td>\n",
              "      <td>0.391678</td>\n",
              "      <td>0.008863</td>\n",
              "      <td>0.857738</td>\n",
              "      <td>1.000000</td>\n",
              "      <td>0.571429</td>\n",
              "      <td>0.042651</td>\n",
              "      <td>0.044385</td>\n",
              "    </tr>\n",
              "    <tr>\n",
              "      <th>3</th>\n",
              "      <td>3</td>\n",
              "      <td>0.001308</td>\n",
              "      <td>1.0</td>\n",
              "      <td>0.317073</td>\n",
              "      <td>1.0</td>\n",
              "      <td>0.0</td>\n",
              "      <td>0.013514</td>\n",
              "      <td>0.333333</td>\n",
              "      <td>0.280000</td>\n",
              "      <td>0.0</td>\n",
              "      <td>0.0</td>\n",
              "      <td>1.165031e-05</td>\n",
              "      <td>0.724422</td>\n",
              "      <td>0.000052</td>\n",
              "      <td>0.000921</td>\n",
              "      <td>0.395344</td>\n",
              "      <td>0.550424</td>\n",
              "      <td>1.000000</td>\n",
              "      <td>0.571429</td>\n",
              "      <td>0.037090</td>\n",
              "      <td>0.037906</td>\n",
              "    </tr>\n",
              "  </tbody>\n",
              "</table>\n",
              "</div>"
            ],
            "text/plain": [
              "   Unnamed: 0        ID  GENERO  ...  Frecuencia  logDMax/Renta  logMTD/Renta\n",
              "0           0  0.000000     0.0  ...    0.714286       0.062739      0.068267\n",
              "1           1  0.000436     1.0  ...    0.142857       0.000551      0.000550\n",
              "2           2  0.000872     0.0  ...    0.571429       0.042651      0.044385\n",
              "3           3  0.001308     1.0  ...    0.571429       0.037090      0.037906\n",
              "\n",
              "[4 rows x 21 columns]"
            ]
          },
          "metadata": {
            "tags": []
          },
          "execution_count": 6
        }
      ]
    },
    {
      "cell_type": "code",
      "metadata": {
        "colab": {
          "base_uri": "https://localhost:8080/"
        },
        "id": "Gqj4g1TklhC9",
        "outputId": "e73097d9-b489-4196-87f3-2a1970c322e4"
      },
      "source": [
        "#'FUGA': 1, 'NO FUGA': 0\n",
        "Dat['FUGA'].unique()"
      ],
      "execution_count": null,
      "outputs": [
        {
          "output_type": "execute_result",
          "data": {
            "text/plain": [
              "array([0., 1.])"
            ]
          },
          "metadata": {
            "tags": []
          },
          "execution_count": 7
        }
      ]
    },
    {
      "cell_type": "code",
      "metadata": {
        "colab": {
          "base_uri": "https://localhost:8080/"
        },
        "id": "5JCa62OclbwT",
        "outputId": "3a327eed-dce2-4f93-929a-2d13a66b9a20"
      },
      "source": [
        "Dat['FUGA'].replace({1: 'Fuga', 0 :'No Fuga'}, inplace=True)\n",
        "print(Dat['FUGA'].head(6))\n",
        "print(Dat['FUGA'].value_counts())\n",
        "print(Dat['FUGA'].unique())"
      ],
      "execution_count": null,
      "outputs": [
        {
          "output_type": "stream",
          "text": [
            "0    No Fuga\n",
            "1    No Fuga\n",
            "2    No Fuga\n",
            "3    No Fuga\n",
            "4    No Fuga\n",
            "5       Fuga\n",
            "Name: FUGA, dtype: object\n",
            "No Fuga    1157\n",
            "Fuga       1137\n",
            "Name: FUGA, dtype: int64\n",
            "['No Fuga' 'Fuga']\n"
          ],
          "name": "stdout"
        }
      ]
    },
    {
      "cell_type": "markdown",
      "metadata": {
        "id": "kltJbQUQ7im9"
      },
      "source": [
        "**Comentario:** \\\\\n",
        "La tabla anterior, se puede validar que los datos ya se encentran preprocesados y transformados. De este modo, a continuación se procede a seguir con el Proceso KDD, particularmente, a la etapa de Minería de Datos."
      ]
    },
    {
      "cell_type": "markdown",
      "metadata": {
        "id": "RdUGPdWIAinV"
      },
      "source": [
        "## ENTRENAMIENTO y TESTEO DE MODELOS\n"
      ]
    },
    {
      "cell_type": "markdown",
      "metadata": {
        "id": "UywPPx93xTvf"
      },
      "source": [
        "### División del Dataset"
      ]
    },
    {
      "cell_type": "code",
      "metadata": {
        "id": "smUQizPuR3LU"
      },
      "source": [
        "Datos = Dat.copy()"
      ],
      "execution_count": null,
      "outputs": []
    },
    {
      "cell_type": "code",
      "metadata": {
        "id": "nsA4KPD27LOd"
      },
      "source": [
        "from sklearn.model_selection import train_test_split\n",
        "# split\n",
        "#X_train, X_test, y_train, y_test = train_test_split(attributes, target, test_size=0.33, seed) -- forma general\n",
        "X_train, X_test, y_train, y_test = train_test_split(Datos[Datos.columns.difference(['FUGA'])], Datos['FUGA'], test_size=0.2, random_state=101)"
      ],
      "execution_count": null,
      "outputs": []
    },
    {
      "cell_type": "markdown",
      "metadata": {
        "id": "wc-Jg2E271cZ"
      },
      "source": [
        "**Comentario:** \\\\\n",
        "Construcción de un modelo en dos etapas. Para esto, se divide la base de datos en un conjunto de entrenamiento y un conjunto de testeo. Para esto, se decidió dejar un 80% de los datos para entrenamiento y 20% para testeo donde se valida la efectividad del modelo."
      ]
    },
    {
      "cell_type": "code",
      "metadata": {
        "colab": {
          "base_uri": "https://localhost:8080/"
        },
        "id": "Wj8orxC1_Mn9",
        "outputId": "9bfae77b-a8b6-4dc2-da12-1886b42fd077"
      },
      "source": [
        "# @markdown Revisión del tamaño del conjunto de entrenamiento y de testeo\n",
        "print(\"Tamaño del set de Entrenamiento y cantidad de atributos\", X_train.shape)\n",
        "print(\"Tamaño del set de testeo y cantidad de atributos\", X_test.shape)"
      ],
      "execution_count": null,
      "outputs": [
        {
          "output_type": "stream",
          "text": [
            "Tamaño del set de Entrenamiento y cantidad de atributos (1835, 20)\n",
            "Tamaño del set de testeo y cantidad de atributos (459, 20)\n"
          ],
          "name": "stdout"
        }
      ]
    },
    {
      "cell_type": "markdown",
      "metadata": {
        "id": "f4IHYasD-wDy"
      },
      "source": [
        "***Balance de clases*** \\\\\n",
        "Previo al entrenamiento de algoritmos, es útil conocer la distribución de los datos, en relación al balance de clases, tanto para los datos de entrenamiento como testeo, identificando si los clientes fugados son más frecuentes o no. \\\\\n",
        "Tenemos que a nivel general, la clase que sí se fuga, representa un 49.56% del total de casos, siendo un 50.08% para el conjunto de entrenamiento y un 47.49% para el conjunto de testeo. Por lo tanto, las clases se consideran balanceadas tanto para el set general de datos, como para las distintas particiones."
      ]
    },
    {
      "cell_type": "code",
      "metadata": {
        "colab": {
          "base_uri": "https://localhost:8080/"
        },
        "id": "7Wn81cPnJNAl",
        "outputId": "4e7a56c2-6aeb-46c8-dd4e-44319f3234e1"
      },
      "source": [
        "# Balance de clases  \n",
        "print(f\"Estado Inicial Conjunto Entrenamiento: {Counter(y_train)}\")\n",
        "print(f\"Estado Inicial Conjunto Testeo:        {Counter(y_test)}\")"
      ],
      "execution_count": null,
      "outputs": [
        {
          "output_type": "stream",
          "text": [
            "Estado Inicial Conjunto Entrenamiento: Counter({'Fuga': 919, 'No Fuga': 916})\n",
            "Estado Inicial Conjunto Testeo:        Counter({'No Fuga': 241, 'Fuga': 218})\n"
          ],
          "name": "stdout"
        }
      ]
    },
    {
      "cell_type": "markdown",
      "metadata": {
        "id": "XbA3RVGQZVa1"
      },
      "source": [
        "**Comentario:** \\\\\n",
        "A continuación , se realiza el entranamiento de modelos, con tal de identificar los hiperparámetros más adecuados en cada uno, para posteriormente desarrollar un análisis comparativo, enfocado en identificar los de mejores resultados para la predicción de fuga."
      ]
    },
    {
      "cell_type": "markdown",
      "metadata": {
        "id": "VJDIf5mlfzJU"
      },
      "source": [
        "### 1. Modelo KNN"
      ]
    },
    {
      "cell_type": "markdown",
      "metadata": {
        "id": "hCjEojQKKbMm"
      },
      "source": [
        "#### Entrenamiento y testeo "
      ]
    },
    {
      "cell_type": "code",
      "metadata": {
        "id": "vN97wYpdAmYo"
      },
      "source": [
        "# Entrenamiento y testeo KNN\n",
        "# Entrenar Algoritmo para Diferentes Cantidades de Vecinos\n",
        "#listas a rellenar métricas de desempeño en entrenamiento\n",
        "accuraciesKNN = []\n",
        "precisionsKNN = []\n",
        "recallsKNN = []\n",
        "\n",
        "#listas a rellenar para métricas de desempeño en testeo\n",
        "accuraciesKNNt = []\n",
        "precisionsKNNt = []\n",
        "recallsKNNt = []\n",
        "\n",
        "#lista de vecinos para completar \n",
        "neighbors = list(range(3,20,2)) # numeros impares de vecinos\n",
        "for n_neighbor in neighbors:\n",
        "  \n",
        "  # train\n",
        "  knn = KNeighborsClassifier(n_neighbors=n_neighbor).fit(X_train, y_train)\n",
        " \n",
        "  # predict y guardar accuracy, precision y recall score\n",
        "  accuraciesKNN.append(accuracy_score(y_train, knn.predict(X_train)))\n",
        "  precisionsKNN.append(precision_score(y_train, knn.predict(X_train), pos_label=\"Fuga\"))\n",
        "  recallsKNN.append(recall_score(y_train, knn.predict(X_train), pos_label=\"Fuga\"))\n",
        "  # test\n",
        "  accuraciesKNNt.append(accuracy_score(y_test, knn.predict(X_test)))  #usamos el y_test y X_test\n",
        "  precisionsKNNt.append(precision_score(y_test, knn.predict(X_test), pos_label=\"Fuga\"))\n",
        "  recallsKNNt.append(recall_score(y_test, knn.predict(X_test), pos_label=\"Fuga\"))\n"
      ],
      "execution_count": null,
      "outputs": []
    },
    {
      "cell_type": "markdown",
      "metadata": {
        "id": "iwmpQHhzWTNY"
      },
      "source": [
        "#####Visualización de métricas de desempeño "
      ]
    },
    {
      "cell_type": "code",
      "metadata": {
        "colab": {
          "base_uri": "https://localhost:8080/",
          "height": 317
        },
        "id": "eFSbdtYA4eO9",
        "outputId": "d157ed67-3769-4389-b6ac-642fd93b4d0e"
      },
      "source": [
        "# Graficar Accuracy\n",
        "# plot\n",
        "plt.plot(neighbors,accuraciesKNN, color='blue')\n",
        "plt.plot(neighbors,accuraciesKNNt, color='red')\n",
        "plt.title('Numero de vecinos y accuracy')\n",
        "plt.xlabel('Nº vecinos')\n",
        "plt.ylabel('Accuracy')\n",
        "plt.legend(['train', 'test'], loc='lower right')"
      ],
      "execution_count": null,
      "outputs": [
        {
          "output_type": "execute_result",
          "data": {
            "text/plain": [
              "<matplotlib.legend.Legend at 0x7f93fab5f550>"
            ]
          },
          "metadata": {
            "tags": []
          },
          "execution_count": 14
        },
        {
          "output_type": "display_data",
          "data": {
            "image/png": "[encoded data removed]",
            "text/plain": [
              "<Figure size 432x288 with 1 Axes>"
            ]
          },
          "metadata": {
            "tags": [],
            "needs_background": "light"
          }
        }
      ]
    },
    {
      "cell_type": "markdown",
      "metadata": {
        "id": "H2ABA1DKJ9UE"
      },
      "source": [
        "Accuracy:\n",
        "\n",
        "Del gráfico es claro ver como la métrica en entrenamiento decae rápidamente a medida que aumenta el número de vecinos considerados para la predicción, estabilizándose alrededor del 0.60 a partir de 17 vecinos en adelante. También es directo observar que los mayores niveles de accuracy en entrenamiento se obtiene para un número de 3 y 5 vecinos aproximadamente.\n",
        "Por otro lado, la métrica de Accuracy en testeo se mantiene variando acotadamente alredeor de 0.50, a medida que aumenta la cantidad de vecinos considerados para la predicción, decayendo hacia valores cercanos a 0.45, a partir de los 19 vecinos, y obtiene los mejores con resultados para 9 y 11 vecinos."
      ]
    },
    {
      "cell_type": "code",
      "metadata": {
        "colab": {
          "base_uri": "https://localhost:8080/",
          "height": 317
        },
        "id": "NrCf73Q766ph",
        "outputId": "9f7221d1-2e0f-4b95-965e-e99738ed1091"
      },
      "source": [
        "# Graficar Precision\n",
        "plt.plot(neighbors,precisionsKNN, color='blue')\n",
        "plt.plot(neighbors,precisionsKNNt, color='red')\n",
        "plt.title('Numero de vecinos y Precision')\n",
        "plt.xlabel('Nº vecinos')\n",
        "plt.ylabel('Precision')\n",
        "plt.legend(['train', 'test'], loc='lower right')"
      ],
      "execution_count": null,
      "outputs": [
        {
          "output_type": "execute_result",
          "data": {
            "text/plain": [
              "<matplotlib.legend.Legend at 0x7f93faaf6610>"
            ]
          },
          "metadata": {
            "tags": []
          },
          "execution_count": 15
        },
        {
          "output_type": "display_data",
          "data": {
            "image/png": "[encoded data removed]",
            "text/plain": [
              "<Figure size 432x288 with 1 Axes>"
            ]
          },
          "metadata": {
            "tags": [],
            "needs_background": "light"
          }
        }
      ]
    },
    {
      "cell_type": "markdown",
      "metadata": {
        "id": "_h2etqvKMOCp"
      },
      "source": [
        "Precision:\n",
        "\n",
        "En el gráfico anterior, observamos cómo la métrica decae a medida que aumenta el número de vecinos en entrenamiento, siendo la tasa de disminución, mayor al comienzo. Particularmente, el menor valor de Precision se alcanza a partir de los 17  vecinos considerados, estabilizándose en 0.60, aproximadamente. Al igual que en el caso anterior, los mejores resultados en Precision se obtienen para 3 y 5 vecinos.\n",
        "Para el caso de la métrica Precision en testeo, nuevamente se observa un comportamiento fluctuante pero centrado alrededor de 0.475, decayendo hacia sus mínimos a partir de los 19 vecinos. Cabe señalar que el máximo de Precision se alcanza en las predicciones con 9 y 11 vecinos, llegando a un valor de 0.50 aproximadamente."
      ]
    },
    {
      "cell_type": "code",
      "metadata": {
        "colab": {
          "base_uri": "https://localhost:8080/",
          "height": 317
        },
        "id": "5C6iCTXy7jUE",
        "outputId": "3314ab32-62d7-4a95-c1c4-b40d78fdec8b"
      },
      "source": [
        "# Graficar Recall\n",
        "plt.plot(neighbors,recallsKNN, color='blue')\n",
        "plt.plot(neighbors,recallsKNNt, color='red')\n",
        "plt.title('Numero de vecinos y Recall')\n",
        "plt.xlabel('Nº vecinos')\n",
        "plt.ylabel('Recall')\n",
        "plt.legend(['train', 'test'], loc='lower right')"
      ],
      "execution_count": null,
      "outputs": [
        {
          "output_type": "execute_result",
          "data": {
            "text/plain": [
              "<matplotlib.legend.Legend at 0x7f93fa5c7090>"
            ]
          },
          "metadata": {
            "tags": []
          },
          "execution_count": 16
        },
        {
          "output_type": "display_data",
          "data": {
            "image/png": "[encoded data removed]",
            "text/plain": [
              "<Figure size 432x288 with 1 Axes>"
            ]
          },
          "metadata": {
            "tags": [],
            "needs_background": "light"
          }
        }
      ]
    },
    {
      "cell_type": "markdown",
      "metadata": {
        "id": "7uxZD7BtQDUs"
      },
      "source": [
        "Recall:\n",
        "\n",
        "El comportamiento de Recall en entrenamiento es descendiente a medida que aumenta el número de vecinos considerados. Se observa además, que las magnitudes del Recall son más cercanas a las de Accuracy, y que los mejores resultados se obtienen nuevamente para los casos en que se consideran 3 y 5 vecinos.\n",
        "La métrica de Recall en testeo presenta el mismo patrón de comportamiento que los indicadores anteriores, centrándose en valores cercanos a 0.50 o levemente más bajos, presentando un aumento inicial desde los 3 hasta 11 vecinos, punto en el que logra su máximo con un valor de 0.53 aproximadamente, para luego decaer, entregando mínimos en 13 y 19 vecinos."
      ]
    },
    {
      "cell_type": "markdown",
      "metadata": {
        "id": "xDq5VHMQFhGo"
      },
      "source": [
        "**A modo resumen:** los resultados anteriores, para el entrenamiento del algoritmo KNN, el mejor resultado, en sus distintas métricas, se obtiene para la predicción utilizando 3 vecinos en cada caso. No obstante, se observa que para las métricas de desempeño en testeo, las medidas de Accuracy, Precisión y Recall disminuyen su magnitud, además de tener un compartimiento diferente, pues parece mejorar el desempeño con un conjunto de vecidos cercano a 11. "
      ]
    },
    {
      "cell_type": "markdown",
      "metadata": {
        "id": "E3K_58oaSllT"
      },
      "source": [
        "##### Evaluación del Algoritmo en Test"
      ]
    },
    {
      "cell_type": "markdown",
      "metadata": {
        "id": "_U-tvmSzRs2R"
      },
      "source": [
        "Dados los resultados anteriores, a nivel general se puede identificar que para el algoritmo KNN, los mejores resultados para el Entrenamiento se logran considerando 3 vecinos. Por su parte, para el Testeo, el algoritmo se desempeña mejor al incluir alrededor de 11 vecinos para las predicciones.\n",
        "\n",
        "Entendiendo que lo relevante es poder lograr mejores resultados sobre los datos de Testeo, es que para el modelo KNN, se termina asignando al hiperparámetro de número de vecinos, el valor de 11.\n",
        "\n",
        "De este modo, se presentan a continuación los resultados obtenidos para KNN con el modelo de predicción utilizando 11 vecinos."
      ]
    },
    {
      "cell_type": "code",
      "metadata": {
        "colab": {
          "base_uri": "https://localhost:8080/"
        },
        "id": "FN64tpr7Sa1P",
        "outputId": "256f260e-2b75-4bf5-8a55-c0d4e031420b"
      },
      "source": [
        "# @markdown Reporte de Clasificación en Testeo\n",
        "model1 = KNeighborsClassifier(n_neighbors=11).fit(X_train, y_train)\n",
        "y_pred = model1.predict(X_test)\n",
        "print(classification_report(y_test, y_pred, target_names=list(set(y_train))))"
      ],
      "execution_count": null,
      "outputs": [
        {
          "output_type": "stream",
          "text": [
            "              precision    recall  f1-score   support\n",
            "\n",
            "     No Fuga       0.50      0.52      0.51       218\n",
            "        Fuga       0.55      0.52      0.53       241\n",
            "\n",
            "    accuracy                           0.52       459\n",
            "   macro avg       0.52      0.52      0.52       459\n",
            "weighted avg       0.52      0.52      0.52       459\n",
            "\n"
          ],
          "name": "stdout"
        }
      ]
    },
    {
      "cell_type": "code",
      "metadata": {
        "colab": {
          "base_uri": "https://localhost:8080/",
          "height": 436
        },
        "id": "Az-Q53wCmIWA",
        "outputId": "f46d151e-7ef0-499e-e7f5-04541b226737"
      },
      "source": [
        "# @markdown Matriz de Confusión\n",
        "get_cm(y_test, y_pred)"
      ],
      "execution_count": null,
      "outputs": [
        {
          "output_type": "execute_result",
          "data": {
            "image/png": "[encoded data removed]",
            "text/plain": [
              "<Figure size 432x432 with 2 Axes>"
            ]
          },
          "metadata": {
            "tags": []
          },
          "execution_count": 18
        }
      ]
    },
    {
      "cell_type": "markdown",
      "metadata": {
        "id": "LSZ_H0LXmiyy"
      },
      "source": [
        "**Comentario**: \\\\\n",
        "De la Matriz de Confusión anterior, se aprecia que existe una gran cantidad de fallos en la predicción, tanto para los casos positivos como negativos. De forma complementaria, los aciertos para la condición de fuga y no fuga son levemente superiores al 50% de los casos."
      ]
    },
    {
      "cell_type": "markdown",
      "metadata": {
        "id": "qmZAINGMobr4"
      },
      "source": [
        "### 2. Modelo Árbol de Decisión"
      ]
    },
    {
      "cell_type": "markdown",
      "metadata": {
        "id": "Rb5mP7avROBA"
      },
      "source": [
        "#### Entrenamiento y testeo "
      ]
    },
    {
      "cell_type": "code",
      "metadata": {
        "id": "_ODyavzio9Xt"
      },
      "source": [
        "# Entrenamiento y testeo Árbol de Decisión\n",
        "# Entrenar el Algoritmo para Distintos Niveles de Profundidad del Método\n",
        "accuraciesTREE = []\n",
        "precisionsTREE = []\n",
        "recallsTREE = []\n",
        "# testear Algoritmo para Diferentes Cantidades de Vecinos\n",
        "accuraciesTREEt = []\n",
        "precisionsTREEt = []\n",
        "recallsTREEt = []\n",
        "depths = list(range(2,30))\n",
        "for depth in depths:\n",
        "  # train\n",
        "  TREE = DecisionTreeClassifier(random_state=0, max_depth = depth).fit(X_train,y_train)\n",
        "  # predict y guardar accuracy, precision y recall score\n",
        "  accuraciesTREE.append(accuracy_score(y_train, TREE.predict(X_train)))\n",
        "  precisionsTREE.append(precision_score(y_train, TREE.predict(X_train), pos_label='Fuga'))\n",
        "  recallsTREE.append(recall_score(y_train, TREE.predict(X_train), pos_label='Fuga'))\n",
        "  # test\n",
        "   # predict y guardar accuracy, precision y recall score\n",
        "  accuraciesTREEt.append(accuracy_score(y_test, TREE.predict(X_test)))\n",
        "  precisionsTREEt.append(precision_score(y_test, TREE.predict(X_test), pos_label='Fuga'))\n",
        "  recallsTREEt.append(recall_score(y_test, TREE.predict(X_test), pos_label='Fuga'))"
      ],
      "execution_count": null,
      "outputs": []
    },
    {
      "cell_type": "markdown",
      "metadata": {
        "id": "pWqe2LjQsH4L"
      },
      "source": [
        "####Visualización de métricas de desempeño "
      ]
    },
    {
      "cell_type": "code",
      "metadata": {
        "colab": {
          "base_uri": "https://localhost:8080/",
          "height": 318
        },
        "id": "9OXlRQoJloXq",
        "outputId": "f8fd0410-7085-4a32-90a9-82e778c73aa9"
      },
      "source": [
        "# Graficar Accuracy\n",
        "plt.plot(depths,accuraciesTREE, color='blue')\n",
        "plt.plot(depths,accuraciesTREEt, color='red')\n",
        "plt.title('Profundidad del Árbol y Accuracy ')\n",
        "plt.xlabel('Max depth')\n",
        "plt.ylabel('Accuracy')\n",
        "plt.legend(['train', 'test'], loc='lower right')"
      ],
      "execution_count": null,
      "outputs": [
        {
          "output_type": "execute_result",
          "data": {
            "text/plain": [
              "<matplotlib.legend.Legend at 0x7f93f24a5990>"
            ]
          },
          "metadata": {
            "tags": []
          },
          "execution_count": 20
        },
        {
          "output_type": "display_data",
          "data": {
            "image/png": "[encoded data removed]",
            "text/plain": [
              "<Figure size 432x288 with 1 Axes>"
            ]
          },
          "metadata": {
            "tags": [],
            "needs_background": "light"
          }
        }
      ]
    },
    {
      "cell_type": "markdown",
      "metadata": {
        "id": "_bI4WcBHDto0"
      },
      "source": [
        "Accuracy:\n",
        "\n",
        "En el gráfico se observa que la métrica de Accuracy en entrenamiento aumenta monótonamente a medida que crece la profundidad del árbol, hasta estabilizarse en el valor máximo posible, a partir del nivel de profundidad 16. Como ya sabemos, este tipo de modelo es sesibles al sobreajuste cuando aumenta el número de ramificaciones.\n",
        "Con respecto a la métrica de Accuracy en testeo, se observa un comportamiento variable, que crece fuertemente en en los primeros niveles de profundidad hasta alcanzar el máximo global en 6, un un valor de 0.925, para luego disminuir, pasando por una alternancia de aumentos y disminuciones locales de su valor, hasta estabilizarse en 0.91, para profundidades de 17 niveles hacia arriba."
      ]
    },
    {
      "cell_type": "code",
      "metadata": {
        "colab": {
          "base_uri": "https://localhost:8080/",
          "height": 318
        },
        "id": "FVPVEt1HwPt4",
        "outputId": "18173891-9ac3-42e2-b27c-3c535c0fd25a"
      },
      "source": [
        "# Graficar Precision\n",
        "plt.plot(depths,precisionsTREE, color='blue')\n",
        "plt.plot(depths,precisionsTREEt, color='red')\n",
        "plt.title('Profundidad del Árbol y Precision')\n",
        "plt.xlabel('Max depth')\n",
        "plt.ylabel('Precision')\n",
        "plt.legend(['train', 'test'], loc='lower right')"
      ],
      "execution_count": null,
      "outputs": [
        {
          "output_type": "execute_result",
          "data": {
            "text/plain": [
              "<matplotlib.legend.Legend at 0x7f93f2421410>"
            ]
          },
          "metadata": {
            "tags": []
          },
          "execution_count": 21
        },
        {
          "output_type": "display_data",
          "data": {
            "image/png": "[encoded data removed]",
            "text/plain": [
              "<Figure size 432x288 with 1 Axes>"
            ]
          },
          "metadata": {
            "tags": [],
            "needs_background": "light"
          }
        }
      ]
    },
    {
      "cell_type": "markdown",
      "metadata": {
        "id": "67OPjSt_FxHH"
      },
      "source": [
        "Precision:\n",
        "\n",
        "Se puede observar que la métrica de Precision en entrenamiento aumenta de forma continua al hacer crecer la profundidad del método, hasta estabilizarse en el nivel máximo posible, a partir de 16 o 17 niveles de profundidad.\n",
        "Respecto a la métrica de Precision en testeo, esta presenta un comportamiento variable, que aumenta en las primeras profundizaciones del modelo, alcanzado su máximo global en 6 niveles, entregando en dicho caso una métrica de 0.90, para posteriormente disminuir, alternando entre reducciones y aumentos menores del indicador, hasta estabilizarse en un valor cercano a 0.88, para profundidadez de 17 o más niveles."
      ]
    },
    {
      "cell_type": "code",
      "metadata": {
        "colab": {
          "base_uri": "https://localhost:8080/",
          "height": 318
        },
        "id": "CUs2VkB8wZHE",
        "outputId": "515b17b2-25ea-4f02-8b79-acd121fe7969"
      },
      "source": [
        "# Graficar Recall\n",
        "plt.plot(depths,recallsTREE, color='blue')\n",
        "plt.plot(depths,recallsTREEt, color='red')\n",
        "plt.title('Profundidad del Árbol y Recall | train')\n",
        "plt.xlabel('Max depth')\n",
        "plt.ylabel('Recall')\n",
        "plt.legend(['train', 'test'], loc='lower right')"
      ],
      "execution_count": null,
      "outputs": [
        {
          "output_type": "execute_result",
          "data": {
            "text/plain": [
              "<matplotlib.legend.Legend at 0x7f93f23e0090>"
            ]
          },
          "metadata": {
            "tags": []
          },
          "execution_count": 22
        },
        {
          "output_type": "display_data",
          "data": {
            "image/png": "[encoded data removed]",
            "text/plain": [
              "<Figure size 432x288 with 1 Axes>"
            ]
          },
          "metadata": {
            "tags": [],
            "needs_background": "light"
          }
        }
      ]
    },
    {
      "cell_type": "markdown",
      "metadata": {
        "id": "AjygHpcpM9jP"
      },
      "source": [
        "Recall:\n",
        "\n",
        "En el gráfico se muestra que la métrica de Recall en entrenamiento aumenta de forma muy rápida en los primeros niveles de profundidad, hasta valores de 0.95 en 4 ramificaciones, para luego seguir creciendo hasta el máximo posible de 1, al utilizar 16 niveles de profundidad.\n",
        "La métrica de Recall en testeo presenta un comportamiento, en general, similar al de las métricas anteriores, pero más acentuado, dado que crece hasta caso 0.95 con 6 ramificaciones, siendo este punto el máximo global, para luego disminuir mediante un comportamiento alternado, reduciéndose de forma general, hasta estabilizarse cerca de los 0.91, para profundidades del árbol de más de 17 niveles."
      ]
    },
    {
      "cell_type": "markdown",
      "metadata": {
        "id": "b8959wi8JM_V"
      },
      "source": [
        "**A modo resumen:** los resultados anteriores, a nivel general se puede identificar que para el algoritmo Árbol de Decisión, los mejores resultados para el Entrenamiento se logran considerando 17 niveles de profundidad, instancia en que se alcanza el máximo posible para las 3 métricas estudiadas. Por su parte, para el Testeo, el algoritmo se desempeña mejor al utilizar 6 niveles de profundidas para los análisis predictivos.\n",
        "\n"
      ]
    },
    {
      "cell_type": "markdown",
      "metadata": {
        "id": "FFuYSerOo4N8"
      },
      "source": [
        "#### Evaluación del Algoritmo en Test"
      ]
    },
    {
      "cell_type": "markdown",
      "metadata": {
        "id": "FX3SeH6fTCBr"
      },
      "source": [
        "Entendiendo que lo relevante es poder lograr mejores resultados sobre los datos de Testeo, es que para el modelo Árbol de Decisión, se termina asignando al hiperparámetro de profundidad máxima, el valor de 6.\n",
        "\n",
        "Es importante señalar, que el desempeño del modelo predictivo es menor para el caso del Testeo, reduciendo la magnitud de sus 3 métricas principales, en una variación cercana al 10%, lo que no representa un indicio de sobreajuste del modelo.\n",
        "\n",
        "De este modo, se presentan a continuación los resultados obtenidos para Árbol de Decisión con el modelo de predicción utilizando 6 niveles de profundidad."
      ]
    },
    {
      "cell_type": "code",
      "metadata": {
        "colab": {
          "base_uri": "https://localhost:8080/"
        },
        "id": "GTcouq_9LHUF",
        "outputId": "18181add-0f8a-418f-fd82-2ea23fe0c6e2"
      },
      "source": [
        "# @markdown Reporte de Clasificación en Testeo\n",
        "model2 = DecisionTreeClassifier(random_state=0, max_depth = 6).fit(X_train,y_train)\n",
        "y_pred2 = model2.predict(X_test)\n",
        "print(classification_report(y_test, y_pred2, target_names=list(set(y_train))))"
      ],
      "execution_count": null,
      "outputs": [
        {
          "output_type": "stream",
          "text": [
            "              precision    recall  f1-score   support\n",
            "\n",
            "     No Fuga       0.90      0.95      0.92       218\n",
            "        Fuga       0.95      0.90      0.93       241\n",
            "\n",
            "    accuracy                           0.93       459\n",
            "   macro avg       0.93      0.93      0.93       459\n",
            "weighted avg       0.93      0.93      0.93       459\n",
            "\n"
          ],
          "name": "stdout"
        }
      ]
    },
    {
      "cell_type": "code",
      "metadata": {
        "colab": {
          "base_uri": "https://localhost:8080/",
          "height": 436
        },
        "id": "lhlxNgflL6Bn",
        "outputId": "07d015a6-f160-4cc6-e0b9-e7b53bb0156f"
      },
      "source": [
        "# @markdown Matriz de Confusión\n",
        "get_cm(y_test, y_pred2)"
      ],
      "execution_count": null,
      "outputs": [
        {
          "output_type": "execute_result",
          "data": {
            "image/png": "[encoded data removed]",
            "text/plain": [
              "<Figure size 432x432 with 2 Axes>"
            ]
          },
          "metadata": {
            "tags": []
          },
          "execution_count": 24
        }
      ]
    },
    {
      "cell_type": "markdown",
      "metadata": {
        "id": "NxbAzdZZMSIK"
      },
      "source": [
        "**Comentario:** \\\\\n",
        "De la Matriz de Confusión anterior, podemos observar que los mayores fallos de predicción, se generan en los casos en que el cliente realmente no fuga y el modelo predice que sí lo hará. De forma complementaria, los mayores aciertos son para los casos de Verdaderos Positivos, con un porcentaje de acierto de casi el 95%, considerando además que los Verdaderos Negativos superan el 90% de acierto en su clasificación."
      ]
    },
    {
      "cell_type": "markdown",
      "metadata": {
        "id": "93wT-zVPbeJE"
      },
      "source": [
        "### 3. Modelo SVM"
      ]
    },
    {
      "cell_type": "markdown",
      "metadata": {
        "id": "HbwjUUfbToqA"
      },
      "source": [
        "#### Entrenamiento y testeo "
      ]
    },
    {
      "cell_type": "code",
      "metadata": {
        "id": "dlpE7BMObku2"
      },
      "source": [
        "#  Entrenar y testear SVM\n",
        "# train for diferent number of C\n",
        "accuracieSVM = []\n",
        "precisionsSVM = []\n",
        "recallsSVM = []\n",
        "# test for diferent number of C\n",
        "accuracieSVMt = []\n",
        "precisionsSVMt = []\n",
        "recallsSVMt = []\n",
        "# valores para C\n",
        "C = np.linspace(0.1,2,10)\n",
        "for c in C:\n",
        "  # train\n",
        "  SVM = SVC(random_state=0, C=c, kernel='linear').fit(X_train,y_train)\n",
        "  # predict y guardar accuracy, precision y recall\n",
        "  accuracieSVM.append(accuracy_score(y_train, SVM.predict(X_train)))\n",
        "  precisionsSVM.append(precision_score(y_train, SVM.predict(X_train), pos_label='Fuga'))\n",
        "  recallsSVM.append(recall_score(y_train, SVM.predict(X_train), pos_label='Fuga'))\n",
        "  # predict y guardar accuracy, precision y recall\n",
        "  accuracieSVMt.append(accuracy_score(y_test, SVM.predict(X_test)))\n",
        "  precisionsSVMt.append(precision_score(y_test, SVM.predict(X_test), pos_label='Fuga'))\n",
        "  recallsSVMt.append(recall_score(y_test, SVM.predict(X_test), pos_label='Fuga'))"
      ],
      "execution_count": null,
      "outputs": []
    },
    {
      "cell_type": "markdown",
      "metadata": {
        "id": "xVRO2xDCw_qF"
      },
      "source": [
        "####Visualización de métricas de desempeño "
      ]
    },
    {
      "cell_type": "code",
      "metadata": {
        "colab": {
          "base_uri": "https://localhost:8080/",
          "height": 317
        },
        "id": "uUKzpev5nD_e",
        "outputId": "3b4e0373-af7a-4d71-9672-4bdc5149243d"
      },
      "source": [
        "# Graficar Accuracy\n",
        "plt.plot(C,accuracieSVM, color='blue')\n",
        "plt.plot(C,accuracieSVMt, color='red')\n",
        "plt.title('Valores de C y Accuracy')\n",
        "plt.xlabel('Valores de C')\n",
        "plt.ylabel('Accuracy')\n",
        "plt.legend(['train', 'test'], loc='lower right')"
      ],
      "execution_count": null,
      "outputs": [
        {
          "output_type": "execute_result",
          "data": {
            "text/plain": [
              "<matplotlib.legend.Legend at 0x7f93f22484d0>"
            ]
          },
          "metadata": {
            "tags": []
          },
          "execution_count": 26
        },
        {
          "output_type": "display_data",
          "data": {
            "image/png": "[encoded data removed]",
            "text/plain": [
              "<Figure size 432x288 with 1 Axes>"
            ]
          },
          "metadata": {
            "tags": [],
            "needs_background": "light"
          }
        }
      ]
    },
    {
      "cell_type": "markdown",
      "metadata": {
        "id": "fsJDCyTW5nPF"
      },
      "source": [
        "Accuracy:\n",
        "\n",
        "En el gráfico se observa que la métrica de Accuracy en entrenamiento aumenta de forma rápida en un comienzo, para luego estabilizarse en un nivel cercano a 0.840 para valores de C superiores a 0.30, considerando que en estricto rigor, su aumento continuo se da hasta un valor de C igual a 0.75, donde se logra una métrica de 0.842 aproximadamente. El máximo Accuracy se obtiene para C alrededor de 1.60, aproximadamente.\n",
        "Para la métrica de Accuracy en testeo, también se observa que aumenta de forma importante entre el rango de valores para C correspondiente a 0.1 y 0.75, alcanzando una magnitud levemente inferior a 0.860. Luego, la métrica decae hasta 0.850 para valores de C sobre 1.30, desde donde luego vuelve a aumentar, para disminuir finalmente hasta el mínimo dentro del rango analizado, con C igual a 2.00, donde se alcanza una métrica de 0.843 aproximadamente.\n",
        "\n",
        "Cade destacar el hecho de que, para esta métrica, los resultados obtenidos son mejores en el conjunto de testeo que en el de entrenamiento, considerando que dicha diferencia no es mayor al 2% como máximo. De este modo, se considera un resultado dentro de rangos normales, sin corresponder a underfitting."
      ]
    },
    {
      "cell_type": "code",
      "metadata": {
        "colab": {
          "base_uri": "https://localhost:8080/",
          "height": 317
        },
        "id": "IQQVrPGKpb9S",
        "outputId": "9b8af630-71ef-4f3f-858a-6560f029a77d"
      },
      "source": [
        "# Graficar Precision\n",
        "plt.plot(C,precisionsSVM, color='blue')\n",
        "plt.plot(C,precisionsSVMt, color='red')\n",
        "plt.title('Valores de C y Precision')\n",
        "plt.xlabel('Valores de C')\n",
        "plt.ylabel('Precision')\n",
        "plt.legend(['train', 'test'], loc='lower right')"
      ],
      "execution_count": null,
      "outputs": [
        {
          "output_type": "execute_result",
          "data": {
            "text/plain": [
              "<matplotlib.legend.Legend at 0x7f93f21c7c10>"
            ]
          },
          "metadata": {
            "tags": []
          },
          "execution_count": 27
        },
        {
          "output_type": "display_data",
          "data": {
            "image/png": "[encoded data removed]",
            "text/plain": [
              "<Figure size 432x288 with 1 Axes>"
            ]
          },
          "metadata": {
            "tags": [],
            "needs_background": "light"
          }
        }
      ]
    },
    {
      "cell_type": "markdown",
      "metadata": {
        "id": "TCaGktVKDyHq"
      },
      "source": [
        "Precision:\n",
        "\n",
        "Se aprecia que el valor de la métrica Precision en entrenamiento aumenta a medida que aumenta el valor de C, alcanzando su valor máximo cercano a 0.84 para C igual que 1.60, después del cual posee un comportamiento variable en lo que resta de intervalo estudiado.\n",
        "En el caso de la métrica de Precision en testeo, ésta presenta a grandes rasgos un comportamiento similar, con tasas de crecimiento diferentes, en donde aumenta hasta su valor máximo, correspondiente a 0.815 para una magnitud de C igual a 1.60, a partir de la cual disminuye."
      ]
    },
    {
      "cell_type": "code",
      "metadata": {
        "colab": {
          "base_uri": "https://localhost:8080/",
          "height": 317
        },
        "id": "iA5m5H4DtgcG",
        "outputId": "afa29cae-f77a-4123-9e99-d5bed88b4680"
      },
      "source": [
        "# Graficar Recall\n",
        "plt.plot(C,recallsSVM, color='blue')\n",
        "plt.plot(C,recallsSVMt, color='red')\n",
        "plt.title('Valores de C y Recall')\n",
        "plt.xlabel('Valores de C')\n",
        "plt.ylabel('Recall')\n",
        "plt.legend(['train', 'test'], loc='lower right')"
      ],
      "execution_count": null,
      "outputs": [
        {
          "output_type": "execute_result",
          "data": {
            "text/plain": [
              "<matplotlib.legend.Legend at 0x7f93f2145850>"
            ]
          },
          "metadata": {
            "tags": []
          },
          "execution_count": 28
        },
        {
          "output_type": "display_data",
          "data": {
            "image/png": "[encoded data removed]",
            "text/plain": [
              "<Figure size 432x288 with 1 Axes>"
            ]
          },
          "metadata": {
            "tags": [],
            "needs_background": "light"
          }
        }
      ]
    },
    {
      "cell_type": "markdown",
      "metadata": {
        "id": "GFa861gWHO1Y"
      },
      "source": [
        "Recall:\n",
        "\n",
        "Es observable que para el caso de entrenamiento, la métrica de Recall posee de forma general un comportamiento descrito por una curva cóncava, donde aumenta inicialmente hasta un máximo de 0.877 aproximadamente, para un valor de C igual a 0.75, a partir de donde comienza a disminuir, hasta llegar a su magnitud más baja, para valor de C igual a 2. Para el caso de testeo, la curva es similar pero más acentuada, alcanzando su máxima magnitud, correspondiente a 0.915, para valores de C entre 0.5 y 0.75, a partir de donde disminuye, hasta cerca de 0.885, en C igual a 1.3, para después volver a aumentar, alcanzar un máximo local, naturalmente menor que el anterior, y luego volver a reducir su magnitud hasta el mínimo, menor a 0.88, para C igual a 2.\n",
        "\n",
        "De manera análoga al Accuracy, la curva de la métrica de Recall obtenida presenta resultados mejores en el conjunto de testeo que en el de entrenamiento, considerando que dicha diferencia no es mayor al 5% como máximo. De este modo, se considera un resultado dentro de rangos normales, sin corresponder a underfitting.\n"
      ]
    },
    {
      "cell_type": "markdown",
      "metadata": {
        "id": "LG8joPd-VOnz"
      },
      "source": [
        "**A modo resumen:** Dados los resultados anteriores, a nivel general se puede identificar que para el algoritmo SVM, los mejores resultados para el Entrenamiento se logran en diferentes valores de C, dependiendo de la métrica estudiada. Un valor de dicho hiperparámetro igual a 0.75, permitiría obtener buenos valores de Accuracy y Recall, castigando un poco Precision, en relación con el máximo posible obtenible para dicha métrica. Por su parte, para el Testeo, el comportamiento del algoritmo es similar en cuanto a su naturaleza que en el caso Entrenamiento, puesto que las métricas de Accuracy y Recall logran los mejores resultados para valores de C cercanos a 0.75 para los análisis predictivos, con una métrica de Precision algo alejada de su máximo posible, afectada en su segundo decimal, en cuanto a magnitud."
      ]
    },
    {
      "cell_type": "markdown",
      "metadata": {
        "id": "qVTocXTz-6xb"
      },
      "source": [
        "#### Evaluación del Algoritmo en Test"
      ]
    },
    {
      "cell_type": "markdown",
      "metadata": {
        "id": "fm2OkfN1_4Q0"
      },
      "source": [
        "Entendiendo que lo relevante es poder lograr mejores resultados sobre los datos de Testeo, es que para el modelo SVM, se termina asignando al hiperparámetro C, el valor de 0.75.\n",
        "\n",
        "De este modo, se presentan a continuación los resultados obtenidos para SVM con el modelo de predicción utilizando un C igual a 0.75."
      ]
    },
    {
      "cell_type": "code",
      "metadata": {
        "colab": {
          "base_uri": "https://localhost:8080/"
        },
        "id": "smB6gTRt_MZz",
        "outputId": "d304fc54-e722-4a34-f25f-0c2731893002"
      },
      "source": [
        "# @markdown Reporte de Clasificación en Testeo\n",
        "model3 = SVC(random_state=0, C=0.75, kernel='linear').fit(X_train,y_train)\n",
        "y_pred3 = model3.predict(X_test)\n",
        "print(classification_report(y_test, y_pred3, target_names=list(set(y_train))))"
      ],
      "execution_count": null,
      "outputs": [
        {
          "output_type": "stream",
          "text": [
            "              precision    recall  f1-score   support\n",
            "\n",
            "     No Fuga       0.81      0.91      0.86       218\n",
            "        Fuga       0.91      0.81      0.86       241\n",
            "\n",
            "    accuracy                           0.86       459\n",
            "   macro avg       0.86      0.86      0.86       459\n",
            "weighted avg       0.86      0.86      0.86       459\n",
            "\n"
          ],
          "name": "stdout"
        }
      ]
    },
    {
      "cell_type": "code",
      "metadata": {
        "colab": {
          "base_uri": "https://localhost:8080/",
          "height": 436
        },
        "id": "-xFisWjV_StY",
        "outputId": "0257dd87-440d-435c-9814-d5fd94214179"
      },
      "source": [
        "# @markdown Matriz de Confusión\n",
        "get_cm(y_test, y_pred3)"
      ],
      "execution_count": null,
      "outputs": [
        {
          "output_type": "execute_result",
          "data": {
            "image/png": "[encoded data removed]",
            "text/plain": [
              "<Figure size 432x432 with 2 Axes>"
            ]
          },
          "metadata": {
            "tags": []
          },
          "execution_count": 30
        }
      ]
    },
    {
      "cell_type": "markdown",
      "metadata": {
        "id": "NN_UZWuZD5I2"
      },
      "source": [
        "**Comentario:** \\\\\n",
        "De la Matriz de Confusión anterior, podemos observar que los mayores fallos de predicción, se generan en los casos en que el cliente realmente no fuga y el modelo predice que sí lo hará, con casi un 19% de los casos. A su vez, los mayores aciertos son para los casos de Verdaderos Positivos, con un porcentaje de acierto de casi el 91%, considerando además que los Verdaderos Negativos superan el 81% de acierto en su clasificación."
      ]
    },
    {
      "cell_type": "markdown",
      "metadata": {
        "id": "fIenCVGFjFtb"
      },
      "source": [
        "### 4. Modelo Random Forest"
      ]
    },
    {
      "cell_type": "markdown",
      "metadata": {
        "id": "080nW1D6VxJ6"
      },
      "source": [
        "#### Entrenamiento y testeo "
      ]
    },
    {
      "cell_type": "code",
      "metadata": {
        "id": "kAUl6cfijIvQ"
      },
      "source": [
        "# Entrenar y testear Random Forest\n",
        "# Entrenar para diferentes Números de Árboles\n",
        "accuraciesRF = []\n",
        "precisionsRF = []\n",
        "recallsRF = []\n",
        "# testear para diferentes Números de Árboles\n",
        "accuraciesRFt = []\n",
        "precisionsRFt = []\n",
        "recallsRFt = []\n",
        "# Número de árboles \n",
        "n_estimators = list(range(2,21,2))\n",
        "for n_estimator in n_estimators:\n",
        "  # train\n",
        "  RF = RandomForestClassifier(n_estimators=n_estimator, random_state=0, n_jobs=-1).fit(X_train,y_train)\n",
        "  # predict y guardar accuracy, precision y recall\n",
        "  accuraciesRF.append(accuracy_score(y_train, RF.predict(X_train)))\n",
        "  precisionsRF.append(precision_score(y_train, RF.predict(X_train), pos_label='Fuga'))\n",
        "  recallsRF.append(recall_score(y_train, RF.predict(X_train),pos_label='Fuga'))\n",
        "  # predict y guardar accuracy, precision y recall\n",
        "  accuraciesRFt.append(accuracy_score(y_test, RF.predict(X_test)))\n",
        "  precisionsRFt.append(precision_score(y_test, RF.predict(X_test), pos_label='Fuga'))\n",
        "  recallsRFt.append(recall_score(y_test, RF.predict(X_test),pos_label='Fuga'))"
      ],
      "execution_count": null,
      "outputs": []
    },
    {
      "cell_type": "markdown",
      "metadata": {
        "id": "iOjRIRl68CxD"
      },
      "source": [
        "####Visualización de métricas de desempeño "
      ]
    },
    {
      "cell_type": "code",
      "metadata": {
        "colab": {
          "base_uri": "https://localhost:8080/",
          "height": 318
        },
        "id": "PLCiNlMtoNK3",
        "outputId": "c2fa1739-1131-40b2-bb30-c42d71ca4e1e"
      },
      "source": [
        "# Graficar Accuracy\n",
        "plt.plot(n_estimators,accuraciesRF, color='blue')\n",
        "plt.plot(n_estimators,accuraciesRFt, color='red')\n",
        "plt.title('Número de Árboles y Accuracy')\n",
        "plt.xlabel('Número de Árboles')\n",
        "plt.ylabel('Accuracy')\n",
        "plt.legend(['train', 'test'], loc='lower right')"
      ],
      "execution_count": null,
      "outputs": [
        {
          "output_type": "execute_result",
          "data": {
            "text/plain": [
              "<matplotlib.legend.Legend at 0x7f93f237cd10>"
            ]
          },
          "metadata": {
            "tags": []
          },
          "execution_count": 32
        },
        {
          "output_type": "display_data",
          "data": {
            "image/png": "[encoded data removed]",
            "text/plain": [
              "<Figure size 432x288 with 1 Axes>"
            ]
          },
          "metadata": {
            "tags": [],
            "needs_background": "light"
          }
        }
      ]
    },
    {
      "cell_type": "markdown",
      "metadata": {
        "id": "nnS-5RXlOr-S"
      },
      "source": [
        "Accuracy:\n",
        "\n",
        "En el gráfico se observa que la métrica de Accuracy presenta un comportamiento estrictamente creciente, convergiendo al máximo posible, correspondiente a 1, a medida que aumenta el número de árboles utilizados en el método, puntualmente, cercano a 20 estimadores.\n",
        "A diferencia de la situación de Entrenamiento, para el caso del Testeo, la métrica de Accuracy cae alrededor de 8% en sus valores, logrando un máximo de casi 0.935 para 16 árboles estimadores. A nivel general, la métrica aumenta a medida que crece el número de árboles utilizados, pero manteniéndose dentro de un rango acotado entre 0.92 y 0.94, a partir de 8 estimadores."
      ]
    },
    {
      "cell_type": "markdown",
      "metadata": {
        "id": "swpKIDVRSFQ4"
      },
      "source": [
        "Precision:\n",
        "\n",
        "Del gráfico, tenemos que el comportamiento general es muy similar al del Accuracy, en ambas aprticiones de datos. Específicamente, se obtienen valores muy altos para la métrica de Precision en entrenamiento, en todo el rango de número de árboles analizado para el modelo, creciendo hasta el máximo posible alredeor de los 10 árboles utilizados, en donde se mantiene con mínimas variaciones de desempeño, hasta el final del rango de cantidad de predictores, siempre con una métrica cercana o igual a 1.\n",
        "Para la métrica de Precision en testeo, se observa también un crecimiento general hasta llegar alrededor 0.915, para 16 árboles, a partir de donde diminuye, pero levemente, manteniéndose cercano a 0.91 hasta el máximo de árboles analizados."
      ]
    },
    {
      "cell_type": "code",
      "metadata": {
        "colab": {
          "base_uri": "https://localhost:8080/",
          "height": 318
        },
        "id": "Ky7g6sOHp76Q",
        "outputId": "6fb87c4e-5e5c-41f8-c445-93d850478e47"
      },
      "source": [
        "# Graficar Recall\n",
        "plt.plot(n_estimators,recallsRF, color='blue')\n",
        "plt.plot(n_estimators,recallsRFt, color='red')\n",
        "plt.title('Número de Árboles y Recall')\n",
        "plt.xlabel('Número de Árboles')\n",
        "plt.ylabel('Recall')\n",
        "plt.legend(['train', 'test'], loc='lower right')"
      ],
      "execution_count": null,
      "outputs": [
        {
          "output_type": "execute_result",
          "data": {
            "text/plain": [
              "<matplotlib.legend.Legend at 0x7f93f21293d0>"
            ]
          },
          "metadata": {
            "tags": []
          },
          "execution_count": 33
        },
        {
          "output_type": "display_data",
          "data": {
            "image/png": "[encoded data removed]",
            "text/plain": [
              "<Figure size 432x288 with 1 Axes>"
            ]
          },
          "metadata": {
            "tags": [],
            "needs_background": "light"
          }
        }
      ]
    },
    {
      "cell_type": "markdown",
      "metadata": {
        "id": "bd6Et1iNZR_u"
      },
      "source": [
        "Recall:\n",
        "\n",
        "Para la métrica de Recall en entrenamiento, se aprecia un comportamiento casi constante en todo el rango de estimadores analizado, partiendo desde 0.995 desde los 2 árboles utilizados, llegando a 1 para los 20 predictores en conjunto.\n",
        "En el caso de la métrica de Recall en testeo, observamos un comportamiento distinto, en donde a nivel general, la métrica decae desde el máximo, al utilizar 2 árboles, en donde la magnitud del recall es de 0.965 aproximadamente, para luego ir mostrando un comportamiento variable, con una tendencia a la disminución hasta valores cercanos a 0.945, con el uso de 20 árboles.\n",
        "\n",
        "Es importante destacar que si bien los comportamientos de las curvas de Recall son bastente diferentes, la disminución de la métrica desde el caso de entrenamiento al de testeo, es cercana al 5% solamente."
      ]
    },
    {
      "cell_type": "markdown",
      "metadata": {
        "id": "rENRhHpjedak"
      },
      "source": [
        "**A modo resumen:**\n",
        "De los resultados anteriores, se puede observar que para el modelo de Random Forest, se obtienen altísimos desempeños en el entrenamiento, percibible mediante todas sus métricas, las que convergen a 1 para cerca de 10 estimadores utilizados, entregando también buenos resultados ya desde el caso base de 2 árboles, en cuya situación es el Recall el que muestra el desempeño más alto, relativamente hablando, logrando un valor cercano 0.995 aproximadamente. Por su parte para el Testeo, el comportamiento predictivo del modelo es más bajo en cuanto a la magnitud de sus tres métricas, las que caen no más de 10% en comparación al caso anterior. Puntualmente, los mejores resultados de Testeo se obtienen para 16 estimadores en Accuracy y Precision, siendo el Recall levemente afectado, logrando un valor de 0.95 aproximadamente.\n"
      ]
    },
    {
      "cell_type": "markdown",
      "metadata": {
        "id": "PhV5OVQCDqyq"
      },
      "source": [
        "#### Evaluación del Algoritmo en Test"
      ]
    },
    {
      "cell_type": "markdown",
      "metadata": {
        "id": "yBpaS9STFTf1"
      },
      "source": [
        "Teniendo en cuenta que el modelo de Random Forest es susceptible al sobreajuste, cabe mencionar que en el presente caso se desecha esa indeseada situación, puesto que las reducciones de las métricas al pasar de un conjunto de datos al otro, se encuentran dentro de un margen \"normal\" de predicción.\n",
        "\n",
        "De este modo, se presentan a continuación los resultados obtenidos para Random forest con el modelo de predicción utilizando 16 árboles de decisión. "
      ]
    },
    {
      "cell_type": "code",
      "metadata": {
        "colab": {
          "base_uri": "https://localhost:8080/"
        },
        "id": "fIuMZep3I_Dx",
        "outputId": "5f3527db-f876-4987-8550-9f39ae868383"
      },
      "source": [
        "# @markdown Reporte de Clasificación en Testeo\n",
        "model4 = RandomForestClassifier(n_estimators=16, random_state=0, n_jobs=-1).fit(X_train,y_train)\n",
        "y_pred4 = model4.predict(X_test)\n",
        "print(classification_report(y_test, y_pred4, target_names=list(set(y_train))))"
      ],
      "execution_count": null,
      "outputs": [
        {
          "output_type": "stream",
          "text": [
            "              precision    recall  f1-score   support\n",
            "\n",
            "     No Fuga       0.92      0.95      0.93       218\n",
            "        Fuga       0.95      0.92      0.94       241\n",
            "\n",
            "    accuracy                           0.93       459\n",
            "   macro avg       0.93      0.94      0.93       459\n",
            "weighted avg       0.94      0.93      0.93       459\n",
            "\n"
          ],
          "name": "stdout"
        }
      ]
    },
    {
      "cell_type": "code",
      "metadata": {
        "colab": {
          "base_uri": "https://localhost:8080/",
          "height": 436
        },
        "id": "hKQdA9YCJj87",
        "outputId": "bd61d1bc-a7c6-4d1e-acd4-850231bf8257"
      },
      "source": [
        "# @markdown Matriz de Confusión\n",
        "get_cm(y_test, y_pred4)\n"
      ],
      "execution_count": null,
      "outputs": [
        {
          "output_type": "execute_result",
          "data": {
            "image/png": "[encoded data removed]",
            "text/plain": [
              "<Figure size 432x432 with 2 Axes>"
            ]
          },
          "metadata": {
            "tags": []
          },
          "execution_count": 35
        }
      ]
    },
    {
      "cell_type": "markdown",
      "metadata": {
        "id": "dLIKqH3AM8MF"
      },
      "source": [
        "**Comentario:** \\\\\n",
        "De la Matriz de Confusión anterior, podemos observar que los mayores fallos de predicción, se generan en los casos en que el cliente realmente no fuga y el modelo predice que sí lo hará. Por su parte, los Falsos Negativos apenas superan el 5%. De forma complementaria, los mayores aciertos son para los casos de Verdaderos Positivos, con un porcentaje de acierto de casi el 95%, donde además los Verdaderos Negativos superan el 92% de acierto en su clasificación."
      ]
    },
    {
      "cell_type": "markdown",
      "metadata": {
        "id": "tHM1W_EcNMNe"
      },
      "source": [
        "### 5. Modelo Regresión Logística"
      ]
    },
    {
      "cell_type": "markdown",
      "metadata": {
        "id": "S4k-4gNshutk"
      },
      "source": [
        "#### Entrenamiento y testeo"
      ]
    },
    {
      "cell_type": "code",
      "metadata": {
        "colab": {
          "base_uri": "https://localhost:8080/"
        },
        "id": "LV-6uooKBpWP",
        "outputId": "706329ac-8723-4f7b-8997-2ec9e32b8869"
      },
      "source": [
        "# Entrenamiento y Testeo Regresión Logística\n",
        "# train\n",
        "logit = LogisticRegression(random_state=0).fit(X_train, y_train)\n",
        "# accuracy\n",
        "print(f\"Accuracy train: {accuracy_score(y_train, logit.predict(X_train)).round(4)}\")\n",
        "print(f\"Accuracy test : {accuracy_score(y_test, logit.predict(X_test)).round(4)}\")\n",
        "print(f\"Accuracy train: {precision_score(y_train, logit.predict(X_train), pos_label='Fuga').round(4)}\")\n",
        "print(f\"Accuracy test : {precision_score(y_test, logit.predict(X_test), pos_label='Fuga').round(4)}\")\n",
        "print(f\"Accuracy train: {recall_score(y_train, logit.predict(X_train), pos_label='Fuga').round(4)}\")\n",
        "print(f\"Accuracy test : {recall_score(y_test, logit.predict(X_test), pos_label='Fuga').round(4)}\")"
      ],
      "execution_count": null,
      "outputs": [
        {
          "output_type": "stream",
          "text": [
            "Accuracy train: 0.8327\n",
            "Accuracy test : 0.8388\n",
            "Accuracy train: 0.8248\n",
            "Accuracy test : 0.8077\n",
            "Accuracy train: 0.8455\n",
            "Accuracy test : 0.867\n"
          ],
          "name": "stdout"
        }
      ]
    },
    {
      "cell_type": "markdown",
      "metadata": {
        "id": "PkqHS6U22x90"
      },
      "source": [
        "#### Evaluació del Algoritmo en Test"
      ]
    },
    {
      "cell_type": "code",
      "metadata": {
        "colab": {
          "base_uri": "https://localhost:8080/"
        },
        "id": "loH_Ey3bP_Tm",
        "outputId": "1f3374aa-2eca-450f-db84-f5be61687a07"
      },
      "source": [
        "# @markdown Reporte de Clasificación en Testeo\n",
        "model5 = LogisticRegression(random_state=0).fit(X_train, y_train)\n",
        "y_pred5 = model5.predict(X_test)\n",
        "print(classification_report(y_test, y_pred5, target_names=list(set(y_train))))"
      ],
      "execution_count": null,
      "outputs": [
        {
          "output_type": "stream",
          "text": [
            "              precision    recall  f1-score   support\n",
            "\n",
            "     No Fuga       0.81      0.87      0.84       218\n",
            "        Fuga       0.87      0.81      0.84       241\n",
            "\n",
            "    accuracy                           0.84       459\n",
            "   macro avg       0.84      0.84      0.84       459\n",
            "weighted avg       0.84      0.84      0.84       459\n",
            "\n"
          ],
          "name": "stdout"
        }
      ]
    },
    {
      "cell_type": "code",
      "metadata": {
        "colab": {
          "base_uri": "https://localhost:8080/",
          "height": 436
        },
        "id": "4sxRH8W7QgmC",
        "outputId": "54f5f8c3-e4d3-43d4-e4b2-e9511ce6ec8e"
      },
      "source": [
        "# @markdown Matriz de Confusión\n",
        "get_cm(y_test, y_pred5)"
      ],
      "execution_count": null,
      "outputs": [
        {
          "output_type": "execute_result",
          "data": {
            "image/png": "[encoded data removed]",
            "text/plain": [
              "<Figure size 432x432 with 2 Axes>"
            ]
          },
          "metadata": {
            "tags": []
          },
          "execution_count": 38
        }
      ]
    },
    {
      "cell_type": "markdown",
      "metadata": {
        "id": "bpn4szl8Q8sM"
      },
      "source": [
        "**Comentario:** \\\\\n",
        "De la Matriz de Confusión anterior, podemos observar que los mayores fallos de predicción, se generan en los casos en que el cliente realmente no fuga y el modelo predice que sí lo hará, elevándose sobre el 18%, siendo también importantes los Falsos Negativos, que llegan al 13%. De forma complementaria, los mayores aciertos son para los casos de Verdaderos Positivos, con un porcentaje de acierto de casi el 86%, donde además los Verdaderos Negativos alcanzan el 81% de acierto en su clasificación."
      ]
    },
    {
      "cell_type": "markdown",
      "metadata": {
        "id": "mIutAaLoRSoo"
      },
      "source": [
        "## PROBABILIDADES DE PREDICCIÓN DE CLASES EN MODELOS"
      ]
    },
    {
      "cell_type": "markdown",
      "metadata": {
        "id": "2ZbPquMCbpcM"
      },
      "source": [
        "### Análisis de Umbral de Clases y AUC/ROC"
      ]
    },
    {
      "cell_type": "markdown",
      "metadata": {
        "id": "xAG8MGEMkFjr"
      },
      "source": [
        "#### Predicción de Clases en Testeo"
      ]
    },
    {
      "cell_type": "markdown",
      "metadata": {
        "id": "e5xtKlleeJPd"
      },
      "source": [
        "Considerando que el conjunto de Testeo es donde finalmente se ponen a prueba los modelos predictivos antes de ser aplicados en casos reales, y que por lo mismo es necesario alcanzar buenos resultados en un conjunto \"desconocido\" de datos para los algoritmos de predicción, se ajustará en el desarrollo siguiente, el umbral de corte probabilístico para la clasificación de los distintos registros para las clases de clientes con y sin fuga."
      ]
    },
    {
      "cell_type": "markdown",
      "metadata": {
        "id": "Ir4SLnq134nk"
      },
      "source": [
        "Desde un punto de vista de negocio, lo relevante es optimizar el beneficio económico de las iniciativas que se desarrollan, en particular, para un proyecto de analítica de negocios mediante KDD.\n",
        "\n",
        "De esta forma, tenemos que de la Matriz de Beneficios, se desprende la siguiente Función de Beneficios:\n",
        "\n",
        "\n",
        "\n",
        "*   Función de Beneficios: FB = 100xTP - 100xFP - 5000xFN - 0xTN\n",
        "\n"
      ]
    },
    {
      "cell_type": "markdown",
      "metadata": {
        "id": "ubx-_0KF8Y3F"
      },
      "source": [
        "Como se puede observar, la función de beneficio es agnóstica del modelo predictivo, teniendo presente obviamente que cada algoritmo podrá predecir de mejor o peor manera la condición de fuga o no fuga, según sus parámetros, hiperparámetros y funcionamiento específico.\n",
        "\n",
        "Ahora, dado el tamaño de la partición de datos, específicamente para el conjunto de testeo, veíamos anteriormente que la cantidad real de casos de la Clase 1, que son los clientes que fugan, es de 218. De este modo, tenemos que:\n",
        "\n",
        "\n",
        "*   TP + FN = 218\n",
        "\n",
        "A partir de aquí, podemos utilizar esta igualdad para reemplazar en la expresión de la función de beneficios FB, de modo que, junto con reducir aritméticamente la expresión, se obtiene que:\n",
        "\n",
        "\n",
        "*   Función Beneficios: FB = 218.000 - 6.000xFN -100xFP\n",
        "\n",
        "\n",
        "\n"
      ]
    },
    {
      "cell_type": "markdown",
      "metadata": {
        "id": "UBDkFwTr_lh4"
      },
      "source": [
        "En la expresión anterior tenemos convenientemente que la función de beneficios está expresada como función de los errores de la predicción de los modelos.\n",
        "\n",
        "Desde un punto de vista de optimización de dicha función, si calculamos el gradiente, mediante derivadas parciales, tenemos que el vector gradiente de FB está dado por:\n",
        "\n",
        "FB' = (-6.000 ; -100)\n",
        "\n",
        "Dicho vector existe en el espacio bidimensional dado por la cantidad de casos Falsos Negativos y Falsos Positivos. Particularmente, indica la dirección en que la función FB se optimiza.\n",
        "\n",
        "Como FN y FP están acompañados de coeficientes negativos, y además no pueden ser valores menores a cero, puesto que el modelo a lo más puede entregar cero casos para cada uno de estos tipos de errores, la función FB se hace mayor a medida que las cantidades de FN y FP se acercan a cero, alcanzado su máximo en el punto (0 ; 0) del espacio bidimensional de errores tipo I y tipo II."
      ]
    },
    {
      "cell_type": "markdown",
      "metadata": {
        "id": "hmKcoT3aCHV4"
      },
      "source": [
        "El resultado de la optimización de la función de beneficios nos orienta a que, desde un punto de vista de negocios, el máximo beneficio se alcanza cuando no incurrimos en errores de predicción. Más aún, teniendo en cuenta que el costo de incurrir en un Falso Negativo es mucho mayor que el costo de incurrir en un Falso Positivo, esto nos orienta que debemos evitar fuertemente incurrir en predicciones de falsos negativos.\n",
        "\n",
        "De este modo, con tal de maximizar el beneficio para la organziación, contamos con un criterio económico para orientar la selección del umbral de corte de clases en todos los modelos, dado por el punto que no entregue falsos negativos.\n",
        "\n",
        "Lo anterior se traduce en establecer el umbral de corte en el punto en que la distribución de probabilidades entregada por cada modelo, incorpore dentro de la Clase 1 Fuga a todos los casos existentes.\n",
        "\n",
        "Al establecer el criterio económico anterior, en la práctica se disminuirán las pérdidas monetarias que entregue cada modelo, diferenciándose los modelos predictivos entre ellos por el aporte que puedan hacer en la correcta identificación de los otros casos (Verdaderos Positivos y Falsos Positivos)."
      ]
    },
    {
      "cell_type": "markdown",
      "metadata": {
        "id": "0-UpU-nBG1Ni"
      },
      "source": [
        "A continuación se desarrolla el ajuste del umbral de corte de predicciónd de clases para los modelos antes entrenados, buscando eliminar los casos FN, que generan la mayor pérdida monetaria."
      ]
    },
    {
      "cell_type": "markdown",
      "metadata": {
        "id": "ZqV6of1Mkewp"
      },
      "source": [
        "###### Modelo KNN"
      ]
    },
    {
      "cell_type": "code",
      "metadata": {
        "colab": {
          "base_uri": "https://localhost:8080/"
        },
        "id": "3HrKENkIvekZ",
        "outputId": "abc98900-3dac-4fa2-975d-94f1298b2703"
      },
      "source": [
        "# @title Generación de Dataframes de Entrenamiento y Testeo\n",
        "DFTrain = pd.concat([X_train,y_train], axis=1)\n",
        "DFTest = pd.concat([X_test,y_test], axis=1)\n",
        "print(f\"Filas Dataframe Entrenamiento: {len(DFTrain)}\")\n",
        "print(f\"Filas Dataframe Testeo       : {len(DFTest)}\")"
      ],
      "execution_count": null,
      "outputs": [
        {
          "output_type": "stream",
          "text": [
            "Filas Dataframe Entrenamiento: 1835\n",
            "Filas Dataframe Testeo       : 459\n"
          ],
          "name": "stdout"
        }
      ]
    },
    {
      "cell_type": "code",
      "metadata": {
        "colab": {
          "base_uri": "https://localhost:8080/",
          "height": 285
        },
        "id": "pf_LCHz6kewr",
        "outputId": "c49f8eef-7c7a-467f-c6fc-ede3d5016a18"
      },
      "source": [
        "# @title Determinación de Probabilidades de Predicción según Clases\n",
        "# Entrenamos KNN con mejor configuración\n",
        "KNNauct = KNeighborsClassifier(n_neighbors=11).fit(X_train, y_train)\n",
        "# Calcular Probabilidades de Predicción\n",
        "DFKNNt = DFTest.copy()\n",
        "DFKNNt[['Fuga','No Fuga']] = KNNauct.predict_proba(X_test)\n",
        "DFKNNt.head()"
      ],
      "execution_count": null,
      "outputs": [
        {
          "output_type": "execute_result",
          "data": {
            "text/html": [
              "<div>\n",
              "<style scoped>\n",
              "    .dataframe tbody tr th:only-of-type {\n",
              "        vertical-align: middle;\n",
              "    }\n",
              "\n",
              "    .dataframe tbody tr th {\n",
              "        vertical-align: top;\n",
              "    }\n",
              "\n",
              "    .dataframe thead th {\n",
              "        text-align: right;\n",
              "    }\n",
              "</style>\n",
              "<table border=\"1\" class=\"dataframe\">\n",
              "  <thead>\n",
              "    <tr style=\"text-align: right;\">\n",
              "      <th></th>\n",
              "      <th>CIUDAD</th>\n",
              "      <th>EDAD</th>\n",
              "      <th>E_CIVIL</th>\n",
              "      <th>Frecuencia</th>\n",
              "      <th>GENERO</th>\n",
              "      <th>ID</th>\n",
              "      <th>MONTO</th>\n",
              "      <th>M_MOROSO</th>\n",
              "      <th>NIV_EDUC</th>\n",
              "      <th>Recency</th>\n",
              "      <th>SEGURO</th>\n",
              "      <th>Unnamed: 0</th>\n",
              "      <th>logDMax/Renta</th>\n",
              "      <th>logMTD/Renta</th>\n",
              "      <th>logVM_AbrilMarzo</th>\n",
              "      <th>logVM_AgostoJulio</th>\n",
              "      <th>logVM_JulioJunio</th>\n",
              "      <th>logVM_JunioMayo</th>\n",
              "      <th>logVM_MayoAbril</th>\n",
              "      <th>logVM_SeptiembreAgosto</th>\n",
              "      <th>FUGA</th>\n",
              "      <th>Fuga</th>\n",
              "      <th>No Fuga</th>\n",
              "    </tr>\n",
              "  </thead>\n",
              "  <tbody>\n",
              "    <tr>\n",
              "      <th>508</th>\n",
              "      <td>0.013514</td>\n",
              "      <td>0.780488</td>\n",
              "      <td>0.333333</td>\n",
              "      <td>0.571429</td>\n",
              "      <td>0.0</td>\n",
              "      <td>0.221544</td>\n",
              "      <td>0.213333</td>\n",
              "      <td>0.333333</td>\n",
              "      <td>1.0</td>\n",
              "      <td>1.0</td>\n",
              "      <td>1.0</td>\n",
              "      <td>508</td>\n",
              "      <td>0.057893</td>\n",
              "      <td>0.060928</td>\n",
              "      <td>0.637769</td>\n",
              "      <td>0.009337</td>\n",
              "      <td>0.000003</td>\n",
              "      <td>0.748740</td>\n",
              "      <td>2.995236e-06</td>\n",
              "      <td>0.407134</td>\n",
              "      <td>No Fuga</td>\n",
              "      <td>0.545455</td>\n",
              "      <td>0.454545</td>\n",
              "    </tr>\n",
              "    <tr>\n",
              "      <th>325</th>\n",
              "      <td>0.540541</td>\n",
              "      <td>0.658537</td>\n",
              "      <td>0.333333</td>\n",
              "      <td>0.000000</td>\n",
              "      <td>1.0</td>\n",
              "      <td>0.141736</td>\n",
              "      <td>0.200000</td>\n",
              "      <td>0.000000</td>\n",
              "      <td>0.6</td>\n",
              "      <td>0.0</td>\n",
              "      <td>1.0</td>\n",
              "      <td>325</td>\n",
              "      <td>0.320478</td>\n",
              "      <td>0.000000</td>\n",
              "      <td>0.044663</td>\n",
              "      <td>0.061473</td>\n",
              "      <td>0.075726</td>\n",
              "      <td>0.041155</td>\n",
              "      <td>4.143709e-02</td>\n",
              "      <td>0.058642</td>\n",
              "      <td>No Fuga</td>\n",
              "      <td>0.363636</td>\n",
              "      <td>0.636364</td>\n",
              "    </tr>\n",
              "    <tr>\n",
              "      <th>304</th>\n",
              "      <td>0.013514</td>\n",
              "      <td>0.682927</td>\n",
              "      <td>0.000000</td>\n",
              "      <td>0.857143</td>\n",
              "      <td>0.0</td>\n",
              "      <td>0.132577</td>\n",
              "      <td>0.493333</td>\n",
              "      <td>0.333333</td>\n",
              "      <td>1.0</td>\n",
              "      <td>1.0</td>\n",
              "      <td>0.0</td>\n",
              "      <td>304</td>\n",
              "      <td>0.891262</td>\n",
              "      <td>0.896149</td>\n",
              "      <td>0.000104</td>\n",
              "      <td>0.430705</td>\n",
              "      <td>0.000010</td>\n",
              "      <td>0.659855</td>\n",
              "      <td>2.388722e-05</td>\n",
              "      <td>0.027990</td>\n",
              "      <td>Fuga</td>\n",
              "      <td>0.727273</td>\n",
              "      <td>0.272727</td>\n",
              "    </tr>\n",
              "    <tr>\n",
              "      <th>1034</th>\n",
              "      <td>0.432432</td>\n",
              "      <td>0.634146</td>\n",
              "      <td>0.000000</td>\n",
              "      <td>0.571429</td>\n",
              "      <td>0.0</td>\n",
              "      <td>0.450938</td>\n",
              "      <td>1.000000</td>\n",
              "      <td>0.666667</td>\n",
              "      <td>0.6</td>\n",
              "      <td>1.0</td>\n",
              "      <td>0.0</td>\n",
              "      <td>1034</td>\n",
              "      <td>0.062439</td>\n",
              "      <td>0.076647</td>\n",
              "      <td>0.746625</td>\n",
              "      <td>0.001411</td>\n",
              "      <td>0.000018</td>\n",
              "      <td>0.762699</td>\n",
              "      <td>5.441383e-07</td>\n",
              "      <td>0.740365</td>\n",
              "      <td>No Fuga</td>\n",
              "      <td>0.818182</td>\n",
              "      <td>0.181818</td>\n",
              "    </tr>\n",
              "    <tr>\n",
              "      <th>929</th>\n",
              "      <td>0.013514</td>\n",
              "      <td>0.512195</td>\n",
              "      <td>0.666667</td>\n",
              "      <td>0.571429</td>\n",
              "      <td>0.0</td>\n",
              "      <td>0.405146</td>\n",
              "      <td>0.840000</td>\n",
              "      <td>0.666667</td>\n",
              "      <td>1.0</td>\n",
              "      <td>1.0</td>\n",
              "      <td>0.0</td>\n",
              "      <td>929</td>\n",
              "      <td>0.008030</td>\n",
              "      <td>0.008275</td>\n",
              "      <td>0.537420</td>\n",
              "      <td>0.000518</td>\n",
              "      <td>0.000130</td>\n",
              "      <td>0.703938</td>\n",
              "      <td>1.425839e-05</td>\n",
              "      <td>0.475820</td>\n",
              "      <td>Fuga</td>\n",
              "      <td>0.727273</td>\n",
              "      <td>0.272727</td>\n",
              "    </tr>\n",
              "  </tbody>\n",
              "</table>\n",
              "</div>"
            ],
            "text/plain": [
              "        CIUDAD      EDAD   E_CIVIL  ...     FUGA      Fuga   No Fuga\n",
              "508   0.013514  0.780488  0.333333  ...  No Fuga  0.545455  0.454545\n",
              "325   0.540541  0.658537  0.333333  ...  No Fuga  0.363636  0.636364\n",
              "304   0.013514  0.682927  0.000000  ...     Fuga  0.727273  0.272727\n",
              "1034  0.432432  0.634146  0.000000  ...  No Fuga  0.818182  0.181818\n",
              "929   0.013514  0.512195  0.666667  ...     Fuga  0.727273  0.272727\n",
              "\n",
              "[5 rows x 23 columns]"
            ]
          },
          "metadata": {
            "tags": []
          },
          "execution_count": 40
        }
      ]
    },
    {
      "cell_type": "code",
      "metadata": {
        "colab": {
          "base_uri": "https://localhost:8080/",
          "height": 333
        },
        "id": "PM0B254kkewt",
        "outputId": "7e2f693a-e223-4158-9ed0-009baaf671e8"
      },
      "source": [
        "# @title Fijación de Umbral Probabilístico de Clases\n",
        "# definimos el umbral desde el cual diremos que una persona pertenece a una clase u otra\n",
        "threshold1t = 0.1\n",
        "# creamos nueva columna de predicción\n",
        "DFKNNt['Predict'] = np.where(DFKNNt['Fuga']>threshold1t, \"Fuga\", \"No Fuga\")\n",
        "# métricas\n",
        "print(f\"Accuracy  : {round(accuracy_score(DFKNNt['FUGA'], DFKNNt['Predict']),3)}\")\n",
        "print(f\"Precision : {round(precision_score(DFKNNt['FUGA'], DFKNNt['Predict'], average='macro'),3)}\")\n",
        "print(f\"Recall    : {round(recall_score(DFKNNt['FUGA'], DFKNNt['Predict'], average='macro'),3)}\")\n",
        "DFKNNt.head()"
      ],
      "execution_count": null,
      "outputs": [
        {
          "output_type": "stream",
          "text": [
            "Accuracy  : 0.475\n",
            "Precision : 0.237\n",
            "Recall    : 0.5\n"
          ],
          "name": "stdout"
        },
        {
          "output_type": "execute_result",
          "data": {
            "text/html": [
              "<div>\n",
              "<style scoped>\n",
              "    .dataframe tbody tr th:only-of-type {\n",
              "        vertical-align: middle;\n",
              "    }\n",
              "\n",
              "    .dataframe tbody tr th {\n",
              "        vertical-align: top;\n",
              "    }\n",
              "\n",
              "    .dataframe thead th {\n",
              "        text-align: right;\n",
              "    }\n",
              "</style>\n",
              "<table border=\"1\" class=\"dataframe\">\n",
              "  <thead>\n",
              "    <tr style=\"text-align: right;\">\n",
              "      <th></th>\n",
              "      <th>CIUDAD</th>\n",
              "      <th>EDAD</th>\n",
              "      <th>E_CIVIL</th>\n",
              "      <th>Frecuencia</th>\n",
              "      <th>GENERO</th>\n",
              "      <th>ID</th>\n",
              "      <th>MONTO</th>\n",
              "      <th>M_MOROSO</th>\n",
              "      <th>NIV_EDUC</th>\n",
              "      <th>Recency</th>\n",
              "      <th>SEGURO</th>\n",
              "      <th>Unnamed: 0</th>\n",
              "      <th>logDMax/Renta</th>\n",
              "      <th>logMTD/Renta</th>\n",
              "      <th>logVM_AbrilMarzo</th>\n",
              "      <th>logVM_AgostoJulio</th>\n",
              "      <th>logVM_JulioJunio</th>\n",
              "      <th>logVM_JunioMayo</th>\n",
              "      <th>logVM_MayoAbril</th>\n",
              "      <th>logVM_SeptiembreAgosto</th>\n",
              "      <th>FUGA</th>\n",
              "      <th>Fuga</th>\n",
              "      <th>No Fuga</th>\n",
              "      <th>Predict</th>\n",
              "    </tr>\n",
              "  </thead>\n",
              "  <tbody>\n",
              "    <tr>\n",
              "      <th>508</th>\n",
              "      <td>0.013514</td>\n",
              "      <td>0.780488</td>\n",
              "      <td>0.333333</td>\n",
              "      <td>0.571429</td>\n",
              "      <td>0.0</td>\n",
              "      <td>0.221544</td>\n",
              "      <td>0.213333</td>\n",
              "      <td>0.333333</td>\n",
              "      <td>1.0</td>\n",
              "      <td>1.0</td>\n",
              "      <td>1.0</td>\n",
              "      <td>508</td>\n",
              "      <td>0.057893</td>\n",
              "      <td>0.060928</td>\n",
              "      <td>0.637769</td>\n",
              "      <td>0.009337</td>\n",
              "      <td>0.000003</td>\n",
              "      <td>0.748740</td>\n",
              "      <td>2.995236e-06</td>\n",
              "      <td>0.407134</td>\n",
              "      <td>No Fuga</td>\n",
              "      <td>0.545455</td>\n",
              "      <td>0.454545</td>\n",
              "      <td>Fuga</td>\n",
              "    </tr>\n",
              "    <tr>\n",
              "      <th>325</th>\n",
              "      <td>0.540541</td>\n",
              "      <td>0.658537</td>\n",
              "      <td>0.333333</td>\n",
              "      <td>0.000000</td>\n",
              "      <td>1.0</td>\n",
              "      <td>0.141736</td>\n",
              "      <td>0.200000</td>\n",
              "      <td>0.000000</td>\n",
              "      <td>0.6</td>\n",
              "      <td>0.0</td>\n",
              "      <td>1.0</td>\n",
              "      <td>325</td>\n",
              "      <td>0.320478</td>\n",
              "      <td>0.000000</td>\n",
              "      <td>0.044663</td>\n",
              "      <td>0.061473</td>\n",
              "      <td>0.075726</td>\n",
              "      <td>0.041155</td>\n",
              "      <td>4.143709e-02</td>\n",
              "      <td>0.058642</td>\n",
              "      <td>No Fuga</td>\n",
              "      <td>0.363636</td>\n",
              "      <td>0.636364</td>\n",
              "      <td>Fuga</td>\n",
              "    </tr>\n",
              "    <tr>\n",
              "      <th>304</th>\n",
              "      <td>0.013514</td>\n",
              "      <td>0.682927</td>\n",
              "      <td>0.000000</td>\n",
              "      <td>0.857143</td>\n",
              "      <td>0.0</td>\n",
              "      <td>0.132577</td>\n",
              "      <td>0.493333</td>\n",
              "      <td>0.333333</td>\n",
              "      <td>1.0</td>\n",
              "      <td>1.0</td>\n",
              "      <td>0.0</td>\n",
              "      <td>304</td>\n",
              "      <td>0.891262</td>\n",
              "      <td>0.896149</td>\n",
              "      <td>0.000104</td>\n",
              "      <td>0.430705</td>\n",
              "      <td>0.000010</td>\n",
              "      <td>0.659855</td>\n",
              "      <td>2.388722e-05</td>\n",
              "      <td>0.027990</td>\n",
              "      <td>Fuga</td>\n",
              "      <td>0.727273</td>\n",
              "      <td>0.272727</td>\n",
              "      <td>Fuga</td>\n",
              "    </tr>\n",
              "    <tr>\n",
              "      <th>1034</th>\n",
              "      <td>0.432432</td>\n",
              "      <td>0.634146</td>\n",
              "      <td>0.000000</td>\n",
              "      <td>0.571429</td>\n",
              "      <td>0.0</td>\n",
              "      <td>0.450938</td>\n",
              "      <td>1.000000</td>\n",
              "      <td>0.666667</td>\n",
              "      <td>0.6</td>\n",
              "      <td>1.0</td>\n",
              "      <td>0.0</td>\n",
              "      <td>1034</td>\n",
              "      <td>0.062439</td>\n",
              "      <td>0.076647</td>\n",
              "      <td>0.746625</td>\n",
              "      <td>0.001411</td>\n",
              "      <td>0.000018</td>\n",
              "      <td>0.762699</td>\n",
              "      <td>5.441383e-07</td>\n",
              "      <td>0.740365</td>\n",
              "      <td>No Fuga</td>\n",
              "      <td>0.818182</td>\n",
              "      <td>0.181818</td>\n",
              "      <td>Fuga</td>\n",
              "    </tr>\n",
              "    <tr>\n",
              "      <th>929</th>\n",
              "      <td>0.013514</td>\n",
              "      <td>0.512195</td>\n",
              "      <td>0.666667</td>\n",
              "      <td>0.571429</td>\n",
              "      <td>0.0</td>\n",
              "      <td>0.405146</td>\n",
              "      <td>0.840000</td>\n",
              "      <td>0.666667</td>\n",
              "      <td>1.0</td>\n",
              "      <td>1.0</td>\n",
              "      <td>0.0</td>\n",
              "      <td>929</td>\n",
              "      <td>0.008030</td>\n",
              "      <td>0.008275</td>\n",
              "      <td>0.537420</td>\n",
              "      <td>0.000518</td>\n",
              "      <td>0.000130</td>\n",
              "      <td>0.703938</td>\n",
              "      <td>1.425839e-05</td>\n",
              "      <td>0.475820</td>\n",
              "      <td>Fuga</td>\n",
              "      <td>0.727273</td>\n",
              "      <td>0.272727</td>\n",
              "      <td>Fuga</td>\n",
              "    </tr>\n",
              "  </tbody>\n",
              "</table>\n",
              "</div>"
            ],
            "text/plain": [
              "        CIUDAD      EDAD   E_CIVIL  ...      Fuga   No Fuga  Predict\n",
              "508   0.013514  0.780488  0.333333  ...  0.545455  0.454545     Fuga\n",
              "325   0.540541  0.658537  0.333333  ...  0.363636  0.636364     Fuga\n",
              "304   0.013514  0.682927  0.000000  ...  0.727273  0.272727     Fuga\n",
              "1034  0.432432  0.634146  0.000000  ...  0.818182  0.181818     Fuga\n",
              "929   0.013514  0.512195  0.666667  ...  0.727273  0.272727     Fuga\n",
              "\n",
              "[5 rows x 24 columns]"
            ]
          },
          "metadata": {
            "tags": []
          },
          "execution_count": 41
        }
      ]
    },
    {
      "cell_type": "markdown",
      "metadata": {
        "id": "UJEzJB7Ufnad"
      },
      "source": [
        "Considerando inicialmente un punto intermedio para el corte de ambas clases, en el que el umbral es 0.5, se obtienen las métricas de desempeño recién expuestas."
      ]
    },
    {
      "cell_type": "code",
      "metadata": {
        "colab": {
          "base_uri": "https://localhost:8080/",
          "height": 538
        },
        "id": "qrh37MC5kewt",
        "outputId": "04d69ba7-7d18-471f-90be-d30070b29c90"
      },
      "source": [
        "plt.figure(figsize=(16, 8))\n",
        "# Probabilidad estimada para caer en default, para ambas poblaciones\n",
        "ax = sns.histplot(x = \"Fuga\" , hue='FUGA', data = DFKNNt, kde=False, bins=30, palette='dark')\n",
        "plt.title('Distribución de Probabilidad por Clase', fontsize=16)\n",
        "ax.set_xlabel('Probabilidad', fontsize=15)\n",
        "ax.set_ylabel('Frecuencia', fontsize=15)\n",
        "# marcar zona en predict = NO\n",
        "ax.axvline(x=threshold1t, color='r')\n",
        "ax.axvspan(0,threshold1t, color='#EF9A9A', alpha=0.3)"
      ],
      "execution_count": null,
      "outputs": [
        {
          "output_type": "execute_result",
          "data": {
            "text/plain": [
              "<matplotlib.patches.Polygon at 0x7f93f136be50>"
            ]
          },
          "metadata": {
            "tags": []
          },
          "execution_count": 42
        },
        {
          "output_type": "display_data",
          "data": {
            "image/png": "[encoded data removed]",
            "text/plain": [
              "<Figure size 1152x576 with 1 Axes>"
            ]
          },
          "metadata": {
            "tags": [],
            "needs_background": "light"
          }
        }
      ]
    },
    {
      "cell_type": "markdown",
      "metadata": {
        "id": "bAyzUA_ngJqG"
      },
      "source": [
        "De la distribución de casos con y sin default recién mostrada, se exploran algunas variaciones para el umbral de corte de clases, llegando a la definición de que este se establece en 0.1."
      ]
    },
    {
      "cell_type": "code",
      "metadata": {
        "colab": {
          "base_uri": "https://localhost:8080/",
          "height": 285
        },
        "id": "GjQyh3_Bkewu",
        "outputId": "aa78c1d6-d508-41f5-a92b-ffe7660d5f5e"
      },
      "source": [
        "# @title Gráfico ROC\n",
        "metrics.plot_roc_curve(KNNauct, X_test, y_test)\n",
        "plt.show()"
      ],
      "execution_count": null,
      "outputs": [
        {
          "output_type": "display_data",
          "data": {
            "image/png": "[encoded data removed]",
            "text/plain": [
              "<Figure size 432x288 with 1 Axes>"
            ]
          },
          "metadata": {
            "tags": [],
            "needs_background": "light"
          }
        }
      ]
    },
    {
      "cell_type": "markdown",
      "metadata": {
        "id": "k0VJh8K9guQ8"
      },
      "source": [
        "Podemos observar que la curva ROC para KNN tiene un comportamiento casi lineal, entregando un AUC igual a 0.52, lo que no indica un modelo bastante deficiente en sus predicciones entregadas sobre la base de datos utilizada."
      ]
    },
    {
      "cell_type": "code",
      "metadata": {
        "id": "Yo9GGb7ZUc7z",
        "colab": {
          "base_uri": "https://localhost:8080/",
          "height": 436
        },
        "outputId": "066f70ef-5e6e-49d4-af49-57870c9a012b"
      },
      "source": [
        "get_cm(DFKNNt['FUGA'], DFKNNt['Predict'])"
      ],
      "execution_count": null,
      "outputs": [
        {
          "output_type": "execute_result",
          "data": {
            "image/png": "[encoded data removed]",
            "text/plain": [
              "<Figure size 432x432 with 2 Axes>"
            ]
          },
          "metadata": {
            "tags": []
          },
          "execution_count": 44
        }
      ]
    },
    {
      "cell_type": "code",
      "metadata": {
        "colab": {
          "base_uri": "https://localhost:8080/"
        },
        "id": "U8IuFFsHJwIJ",
        "outputId": "a2f81041-81ff-4a51-d14a-ae517e2c9d93"
      },
      "source": [
        "# Positivo = Fuga\n",
        "# Negativo = No FUga\n",
        "tp = 218\n",
        "fn = 0\n",
        "fp = 241\n",
        "tn = 0\n",
        "FB = 1000 * tp - 100 * fp - 5000 * fn + 0 * tn\n",
        "FB"
      ],
      "execution_count": null,
      "outputs": [
        {
          "output_type": "execute_result",
          "data": {
            "text/plain": [
              "193900"
            ]
          },
          "metadata": {
            "tags": []
          },
          "execution_count": 72
        }
      ]
    },
    {
      "cell_type": "markdown",
      "metadata": {
        "id": "V-U3LxfPOPkQ"
      },
      "source": [
        "TP: true positive (predice fuga y en realidad fuga) \\\\\n",
        "TN: true negative (predice no fuga y en realidad no fuga) \\\\\n",
        "FP: false positive (predice fuga y en realidad no fuga) \\\\\n",
        "FN: false negative (predice no fuga y en realidad fuga)"
      ]
    },
    {
      "cell_type": "markdown",
      "metadata": {
        "id": "7cScEYWLkewu"
      },
      "source": [
        "###### Modelo Árbol de Decisión"
      ]
    },
    {
      "cell_type": "code",
      "metadata": {
        "colab": {
          "base_uri": "https://localhost:8080/",
          "height": 285
        },
        "id": "FAlkay1ekewv",
        "outputId": "7b874c49-0f5b-4d9c-d586-6e0d4c859e71"
      },
      "source": [
        "# @title Determinación de Probabilidades de Predicción según Clases\n",
        "# Entrenamos Árbol de Decisión con mejor configuración\n",
        "TREEauct = DecisionTreeClassifier(random_state=0, max_depth = 6).fit(X_train,y_train)\n",
        "# Calcular Probabilidades de Predicción\n",
        "DFTREEt = DFTest.copy()\n",
        "DFTREEt[['Fuga','No Fuga']] = TREEauct.predict_proba(X_test)\n",
        "DFTREEt.head()"
      ],
      "execution_count": null,
      "outputs": [
        {
          "output_type": "execute_result",
          "data": {
            "text/html": [
              "<div>\n",
              "<style scoped>\n",
              "    .dataframe tbody tr th:only-of-type {\n",
              "        vertical-align: middle;\n",
              "    }\n",
              "\n",
              "    .dataframe tbody tr th {\n",
              "        vertical-align: top;\n",
              "    }\n",
              "\n",
              "    .dataframe thead th {\n",
              "        text-align: right;\n",
              "    }\n",
              "</style>\n",
              "<table border=\"1\" class=\"dataframe\">\n",
              "  <thead>\n",
              "    <tr style=\"text-align: right;\">\n",
              "      <th></th>\n",
              "      <th>CIUDAD</th>\n",
              "      <th>EDAD</th>\n",
              "      <th>E_CIVIL</th>\n",
              "      <th>Frecuencia</th>\n",
              "      <th>GENERO</th>\n",
              "      <th>ID</th>\n",
              "      <th>MONTO</th>\n",
              "      <th>M_MOROSO</th>\n",
              "      <th>NIV_EDUC</th>\n",
              "      <th>Recency</th>\n",
              "      <th>SEGURO</th>\n",
              "      <th>Unnamed: 0</th>\n",
              "      <th>logDMax/Renta</th>\n",
              "      <th>logMTD/Renta</th>\n",
              "      <th>logVM_AbrilMarzo</th>\n",
              "      <th>logVM_AgostoJulio</th>\n",
              "      <th>logVM_JulioJunio</th>\n",
              "      <th>logVM_JunioMayo</th>\n",
              "      <th>logVM_MayoAbril</th>\n",
              "      <th>logVM_SeptiembreAgosto</th>\n",
              "      <th>FUGA</th>\n",
              "      <th>Fuga</th>\n",
              "      <th>No Fuga</th>\n",
              "    </tr>\n",
              "  </thead>\n",
              "  <tbody>\n",
              "    <tr>\n",
              "      <th>508</th>\n",
              "      <td>0.013514</td>\n",
              "      <td>0.780488</td>\n",
              "      <td>0.333333</td>\n",
              "      <td>0.571429</td>\n",
              "      <td>0.0</td>\n",
              "      <td>0.221544</td>\n",
              "      <td>0.213333</td>\n",
              "      <td>0.333333</td>\n",
              "      <td>1.0</td>\n",
              "      <td>1.0</td>\n",
              "      <td>1.0</td>\n",
              "      <td>508</td>\n",
              "      <td>0.057893</td>\n",
              "      <td>0.060928</td>\n",
              "      <td>0.637769</td>\n",
              "      <td>0.009337</td>\n",
              "      <td>0.000003</td>\n",
              "      <td>0.748740</td>\n",
              "      <td>2.995236e-06</td>\n",
              "      <td>0.407134</td>\n",
              "      <td>No Fuga</td>\n",
              "      <td>0.946188</td>\n",
              "      <td>0.053812</td>\n",
              "    </tr>\n",
              "    <tr>\n",
              "      <th>325</th>\n",
              "      <td>0.540541</td>\n",
              "      <td>0.658537</td>\n",
              "      <td>0.333333</td>\n",
              "      <td>0.000000</td>\n",
              "      <td>1.0</td>\n",
              "      <td>0.141736</td>\n",
              "      <td>0.200000</td>\n",
              "      <td>0.000000</td>\n",
              "      <td>0.6</td>\n",
              "      <td>0.0</td>\n",
              "      <td>1.0</td>\n",
              "      <td>325</td>\n",
              "      <td>0.320478</td>\n",
              "      <td>0.000000</td>\n",
              "      <td>0.044663</td>\n",
              "      <td>0.061473</td>\n",
              "      <td>0.075726</td>\n",
              "      <td>0.041155</td>\n",
              "      <td>4.143709e-02</td>\n",
              "      <td>0.058642</td>\n",
              "      <td>No Fuga</td>\n",
              "      <td>0.000000</td>\n",
              "      <td>1.000000</td>\n",
              "    </tr>\n",
              "    <tr>\n",
              "      <th>304</th>\n",
              "      <td>0.013514</td>\n",
              "      <td>0.682927</td>\n",
              "      <td>0.000000</td>\n",
              "      <td>0.857143</td>\n",
              "      <td>0.0</td>\n",
              "      <td>0.132577</td>\n",
              "      <td>0.493333</td>\n",
              "      <td>0.333333</td>\n",
              "      <td>1.0</td>\n",
              "      <td>1.0</td>\n",
              "      <td>0.0</td>\n",
              "      <td>304</td>\n",
              "      <td>0.891262</td>\n",
              "      <td>0.896149</td>\n",
              "      <td>0.000104</td>\n",
              "      <td>0.430705</td>\n",
              "      <td>0.000010</td>\n",
              "      <td>0.659855</td>\n",
              "      <td>2.388722e-05</td>\n",
              "      <td>0.027990</td>\n",
              "      <td>Fuga</td>\n",
              "      <td>0.946188</td>\n",
              "      <td>0.053812</td>\n",
              "    </tr>\n",
              "    <tr>\n",
              "      <th>1034</th>\n",
              "      <td>0.432432</td>\n",
              "      <td>0.634146</td>\n",
              "      <td>0.000000</td>\n",
              "      <td>0.571429</td>\n",
              "      <td>0.0</td>\n",
              "      <td>0.450938</td>\n",
              "      <td>1.000000</td>\n",
              "      <td>0.666667</td>\n",
              "      <td>0.6</td>\n",
              "      <td>1.0</td>\n",
              "      <td>0.0</td>\n",
              "      <td>1034</td>\n",
              "      <td>0.062439</td>\n",
              "      <td>0.076647</td>\n",
              "      <td>0.746625</td>\n",
              "      <td>0.001411</td>\n",
              "      <td>0.000018</td>\n",
              "      <td>0.762699</td>\n",
              "      <td>5.441383e-07</td>\n",
              "      <td>0.740365</td>\n",
              "      <td>No Fuga</td>\n",
              "      <td>0.000000</td>\n",
              "      <td>1.000000</td>\n",
              "    </tr>\n",
              "    <tr>\n",
              "      <th>929</th>\n",
              "      <td>0.013514</td>\n",
              "      <td>0.512195</td>\n",
              "      <td>0.666667</td>\n",
              "      <td>0.571429</td>\n",
              "      <td>0.0</td>\n",
              "      <td>0.405146</td>\n",
              "      <td>0.840000</td>\n",
              "      <td>0.666667</td>\n",
              "      <td>1.0</td>\n",
              "      <td>1.0</td>\n",
              "      <td>0.0</td>\n",
              "      <td>929</td>\n",
              "      <td>0.008030</td>\n",
              "      <td>0.008275</td>\n",
              "      <td>0.537420</td>\n",
              "      <td>0.000518</td>\n",
              "      <td>0.000130</td>\n",
              "      <td>0.703938</td>\n",
              "      <td>1.425839e-05</td>\n",
              "      <td>0.475820</td>\n",
              "      <td>Fuga</td>\n",
              "      <td>0.733333</td>\n",
              "      <td>0.266667</td>\n",
              "    </tr>\n",
              "  </tbody>\n",
              "</table>\n",
              "</div>"
            ],
            "text/plain": [
              "        CIUDAD      EDAD   E_CIVIL  ...     FUGA      Fuga   No Fuga\n",
              "508   0.013514  0.780488  0.333333  ...  No Fuga  0.946188  0.053812\n",
              "325   0.540541  0.658537  0.333333  ...  No Fuga  0.000000  1.000000\n",
              "304   0.013514  0.682927  0.000000  ...     Fuga  0.946188  0.053812\n",
              "1034  0.432432  0.634146  0.000000  ...  No Fuga  0.000000  1.000000\n",
              "929   0.013514  0.512195  0.666667  ...     Fuga  0.733333  0.266667\n",
              "\n",
              "[5 rows x 23 columns]"
            ]
          },
          "metadata": {
            "tags": []
          },
          "execution_count": 46
        }
      ]
    },
    {
      "cell_type": "code",
      "metadata": {
        "colab": {
          "base_uri": "https://localhost:8080/",
          "height": 333
        },
        "id": "RUOo9c16kewv",
        "outputId": "f758800d-78c0-4634-e9d2-1a5693bc2412"
      },
      "source": [
        "# @title Fijación de Umbral Probabilístico de Clases\n",
        "# definimos el umbral desde el cual diremos que una persona pertenece a una clase u otra\n",
        "threshold2t = 0.0\n",
        "# creamos nueva columna de predicción\n",
        "DFTREEt['Predict'] = np.where(DFTREEt['Fuga']>threshold2t, \"Fuga\", \"No Fuga\")\n",
        "# métricas\n",
        "print(f\"Accuracy  : {round(accuracy_score(DFTREEt['FUGA'], DFTREEt['Predict']),3)}\")\n",
        "print(f\"Precision : {round(precision_score(DFTREEt['FUGA'], DFTREEt['Predict'], average='macro'),3)}\")\n",
        "print(f\"Recall    : {round(recall_score(DFTREEt['FUGA'], DFTREEt['Predict'], average='macro'),3)}\")\n",
        "DFTREEt.head()"
      ],
      "execution_count": null,
      "outputs": [
        {
          "output_type": "stream",
          "text": [
            "Accuracy  : 0.769\n",
            "Precision : 0.833\n",
            "Recall    : 0.78\n"
          ],
          "name": "stdout"
        },
        {
          "output_type": "execute_result",
          "data": {
            "text/html": [
              "<div>\n",
              "<style scoped>\n",
              "    .dataframe tbody tr th:only-of-type {\n",
              "        vertical-align: middle;\n",
              "    }\n",
              "\n",
              "    .dataframe tbody tr th {\n",
              "        vertical-align: top;\n",
              "    }\n",
              "\n",
              "    .dataframe thead th {\n",
              "        text-align: right;\n",
              "    }\n",
              "</style>\n",
              "<table border=\"1\" class=\"dataframe\">\n",
              "  <thead>\n",
              "    <tr style=\"text-align: right;\">\n",
              "      <th></th>\n",
              "      <th>CIUDAD</th>\n",
              "      <th>EDAD</th>\n",
              "      <th>E_CIVIL</th>\n",
              "      <th>Frecuencia</th>\n",
              "      <th>GENERO</th>\n",
              "      <th>ID</th>\n",
              "      <th>MONTO</th>\n",
              "      <th>M_MOROSO</th>\n",
              "      <th>NIV_EDUC</th>\n",
              "      <th>Recency</th>\n",
              "      <th>SEGURO</th>\n",
              "      <th>Unnamed: 0</th>\n",
              "      <th>logDMax/Renta</th>\n",
              "      <th>logMTD/Renta</th>\n",
              "      <th>logVM_AbrilMarzo</th>\n",
              "      <th>logVM_AgostoJulio</th>\n",
              "      <th>logVM_JulioJunio</th>\n",
              "      <th>logVM_JunioMayo</th>\n",
              "      <th>logVM_MayoAbril</th>\n",
              "      <th>logVM_SeptiembreAgosto</th>\n",
              "      <th>FUGA</th>\n",
              "      <th>Fuga</th>\n",
              "      <th>No Fuga</th>\n",
              "      <th>Predict</th>\n",
              "    </tr>\n",
              "  </thead>\n",
              "  <tbody>\n",
              "    <tr>\n",
              "      <th>508</th>\n",
              "      <td>0.013514</td>\n",
              "      <td>0.780488</td>\n",
              "      <td>0.333333</td>\n",
              "      <td>0.571429</td>\n",
              "      <td>0.0</td>\n",
              "      <td>0.221544</td>\n",
              "      <td>0.213333</td>\n",
              "      <td>0.333333</td>\n",
              "      <td>1.0</td>\n",
              "      <td>1.0</td>\n",
              "      <td>1.0</td>\n",
              "      <td>508</td>\n",
              "      <td>0.057893</td>\n",
              "      <td>0.060928</td>\n",
              "      <td>0.637769</td>\n",
              "      <td>0.009337</td>\n",
              "      <td>0.000003</td>\n",
              "      <td>0.748740</td>\n",
              "      <td>2.995236e-06</td>\n",
              "      <td>0.407134</td>\n",
              "      <td>No Fuga</td>\n",
              "      <td>0.946188</td>\n",
              "      <td>0.053812</td>\n",
              "      <td>Fuga</td>\n",
              "    </tr>\n",
              "    <tr>\n",
              "      <th>325</th>\n",
              "      <td>0.540541</td>\n",
              "      <td>0.658537</td>\n",
              "      <td>0.333333</td>\n",
              "      <td>0.000000</td>\n",
              "      <td>1.0</td>\n",
              "      <td>0.141736</td>\n",
              "      <td>0.200000</td>\n",
              "      <td>0.000000</td>\n",
              "      <td>0.6</td>\n",
              "      <td>0.0</td>\n",
              "      <td>1.0</td>\n",
              "      <td>325</td>\n",
              "      <td>0.320478</td>\n",
              "      <td>0.000000</td>\n",
              "      <td>0.044663</td>\n",
              "      <td>0.061473</td>\n",
              "      <td>0.075726</td>\n",
              "      <td>0.041155</td>\n",
              "      <td>4.143709e-02</td>\n",
              "      <td>0.058642</td>\n",
              "      <td>No Fuga</td>\n",
              "      <td>0.000000</td>\n",
              "      <td>1.000000</td>\n",
              "      <td>No Fuga</td>\n",
              "    </tr>\n",
              "    <tr>\n",
              "      <th>304</th>\n",
              "      <td>0.013514</td>\n",
              "      <td>0.682927</td>\n",
              "      <td>0.000000</td>\n",
              "      <td>0.857143</td>\n",
              "      <td>0.0</td>\n",
              "      <td>0.132577</td>\n",
              "      <td>0.493333</td>\n",
              "      <td>0.333333</td>\n",
              "      <td>1.0</td>\n",
              "      <td>1.0</td>\n",
              "      <td>0.0</td>\n",
              "      <td>304</td>\n",
              "      <td>0.891262</td>\n",
              "      <td>0.896149</td>\n",
              "      <td>0.000104</td>\n",
              "      <td>0.430705</td>\n",
              "      <td>0.000010</td>\n",
              "      <td>0.659855</td>\n",
              "      <td>2.388722e-05</td>\n",
              "      <td>0.027990</td>\n",
              "      <td>Fuga</td>\n",
              "      <td>0.946188</td>\n",
              "      <td>0.053812</td>\n",
              "      <td>Fuga</td>\n",
              "    </tr>\n",
              "    <tr>\n",
              "      <th>1034</th>\n",
              "      <td>0.432432</td>\n",
              "      <td>0.634146</td>\n",
              "      <td>0.000000</td>\n",
              "      <td>0.571429</td>\n",
              "      <td>0.0</td>\n",
              "      <td>0.450938</td>\n",
              "      <td>1.000000</td>\n",
              "      <td>0.666667</td>\n",
              "      <td>0.6</td>\n",
              "      <td>1.0</td>\n",
              "      <td>0.0</td>\n",
              "      <td>1034</td>\n",
              "      <td>0.062439</td>\n",
              "      <td>0.076647</td>\n",
              "      <td>0.746625</td>\n",
              "      <td>0.001411</td>\n",
              "      <td>0.000018</td>\n",
              "      <td>0.762699</td>\n",
              "      <td>5.441383e-07</td>\n",
              "      <td>0.740365</td>\n",
              "      <td>No Fuga</td>\n",
              "      <td>0.000000</td>\n",
              "      <td>1.000000</td>\n",
              "      <td>No Fuga</td>\n",
              "    </tr>\n",
              "    <tr>\n",
              "      <th>929</th>\n",
              "      <td>0.013514</td>\n",
              "      <td>0.512195</td>\n",
              "      <td>0.666667</td>\n",
              "      <td>0.571429</td>\n",
              "      <td>0.0</td>\n",
              "      <td>0.405146</td>\n",
              "      <td>0.840000</td>\n",
              "      <td>0.666667</td>\n",
              "      <td>1.0</td>\n",
              "      <td>1.0</td>\n",
              "      <td>0.0</td>\n",
              "      <td>929</td>\n",
              "      <td>0.008030</td>\n",
              "      <td>0.008275</td>\n",
              "      <td>0.537420</td>\n",
              "      <td>0.000518</td>\n",
              "      <td>0.000130</td>\n",
              "      <td>0.703938</td>\n",
              "      <td>1.425839e-05</td>\n",
              "      <td>0.475820</td>\n",
              "      <td>Fuga</td>\n",
              "      <td>0.733333</td>\n",
              "      <td>0.266667</td>\n",
              "      <td>Fuga</td>\n",
              "    </tr>\n",
              "  </tbody>\n",
              "</table>\n",
              "</div>"
            ],
            "text/plain": [
              "        CIUDAD      EDAD   E_CIVIL  ...      Fuga   No Fuga  Predict\n",
              "508   0.013514  0.780488  0.333333  ...  0.946188  0.053812     Fuga\n",
              "325   0.540541  0.658537  0.333333  ...  0.000000  1.000000  No Fuga\n",
              "304   0.013514  0.682927  0.000000  ...  0.946188  0.053812     Fuga\n",
              "1034  0.432432  0.634146  0.000000  ...  0.000000  1.000000  No Fuga\n",
              "929   0.013514  0.512195  0.666667  ...  0.733333  0.266667     Fuga\n",
              "\n",
              "[5 rows x 24 columns]"
            ]
          },
          "metadata": {
            "tags": []
          },
          "execution_count": 47
        }
      ]
    },
    {
      "cell_type": "markdown",
      "metadata": {
        "id": "COgUAKj3hnkl"
      },
      "source": [
        "Partiendo desde un umbral de corte de clases igual a 0.5, se revisa la distribución de casos y se define cambiar el valor de la probabilidad de corte a 0.0, reduciendo errores de asignación de clases para los casos que realmente se fugan."
      ]
    },
    {
      "cell_type": "code",
      "metadata": {
        "colab": {
          "base_uri": "https://localhost:8080/",
          "height": 538
        },
        "id": "-JCudflhkeww",
        "outputId": "50f9dbf5-a899-415d-ad10-5dcb4d75b693"
      },
      "source": [
        "plt.figure(figsize=(16, 8))\n",
        "# Probabilidad estimada de tener diabetes, para ambas poblaciones\n",
        "ax = sns.histplot(x = \"Fuga\" , hue='FUGA', data = DFTREEt, kde=False, bins=20, palette='dark')\n",
        "plt.title('Distribución de Probabilidad por Clase', fontsize=16)\n",
        "ax.set_xlabel('Probabilidad', fontsize=15)\n",
        "ax.set_ylabel('Frecuencia', fontsize=15)\n",
        "# marcar zona en predict = NO\n",
        "ax.axvline(x=threshold2t, color='r')\n",
        "ax.axvspan(0,threshold2t, color='#EF9A9A', alpha=0.3)"
      ],
      "execution_count": null,
      "outputs": [
        {
          "output_type": "execute_result",
          "data": {
            "text/plain": [
              "<matplotlib.patches.Polygon at 0x7f93f10bad50>"
            ]
          },
          "metadata": {
            "tags": []
          },
          "execution_count": 48
        },
        {
          "output_type": "display_data",
          "data": {
            "image/png": "[encoded data removed]",
            "text/plain": [
              "<Figure size 1152x576 with 1 Axes>"
            ]
          },
          "metadata": {
            "tags": [],
            "needs_background": "light"
          }
        }
      ]
    },
    {
      "cell_type": "code",
      "metadata": {
        "colab": {
          "base_uri": "https://localhost:8080/",
          "height": 285
        },
        "id": "i5KUb6V-keww",
        "outputId": "9914a320-2439-4005-bc13-aee4b3056d27"
      },
      "source": [
        "# @title Gráfico ROC\n",
        "metrics.plot_roc_curve(TREEauct, X_test, y_test)\n",
        "plt.show()"
      ],
      "execution_count": null,
      "outputs": [
        {
          "output_type": "display_data",
          "data": {
            "image/png": "[encoded data removed]",
            "text/plain": [
              "<Figure size 432x288 with 1 Axes>"
            ]
          },
          "metadata": {
            "tags": [],
            "needs_background": "light"
          }
        }
      ]
    },
    {
      "cell_type": "markdown",
      "metadata": {
        "id": "jru9kcMDiZZj"
      },
      "source": [
        "En la curva ROC anterior se obtiene un AUC igual a 0.95 para el modelo Árbol de Decisión en el conjunto de Testeo, lo que representa un resultado de alto desempeño para el distinto abanico de umbrales de corte posibles. De este modo, tenemos un modelo que funciona de buena manera, sin haber caído en sobreajuste."
      ]
    },
    {
      "cell_type": "code",
      "metadata": {
        "id": "1ra2C4CkVkZZ",
        "colab": {
          "base_uri": "https://localhost:8080/",
          "height": 436
        },
        "outputId": "7a89af88-4121-4c0f-aced-1412d0798df6"
      },
      "source": [
        "get_cm(DFTREEt['FUGA'], DFTREEt['Predict'])"
      ],
      "execution_count": null,
      "outputs": [
        {
          "output_type": "execute_result",
          "data": {
            "image/png": "[encoded data removed]",
            "text/plain": [
              "<Figure size 432x432 with 2 Axes>"
            ]
          },
          "metadata": {
            "tags": []
          },
          "execution_count": 50
        }
      ]
    },
    {
      "cell_type": "code",
      "metadata": {
        "colab": {
          "base_uri": "https://localhost:8080/"
        },
        "id": "t0n3LIcITvZi",
        "outputId": "85031474-81d4-4caa-a9bc-b3abfcd0e693"
      },
      "source": [
        "tp1 = 217\n",
        "fn1 = 1\n",
        "fp1 = 105\n",
        "tn1 = 136\n",
        "FB1 = (1000 * tp1) +(-100 * fp1) + (-5000 * fn1) + (0 * tn1)\n",
        "FB1"
      ],
      "execution_count": null,
      "outputs": [
        {
          "output_type": "execute_result",
          "data": {
            "text/plain": [
              "201500"
            ]
          },
          "metadata": {
            "tags": []
          },
          "execution_count": 73
        }
      ]
    },
    {
      "cell_type": "code",
      "metadata": {
        "id": "A1I6QO14YfMn"
      },
      "source": [
        ""
      ],
      "execution_count": null,
      "outputs": []
    },
    {
      "cell_type": "markdown",
      "metadata": {
        "id": "kvlkCAFAkewx"
      },
      "source": [
        "###### Modelo SVM"
      ]
    },
    {
      "cell_type": "code",
      "metadata": {
        "colab": {
          "base_uri": "https://localhost:8080/",
          "height": 285
        },
        "id": "s0Y_6pj3kewx",
        "outputId": "f38c7555-05fe-4cb7-ca03-389c7d5b8925"
      },
      "source": [
        "# @title Determinación de Probabilidades de Predicción según Clases\n",
        "# Entrenamos SVM con mejor configuración\n",
        "SVMauct = SVC(random_state=0, C=0.75, kernel='linear', probability=True).fit(X_train,y_train)\n",
        "# Calcular Probabilidades de Predicción\n",
        "DFSVMt = DFTest.copy()\n",
        "DFSVMt[['Fuga','No Fuga']] = SVMauct.predict_proba(X_test)\n",
        "DFSVMt.head()"
      ],
      "execution_count": null,
      "outputs": [
        {
          "output_type": "execute_result",
          "data": {
            "text/html": [
              "<div>\n",
              "<style scoped>\n",
              "    .dataframe tbody tr th:only-of-type {\n",
              "        vertical-align: middle;\n",
              "    }\n",
              "\n",
              "    .dataframe tbody tr th {\n",
              "        vertical-align: top;\n",
              "    }\n",
              "\n",
              "    .dataframe thead th {\n",
              "        text-align: right;\n",
              "    }\n",
              "</style>\n",
              "<table border=\"1\" class=\"dataframe\">\n",
              "  <thead>\n",
              "    <tr style=\"text-align: right;\">\n",
              "      <th></th>\n",
              "      <th>CIUDAD</th>\n",
              "      <th>EDAD</th>\n",
              "      <th>E_CIVIL</th>\n",
              "      <th>Frecuencia</th>\n",
              "      <th>GENERO</th>\n",
              "      <th>ID</th>\n",
              "      <th>MONTO</th>\n",
              "      <th>M_MOROSO</th>\n",
              "      <th>NIV_EDUC</th>\n",
              "      <th>Recency</th>\n",
              "      <th>SEGURO</th>\n",
              "      <th>Unnamed: 0</th>\n",
              "      <th>logDMax/Renta</th>\n",
              "      <th>logMTD/Renta</th>\n",
              "      <th>logVM_AbrilMarzo</th>\n",
              "      <th>logVM_AgostoJulio</th>\n",
              "      <th>logVM_JulioJunio</th>\n",
              "      <th>logVM_JunioMayo</th>\n",
              "      <th>logVM_MayoAbril</th>\n",
              "      <th>logVM_SeptiembreAgosto</th>\n",
              "      <th>FUGA</th>\n",
              "      <th>Fuga</th>\n",
              "      <th>No Fuga</th>\n",
              "    </tr>\n",
              "  </thead>\n",
              "  <tbody>\n",
              "    <tr>\n",
              "      <th>508</th>\n",
              "      <td>0.013514</td>\n",
              "      <td>0.780488</td>\n",
              "      <td>0.333333</td>\n",
              "      <td>0.571429</td>\n",
              "      <td>0.0</td>\n",
              "      <td>0.221544</td>\n",
              "      <td>0.213333</td>\n",
              "      <td>0.333333</td>\n",
              "      <td>1.0</td>\n",
              "      <td>1.0</td>\n",
              "      <td>1.0</td>\n",
              "      <td>508</td>\n",
              "      <td>0.057893</td>\n",
              "      <td>0.060928</td>\n",
              "      <td>0.637769</td>\n",
              "      <td>0.009337</td>\n",
              "      <td>0.000003</td>\n",
              "      <td>0.748740</td>\n",
              "      <td>2.995236e-06</td>\n",
              "      <td>0.407134</td>\n",
              "      <td>No Fuga</td>\n",
              "      <td>0.961884</td>\n",
              "      <td>0.038116</td>\n",
              "    </tr>\n",
              "    <tr>\n",
              "      <th>325</th>\n",
              "      <td>0.540541</td>\n",
              "      <td>0.658537</td>\n",
              "      <td>0.333333</td>\n",
              "      <td>0.000000</td>\n",
              "      <td>1.0</td>\n",
              "      <td>0.141736</td>\n",
              "      <td>0.200000</td>\n",
              "      <td>0.000000</td>\n",
              "      <td>0.6</td>\n",
              "      <td>0.0</td>\n",
              "      <td>1.0</td>\n",
              "      <td>325</td>\n",
              "      <td>0.320478</td>\n",
              "      <td>0.000000</td>\n",
              "      <td>0.044663</td>\n",
              "      <td>0.061473</td>\n",
              "      <td>0.075726</td>\n",
              "      <td>0.041155</td>\n",
              "      <td>4.143709e-02</td>\n",
              "      <td>0.058642</td>\n",
              "      <td>No Fuga</td>\n",
              "      <td>0.000017</td>\n",
              "      <td>0.999983</td>\n",
              "    </tr>\n",
              "    <tr>\n",
              "      <th>304</th>\n",
              "      <td>0.013514</td>\n",
              "      <td>0.682927</td>\n",
              "      <td>0.000000</td>\n",
              "      <td>0.857143</td>\n",
              "      <td>0.0</td>\n",
              "      <td>0.132577</td>\n",
              "      <td>0.493333</td>\n",
              "      <td>0.333333</td>\n",
              "      <td>1.0</td>\n",
              "      <td>1.0</td>\n",
              "      <td>0.0</td>\n",
              "      <td>304</td>\n",
              "      <td>0.891262</td>\n",
              "      <td>0.896149</td>\n",
              "      <td>0.000104</td>\n",
              "      <td>0.430705</td>\n",
              "      <td>0.000010</td>\n",
              "      <td>0.659855</td>\n",
              "      <td>2.388722e-05</td>\n",
              "      <td>0.027990</td>\n",
              "      <td>Fuga</td>\n",
              "      <td>0.949186</td>\n",
              "      <td>0.050814</td>\n",
              "    </tr>\n",
              "    <tr>\n",
              "      <th>1034</th>\n",
              "      <td>0.432432</td>\n",
              "      <td>0.634146</td>\n",
              "      <td>0.000000</td>\n",
              "      <td>0.571429</td>\n",
              "      <td>0.0</td>\n",
              "      <td>0.450938</td>\n",
              "      <td>1.000000</td>\n",
              "      <td>0.666667</td>\n",
              "      <td>0.6</td>\n",
              "      <td>1.0</td>\n",
              "      <td>0.0</td>\n",
              "      <td>1034</td>\n",
              "      <td>0.062439</td>\n",
              "      <td>0.076647</td>\n",
              "      <td>0.746625</td>\n",
              "      <td>0.001411</td>\n",
              "      <td>0.000018</td>\n",
              "      <td>0.762699</td>\n",
              "      <td>5.441383e-07</td>\n",
              "      <td>0.740365</td>\n",
              "      <td>No Fuga</td>\n",
              "      <td>0.223871</td>\n",
              "      <td>0.776129</td>\n",
              "    </tr>\n",
              "    <tr>\n",
              "      <th>929</th>\n",
              "      <td>0.013514</td>\n",
              "      <td>0.512195</td>\n",
              "      <td>0.666667</td>\n",
              "      <td>0.571429</td>\n",
              "      <td>0.0</td>\n",
              "      <td>0.405146</td>\n",
              "      <td>0.840000</td>\n",
              "      <td>0.666667</td>\n",
              "      <td>1.0</td>\n",
              "      <td>1.0</td>\n",
              "      <td>0.0</td>\n",
              "      <td>929</td>\n",
              "      <td>0.008030</td>\n",
              "      <td>0.008275</td>\n",
              "      <td>0.537420</td>\n",
              "      <td>0.000518</td>\n",
              "      <td>0.000130</td>\n",
              "      <td>0.703938</td>\n",
              "      <td>1.425839e-05</td>\n",
              "      <td>0.475820</td>\n",
              "      <td>Fuga</td>\n",
              "      <td>0.896403</td>\n",
              "      <td>0.103597</td>\n",
              "    </tr>\n",
              "  </tbody>\n",
              "</table>\n",
              "</div>"
            ],
            "text/plain": [
              "        CIUDAD      EDAD   E_CIVIL  ...     FUGA      Fuga   No Fuga\n",
              "508   0.013514  0.780488  0.333333  ...  No Fuga  0.961884  0.038116\n",
              "325   0.540541  0.658537  0.333333  ...  No Fuga  0.000017  0.999983\n",
              "304   0.013514  0.682927  0.000000  ...     Fuga  0.949186  0.050814\n",
              "1034  0.432432  0.634146  0.000000  ...  No Fuga  0.223871  0.776129\n",
              "929   0.013514  0.512195  0.666667  ...     Fuga  0.896403  0.103597\n",
              "\n",
              "[5 rows x 23 columns]"
            ]
          },
          "metadata": {
            "tags": []
          },
          "execution_count": 52
        }
      ]
    },
    {
      "cell_type": "code",
      "metadata": {
        "id": "BngntCB6kewx",
        "colab": {
          "base_uri": "https://localhost:8080/",
          "height": 333
        },
        "outputId": "83ef8301-9073-4fa5-96c2-1bbc08fa35e2"
      },
      "source": [
        "# @title Fijación de Umbral Probabilístico de Clases\n",
        "# definimos el umbral desde el cual diremos que una persona pertenece a una clase u otra\n",
        "threshold3t = 0.06\n",
        "# creamos nueva columna de predicción\n",
        "DFSVMt['Predict'] = np.where(DFSVMt['Fuga']>threshold3t, \"Fuga\", \"No Fuga\")\n",
        "# métricas\n",
        "print(f\"Accuracy  : {round(accuracy_score(DFSVMt['FUGA'], DFSVMt['Predict']),3)}\")\n",
        "print(f\"Precision : {round(precision_score(DFSVMt['FUGA'], DFSVMt['Predict'], average='macro'),3)}\")\n",
        "print(f\"Recall    : {round(recall_score(DFSVMt['FUGA'], DFSVMt['Predict'], average='macro'),3)}\")\n",
        "DFSVMt.head()"
      ],
      "execution_count": null,
      "outputs": [
        {
          "output_type": "stream",
          "text": [
            "Accuracy  : 0.678\n",
            "Precision : 0.798\n",
            "Recall    : 0.693\n"
          ],
          "name": "stdout"
        },
        {
          "output_type": "execute_result",
          "data": {
            "text/html": [
              "<div>\n",
              "<style scoped>\n",
              "    .dataframe tbody tr th:only-of-type {\n",
              "        vertical-align: middle;\n",
              "    }\n",
              "\n",
              "    .dataframe tbody tr th {\n",
              "        vertical-align: top;\n",
              "    }\n",
              "\n",
              "    .dataframe thead th {\n",
              "        text-align: right;\n",
              "    }\n",
              "</style>\n",
              "<table border=\"1\" class=\"dataframe\">\n",
              "  <thead>\n",
              "    <tr style=\"text-align: right;\">\n",
              "      <th></th>\n",
              "      <th>CIUDAD</th>\n",
              "      <th>EDAD</th>\n",
              "      <th>E_CIVIL</th>\n",
              "      <th>Frecuencia</th>\n",
              "      <th>GENERO</th>\n",
              "      <th>ID</th>\n",
              "      <th>MONTO</th>\n",
              "      <th>M_MOROSO</th>\n",
              "      <th>NIV_EDUC</th>\n",
              "      <th>Recency</th>\n",
              "      <th>SEGURO</th>\n",
              "      <th>Unnamed: 0</th>\n",
              "      <th>logDMax/Renta</th>\n",
              "      <th>logMTD/Renta</th>\n",
              "      <th>logVM_AbrilMarzo</th>\n",
              "      <th>logVM_AgostoJulio</th>\n",
              "      <th>logVM_JulioJunio</th>\n",
              "      <th>logVM_JunioMayo</th>\n",
              "      <th>logVM_MayoAbril</th>\n",
              "      <th>logVM_SeptiembreAgosto</th>\n",
              "      <th>FUGA</th>\n",
              "      <th>Fuga</th>\n",
              "      <th>No Fuga</th>\n",
              "      <th>Predict</th>\n",
              "    </tr>\n",
              "  </thead>\n",
              "  <tbody>\n",
              "    <tr>\n",
              "      <th>508</th>\n",
              "      <td>0.013514</td>\n",
              "      <td>0.780488</td>\n",
              "      <td>0.333333</td>\n",
              "      <td>0.571429</td>\n",
              "      <td>0.0</td>\n",
              "      <td>0.221544</td>\n",
              "      <td>0.213333</td>\n",
              "      <td>0.333333</td>\n",
              "      <td>1.0</td>\n",
              "      <td>1.0</td>\n",
              "      <td>1.0</td>\n",
              "      <td>508</td>\n",
              "      <td>0.057893</td>\n",
              "      <td>0.060928</td>\n",
              "      <td>0.637769</td>\n",
              "      <td>0.009337</td>\n",
              "      <td>0.000003</td>\n",
              "      <td>0.748740</td>\n",
              "      <td>2.995236e-06</td>\n",
              "      <td>0.407134</td>\n",
              "      <td>No Fuga</td>\n",
              "      <td>0.961884</td>\n",
              "      <td>0.038116</td>\n",
              "      <td>Fuga</td>\n",
              "    </tr>\n",
              "    <tr>\n",
              "      <th>325</th>\n",
              "      <td>0.540541</td>\n",
              "      <td>0.658537</td>\n",
              "      <td>0.333333</td>\n",
              "      <td>0.000000</td>\n",
              "      <td>1.0</td>\n",
              "      <td>0.141736</td>\n",
              "      <td>0.200000</td>\n",
              "      <td>0.000000</td>\n",
              "      <td>0.6</td>\n",
              "      <td>0.0</td>\n",
              "      <td>1.0</td>\n",
              "      <td>325</td>\n",
              "      <td>0.320478</td>\n",
              "      <td>0.000000</td>\n",
              "      <td>0.044663</td>\n",
              "      <td>0.061473</td>\n",
              "      <td>0.075726</td>\n",
              "      <td>0.041155</td>\n",
              "      <td>4.143709e-02</td>\n",
              "      <td>0.058642</td>\n",
              "      <td>No Fuga</td>\n",
              "      <td>0.000017</td>\n",
              "      <td>0.999983</td>\n",
              "      <td>No Fuga</td>\n",
              "    </tr>\n",
              "    <tr>\n",
              "      <th>304</th>\n",
              "      <td>0.013514</td>\n",
              "      <td>0.682927</td>\n",
              "      <td>0.000000</td>\n",
              "      <td>0.857143</td>\n",
              "      <td>0.0</td>\n",
              "      <td>0.132577</td>\n",
              "      <td>0.493333</td>\n",
              "      <td>0.333333</td>\n",
              "      <td>1.0</td>\n",
              "      <td>1.0</td>\n",
              "      <td>0.0</td>\n",
              "      <td>304</td>\n",
              "      <td>0.891262</td>\n",
              "      <td>0.896149</td>\n",
              "      <td>0.000104</td>\n",
              "      <td>0.430705</td>\n",
              "      <td>0.000010</td>\n",
              "      <td>0.659855</td>\n",
              "      <td>2.388722e-05</td>\n",
              "      <td>0.027990</td>\n",
              "      <td>Fuga</td>\n",
              "      <td>0.949186</td>\n",
              "      <td>0.050814</td>\n",
              "      <td>Fuga</td>\n",
              "    </tr>\n",
              "    <tr>\n",
              "      <th>1034</th>\n",
              "      <td>0.432432</td>\n",
              "      <td>0.634146</td>\n",
              "      <td>0.000000</td>\n",
              "      <td>0.571429</td>\n",
              "      <td>0.0</td>\n",
              "      <td>0.450938</td>\n",
              "      <td>1.000000</td>\n",
              "      <td>0.666667</td>\n",
              "      <td>0.6</td>\n",
              "      <td>1.0</td>\n",
              "      <td>0.0</td>\n",
              "      <td>1034</td>\n",
              "      <td>0.062439</td>\n",
              "      <td>0.076647</td>\n",
              "      <td>0.746625</td>\n",
              "      <td>0.001411</td>\n",
              "      <td>0.000018</td>\n",
              "      <td>0.762699</td>\n",
              "      <td>5.441383e-07</td>\n",
              "      <td>0.740365</td>\n",
              "      <td>No Fuga</td>\n",
              "      <td>0.223871</td>\n",
              "      <td>0.776129</td>\n",
              "      <td>Fuga</td>\n",
              "    </tr>\n",
              "    <tr>\n",
              "      <th>929</th>\n",
              "      <td>0.013514</td>\n",
              "      <td>0.512195</td>\n",
              "      <td>0.666667</td>\n",
              "      <td>0.571429</td>\n",
              "      <td>0.0</td>\n",
              "      <td>0.405146</td>\n",
              "      <td>0.840000</td>\n",
              "      <td>0.666667</td>\n",
              "      <td>1.0</td>\n",
              "      <td>1.0</td>\n",
              "      <td>0.0</td>\n",
              "      <td>929</td>\n",
              "      <td>0.008030</td>\n",
              "      <td>0.008275</td>\n",
              "      <td>0.537420</td>\n",
              "      <td>0.000518</td>\n",
              "      <td>0.000130</td>\n",
              "      <td>0.703938</td>\n",
              "      <td>1.425839e-05</td>\n",
              "      <td>0.475820</td>\n",
              "      <td>Fuga</td>\n",
              "      <td>0.896403</td>\n",
              "      <td>0.103597</td>\n",
              "      <td>Fuga</td>\n",
              "    </tr>\n",
              "  </tbody>\n",
              "</table>\n",
              "</div>"
            ],
            "text/plain": [
              "        CIUDAD      EDAD   E_CIVIL  ...      Fuga   No Fuga  Predict\n",
              "508   0.013514  0.780488  0.333333  ...  0.961884  0.038116     Fuga\n",
              "325   0.540541  0.658537  0.333333  ...  0.000017  0.999983  No Fuga\n",
              "304   0.013514  0.682927  0.000000  ...  0.949186  0.050814     Fuga\n",
              "1034  0.432432  0.634146  0.000000  ...  0.223871  0.776129     Fuga\n",
              "929   0.013514  0.512195  0.666667  ...  0.896403  0.103597     Fuga\n",
              "\n",
              "[5 rows x 24 columns]"
            ]
          },
          "metadata": {
            "tags": []
          },
          "execution_count": 53
        }
      ]
    },
    {
      "cell_type": "markdown",
      "metadata": {
        "id": "QywEnVOOkyAT"
      },
      "source": [
        "Desde el umbral de corte inicial en clases equiprobables, se modifica el punto de discrimianción a 0.06, basado en la distribución de casos, reduciendo los casos de errores de clasificación para los casos que representan mayor costo para la organización."
      ]
    },
    {
      "cell_type": "code",
      "metadata": {
        "colab": {
          "base_uri": "https://localhost:8080/",
          "height": 538
        },
        "id": "Sdn9KqM5kewy",
        "outputId": "e7ed2c80-3149-406d-9a13-8845d7ba95d9"
      },
      "source": [
        "plt.figure(figsize=(16, 8))\n",
        "# Probabilidad estimada de tener diabetes, para ambas poblaciones\n",
        "ax = sns.histplot(x = \"Fuga\" , hue='FUGA', data = DFSVMt, kde=False, bins=50, palette='dark')\n",
        "plt.title('Distribución de Probabilidad por Clase', fontsize=16)\n",
        "ax.set_xlabel('Probabilidad', fontsize=15)\n",
        "ax.set_ylabel('Frecuencia', fontsize=15)\n",
        "# marcar zona en predict = NO\n",
        "ax.axvline(x=threshold3t, color='r')\n",
        "ax.axvspan(0,threshold3t, color='#EF9A9A', alpha=0.3)"
      ],
      "execution_count": null,
      "outputs": [
        {
          "output_type": "execute_result",
          "data": {
            "text/plain": [
              "<matplotlib.patches.Polygon at 0x7f93f1134c90>"
            ]
          },
          "metadata": {
            "tags": []
          },
          "execution_count": 54
        },
        {
          "output_type": "display_data",
          "data": {
            "image/png": "[encoded data removed]",
            "text/plain": [
              "<Figure size 1152x576 with 1 Axes>"
            ]
          },
          "metadata": {
            "tags": [],
            "needs_background": "light"
          }
        }
      ]
    },
    {
      "cell_type": "code",
      "metadata": {
        "colab": {
          "base_uri": "https://localhost:8080/",
          "height": 285
        },
        "id": "140AT5nckewy",
        "outputId": "4256f170-4f68-4b7b-dce0-cb38eaea2202"
      },
      "source": [
        "# @title Gráfico ROC\n",
        "metrics.plot_roc_curve(SVMauct, X_test, y_test)\n",
        "plt.show()"
      ],
      "execution_count": null,
      "outputs": [
        {
          "output_type": "display_data",
          "data": {
            "image/png": "[encoded data removed]",
            "text/plain": [
              "<Figure size 432x288 with 1 Axes>"
            ]
          },
          "metadata": {
            "tags": [],
            "needs_background": "light"
          }
        }
      ]
    },
    {
      "cell_type": "markdown",
      "metadata": {
        "id": "5r9k1fx1lsKP"
      },
      "source": [
        "Del gráfico anterior, se obtiene en el conjunto de Testeo, un AUC igual a 0.93 para SVM, mostrando buenos desempeños para los distintos umbrales de corte posibles."
      ]
    },
    {
      "cell_type": "code",
      "metadata": {
        "colab": {
          "base_uri": "https://localhost:8080/",
          "height": 436
        },
        "id": "48heXR0GV_a1",
        "outputId": "c5748eda-ad4b-4eaa-faf4-8f5aff1677c3"
      },
      "source": [
        "get_cm(DFSVMt['FUGA'], DFSVMt['Predict'])"
      ],
      "execution_count": null,
      "outputs": [
        {
          "output_type": "execute_result",
          "data": {
            "image/png": "[encoded data removed]",
            "text/plain": [
              "<Figure size 432x432 with 2 Axes>"
            ]
          },
          "metadata": {
            "tags": []
          },
          "execution_count": 56
        }
      ]
    },
    {
      "cell_type": "code",
      "metadata": {
        "colab": {
          "base_uri": "https://localhost:8080/"
        },
        "id": "bMj_wG1HMdw0",
        "outputId": "94af9f07-eb49-4568-e17b-e9bc04c728e6"
      },
      "source": [
        "tps = 218\n",
        "fns = 0\n",
        "fps = 148\n",
        "tns = 93\n",
        "FBs = (1000 * tps) +(-100 * fps) + (-5000 * fns) + (0 * tns)\n",
        "FBs"
      ],
      "execution_count": null,
      "outputs": [
        {
          "output_type": "execute_result",
          "data": {
            "text/plain": [
              "203200"
            ]
          },
          "metadata": {
            "tags": []
          },
          "execution_count": 74
        }
      ]
    },
    {
      "cell_type": "markdown",
      "metadata": {
        "id": "aB4Shm6nkewz"
      },
      "source": [
        "###### Modelo Random Forest"
      ]
    },
    {
      "cell_type": "code",
      "metadata": {
        "colab": {
          "base_uri": "https://localhost:8080/",
          "height": 285
        },
        "id": "HvMIw-MWkewz",
        "outputId": "41fdd053-a66e-4830-d2a4-99ecc3062c3a"
      },
      "source": [
        "# @title Determinación de Probabilidades de Predicción según Clases\n",
        "# Entrenamos Random Forest con mejor configuración\n",
        "RFauct = RandomForestClassifier(n_estimators=16, random_state=0, n_jobs=-1).fit(X_train,y_train)\n",
        "# Calcular Probabilidades de Predicción\n",
        "DFRFt = DFTest.copy()\n",
        "DFRFt[['Fuga','No Fuga']] = RFauct.predict_proba(X_test)\n",
        "DFRFt.head()"
      ],
      "execution_count": null,
      "outputs": [
        {
          "output_type": "execute_result",
          "data": {
            "text/html": [
              "<div>\n",
              "<style scoped>\n",
              "    .dataframe tbody tr th:only-of-type {\n",
              "        vertical-align: middle;\n",
              "    }\n",
              "\n",
              "    .dataframe tbody tr th {\n",
              "        vertical-align: top;\n",
              "    }\n",
              "\n",
              "    .dataframe thead th {\n",
              "        text-align: right;\n",
              "    }\n",
              "</style>\n",
              "<table border=\"1\" class=\"dataframe\">\n",
              "  <thead>\n",
              "    <tr style=\"text-align: right;\">\n",
              "      <th></th>\n",
              "      <th>CIUDAD</th>\n",
              "      <th>EDAD</th>\n",
              "      <th>E_CIVIL</th>\n",
              "      <th>Frecuencia</th>\n",
              "      <th>GENERO</th>\n",
              "      <th>ID</th>\n",
              "      <th>MONTO</th>\n",
              "      <th>M_MOROSO</th>\n",
              "      <th>NIV_EDUC</th>\n",
              "      <th>Recency</th>\n",
              "      <th>SEGURO</th>\n",
              "      <th>Unnamed: 0</th>\n",
              "      <th>logDMax/Renta</th>\n",
              "      <th>logMTD/Renta</th>\n",
              "      <th>logVM_AbrilMarzo</th>\n",
              "      <th>logVM_AgostoJulio</th>\n",
              "      <th>logVM_JulioJunio</th>\n",
              "      <th>logVM_JunioMayo</th>\n",
              "      <th>logVM_MayoAbril</th>\n",
              "      <th>logVM_SeptiembreAgosto</th>\n",
              "      <th>FUGA</th>\n",
              "      <th>Fuga</th>\n",
              "      <th>No Fuga</th>\n",
              "    </tr>\n",
              "  </thead>\n",
              "  <tbody>\n",
              "    <tr>\n",
              "      <th>508</th>\n",
              "      <td>0.013514</td>\n",
              "      <td>0.780488</td>\n",
              "      <td>0.333333</td>\n",
              "      <td>0.571429</td>\n",
              "      <td>0.0</td>\n",
              "      <td>0.221544</td>\n",
              "      <td>0.213333</td>\n",
              "      <td>0.333333</td>\n",
              "      <td>1.0</td>\n",
              "      <td>1.0</td>\n",
              "      <td>1.0</td>\n",
              "      <td>508</td>\n",
              "      <td>0.057893</td>\n",
              "      <td>0.060928</td>\n",
              "      <td>0.637769</td>\n",
              "      <td>0.009337</td>\n",
              "      <td>0.000003</td>\n",
              "      <td>0.748740</td>\n",
              "      <td>2.995236e-06</td>\n",
              "      <td>0.407134</td>\n",
              "      <td>No Fuga</td>\n",
              "      <td>1.0000</td>\n",
              "      <td>0.0000</td>\n",
              "    </tr>\n",
              "    <tr>\n",
              "      <th>325</th>\n",
              "      <td>0.540541</td>\n",
              "      <td>0.658537</td>\n",
              "      <td>0.333333</td>\n",
              "      <td>0.000000</td>\n",
              "      <td>1.0</td>\n",
              "      <td>0.141736</td>\n",
              "      <td>0.200000</td>\n",
              "      <td>0.000000</td>\n",
              "      <td>0.6</td>\n",
              "      <td>0.0</td>\n",
              "      <td>1.0</td>\n",
              "      <td>325</td>\n",
              "      <td>0.320478</td>\n",
              "      <td>0.000000</td>\n",
              "      <td>0.044663</td>\n",
              "      <td>0.061473</td>\n",
              "      <td>0.075726</td>\n",
              "      <td>0.041155</td>\n",
              "      <td>4.143709e-02</td>\n",
              "      <td>0.058642</td>\n",
              "      <td>No Fuga</td>\n",
              "      <td>0.0000</td>\n",
              "      <td>1.0000</td>\n",
              "    </tr>\n",
              "    <tr>\n",
              "      <th>304</th>\n",
              "      <td>0.013514</td>\n",
              "      <td>0.682927</td>\n",
              "      <td>0.000000</td>\n",
              "      <td>0.857143</td>\n",
              "      <td>0.0</td>\n",
              "      <td>0.132577</td>\n",
              "      <td>0.493333</td>\n",
              "      <td>0.333333</td>\n",
              "      <td>1.0</td>\n",
              "      <td>1.0</td>\n",
              "      <td>0.0</td>\n",
              "      <td>304</td>\n",
              "      <td>0.891262</td>\n",
              "      <td>0.896149</td>\n",
              "      <td>0.000104</td>\n",
              "      <td>0.430705</td>\n",
              "      <td>0.000010</td>\n",
              "      <td>0.659855</td>\n",
              "      <td>2.388722e-05</td>\n",
              "      <td>0.027990</td>\n",
              "      <td>Fuga</td>\n",
              "      <td>0.9375</td>\n",
              "      <td>0.0625</td>\n",
              "    </tr>\n",
              "    <tr>\n",
              "      <th>1034</th>\n",
              "      <td>0.432432</td>\n",
              "      <td>0.634146</td>\n",
              "      <td>0.000000</td>\n",
              "      <td>0.571429</td>\n",
              "      <td>0.0</td>\n",
              "      <td>0.450938</td>\n",
              "      <td>1.000000</td>\n",
              "      <td>0.666667</td>\n",
              "      <td>0.6</td>\n",
              "      <td>1.0</td>\n",
              "      <td>0.0</td>\n",
              "      <td>1034</td>\n",
              "      <td>0.062439</td>\n",
              "      <td>0.076647</td>\n",
              "      <td>0.746625</td>\n",
              "      <td>0.001411</td>\n",
              "      <td>0.000018</td>\n",
              "      <td>0.762699</td>\n",
              "      <td>5.441383e-07</td>\n",
              "      <td>0.740365</td>\n",
              "      <td>No Fuga</td>\n",
              "      <td>0.0000</td>\n",
              "      <td>1.0000</td>\n",
              "    </tr>\n",
              "    <tr>\n",
              "      <th>929</th>\n",
              "      <td>0.013514</td>\n",
              "      <td>0.512195</td>\n",
              "      <td>0.666667</td>\n",
              "      <td>0.571429</td>\n",
              "      <td>0.0</td>\n",
              "      <td>0.405146</td>\n",
              "      <td>0.840000</td>\n",
              "      <td>0.666667</td>\n",
              "      <td>1.0</td>\n",
              "      <td>1.0</td>\n",
              "      <td>0.0</td>\n",
              "      <td>929</td>\n",
              "      <td>0.008030</td>\n",
              "      <td>0.008275</td>\n",
              "      <td>0.537420</td>\n",
              "      <td>0.000518</td>\n",
              "      <td>0.000130</td>\n",
              "      <td>0.703938</td>\n",
              "      <td>1.425839e-05</td>\n",
              "      <td>0.475820</td>\n",
              "      <td>Fuga</td>\n",
              "      <td>0.8750</td>\n",
              "      <td>0.1250</td>\n",
              "    </tr>\n",
              "  </tbody>\n",
              "</table>\n",
              "</div>"
            ],
            "text/plain": [
              "        CIUDAD      EDAD   E_CIVIL  ...     FUGA    Fuga  No Fuga\n",
              "508   0.013514  0.780488  0.333333  ...  No Fuga  1.0000   0.0000\n",
              "325   0.540541  0.658537  0.333333  ...  No Fuga  0.0000   1.0000\n",
              "304   0.013514  0.682927  0.000000  ...     Fuga  0.9375   0.0625\n",
              "1034  0.432432  0.634146  0.000000  ...  No Fuga  0.0000   1.0000\n",
              "929   0.013514  0.512195  0.666667  ...     Fuga  0.8750   0.1250\n",
              "\n",
              "[5 rows x 23 columns]"
            ]
          },
          "metadata": {
            "tags": []
          },
          "execution_count": 57
        }
      ]
    },
    {
      "cell_type": "code",
      "metadata": {
        "colab": {
          "base_uri": "https://localhost:8080/",
          "height": 333
        },
        "id": "vjmNg_LBkewz",
        "outputId": "fb4d87e9-ecfd-4c91-a0e2-3c773aad9640"
      },
      "source": [
        "# @title Fijación de Umbral Probabilístico de Clases\n",
        "# definimos el umbral desde el cual diremos que una persona pertenece a una clase u otra\n",
        "threshold4t = 0.03\n",
        "# creamos nueva columna de predicción\n",
        "DFRFt['Predict'] = np.where(DFRFt['Fuga']>threshold4t, \"Fuga\", \"No Fuga\")\n",
        "# métricas\n",
        "print(f\"Accuracy  : {round(accuracy_score(DFRFt['FUGA'], DFRFt['Predict']),3)}\")\n",
        "print(f\"Precision : {round(precision_score(DFRFt['FUGA'], DFRFt['Predict'], average='macro'),3)}\")\n",
        "print(f\"Recall    : {round(recall_score(DFRFt['FUGA'], DFRFt['Predict'], average='macro'),3)}\")\n",
        "DFRFt.head()"
      ],
      "execution_count": null,
      "outputs": [
        {
          "output_type": "stream",
          "text": [
            "Accuracy  : 0.651\n",
            "Precision : 0.788\n",
            "Recall    : 0.668\n"
          ],
          "name": "stdout"
        },
        {
          "output_type": "execute_result",
          "data": {
            "text/html": [
              "<div>\n",
              "<style scoped>\n",
              "    .dataframe tbody tr th:only-of-type {\n",
              "        vertical-align: middle;\n",
              "    }\n",
              "\n",
              "    .dataframe tbody tr th {\n",
              "        vertical-align: top;\n",
              "    }\n",
              "\n",
              "    .dataframe thead th {\n",
              "        text-align: right;\n",
              "    }\n",
              "</style>\n",
              "<table border=\"1\" class=\"dataframe\">\n",
              "  <thead>\n",
              "    <tr style=\"text-align: right;\">\n",
              "      <th></th>\n",
              "      <th>CIUDAD</th>\n",
              "      <th>EDAD</th>\n",
              "      <th>E_CIVIL</th>\n",
              "      <th>Frecuencia</th>\n",
              "      <th>GENERO</th>\n",
              "      <th>ID</th>\n",
              "      <th>MONTO</th>\n",
              "      <th>M_MOROSO</th>\n",
              "      <th>NIV_EDUC</th>\n",
              "      <th>Recency</th>\n",
              "      <th>SEGURO</th>\n",
              "      <th>Unnamed: 0</th>\n",
              "      <th>logDMax/Renta</th>\n",
              "      <th>logMTD/Renta</th>\n",
              "      <th>logVM_AbrilMarzo</th>\n",
              "      <th>logVM_AgostoJulio</th>\n",
              "      <th>logVM_JulioJunio</th>\n",
              "      <th>logVM_JunioMayo</th>\n",
              "      <th>logVM_MayoAbril</th>\n",
              "      <th>logVM_SeptiembreAgosto</th>\n",
              "      <th>FUGA</th>\n",
              "      <th>Fuga</th>\n",
              "      <th>No Fuga</th>\n",
              "      <th>Predict</th>\n",
              "    </tr>\n",
              "  </thead>\n",
              "  <tbody>\n",
              "    <tr>\n",
              "      <th>508</th>\n",
              "      <td>0.013514</td>\n",
              "      <td>0.780488</td>\n",
              "      <td>0.333333</td>\n",
              "      <td>0.571429</td>\n",
              "      <td>0.0</td>\n",
              "      <td>0.221544</td>\n",
              "      <td>0.213333</td>\n",
              "      <td>0.333333</td>\n",
              "      <td>1.0</td>\n",
              "      <td>1.0</td>\n",
              "      <td>1.0</td>\n",
              "      <td>508</td>\n",
              "      <td>0.057893</td>\n",
              "      <td>0.060928</td>\n",
              "      <td>0.637769</td>\n",
              "      <td>0.009337</td>\n",
              "      <td>0.000003</td>\n",
              "      <td>0.748740</td>\n",
              "      <td>2.995236e-06</td>\n",
              "      <td>0.407134</td>\n",
              "      <td>No Fuga</td>\n",
              "      <td>1.0000</td>\n",
              "      <td>0.0000</td>\n",
              "      <td>Fuga</td>\n",
              "    </tr>\n",
              "    <tr>\n",
              "      <th>325</th>\n",
              "      <td>0.540541</td>\n",
              "      <td>0.658537</td>\n",
              "      <td>0.333333</td>\n",
              "      <td>0.000000</td>\n",
              "      <td>1.0</td>\n",
              "      <td>0.141736</td>\n",
              "      <td>0.200000</td>\n",
              "      <td>0.000000</td>\n",
              "      <td>0.6</td>\n",
              "      <td>0.0</td>\n",
              "      <td>1.0</td>\n",
              "      <td>325</td>\n",
              "      <td>0.320478</td>\n",
              "      <td>0.000000</td>\n",
              "      <td>0.044663</td>\n",
              "      <td>0.061473</td>\n",
              "      <td>0.075726</td>\n",
              "      <td>0.041155</td>\n",
              "      <td>4.143709e-02</td>\n",
              "      <td>0.058642</td>\n",
              "      <td>No Fuga</td>\n",
              "      <td>0.0000</td>\n",
              "      <td>1.0000</td>\n",
              "      <td>No Fuga</td>\n",
              "    </tr>\n",
              "    <tr>\n",
              "      <th>304</th>\n",
              "      <td>0.013514</td>\n",
              "      <td>0.682927</td>\n",
              "      <td>0.000000</td>\n",
              "      <td>0.857143</td>\n",
              "      <td>0.0</td>\n",
              "      <td>0.132577</td>\n",
              "      <td>0.493333</td>\n",
              "      <td>0.333333</td>\n",
              "      <td>1.0</td>\n",
              "      <td>1.0</td>\n",
              "      <td>0.0</td>\n",
              "      <td>304</td>\n",
              "      <td>0.891262</td>\n",
              "      <td>0.896149</td>\n",
              "      <td>0.000104</td>\n",
              "      <td>0.430705</td>\n",
              "      <td>0.000010</td>\n",
              "      <td>0.659855</td>\n",
              "      <td>2.388722e-05</td>\n",
              "      <td>0.027990</td>\n",
              "      <td>Fuga</td>\n",
              "      <td>0.9375</td>\n",
              "      <td>0.0625</td>\n",
              "      <td>Fuga</td>\n",
              "    </tr>\n",
              "    <tr>\n",
              "      <th>1034</th>\n",
              "      <td>0.432432</td>\n",
              "      <td>0.634146</td>\n",
              "      <td>0.000000</td>\n",
              "      <td>0.571429</td>\n",
              "      <td>0.0</td>\n",
              "      <td>0.450938</td>\n",
              "      <td>1.000000</td>\n",
              "      <td>0.666667</td>\n",
              "      <td>0.6</td>\n",
              "      <td>1.0</td>\n",
              "      <td>0.0</td>\n",
              "      <td>1034</td>\n",
              "      <td>0.062439</td>\n",
              "      <td>0.076647</td>\n",
              "      <td>0.746625</td>\n",
              "      <td>0.001411</td>\n",
              "      <td>0.000018</td>\n",
              "      <td>0.762699</td>\n",
              "      <td>5.441383e-07</td>\n",
              "      <td>0.740365</td>\n",
              "      <td>No Fuga</td>\n",
              "      <td>0.0000</td>\n",
              "      <td>1.0000</td>\n",
              "      <td>No Fuga</td>\n",
              "    </tr>\n",
              "    <tr>\n",
              "      <th>929</th>\n",
              "      <td>0.013514</td>\n",
              "      <td>0.512195</td>\n",
              "      <td>0.666667</td>\n",
              "      <td>0.571429</td>\n",
              "      <td>0.0</td>\n",
              "      <td>0.405146</td>\n",
              "      <td>0.840000</td>\n",
              "      <td>0.666667</td>\n",
              "      <td>1.0</td>\n",
              "      <td>1.0</td>\n",
              "      <td>0.0</td>\n",
              "      <td>929</td>\n",
              "      <td>0.008030</td>\n",
              "      <td>0.008275</td>\n",
              "      <td>0.537420</td>\n",
              "      <td>0.000518</td>\n",
              "      <td>0.000130</td>\n",
              "      <td>0.703938</td>\n",
              "      <td>1.425839e-05</td>\n",
              "      <td>0.475820</td>\n",
              "      <td>Fuga</td>\n",
              "      <td>0.8750</td>\n",
              "      <td>0.1250</td>\n",
              "      <td>Fuga</td>\n",
              "    </tr>\n",
              "  </tbody>\n",
              "</table>\n",
              "</div>"
            ],
            "text/plain": [
              "        CIUDAD      EDAD   E_CIVIL  ...    Fuga  No Fuga  Predict\n",
              "508   0.013514  0.780488  0.333333  ...  1.0000   0.0000     Fuga\n",
              "325   0.540541  0.658537  0.333333  ...  0.0000   1.0000  No Fuga\n",
              "304   0.013514  0.682927  0.000000  ...  0.9375   0.0625     Fuga\n",
              "1034  0.432432  0.634146  0.000000  ...  0.0000   1.0000  No Fuga\n",
              "929   0.013514  0.512195  0.666667  ...  0.8750   0.1250     Fuga\n",
              "\n",
              "[5 rows x 24 columns]"
            ]
          },
          "metadata": {
            "tags": []
          },
          "execution_count": 58
        }
      ]
    },
    {
      "cell_type": "markdown",
      "metadata": {
        "id": "cyxuN-3umiXn"
      },
      "source": [
        "Al igual que en los casos anteriores, para Random Forest se parte con un umbral de corte igual a 0.5, el que después es ajustado en vista de la distribución de las observaciones del conjunto de Testeo, llevando el nuevo umbral hasta 0.03, parámetro en que el modelo entrega resultados sin errores de tipo Falsos Negativos."
      ]
    },
    {
      "cell_type": "code",
      "metadata": {
        "colab": {
          "base_uri": "https://localhost:8080/",
          "height": 538
        },
        "id": "QwXqh2yBkewz",
        "outputId": "5b6358fc-76d2-4965-8ba7-0f8548d26078"
      },
      "source": [
        "plt.figure(figsize=(16, 8))\n",
        "# Probabilidad estimada de tener diabetes, para ambas poblaciones\n",
        "ax = sns.histplot(x = \"Fuga\" , hue='FUGA', data = DFRFt, kde=False, bins=50, palette='dark')\n",
        "plt.title('Distribución de Probabilidad por Clase', fontsize=16)\n",
        "ax.set_xlabel('Probabilidad', fontsize=15)\n",
        "ax.set_ylabel('Frecuencia', fontsize=15)\n",
        "# marcar zona en predict = NO\n",
        "ax.axvline(x=threshold4t, color='r')\n",
        "ax.axvspan(0,threshold4t, color='#EF9A9A', alpha=0.3)"
      ],
      "execution_count": null,
      "outputs": [
        {
          "output_type": "execute_result",
          "data": {
            "text/plain": [
              "<matplotlib.patches.Polygon at 0x7f93f04a6c90>"
            ]
          },
          "metadata": {
            "tags": []
          },
          "execution_count": 59
        },
        {
          "output_type": "display_data",
          "data": {
            "image/png": "[encoded data removed]",
            "text/plain": [
              "<Figure size 1152x576 with 1 Axes>"
            ]
          },
          "metadata": {
            "tags": [],
            "needs_background": "light"
          }
        }
      ]
    },
    {
      "cell_type": "code",
      "metadata": {
        "colab": {
          "base_uri": "https://localhost:8080/",
          "height": 285
        },
        "id": "-r2eJpkCkew0",
        "outputId": "044a6e64-1942-4bee-e894-89c84ec1173d"
      },
      "source": [
        "# @title Gráfico ROC\n",
        "metrics.plot_roc_curve(RFauct, X_test, y_test)\n",
        "plt.show()"
      ],
      "execution_count": null,
      "outputs": [
        {
          "output_type": "display_data",
          "data": {
            "image/png": "[encoded data removed]",
            "text/plain": [
              "<Figure size 432x288 with 1 Axes>"
            ]
          },
          "metadata": {
            "tags": [],
            "needs_background": "light"
          }
        }
      ]
    },
    {
      "cell_type": "markdown",
      "metadata": {
        "id": "gvQrYPt9oOlV"
      },
      "source": [
        "Del gráfico anterior, se obtiene un AUC de 0.98 para Random Forest en el conjunto de Testeo, acercándolo casi a un predictor perfecto. Habiendo descartado el sobreajuste, este modelo se presenta como una de las opciones principales para utilizar como clasificador, puesto que entrega resultados de alto desempeño para todo el espectro de umbrales posibles, con muy buenos resultados en la clase más crítica en cuanto a costo para la organización."
      ]
    },
    {
      "cell_type": "code",
      "metadata": {
        "colab": {
          "base_uri": "https://localhost:8080/",
          "height": 436
        },
        "id": "XxUuf30XWT0s",
        "outputId": "79e68960-44b8-4519-d678-29447ccd7836"
      },
      "source": [
        "get_cm(DFRFt['FUGA'], DFRFt['Predict'])"
      ],
      "execution_count": null,
      "outputs": [
        {
          "output_type": "execute_result",
          "data": {
            "image/png": "[encoded data removed]",
            "text/plain": [
              "<Figure size 432x432 with 2 Axes>"
            ]
          },
          "metadata": {
            "tags": []
          },
          "execution_count": 61
        }
      ]
    },
    {
      "cell_type": "code",
      "metadata": {
        "colab": {
          "base_uri": "https://localhost:8080/"
        },
        "id": "70JnXw5IxY8m",
        "outputId": "af64375d-e969-4a6b-f931-009bada2e1e1"
      },
      "source": [
        "tp2 = 218\n",
        "fn2 = 0\n",
        "fp2 = 160\n",
        "tn2 = 81\n",
        "FB2 = (1000 * tp2) +(-100 * fp2) + (-5000 * fn2) + (0 * tn2)\n",
        "FB2"
      ],
      "execution_count": null,
      "outputs": [
        {
          "output_type": "execute_result",
          "data": {
            "text/plain": [
              "202000"
            ]
          },
          "metadata": {
            "tags": []
          },
          "execution_count": 75
        }
      ]
    },
    {
      "cell_type": "markdown",
      "metadata": {
        "id": "u1UmkiA4kew0"
      },
      "source": [
        "###### Modelo Regresión Logística"
      ]
    },
    {
      "cell_type": "code",
      "metadata": {
        "colab": {
          "base_uri": "https://localhost:8080/",
          "height": 285
        },
        "id": "OkNekGMDkew0",
        "outputId": "89e9bb7a-869d-4448-c138-40b90a45acab"
      },
      "source": [
        "# @title Determinación de Probabilidades de Predicción según Clases\n",
        "# Entrenamos Random Forest con mejor configuración\n",
        "LOGITauct = LogisticRegression(random_state=0).fit(X_train, y_train)\n",
        "# Calcular Probabilidades de Predicción\n",
        "DFLOGITt = DFTest\n",
        "DFLOGITt[['Fuga','No Fuga']] = LOGITauct.predict_proba(X_test)\n",
        "DFLOGITt.head()"
      ],
      "execution_count": null,
      "outputs": [
        {
          "output_type": "execute_result",
          "data": {
            "text/html": [
              "<div>\n",
              "<style scoped>\n",
              "    .dataframe tbody tr th:only-of-type {\n",
              "        vertical-align: middle;\n",
              "    }\n",
              "\n",
              "    .dataframe tbody tr th {\n",
              "        vertical-align: top;\n",
              "    }\n",
              "\n",
              "    .dataframe thead th {\n",
              "        text-align: right;\n",
              "    }\n",
              "</style>\n",
              "<table border=\"1\" class=\"dataframe\">\n",
              "  <thead>\n",
              "    <tr style=\"text-align: right;\">\n",
              "      <th></th>\n",
              "      <th>CIUDAD</th>\n",
              "      <th>EDAD</th>\n",
              "      <th>E_CIVIL</th>\n",
              "      <th>Frecuencia</th>\n",
              "      <th>GENERO</th>\n",
              "      <th>ID</th>\n",
              "      <th>MONTO</th>\n",
              "      <th>M_MOROSO</th>\n",
              "      <th>NIV_EDUC</th>\n",
              "      <th>Recency</th>\n",
              "      <th>SEGURO</th>\n",
              "      <th>Unnamed: 0</th>\n",
              "      <th>logDMax/Renta</th>\n",
              "      <th>logMTD/Renta</th>\n",
              "      <th>logVM_AbrilMarzo</th>\n",
              "      <th>logVM_AgostoJulio</th>\n",
              "      <th>logVM_JulioJunio</th>\n",
              "      <th>logVM_JunioMayo</th>\n",
              "      <th>logVM_MayoAbril</th>\n",
              "      <th>logVM_SeptiembreAgosto</th>\n",
              "      <th>FUGA</th>\n",
              "      <th>Fuga</th>\n",
              "      <th>No Fuga</th>\n",
              "    </tr>\n",
              "  </thead>\n",
              "  <tbody>\n",
              "    <tr>\n",
              "      <th>508</th>\n",
              "      <td>0.013514</td>\n",
              "      <td>0.780488</td>\n",
              "      <td>0.333333</td>\n",
              "      <td>0.571429</td>\n",
              "      <td>0.0</td>\n",
              "      <td>0.221544</td>\n",
              "      <td>0.213333</td>\n",
              "      <td>0.333333</td>\n",
              "      <td>1.0</td>\n",
              "      <td>1.0</td>\n",
              "      <td>1.0</td>\n",
              "      <td>508</td>\n",
              "      <td>0.057893</td>\n",
              "      <td>0.060928</td>\n",
              "      <td>0.637769</td>\n",
              "      <td>0.009337</td>\n",
              "      <td>0.000003</td>\n",
              "      <td>0.748740</td>\n",
              "      <td>2.995236e-06</td>\n",
              "      <td>0.407134</td>\n",
              "      <td>No Fuga</td>\n",
              "      <td>0.929275</td>\n",
              "      <td>0.070725</td>\n",
              "    </tr>\n",
              "    <tr>\n",
              "      <th>325</th>\n",
              "      <td>0.540541</td>\n",
              "      <td>0.658537</td>\n",
              "      <td>0.333333</td>\n",
              "      <td>0.000000</td>\n",
              "      <td>1.0</td>\n",
              "      <td>0.141736</td>\n",
              "      <td>0.200000</td>\n",
              "      <td>0.000000</td>\n",
              "      <td>0.6</td>\n",
              "      <td>0.0</td>\n",
              "      <td>1.0</td>\n",
              "      <td>325</td>\n",
              "      <td>0.320478</td>\n",
              "      <td>0.000000</td>\n",
              "      <td>0.044663</td>\n",
              "      <td>0.061473</td>\n",
              "      <td>0.075726</td>\n",
              "      <td>0.041155</td>\n",
              "      <td>4.143709e-02</td>\n",
              "      <td>0.058642</td>\n",
              "      <td>No Fuga</td>\n",
              "      <td>0.034376</td>\n",
              "      <td>0.965624</td>\n",
              "    </tr>\n",
              "    <tr>\n",
              "      <th>304</th>\n",
              "      <td>0.013514</td>\n",
              "      <td>0.682927</td>\n",
              "      <td>0.000000</td>\n",
              "      <td>0.857143</td>\n",
              "      <td>0.0</td>\n",
              "      <td>0.132577</td>\n",
              "      <td>0.493333</td>\n",
              "      <td>0.333333</td>\n",
              "      <td>1.0</td>\n",
              "      <td>1.0</td>\n",
              "      <td>0.0</td>\n",
              "      <td>304</td>\n",
              "      <td>0.891262</td>\n",
              "      <td>0.896149</td>\n",
              "      <td>0.000104</td>\n",
              "      <td>0.430705</td>\n",
              "      <td>0.000010</td>\n",
              "      <td>0.659855</td>\n",
              "      <td>2.388722e-05</td>\n",
              "      <td>0.027990</td>\n",
              "      <td>Fuga</td>\n",
              "      <td>0.932867</td>\n",
              "      <td>0.067133</td>\n",
              "    </tr>\n",
              "    <tr>\n",
              "      <th>1034</th>\n",
              "      <td>0.432432</td>\n",
              "      <td>0.634146</td>\n",
              "      <td>0.000000</td>\n",
              "      <td>0.571429</td>\n",
              "      <td>0.0</td>\n",
              "      <td>0.450938</td>\n",
              "      <td>1.000000</td>\n",
              "      <td>0.666667</td>\n",
              "      <td>0.6</td>\n",
              "      <td>1.0</td>\n",
              "      <td>0.0</td>\n",
              "      <td>1034</td>\n",
              "      <td>0.062439</td>\n",
              "      <td>0.076647</td>\n",
              "      <td>0.746625</td>\n",
              "      <td>0.001411</td>\n",
              "      <td>0.000018</td>\n",
              "      <td>0.762699</td>\n",
              "      <td>5.441383e-07</td>\n",
              "      <td>0.740365</td>\n",
              "      <td>No Fuga</td>\n",
              "      <td>0.392262</td>\n",
              "      <td>0.607738</td>\n",
              "    </tr>\n",
              "    <tr>\n",
              "      <th>929</th>\n",
              "      <td>0.013514</td>\n",
              "      <td>0.512195</td>\n",
              "      <td>0.666667</td>\n",
              "      <td>0.571429</td>\n",
              "      <td>0.0</td>\n",
              "      <td>0.405146</td>\n",
              "      <td>0.840000</td>\n",
              "      <td>0.666667</td>\n",
              "      <td>1.0</td>\n",
              "      <td>1.0</td>\n",
              "      <td>0.0</td>\n",
              "      <td>929</td>\n",
              "      <td>0.008030</td>\n",
              "      <td>0.008275</td>\n",
              "      <td>0.537420</td>\n",
              "      <td>0.000518</td>\n",
              "      <td>0.000130</td>\n",
              "      <td>0.703938</td>\n",
              "      <td>1.425839e-05</td>\n",
              "      <td>0.475820</td>\n",
              "      <td>Fuga</td>\n",
              "      <td>0.807809</td>\n",
              "      <td>0.192191</td>\n",
              "    </tr>\n",
              "  </tbody>\n",
              "</table>\n",
              "</div>"
            ],
            "text/plain": [
              "        CIUDAD      EDAD   E_CIVIL  ...     FUGA      Fuga   No Fuga\n",
              "508   0.013514  0.780488  0.333333  ...  No Fuga  0.929275  0.070725\n",
              "325   0.540541  0.658537  0.333333  ...  No Fuga  0.034376  0.965624\n",
              "304   0.013514  0.682927  0.000000  ...     Fuga  0.932867  0.067133\n",
              "1034  0.432432  0.634146  0.000000  ...  No Fuga  0.392262  0.607738\n",
              "929   0.013514  0.512195  0.666667  ...     Fuga  0.807809  0.192191\n",
              "\n",
              "[5 rows x 23 columns]"
            ]
          },
          "metadata": {
            "tags": []
          },
          "execution_count": 63
        }
      ]
    },
    {
      "cell_type": "code",
      "metadata": {
        "colab": {
          "base_uri": "https://localhost:8080/",
          "height": 333
        },
        "id": "vjGSvYxPkew1",
        "outputId": "a4732ec5-1b11-4e5a-934f-e408e2c43a82"
      },
      "source": [
        "# @title Fijación de Umbral Probabilístico de Clases\n",
        "# definimos el umbral desde el cual diremos que una persona pertenece a una clase u otra\n",
        "threshold5t = 0.05\n",
        "# creamos nueva columna de predicción\n",
        "DFLOGITt['Predict'] = np.where(DFLOGITt['Fuga']>threshold5t, \"Fuga\", \"No Fuga\")\n",
        "# métricas\n",
        "print(f\"Accuracy  : {round(accuracy_score(DFLOGITt['FUGA'], DFLOGITt['Predict']),3)}\")\n",
        "print(f\"Precision : {round(precision_score(DFLOGITt['FUGA'], DFLOGITt['Predict'], average='macro'),3)}\")\n",
        "print(f\"Recall    : {round(recall_score(DFLOGITt['FUGA'], DFLOGITt['Predict'], average='macro'),3)}\")\n",
        "DFLOGITt.head()"
      ],
      "execution_count": null,
      "outputs": [
        {
          "output_type": "stream",
          "text": [
            "Accuracy  : 0.608\n",
            "Precision : 0.774\n",
            "Recall    : 0.627\n"
          ],
          "name": "stdout"
        },
        {
          "output_type": "execute_result",
          "data": {
            "text/html": [
              "<div>\n",
              "<style scoped>\n",
              "    .dataframe tbody tr th:only-of-type {\n",
              "        vertical-align: middle;\n",
              "    }\n",
              "\n",
              "    .dataframe tbody tr th {\n",
              "        vertical-align: top;\n",
              "    }\n",
              "\n",
              "    .dataframe thead th {\n",
              "        text-align: right;\n",
              "    }\n",
              "</style>\n",
              "<table border=\"1\" class=\"dataframe\">\n",
              "  <thead>\n",
              "    <tr style=\"text-align: right;\">\n",
              "      <th></th>\n",
              "      <th>CIUDAD</th>\n",
              "      <th>EDAD</th>\n",
              "      <th>E_CIVIL</th>\n",
              "      <th>Frecuencia</th>\n",
              "      <th>GENERO</th>\n",
              "      <th>ID</th>\n",
              "      <th>MONTO</th>\n",
              "      <th>M_MOROSO</th>\n",
              "      <th>NIV_EDUC</th>\n",
              "      <th>Recency</th>\n",
              "      <th>SEGURO</th>\n",
              "      <th>Unnamed: 0</th>\n",
              "      <th>logDMax/Renta</th>\n",
              "      <th>logMTD/Renta</th>\n",
              "      <th>logVM_AbrilMarzo</th>\n",
              "      <th>logVM_AgostoJulio</th>\n",
              "      <th>logVM_JulioJunio</th>\n",
              "      <th>logVM_JunioMayo</th>\n",
              "      <th>logVM_MayoAbril</th>\n",
              "      <th>logVM_SeptiembreAgosto</th>\n",
              "      <th>FUGA</th>\n",
              "      <th>Fuga</th>\n",
              "      <th>No Fuga</th>\n",
              "      <th>Predict</th>\n",
              "    </tr>\n",
              "  </thead>\n",
              "  <tbody>\n",
              "    <tr>\n",
              "      <th>508</th>\n",
              "      <td>0.013514</td>\n",
              "      <td>0.780488</td>\n",
              "      <td>0.333333</td>\n",
              "      <td>0.571429</td>\n",
              "      <td>0.0</td>\n",
              "      <td>0.221544</td>\n",
              "      <td>0.213333</td>\n",
              "      <td>0.333333</td>\n",
              "      <td>1.0</td>\n",
              "      <td>1.0</td>\n",
              "      <td>1.0</td>\n",
              "      <td>508</td>\n",
              "      <td>0.057893</td>\n",
              "      <td>0.060928</td>\n",
              "      <td>0.637769</td>\n",
              "      <td>0.009337</td>\n",
              "      <td>0.000003</td>\n",
              "      <td>0.748740</td>\n",
              "      <td>2.995236e-06</td>\n",
              "      <td>0.407134</td>\n",
              "      <td>No Fuga</td>\n",
              "      <td>0.929275</td>\n",
              "      <td>0.070725</td>\n",
              "      <td>Fuga</td>\n",
              "    </tr>\n",
              "    <tr>\n",
              "      <th>325</th>\n",
              "      <td>0.540541</td>\n",
              "      <td>0.658537</td>\n",
              "      <td>0.333333</td>\n",
              "      <td>0.000000</td>\n",
              "      <td>1.0</td>\n",
              "      <td>0.141736</td>\n",
              "      <td>0.200000</td>\n",
              "      <td>0.000000</td>\n",
              "      <td>0.6</td>\n",
              "      <td>0.0</td>\n",
              "      <td>1.0</td>\n",
              "      <td>325</td>\n",
              "      <td>0.320478</td>\n",
              "      <td>0.000000</td>\n",
              "      <td>0.044663</td>\n",
              "      <td>0.061473</td>\n",
              "      <td>0.075726</td>\n",
              "      <td>0.041155</td>\n",
              "      <td>4.143709e-02</td>\n",
              "      <td>0.058642</td>\n",
              "      <td>No Fuga</td>\n",
              "      <td>0.034376</td>\n",
              "      <td>0.965624</td>\n",
              "      <td>No Fuga</td>\n",
              "    </tr>\n",
              "    <tr>\n",
              "      <th>304</th>\n",
              "      <td>0.013514</td>\n",
              "      <td>0.682927</td>\n",
              "      <td>0.000000</td>\n",
              "      <td>0.857143</td>\n",
              "      <td>0.0</td>\n",
              "      <td>0.132577</td>\n",
              "      <td>0.493333</td>\n",
              "      <td>0.333333</td>\n",
              "      <td>1.0</td>\n",
              "      <td>1.0</td>\n",
              "      <td>0.0</td>\n",
              "      <td>304</td>\n",
              "      <td>0.891262</td>\n",
              "      <td>0.896149</td>\n",
              "      <td>0.000104</td>\n",
              "      <td>0.430705</td>\n",
              "      <td>0.000010</td>\n",
              "      <td>0.659855</td>\n",
              "      <td>2.388722e-05</td>\n",
              "      <td>0.027990</td>\n",
              "      <td>Fuga</td>\n",
              "      <td>0.932867</td>\n",
              "      <td>0.067133</td>\n",
              "      <td>Fuga</td>\n",
              "    </tr>\n",
              "    <tr>\n",
              "      <th>1034</th>\n",
              "      <td>0.432432</td>\n",
              "      <td>0.634146</td>\n",
              "      <td>0.000000</td>\n",
              "      <td>0.571429</td>\n",
              "      <td>0.0</td>\n",
              "      <td>0.450938</td>\n",
              "      <td>1.000000</td>\n",
              "      <td>0.666667</td>\n",
              "      <td>0.6</td>\n",
              "      <td>1.0</td>\n",
              "      <td>0.0</td>\n",
              "      <td>1034</td>\n",
              "      <td>0.062439</td>\n",
              "      <td>0.076647</td>\n",
              "      <td>0.746625</td>\n",
              "      <td>0.001411</td>\n",
              "      <td>0.000018</td>\n",
              "      <td>0.762699</td>\n",
              "      <td>5.441383e-07</td>\n",
              "      <td>0.740365</td>\n",
              "      <td>No Fuga</td>\n",
              "      <td>0.392262</td>\n",
              "      <td>0.607738</td>\n",
              "      <td>Fuga</td>\n",
              "    </tr>\n",
              "    <tr>\n",
              "      <th>929</th>\n",
              "      <td>0.013514</td>\n",
              "      <td>0.512195</td>\n",
              "      <td>0.666667</td>\n",
              "      <td>0.571429</td>\n",
              "      <td>0.0</td>\n",
              "      <td>0.405146</td>\n",
              "      <td>0.840000</td>\n",
              "      <td>0.666667</td>\n",
              "      <td>1.0</td>\n",
              "      <td>1.0</td>\n",
              "      <td>0.0</td>\n",
              "      <td>929</td>\n",
              "      <td>0.008030</td>\n",
              "      <td>0.008275</td>\n",
              "      <td>0.537420</td>\n",
              "      <td>0.000518</td>\n",
              "      <td>0.000130</td>\n",
              "      <td>0.703938</td>\n",
              "      <td>1.425839e-05</td>\n",
              "      <td>0.475820</td>\n",
              "      <td>Fuga</td>\n",
              "      <td>0.807809</td>\n",
              "      <td>0.192191</td>\n",
              "      <td>Fuga</td>\n",
              "    </tr>\n",
              "  </tbody>\n",
              "</table>\n",
              "</div>"
            ],
            "text/plain": [
              "        CIUDAD      EDAD   E_CIVIL  ...      Fuga   No Fuga  Predict\n",
              "508   0.013514  0.780488  0.333333  ...  0.929275  0.070725     Fuga\n",
              "325   0.540541  0.658537  0.333333  ...  0.034376  0.965624  No Fuga\n",
              "304   0.013514  0.682927  0.000000  ...  0.932867  0.067133     Fuga\n",
              "1034  0.432432  0.634146  0.000000  ...  0.392262  0.607738     Fuga\n",
              "929   0.013514  0.512195  0.666667  ...  0.807809  0.192191     Fuga\n",
              "\n",
              "[5 rows x 24 columns]"
            ]
          },
          "metadata": {
            "tags": []
          },
          "execution_count": 64
        }
      ]
    },
    {
      "cell_type": "markdown",
      "metadata": {
        "id": "xSTgnj12q385"
      },
      "source": [
        "Para el presente modelo, mediante la inspección de la distribución de observaciones, se ajusta el umbral de corte de clases desde 0.5 a 0.05, entregando excelentes resultados en cuanto a la disminución de Falsos Negativos."
      ]
    },
    {
      "cell_type": "code",
      "metadata": {
        "colab": {
          "base_uri": "https://localhost:8080/",
          "height": 538
        },
        "id": "y85TAqfekew1",
        "outputId": "12ead3df-235e-4f0f-8edc-c8a1e6e8906f"
      },
      "source": [
        "plt.figure(figsize=(16, 8))\n",
        "# Probabilidad estimada para caer en default, para ambas poblaciones\n",
        "ax = sns.histplot(x = \"Fuga\" , hue='FUGA', data = DFLOGITt, kde=False, bins=60, palette='dark')\n",
        "plt.title('Distribución de Probabilidad por Clase', fontsize=16)\n",
        "ax.set_xlabel('Probabilidad', fontsize=15)\n",
        "ax.set_ylabel('Frecuencia', fontsize=15)\n",
        "# marcar zona en predict = NO\n",
        "ax.axvline(x=threshold5t, color='r')\n",
        "ax.axvspan(0,threshold5t, color='#EF9A9A', alpha=0.3)"
      ],
      "execution_count": null,
      "outputs": [
        {
          "output_type": "execute_result",
          "data": {
            "text/plain": [
              "<matplotlib.patches.Polygon at 0x7f93f0244110>"
            ]
          },
          "metadata": {
            "tags": []
          },
          "execution_count": 65
        },
        {
          "output_type": "display_data",
          "data": {
            "image/png": "[encoded data removed]",
            "text/plain": [
              "<Figure size 1152x576 with 1 Axes>"
            ]
          },
          "metadata": {
            "tags": [],
            "needs_background": "light"
          }
        }
      ]
    },
    {
      "cell_type": "code",
      "metadata": {
        "colab": {
          "base_uri": "https://localhost:8080/",
          "height": 285
        },
        "id": "kpNeFEFskew1",
        "outputId": "94e600df-d886-4f58-fd50-f98648d1d26b"
      },
      "source": [
        "# @title Gráfico ROC\n",
        "metrics.plot_roc_curve(LOGITauct, X_test, y_test)\n",
        "plt.show()"
      ],
      "execution_count": null,
      "outputs": [
        {
          "output_type": "display_data",
          "data": {
            "image/png": "[encoded data removed]",
            "text/plain": [
              "<Figure size 432x288 with 1 Axes>"
            ]
          },
          "metadata": {
            "tags": [],
            "needs_background": "light"
          }
        }
      ]
    },
    {
      "cell_type": "markdown",
      "metadata": {
        "id": "9taPKLsnrbN1"
      },
      "source": [
        "Del la curva ROC anterior, se obtiene un AUC igual a 0.93 para la Regresión Logística en el conjunto de Testeo, indicando que el modelo se comporta bien en los distintos umbrales de corte posibles a utilizar, puntualmente, generando cero errores de Falsos Negativos para el punto de corte ya seleccionado anteriormente."
      ]
    },
    {
      "cell_type": "code",
      "metadata": {
        "colab": {
          "base_uri": "https://localhost:8080/",
          "height": 436
        },
        "id": "vfw8IgPcWtO8",
        "outputId": "3e2dc9b5-6798-4cb4-8edb-d2dab561e65b"
      },
      "source": [
        "get_cm(DFLOGITt['FUGA'], DFLOGITt['Predict'])"
      ],
      "execution_count": null,
      "outputs": [
        {
          "output_type": "execute_result",
          "data": {
            "image/png": "[encoded data removed]",
            "text/plain": [
              "<Figure size 432x432 with 2 Axes>"
            ]
          },
          "metadata": {
            "tags": []
          },
          "execution_count": 67
        }
      ]
    },
    {
      "cell_type": "code",
      "metadata": {
        "colab": {
          "base_uri": "https://localhost:8080/"
        },
        "id": "3bXKL8_lyi9I",
        "outputId": "0d1d0919-3672-42e6-c57f-171346c642f8"
      },
      "source": [
        "tp3 = 218\n",
        "fn3 = 0\n",
        "fp3 = 180\n",
        "tn3 = 61\n",
        "FB3 = (1000 * tp3) +(-100 * fp3) + (-5000 * fn3) + (0 * tn3)\n",
        "FB3"
      ],
      "execution_count": null,
      "outputs": [
        {
          "output_type": "execute_result",
          "data": {
            "text/plain": [
              "200000"
            ]
          },
          "metadata": {
            "tags": []
          },
          "execution_count": 76
        }
      ]
    },
    {
      "cell_type": "code",
      "metadata": {
        "colab": {
          "base_uri": "https://localhost:8080/",
          "height": 205
        },
        "id": "iB_4cjrOMVOh",
        "outputId": "13561c96-9c5a-42ed-de77-09441c8f4a30"
      },
      "source": [
        "# @title Cuadro Resumen de Función de Beneficios\n",
        "Modelos = ['KNN', 'Árbol de Decisión', 'SVM', 'Random Forest', 'Regresión Logística']\n",
        "Umbrales = [0.1, 0.0, 0.06, 0.03, 0.05]\n",
        "BeneficiosTotales = [193900, 201500, 203200, 202000, 200000]\n",
        "ResumenBeneficios = pd.DataFrame({'Modelo': Modelos, 'Umbral': Umbrales, 'Beneficio Total': BeneficiosTotales})\n",
        "ResumenBeneficios"
      ],
      "execution_count": null,
      "outputs": [
        {
          "output_type": "execute_result",
          "data": {
            "text/html": [
              "<div>\n",
              "<style scoped>\n",
              "    .dataframe tbody tr th:only-of-type {\n",
              "        vertical-align: middle;\n",
              "    }\n",
              "\n",
              "    .dataframe tbody tr th {\n",
              "        vertical-align: top;\n",
              "    }\n",
              "\n",
              "    .dataframe thead th {\n",
              "        text-align: right;\n",
              "    }\n",
              "</style>\n",
              "<table border=\"1\" class=\"dataframe\">\n",
              "  <thead>\n",
              "    <tr style=\"text-align: right;\">\n",
              "      <th></th>\n",
              "      <th>Modelo</th>\n",
              "      <th>Umbral</th>\n",
              "      <th>Beneficio Total</th>\n",
              "    </tr>\n",
              "  </thead>\n",
              "  <tbody>\n",
              "    <tr>\n",
              "      <th>0</th>\n",
              "      <td>KNN</td>\n",
              "      <td>0.10</td>\n",
              "      <td>193900</td>\n",
              "    </tr>\n",
              "    <tr>\n",
              "      <th>1</th>\n",
              "      <td>Árbol de Decisión</td>\n",
              "      <td>0.00</td>\n",
              "      <td>201500</td>\n",
              "    </tr>\n",
              "    <tr>\n",
              "      <th>2</th>\n",
              "      <td>SVM</td>\n",
              "      <td>0.06</td>\n",
              "      <td>203200</td>\n",
              "    </tr>\n",
              "    <tr>\n",
              "      <th>3</th>\n",
              "      <td>Random Forest</td>\n",
              "      <td>0.03</td>\n",
              "      <td>202000</td>\n",
              "    </tr>\n",
              "    <tr>\n",
              "      <th>4</th>\n",
              "      <td>Regresión Logística</td>\n",
              "      <td>0.05</td>\n",
              "      <td>200000</td>\n",
              "    </tr>\n",
              "  </tbody>\n",
              "</table>\n",
              "</div>"
            ],
            "text/plain": [
              "                Modelo  Umbral  Beneficio Total\n",
              "0                  KNN    0.10           193900\n",
              "1    Árbol de Decisión    0.00           201500\n",
              "2                  SVM    0.06           203200\n",
              "3        Random Forest    0.03           202000\n",
              "4  Regresión Logística    0.05           200000"
            ]
          },
          "metadata": {
            "tags": []
          },
          "execution_count": 6
        }
      ]
    },
    {
      "cell_type": "markdown",
      "metadata": {
        "id": "BWqaU87fVG27"
      },
      "source": [
        "Del cuadro resumen anterior, podemos observar que los mejores resultados económicos se obtienen para distintos umbrales dependiendo del modelo en cuestión, todos con valores entre 0.1 y 0.0, recordando que el enfoque es eliminar los errores de predicción, especialmente los falsos negativos.\n",
        "\n",
        "Particularmente, el mayor beneficio se obtiene para SVM, con un valor de $203.200, seguido por Random Forest, con solo mil doscientos pesos menos.\n",
        "\n",
        "De este modo, desde la perspectiva de beneficio económico para el negocio, es SVM el mejor algotirmo."
      ]
    },
    {
      "cell_type": "markdown",
      "metadata": {
        "id": "l29Jy-RmfJnq"
      },
      "source": [
        "COMPARACIÓN CRUZADA"
      ]
    },
    {
      "cell_type": "code",
      "metadata": {
        "id": "w82DtlweX2LT"
      },
      "source": [
        "# @title Definición de Función de Comparación Cruzada\n",
        "def train_cv(models, X_train, y_train, method):\n",
        "  entries = []\n",
        "  # iteramos sobre los modelos, evaluando en cada iteración\n",
        "  for name, model in models.items():\n",
        "    print(f\"Train {name}\")\n",
        "    AUC = cross_val_score(model, X_train, y_train, scoring ='roc_auc', cv=10, n_jobs =-1)\n",
        "    for fold_idx, auc in enumerate(AUC):\n",
        "        entries.append((name, fold_idx, auc, method))\n",
        "        cv_results = pd.DataFrame(entries, columns=['Model', 'fold', 'AUC', 'Method'])\n",
        "  return cv_results"
      ],
      "execution_count": null,
      "outputs": []
    },
    {
      "cell_type": "code",
      "metadata": {
        "colab": {
          "base_uri": "https://localhost:8080/"
        },
        "id": "hVJaYa4dSMeO",
        "outputId": "ffa7bb9f-7e81-4389-b0ee-5d74d339e823"
      },
      "source": [
        "# @title Establecimiento de Línea Base de Comparación\n",
        "# Generación de Diccionario de Modelos\n",
        "DModelos = {\"KNN\": KNeighborsClassifier(n_neighbors=11), \"TREE\": DecisionTreeClassifier(random_state=0, max_depth = 6), \"SVM\": SVC(random_state=0, C=0.75, kernel='linear', probability=True), \"RF\": RandomForestClassifier(n_estimators=16, random_state=0, n_jobs=-1), \"LOGIT\": LogisticRegression(random_state=0)}\n",
        "# Validación Cruzada de Modelos para Entrenamiento\n",
        "#print(\"Entrenamiento\")\n",
        "#CVTrain = train_cv(DModelos, X_train, y_train, 'Línea Base Entrenamiento')\n",
        "# Validación Cruzadade Modelos para Testeo\n",
        "print(\"Testeo\")\n",
        "CVTest = train_cv(DModelos, X_test, y_test, 'Línea Base Testeo')"
      ],
      "execution_count": null,
      "outputs": [
        {
          "output_type": "stream",
          "text": [
            "Testeo\n",
            "Train KNN\n",
            "Train TREE\n",
            "Train SVM\n",
            "Train RF\n",
            "Train LOGIT\n"
          ],
          "name": "stdout"
        }
      ]
    },
    {
      "cell_type": "code",
      "metadata": {
        "colab": {
          "base_uri": "https://localhost:8080/",
          "height": 453
        },
        "id": "NWmKSOJ-Xhhv",
        "outputId": "ff80ba07-9e31-41a3-862f-5757ed5912ac"
      },
      "source": [
        "# @title Gráfica de Línea Base de Comparación en Testeo\n",
        "plt.figure(figsize=(10, 6))\n",
        "plt.suptitle(\"AUC en Conjunto de Testeo\", fontsize=14)\n",
        "sns.boxplot(x='Model', y='AUC', data=CVTest, palette='inferno')"
      ],
      "execution_count": null,
      "outputs": [
        {
          "output_type": "execute_result",
          "data": {
            "text/plain": [
              "<matplotlib.axes._subplots.AxesSubplot at 0x7f93f2042810>"
            ]
          },
          "metadata": {
            "tags": []
          },
          "execution_count": 71
        },
        {
          "output_type": "display_data",
          "data": {
            "image/png": "[encoded data removed]",
            "text/plain": [
              "<Figure size 720x432 with 1 Axes>"
            ]
          },
          "metadata": {
            "tags": [],
            "needs_background": "light"
          }
        }
      ]
    },
    {
      "cell_type": "markdown",
      "metadata": {
        "id": "ITup-qpKOc_g"
      },
      "source": [
        "Para la elección de un modelo predictivo desde la perspectiva netamente técnica, sabemos que el AUC es la función de pérdida que nos orienta sobre el desempeño global del algoritmo, para todos sus umbrales de predicción de clases posibles.\n",
        "\n",
        "Del gráfico anterior, tenemos que el modelo que entrega los mejores resutados máximos, los mejores resultados mínimos, la mediana más alta y la menor variabilidad en sus predicciones, es el Random Forest. Aquí cabe señalar que en el entrenamiento previo del modelo, ya se descartó la condición de sobreajuste del clasificador.\n",
        "\n",
        "A su vez, tenemos que el segundo y tercer mejor modelo son SVM y Regresión Logística respectivamente, ambos con resultados bastante similares, pero con pequeñas diferencias a favor de SVM en cuanto a valores mínimos, mediana y variabilidad de sus resultados.\n",
        "\n",
        "En cuarto lugar se presenta el Árbol de Decisión, que se aprecia fácilmente que entrega resultados más bajos para sus máximos, mínimos y mediana, así como una mayor variabilidad, mencionando sin embargo, que a nivel de magnitudes, el modelo entrega resultados con un AUC superior a 0.75 en sus casos más desfavorables.\n",
        "\n",
        "Por último, el modelo KNN es por lejos el de peor desempeño potencial para todos sus umbrales evaluados, llegando a entregar resultados menores a 0.5, lo que se podría interpretar como funcionamientos peores a los de lanzar una moneda, para clasificar clientes en algunos escenarios.\n",
        "\n"
      ]
    },
    {
      "cell_type": "markdown",
      "metadata": {
        "id": "o6ioQTSZeKd8"
      },
      "source": [
        "# Selección de Modelo Predictivo de Clasificación\n",
        "En vista de los resultados antes obtenidos, tenemos lo siguiente:\n",
        "\n",
        "\n",
        "*   Desde una perspectiva económica, los mejores modelos son SVM, seguido muy de cerca por Random Forest.\n",
        "*   En cuanto al desempeño potencial, medido por la función de pérdida AUC, los mejores modelos son Random Forest, seguido por SVM; donde los peores resultados de Random Forest son cercanos al tercer cuartil de SVM.\n",
        "*   Los modelos Random Forest y SVM actúan como una \"caja negra\" en cuanto a su interpretabilidad, de modo que ninguno se diferencia o supera al otro en este aspecto.\n",
        "*   Para el funcionamiento de los modelos, es decir, para su entrenamiento, testeo y cálculo de probabilidades de clases, Random Forest utiliza muchos menos recursos de cómputo, entregando sus resultados de manera más rápida.\n",
        "\n",
        "En vista de lo anterior, sumado a que el modelo seleccionado será expuesto a predecir en una nueva base de datos desconocida hasta ahora, para la cual además no será posible ajustar de manera óptima el umbral de corte de probabilidades de clases, es que la elección del algoritmo se inclina a favor de Random Forest.\n",
        "\n"
      ]
    }
  ]
}