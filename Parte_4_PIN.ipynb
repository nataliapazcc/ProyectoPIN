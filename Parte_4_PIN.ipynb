{
  "nbformat": 4,
  "nbformat_minor": 0,
  "metadata": {
    "colab": {
      "name": "Parte 4 PIN.ipynb",
      "provenance": [],
      "collapsed_sections": [
        "Bm82e07G4ehY",
        "IlLLC54u4jCu",
        "UyfgVL_47ShL",
        "JsgRz3vfH92v"
      ],
      "toc_visible": true,
      "machine_shape": "hm"
    },
    "kernelspec": {
      "name": "python3",
      "display_name": "Python 3"
    },
    "language_info": {
      "name": "python"
    }
  },
  "cells": [
    {
      "cell_type": "markdown",
      "metadata": {
        "id": "gCkOx_Bq06wM"
      },
      "source": [
        "# TRABAJO TALLER FINAL DIPLOMADO INTELIGENCIA DE NEGOCIOS\n",
        "# Parte 4: Procesamiento Base Validación"
      ]
    },
    {
      "cell_type": "markdown",
      "metadata": {
        "id": "Bm82e07G4ehY"
      },
      "source": [
        "## INTRODUCCIÓN"
      ]
    },
    {
      "cell_type": "markdown",
      "metadata": {
        "id": "IlLLC54u4jCu"
      },
      "source": [
        "## Descripción General del Problema\n",
        "En el presente trabajo, se desarrolla un proyecto de retención de clientes para una entidad financiera particular, mediante la utilización de métodos predictivos que orienten el despliegue de acciones comerciales puntuales, que permitan maximizar el beneficio económico a la organización, dentro de un universo dado de clientes, de los cuales se posee una serie de datos específicos."
      ]
    },
    {
      "cell_type": "markdown",
      "metadata": {
        "id": "UyfgVL_47ShL"
      },
      "source": [
        "## Contenido del Reporte\n",
        "La estructura del reporte consta de los siguientes apartados:\n",
        "\n",
        "\n",
        "*   **Introducción:** Corresponde a la presente sección, en la cual se describe brevemente el caso de negocio estudiado.\n",
        "\n",
        "*   **Análisis Estadístico de los Datos:** Desarrollo del Preprocesamiento de los datos existentes, en el cual se identifica su naturaleza y comportamiento, la completitud de la base existente, la transformación y selección de los datos y atributos relevantes.\n",
        "\n",
        "*   **Aplicación de Modelos de Minería de Datos:** Entrenamiento y testeo de diversos modelos predictivos de Clasificación, en los datos preprocesados, evaluando sus desempeños y configuraciones, particularmente, en lo que a sus respectivos hiperparámetros se refiere.\n",
        "\n",
        "*   **Selección de Modelo Predictivo:** Una vez conocidas las métricas de desempeño de los diversos modelos, se pasa a seleccionar el que habilite maximizar el beneficio económico esperado para la organización, basándose en una comparación intramodelos, complementado con la visión de costos y beneficios que implican la retención o fuga de cada caso de cliente.\n",
        "\n",
        "*   **Políticas y Acciones Comerciales:** Definición de intención general de cómo abordar la retención de clientes y propuesta de acciones puntuales para su logro (Campaña Focalizada de Retención de Clientes).\n",
        "\n",
        "*   **Discusión y Conclusiones:** Racconto de los principales hallazgos encontrados, supuestos y propuestas relaizadas. Síntesis y elaboración de conclusiones.\n"
      ]
    },
    {
      "cell_type": "markdown",
      "metadata": {
        "id": "JsgRz3vfH92v"
      },
      "source": [
        "## Objetivos del Estudio\n",
        "En forma global, se tiene como objetivo general aplicar modelos predictivos de clasificación para aumentar la retención de clientes en una entidad financiera, orientando el despliegue de acciones comerciales concretas, focalizadas en los casos que puedan ser identificados tempranamente.\n",
        "\n",
        "De forma más puntual, tenemos los siguientes objetivos específicos:\n",
        "\n",
        "1.   Explorar estadísticamente los datos disponibles.\n",
        "2.   Establecer la base de datos preprocesada a utilizar.\n",
        "3.   Aplicar una batería de modelos predictivos para clasificación.\n",
        "4.   Seleccionar el mejor modelo predictivo.\n",
        "5.   Proponer acciones específicas para una campaña de retención de clientes.\n",
        "6.   Realizar predicciones sobre un conjunto de datos de validación.\n",
        "\n",
        "\n",
        "\n"
      ]
    },
    {
      "cell_type": "markdown",
      "metadata": {
        "id": "MIS2tkBXsWFy"
      },
      "source": [
        "## IMPORTACIÓN DE LIBRERÍAS, DATOS Y HERRAMIENTAS"
      ]
    },
    {
      "cell_type": "markdown",
      "metadata": {
        "id": "gFD86phDsdvC"
      },
      "source": [
        "A continuación se realiza la importación de las diversas librerías de Python a utilizar en el presente trabajo, con sus respectivos métodos, así como la definición de algunas funciones a aplicar.\n",
        "\n",
        "En forma complementaria, se hace la importación inicial de los datos en su estado original, para ser utilizados."
      ]
    },
    {
      "cell_type": "code",
      "metadata": {
        "id": "j3w65YP8Gx0l"
      },
      "source": [
        "# manejo de datos\n",
        "import numpy as np\n",
        "import pandas as pd\n",
        "\n",
        "# hay algunos warnings en la sección de \"Desbalance de clases\", con estas lineas los omitimos\n",
        "import warnings\n",
        "warnings.filterwarnings(\"ignore\")\n",
        "\n",
        "# imputación de datos\n",
        "from sklearn.experimental import enable_iterative_imputer\n",
        "from sklearn.impute import IterativeImputer\n",
        "\n",
        "# transformación\n",
        "from sklearn.preprocessing import MinMaxScaler\n",
        "\n",
        "# seleccion de modelos\n",
        "from sklearn.model_selection import cross_val_score\n",
        "from sklearn import model_selection \n",
        "# metricas\n",
        "from sklearn.metrics import recall_score, precision_score, accuracy_score\n",
        "from sklearn.metrics import classification_report, confusion_matrix\n",
        "\n",
        "# visualización\n",
        "import matplotlib.pyplot as plt\n",
        "import seaborn as sns\n",
        "%matplotlib inline\n",
        "sns.set(style='white', palette='inferno')\n",
        "\n",
        "# desbalance de clases\n",
        "# Undersampling\n",
        "from imblearn.under_sampling import RandomUnderSampler\n",
        "from collections import Counter\n",
        "# Oversampling\n",
        "from imblearn.over_sampling import RandomOverSampler\n",
        "# SMOTE\n",
        "from imblearn.over_sampling import SMOTE\n",
        "\n",
        "# indicadores de desempeño\n",
        "# accuracy\n",
        "from sklearn.metrics import accuracy_score\n",
        "# ROC\n",
        "from sklearn.metrics import roc_curve\n",
        "# probabilidades de predicción\n",
        "from sklearn import metrics\n",
        "from sklearn.metrics import recall_score, precision_score, accuracy_score\n",
        "\n",
        "# seleccion de modelos\n",
        "from sklearn.model_selection import cross_val_score\n",
        "from sklearn import model_selection\n",
        "\n",
        "# matriz de confusión\n",
        "from sklearn.metrics import classification_report, confusion_matrix\n",
        "\n",
        "# algoritmos\n",
        "# KNN\n",
        "from sklearn.neighbors import KNeighborsClassifier\n",
        "# Logit\n",
        "from sklearn.linear_model import LogisticRegression\n",
        "# árbol de decisión\n",
        "from sklearn.tree import DecisionTreeClassifier\n",
        "# tree (árbol de decisión gráfico)\n",
        "from sklearn import tree\n",
        "# SVM\n",
        "from sklearn.svm import SVC\n",
        "# random forest\n",
        "from sklearn.ensemble import RandomForestClassifier\n"
      ],
      "execution_count": null,
      "outputs": []
    },
    {
      "cell_type": "code",
      "metadata": {
        "id": "yF3k2KsnMexr"
      },
      "source": [
        "# @markdown Definición de Test de Kolmogorov - Smirnov\n",
        "def ecdf(data):\n",
        "    # Computa la distribución empirica acumulada (ECDF por sus siglas en ingles)\n",
        "    x = np.sort(data)\n",
        "    n = x.size\n",
        "    y = np.arange(1, n+1) / n\n",
        "    return x,y\n",
        "\n",
        "def plot_kolmogorov(sample1, sample2, alpha=0.05):\n",
        "  import matplotlib.pyplot as plt\n",
        "  from scipy import stats\n",
        "  # obtenemos la ECDF para cada muestra y las ordenamos\n",
        "  x1,y1 = ecdf(sample1)\n",
        "  x2,y2 = ecdf(sample2)\n",
        "  # plot\n",
        "  plt.figure(figsize=(9, 6))\n",
        "  sns.lineplot(x=x1, y=y1, color='red')\n",
        "  sns.lineplot(x=x2, y=y2, color='blue')\n",
        "  # test\n",
        "  stat, p_val = stats.ks_2samp(sample1, sample2)\n",
        "  # interpretamos el p-value \n",
        "  print(f\"p-value: {round(p_val,4)} | alpha: {alpha}\") \n",
        "  if p_val <= alpha: \n",
        "      print('Las distribuciones son independientes (Rechaza Hipótesis Nula)') \n",
        "  else: \n",
        "      print('Las distribuciones son dependientes (Acepta Hipótesis Nula)') \n",
        "  plt.ylabel(\"Cumulative Distribution Function\")\n",
        "  plt.xlabel('x')\n",
        "  plt.show()"
      ],
      "execution_count": null,
      "outputs": []
    },
    {
      "cell_type": "markdown",
      "metadata": {
        "id": "rHEjbL_pCGxf"
      },
      "source": [
        "# PREPROCESAMIENTO DE DATOS"
      ]
    },
    {
      "cell_type": "code",
      "metadata": {
        "colab": {
          "base_uri": "https://localhost:8080/",
          "height": 170
        },
        "id": "ccWMKmn9mCss",
        "outputId": "f53ef163-d7fa-4b5e-8ae0-03762f9c8406"
      },
      "source": [
        "#Importación de Datos\n",
        "\n",
        "url=\"https://raw.githubusercontent.com/Mlabrana/BI-Diplo/master/BASEFUGA_VALIDACION.csv\"\n",
        "data = pd.read_csv(url, sep=\",\")\n",
        "# contar missing values\n",
        "data.head(4)"
      ],
      "execution_count": null,
      "outputs": [
        {
          "output_type": "execute_result",
          "data": {
            "text/html": [
              "<div>\n",
              "<style scoped>\n",
              "    .dataframe tbody tr th:only-of-type {\n",
              "        vertical-align: middle;\n",
              "    }\n",
              "\n",
              "    .dataframe tbody tr th {\n",
              "        vertical-align: top;\n",
              "    }\n",
              "\n",
              "    .dataframe thead th {\n",
              "        text-align: right;\n",
              "    }\n",
              "</style>\n",
              "<table border=\"1\" class=\"dataframe\">\n",
              "  <thead>\n",
              "    <tr style=\"text-align: right;\">\n",
              "      <th></th>\n",
              "      <th>ID</th>\n",
              "      <th>GENERO</th>\n",
              "      <th>RENTA</th>\n",
              "      <th>EDAD</th>\n",
              "      <th>NIV_EDUC</th>\n",
              "      <th>E_CIVIL</th>\n",
              "      <th>COD_OFI</th>\n",
              "      <th>COD_COM</th>\n",
              "      <th>CIUDAD</th>\n",
              "      <th>D_Marzo</th>\n",
              "      <th>D_Abril</th>\n",
              "      <th>D_Mayo</th>\n",
              "      <th>D_Junio</th>\n",
              "      <th>D_Julio</th>\n",
              "      <th>D_Agosto</th>\n",
              "      <th>D_Septiembre</th>\n",
              "      <th>M_MOROSO</th>\n",
              "      <th>MONTO</th>\n",
              "      <th>SEGURO</th>\n",
              "      <th>FUGA</th>\n",
              "    </tr>\n",
              "  </thead>\n",
              "  <tbody>\n",
              "    <tr>\n",
              "      <th>0</th>\n",
              "      <td>2295</td>\n",
              "      <td>M</td>\n",
              "      <td>457693.0</td>\n",
              "      <td>45</td>\n",
              "      <td>UNV</td>\n",
              "      <td>CAS</td>\n",
              "      <td>31</td>\n",
              "      <td>119.0</td>\n",
              "      <td>SANTIAGO</td>\n",
              "      <td>0</td>\n",
              "      <td>190591</td>\n",
              "      <td>0</td>\n",
              "      <td>20396</td>\n",
              "      <td>0</td>\n",
              "      <td>0</td>\n",
              "      <td>415</td>\n",
              "      <td>1.0</td>\n",
              "      <td>2700000</td>\n",
              "      <td>NO</td>\n",
              "      <td>NaN</td>\n",
              "    </tr>\n",
              "    <tr>\n",
              "      <th>1</th>\n",
              "      <td>2296</td>\n",
              "      <td>F</td>\n",
              "      <td>2258382.0</td>\n",
              "      <td>30</td>\n",
              "      <td>TEC</td>\n",
              "      <td>SOL</td>\n",
              "      <td>74</td>\n",
              "      <td>272.0</td>\n",
              "      <td>VALDIVIA</td>\n",
              "      <td>0</td>\n",
              "      <td>47354</td>\n",
              "      <td>0</td>\n",
              "      <td>0</td>\n",
              "      <td>0</td>\n",
              "      <td>0</td>\n",
              "      <td>2</td>\n",
              "      <td>0.0</td>\n",
              "      <td>1900000</td>\n",
              "      <td>NO</td>\n",
              "      <td>NaN</td>\n",
              "    </tr>\n",
              "    <tr>\n",
              "      <th>2</th>\n",
              "      <td>2297</td>\n",
              "      <td>M</td>\n",
              "      <td>546190.0</td>\n",
              "      <td>51</td>\n",
              "      <td>UNV</td>\n",
              "      <td>CAS</td>\n",
              "      <td>138</td>\n",
              "      <td>1.0</td>\n",
              "      <td>ARICA</td>\n",
              "      <td>622808</td>\n",
              "      <td>61646</td>\n",
              "      <td>0</td>\n",
              "      <td>268771</td>\n",
              "      <td>235</td>\n",
              "      <td>2913</td>\n",
              "      <td>0</td>\n",
              "      <td>1.0</td>\n",
              "      <td>1100000</td>\n",
              "      <td>SI</td>\n",
              "      <td>NaN</td>\n",
              "    </tr>\n",
              "    <tr>\n",
              "      <th>3</th>\n",
              "      <td>2298</td>\n",
              "      <td>F</td>\n",
              "      <td>424424.0</td>\n",
              "      <td>41</td>\n",
              "      <td>MED</td>\n",
              "      <td>SOL</td>\n",
              "      <td>138</td>\n",
              "      <td>80.0</td>\n",
              "      <td>SANTIAGO</td>\n",
              "      <td>0</td>\n",
              "      <td>1054</td>\n",
              "      <td>0</td>\n",
              "      <td>392871</td>\n",
              "      <td>1961</td>\n",
              "      <td>0</td>\n",
              "      <td>1022</td>\n",
              "      <td>3.0</td>\n",
              "      <td>3500000</td>\n",
              "      <td>NO</td>\n",
              "      <td>NaN</td>\n",
              "    </tr>\n",
              "  </tbody>\n",
              "</table>\n",
              "</div>"
            ],
            "text/plain": [
              "     ID GENERO      RENTA  EDAD  ... M_MOROSO    MONTO  SEGURO  FUGA\n",
              "0  2295      M   457693.0    45  ...      1.0  2700000      NO   NaN\n",
              "1  2296      F  2258382.0    30  ...      0.0  1900000      NO   NaN\n",
              "2  2297      M   546190.0    51  ...      1.0  1100000      SI   NaN\n",
              "3  2298      F   424424.0    41  ...      3.0  3500000      NO   NaN\n",
              "\n",
              "[4 rows x 20 columns]"
            ]
          },
          "metadata": {
            "tags": []
          },
          "execution_count": 10
        }
      ]
    },
    {
      "cell_type": "code",
      "metadata": {
        "colab": {
          "base_uri": "https://localhost:8080/",
          "height": 290
        },
        "id": "HTXSr9JDr_xE",
        "outputId": "6263e22b-15c8-4137-c487-a1a56f8986f2"
      },
      "source": [
        "datos = data.copy()\n",
        "datos.describe().round(2)"
      ],
      "execution_count": null,
      "outputs": [
        {
          "output_type": "execute_result",
          "data": {
            "text/html": [
              "<div>\n",
              "<style scoped>\n",
              "    .dataframe tbody tr th:only-of-type {\n",
              "        vertical-align: middle;\n",
              "    }\n",
              "\n",
              "    .dataframe tbody tr th {\n",
              "        vertical-align: top;\n",
              "    }\n",
              "\n",
              "    .dataframe thead th {\n",
              "        text-align: right;\n",
              "    }\n",
              "</style>\n",
              "<table border=\"1\" class=\"dataframe\">\n",
              "  <thead>\n",
              "    <tr style=\"text-align: right;\">\n",
              "      <th></th>\n",
              "      <th>ID</th>\n",
              "      <th>RENTA</th>\n",
              "      <th>EDAD</th>\n",
              "      <th>COD_OFI</th>\n",
              "      <th>COD_COM</th>\n",
              "      <th>D_Marzo</th>\n",
              "      <th>D_Abril</th>\n",
              "      <th>D_Mayo</th>\n",
              "      <th>D_Junio</th>\n",
              "      <th>D_Julio</th>\n",
              "      <th>D_Agosto</th>\n",
              "      <th>D_Septiembre</th>\n",
              "      <th>M_MOROSO</th>\n",
              "      <th>MONTO</th>\n",
              "      <th>FUGA</th>\n",
              "    </tr>\n",
              "  </thead>\n",
              "  <tbody>\n",
              "    <tr>\n",
              "      <th>count</th>\n",
              "      <td>1200.00</td>\n",
              "      <td>1186.00</td>\n",
              "      <td>1200.00</td>\n",
              "      <td>1200.00</td>\n",
              "      <td>1198.00</td>\n",
              "      <td>1200.00</td>\n",
              "      <td>1200.00</td>\n",
              "      <td>1200.00</td>\n",
              "      <td>1200.00</td>\n",
              "      <td>1200.00</td>\n",
              "      <td>1200.00</td>\n",
              "      <td>1200.00</td>\n",
              "      <td>1198.00</td>\n",
              "      <td>1200.00</td>\n",
              "      <td>0.0</td>\n",
              "    </tr>\n",
              "    <tr>\n",
              "      <th>mean</th>\n",
              "      <td>2894.50</td>\n",
              "      <td>1191227.94</td>\n",
              "      <td>43.38</td>\n",
              "      <td>69.54</td>\n",
              "      <td>111.65</td>\n",
              "      <td>138817.64</td>\n",
              "      <td>260467.04</td>\n",
              "      <td>98072.32</td>\n",
              "      <td>184505.14</td>\n",
              "      <td>499.24</td>\n",
              "      <td>3184.33</td>\n",
              "      <td>2178.82</td>\n",
              "      <td>1.23</td>\n",
              "      <td>3341250.00</td>\n",
              "      <td>NaN</td>\n",
              "    </tr>\n",
              "    <tr>\n",
              "      <th>std</th>\n",
              "      <td>346.55</td>\n",
              "      <td>1880556.88</td>\n",
              "      <td>8.75</td>\n",
              "      <td>39.74</td>\n",
              "      <td>86.45</td>\n",
              "      <td>441616.87</td>\n",
              "      <td>381092.52</td>\n",
              "      <td>658892.38</td>\n",
              "      <td>380148.23</td>\n",
              "      <td>921.33</td>\n",
              "      <td>8092.94</td>\n",
              "      <td>10019.76</td>\n",
              "      <td>0.78</td>\n",
              "      <td>2254035.97</td>\n",
              "      <td>NaN</td>\n",
              "    </tr>\n",
              "    <tr>\n",
              "      <th>min</th>\n",
              "      <td>2295.00</td>\n",
              "      <td>72.00</td>\n",
              "      <td>21.00</td>\n",
              "      <td>10.00</td>\n",
              "      <td>1.00</td>\n",
              "      <td>0.00</td>\n",
              "      <td>0.00</td>\n",
              "      <td>0.00</td>\n",
              "      <td>0.00</td>\n",
              "      <td>0.00</td>\n",
              "      <td>0.00</td>\n",
              "      <td>0.00</td>\n",
              "      <td>0.00</td>\n",
              "      <td>500000.00</td>\n",
              "      <td>NaN</td>\n",
              "    </tr>\n",
              "    <tr>\n",
              "      <th>25%</th>\n",
              "      <td>2594.75</td>\n",
              "      <td>142271.00</td>\n",
              "      <td>38.00</td>\n",
              "      <td>31.00</td>\n",
              "      <td>83.00</td>\n",
              "      <td>0.00</td>\n",
              "      <td>14159.00</td>\n",
              "      <td>0.00</td>\n",
              "      <td>0.00</td>\n",
              "      <td>3.00</td>\n",
              "      <td>0.00</td>\n",
              "      <td>0.00</td>\n",
              "      <td>1.00</td>\n",
              "      <td>1600000.00</td>\n",
              "      <td>NaN</td>\n",
              "    </tr>\n",
              "    <tr>\n",
              "      <th>50%</th>\n",
              "      <td>2894.50</td>\n",
              "      <td>517007.50</td>\n",
              "      <td>44.00</td>\n",
              "      <td>60.00</td>\n",
              "      <td>90.00</td>\n",
              "      <td>0.00</td>\n",
              "      <td>122547.00</td>\n",
              "      <td>0.00</td>\n",
              "      <td>17169.00</td>\n",
              "      <td>124.00</td>\n",
              "      <td>0.00</td>\n",
              "      <td>90.50</td>\n",
              "      <td>1.00</td>\n",
              "      <td>2500000.00</td>\n",
              "      <td>NaN</td>\n",
              "    </tr>\n",
              "    <tr>\n",
              "      <th>75%</th>\n",
              "      <td>3194.25</td>\n",
              "      <td>1040461.75</td>\n",
              "      <td>50.00</td>\n",
              "      <td>90.00</td>\n",
              "      <td>119.00</td>\n",
              "      <td>0.00</td>\n",
              "      <td>328246.75</td>\n",
              "      <td>0.00</td>\n",
              "      <td>193217.25</td>\n",
              "      <td>607.25</td>\n",
              "      <td>1500.25</td>\n",
              "      <td>572.25</td>\n",
              "      <td>2.00</td>\n",
              "      <td>4500000.00</td>\n",
              "      <td>NaN</td>\n",
              "    </tr>\n",
              "    <tr>\n",
              "      <th>max</th>\n",
              "      <td>3494.00</td>\n",
              "      <td>9600000.00</td>\n",
              "      <td>120.00</td>\n",
              "      <td>155.00</td>\n",
              "      <td>516.00</td>\n",
              "      <td>3961350.00</td>\n",
              "      <td>3429083.00</td>\n",
              "      <td>10718684.00</td>\n",
              "      <td>2892126.00</td>\n",
              "      <td>11167.00</td>\n",
              "      <td>82283.00</td>\n",
              "      <td>165348.00</td>\n",
              "      <td>3.00</td>\n",
              "      <td>8000000.00</td>\n",
              "      <td>NaN</td>\n",
              "    </tr>\n",
              "  </tbody>\n",
              "</table>\n",
              "</div>"
            ],
            "text/plain": [
              "            ID       RENTA     EDAD  ...  M_MOROSO       MONTO  FUGA\n",
              "count  1200.00     1186.00  1200.00  ...   1198.00     1200.00   0.0\n",
              "mean   2894.50  1191227.94    43.38  ...      1.23  3341250.00   NaN\n",
              "std     346.55  1880556.88     8.75  ...      0.78  2254035.97   NaN\n",
              "min    2295.00       72.00    21.00  ...      0.00   500000.00   NaN\n",
              "25%    2594.75   142271.00    38.00  ...      1.00  1600000.00   NaN\n",
              "50%    2894.50   517007.50    44.00  ...      1.00  2500000.00   NaN\n",
              "75%    3194.25  1040461.75    50.00  ...      2.00  4500000.00   NaN\n",
              "max    3494.00  9600000.00   120.00  ...      3.00  8000000.00   NaN\n",
              "\n",
              "[8 rows x 15 columns]"
            ]
          },
          "metadata": {
            "tags": []
          },
          "execution_count": 12
        }
      ]
    },
    {
      "cell_type": "code",
      "metadata": {
        "colab": {
          "base_uri": "https://localhost:8080/"
        },
        "id": "BIYV5aNwsBo6",
        "outputId": "6f742a96-45c3-4776-8ef6-461fa917de69"
      },
      "source": [
        "datos.isna().sum()"
      ],
      "execution_count": null,
      "outputs": [
        {
          "output_type": "execute_result",
          "data": {
            "text/plain": [
              "ID                 0\n",
              "GENERO             4\n",
              "RENTA             14\n",
              "EDAD               0\n",
              "NIV_EDUC          14\n",
              "E_CIVIL            3\n",
              "COD_OFI            0\n",
              "COD_COM            2\n",
              "CIUDAD             8\n",
              "D_Marzo            0\n",
              "D_Abril            0\n",
              "D_Mayo             0\n",
              "D_Junio            0\n",
              "D_Julio            0\n",
              "D_Agosto           0\n",
              "D_Septiembre       0\n",
              "M_MOROSO           2\n",
              "MONTO              0\n",
              "SEGURO             8\n",
              "FUGA            1200\n",
              "dtype: int64"
            ]
          },
          "metadata": {
            "tags": []
          },
          "execution_count": 13
        }
      ]
    },
    {
      "cell_type": "code",
      "metadata": {
        "colab": {
          "base_uri": "https://localhost:8080/",
          "height": 78
        },
        "id": "Iz0RnJrXuKYY",
        "outputId": "9c45c171-1640-4ecd-ea08-365776a70964"
      },
      "source": [
        "datos[(datos['EDAD']>90) | (datos['EDAD']<0)]"
      ],
      "execution_count": null,
      "outputs": [
        {
          "output_type": "execute_result",
          "data": {
            "text/html": [
              "<div>\n",
              "<style scoped>\n",
              "    .dataframe tbody tr th:only-of-type {\n",
              "        vertical-align: middle;\n",
              "    }\n",
              "\n",
              "    .dataframe tbody tr th {\n",
              "        vertical-align: top;\n",
              "    }\n",
              "\n",
              "    .dataframe thead th {\n",
              "        text-align: right;\n",
              "    }\n",
              "</style>\n",
              "<table border=\"1\" class=\"dataframe\">\n",
              "  <thead>\n",
              "    <tr style=\"text-align: right;\">\n",
              "      <th></th>\n",
              "      <th>ID</th>\n",
              "      <th>GENERO</th>\n",
              "      <th>RENTA</th>\n",
              "      <th>EDAD</th>\n",
              "      <th>NIV_EDUC</th>\n",
              "      <th>E_CIVIL</th>\n",
              "      <th>COD_OFI</th>\n",
              "      <th>COD_COM</th>\n",
              "      <th>CIUDAD</th>\n",
              "      <th>D_Marzo</th>\n",
              "      <th>D_Abril</th>\n",
              "      <th>D_Mayo</th>\n",
              "      <th>D_Junio</th>\n",
              "      <th>D_Julio</th>\n",
              "      <th>D_Agosto</th>\n",
              "      <th>D_Septiembre</th>\n",
              "      <th>M_MOROSO</th>\n",
              "      <th>MONTO</th>\n",
              "      <th>SEGURO</th>\n",
              "      <th>FUGA</th>\n",
              "    </tr>\n",
              "  </thead>\n",
              "  <tbody>\n",
              "    <tr>\n",
              "      <th>670</th>\n",
              "      <td>2965</td>\n",
              "      <td>F</td>\n",
              "      <td>584605.0</td>\n",
              "      <td>120</td>\n",
              "      <td>MED</td>\n",
              "      <td>CAS</td>\n",
              "      <td>51</td>\n",
              "      <td>88.0</td>\n",
              "      <td>SANTIAGO</td>\n",
              "      <td>0</td>\n",
              "      <td>124557</td>\n",
              "      <td>0</td>\n",
              "      <td>0</td>\n",
              "      <td>63</td>\n",
              "      <td>18629</td>\n",
              "      <td>0</td>\n",
              "      <td>1.0</td>\n",
              "      <td>3700000</td>\n",
              "      <td>NO</td>\n",
              "      <td>NaN</td>\n",
              "    </tr>\n",
              "  </tbody>\n",
              "</table>\n",
              "</div>"
            ],
            "text/plain": [
              "       ID GENERO     RENTA  EDAD  ... M_MOROSO    MONTO  SEGURO  FUGA\n",
              "670  2965      F  584605.0   120  ...      1.0  3700000      NO   NaN\n",
              "\n",
              "[1 rows x 20 columns]"
            ]
          },
          "metadata": {
            "tags": []
          },
          "execution_count": 14
        }
      ]
    },
    {
      "cell_type": "code",
      "metadata": {
        "colab": {
          "base_uri": "https://localhost:8080/",
          "height": 108
        },
        "id": "3Dtmh-KttBak",
        "outputId": "e5df7611-947e-4ab1-f505-20a6f5089250"
      },
      "source": [
        "datos_null = datos[datos.COD_COM.isnull()]\n",
        "datos_null.head()"
      ],
      "execution_count": null,
      "outputs": [
        {
          "output_type": "execute_result",
          "data": {
            "text/html": [
              "<div>\n",
              "<style scoped>\n",
              "    .dataframe tbody tr th:only-of-type {\n",
              "        vertical-align: middle;\n",
              "    }\n",
              "\n",
              "    .dataframe tbody tr th {\n",
              "        vertical-align: top;\n",
              "    }\n",
              "\n",
              "    .dataframe thead th {\n",
              "        text-align: right;\n",
              "    }\n",
              "</style>\n",
              "<table border=\"1\" class=\"dataframe\">\n",
              "  <thead>\n",
              "    <tr style=\"text-align: right;\">\n",
              "      <th></th>\n",
              "      <th>ID</th>\n",
              "      <th>GENERO</th>\n",
              "      <th>RENTA</th>\n",
              "      <th>EDAD</th>\n",
              "      <th>NIV_EDUC</th>\n",
              "      <th>E_CIVIL</th>\n",
              "      <th>COD_OFI</th>\n",
              "      <th>COD_COM</th>\n",
              "      <th>CIUDAD</th>\n",
              "      <th>D_Marzo</th>\n",
              "      <th>D_Abril</th>\n",
              "      <th>D_Mayo</th>\n",
              "      <th>D_Junio</th>\n",
              "      <th>D_Julio</th>\n",
              "      <th>D_Agosto</th>\n",
              "      <th>D_Septiembre</th>\n",
              "      <th>M_MOROSO</th>\n",
              "      <th>MONTO</th>\n",
              "      <th>SEGURO</th>\n",
              "      <th>FUGA</th>\n",
              "    </tr>\n",
              "  </thead>\n",
              "  <tbody>\n",
              "    <tr>\n",
              "      <th>563</th>\n",
              "      <td>2858</td>\n",
              "      <td>M</td>\n",
              "      <td>111765.0</td>\n",
              "      <td>35</td>\n",
              "      <td>MED</td>\n",
              "      <td>CAS</td>\n",
              "      <td>90</td>\n",
              "      <td>NaN</td>\n",
              "      <td>NaN</td>\n",
              "      <td>0</td>\n",
              "      <td>0</td>\n",
              "      <td>0</td>\n",
              "      <td>0</td>\n",
              "      <td>552</td>\n",
              "      <td>17070</td>\n",
              "      <td>0</td>\n",
              "      <td>1.0</td>\n",
              "      <td>1200000</td>\n",
              "      <td>NO</td>\n",
              "      <td>NaN</td>\n",
              "    </tr>\n",
              "    <tr>\n",
              "      <th>599</th>\n",
              "      <td>2894</td>\n",
              "      <td>F</td>\n",
              "      <td>2352154.0</td>\n",
              "      <td>30</td>\n",
              "      <td>TEC</td>\n",
              "      <td>CAS</td>\n",
              "      <td>90</td>\n",
              "      <td>NaN</td>\n",
              "      <td>NaN</td>\n",
              "      <td>0</td>\n",
              "      <td>0</td>\n",
              "      <td>0</td>\n",
              "      <td>0</td>\n",
              "      <td>0</td>\n",
              "      <td>6703</td>\n",
              "      <td>0</td>\n",
              "      <td>0.0</td>\n",
              "      <td>2700000</td>\n",
              "      <td>NO</td>\n",
              "      <td>NaN</td>\n",
              "    </tr>\n",
              "  </tbody>\n",
              "</table>\n",
              "</div>"
            ],
            "text/plain": [
              "       ID GENERO      RENTA  EDAD  ... M_MOROSO    MONTO  SEGURO  FUGA\n",
              "563  2858      M   111765.0    35  ...      1.0  1200000      NO   NaN\n",
              "599  2894      F  2352154.0    30  ...      0.0  2700000      NO   NaN\n",
              "\n",
              "[2 rows x 20 columns]"
            ]
          },
          "metadata": {
            "tags": []
          },
          "execution_count": 27
        }
      ]
    },
    {
      "cell_type": "code",
      "metadata": {
        "colab": {
          "base_uri": "https://localhost:8080/",
          "height": 108
        },
        "id": "zE31U4Atvuzf",
        "outputId": "101e892a-a02b-45f1-d5fc-ee362d871666"
      },
      "source": [
        "datos_null = datos[datos.M_MOROSO.isnull()]\n",
        "datos_null.head()"
      ],
      "execution_count": null,
      "outputs": [
        {
          "output_type": "execute_result",
          "data": {
            "text/html": [
              "<div>\n",
              "<style scoped>\n",
              "    .dataframe tbody tr th:only-of-type {\n",
              "        vertical-align: middle;\n",
              "    }\n",
              "\n",
              "    .dataframe tbody tr th {\n",
              "        vertical-align: top;\n",
              "    }\n",
              "\n",
              "    .dataframe thead th {\n",
              "        text-align: right;\n",
              "    }\n",
              "</style>\n",
              "<table border=\"1\" class=\"dataframe\">\n",
              "  <thead>\n",
              "    <tr style=\"text-align: right;\">\n",
              "      <th></th>\n",
              "      <th>ID</th>\n",
              "      <th>GENERO</th>\n",
              "      <th>RENTA</th>\n",
              "      <th>EDAD</th>\n",
              "      <th>NIV_EDUC</th>\n",
              "      <th>E_CIVIL</th>\n",
              "      <th>COD_OFI</th>\n",
              "      <th>COD_COM</th>\n",
              "      <th>CIUDAD</th>\n",
              "      <th>D_Marzo</th>\n",
              "      <th>D_Abril</th>\n",
              "      <th>D_Mayo</th>\n",
              "      <th>D_Junio</th>\n",
              "      <th>D_Julio</th>\n",
              "      <th>D_Agosto</th>\n",
              "      <th>D_Septiembre</th>\n",
              "      <th>M_MOROSO</th>\n",
              "      <th>MONTO</th>\n",
              "      <th>SEGURO</th>\n",
              "      <th>FUGA</th>\n",
              "    </tr>\n",
              "  </thead>\n",
              "  <tbody>\n",
              "    <tr>\n",
              "      <th>211</th>\n",
              "      <td>2506</td>\n",
              "      <td>M</td>\n",
              "      <td>847516.0</td>\n",
              "      <td>36</td>\n",
              "      <td>UNV</td>\n",
              "      <td>SOL</td>\n",
              "      <td>74</td>\n",
              "      <td>272.0</td>\n",
              "      <td>VALDIVIA</td>\n",
              "      <td>0</td>\n",
              "      <td>724856</td>\n",
              "      <td>0</td>\n",
              "      <td>0</td>\n",
              "      <td>0</td>\n",
              "      <td>0</td>\n",
              "      <td>0</td>\n",
              "      <td>NaN</td>\n",
              "      <td>6400000</td>\n",
              "      <td>NO</td>\n",
              "      <td>NaN</td>\n",
              "    </tr>\n",
              "    <tr>\n",
              "      <th>212</th>\n",
              "      <td>2507</td>\n",
              "      <td>F</td>\n",
              "      <td>59073.0</td>\n",
              "      <td>42</td>\n",
              "      <td>TEC</td>\n",
              "      <td>SOL</td>\n",
              "      <td>13</td>\n",
              "      <td>16.0</td>\n",
              "      <td>ANTOFAGASTA</td>\n",
              "      <td>3624014</td>\n",
              "      <td>891022</td>\n",
              "      <td>746196</td>\n",
              "      <td>0</td>\n",
              "      <td>1661</td>\n",
              "      <td>0</td>\n",
              "      <td>349</td>\n",
              "      <td>NaN</td>\n",
              "      <td>4500000</td>\n",
              "      <td>SI</td>\n",
              "      <td>NaN</td>\n",
              "    </tr>\n",
              "  </tbody>\n",
              "</table>\n",
              "</div>"
            ],
            "text/plain": [
              "       ID GENERO     RENTA  EDAD  ... M_MOROSO    MONTO  SEGURO  FUGA\n",
              "211  2506      M  847516.0    36  ...      NaN  6400000      NO   NaN\n",
              "212  2507      F   59073.0    42  ...      NaN  4500000      SI   NaN\n",
              "\n",
              "[2 rows x 20 columns]"
            ]
          },
          "metadata": {
            "tags": []
          },
          "execution_count": 28
        }
      ]
    },
    {
      "cell_type": "code",
      "metadata": {
        "id": "lnxdR3Tyxqc-"
      },
      "source": [
        ""
      ],
      "execution_count": null,
      "outputs": []
    },
    {
      "cell_type": "markdown",
      "metadata": {
        "id": "b5ED98DODp7o"
      },
      "source": [
        "## Tratamiento de Datos Faltantes y Valores Extremos"
      ]
    },
    {
      "cell_type": "markdown",
      "metadata": {
        "id": "U-gH6ItIDz_L"
      },
      "source": [
        "Según lo visto anteriormente, tenemos 6 atributos que suman un total de 41 datos faltantes, así como un atributo que posee 3 datos fuera de rango y 3 valores extremos (outliers)."
      ]
    },
    {
      "cell_type": "code",
      "metadata": {
        "colab": {
          "base_uri": "https://localhost:8080/",
          "height": 320
        },
        "id": "6MnHC1ZqCQOm",
        "outputId": "72fb4eb6-66b1-44eb-9632-8f01f19a4dd0"
      },
      "source": [
        "# @title Tabla Resumen de Datos Faltantes y Valores Extremos\n",
        "# Listas para Columnas\n",
        "Atributo = ['GENERO', 'RENTA', 'EDAD', 'NIV_EDUC', 'E_CIVIL', 'COD_COM', 'CIUDAD', 'M_MOROSO', 'SEGURO']\n",
        "Tipo_Escala = ['Nominal', 'Nominal', 'Absoluta', 'Ordinal', 'Nominal', 'Nominal', 'Nominal','Nominal', 'Nominal']\n",
        "Cantidad_Faltantes = [4, 14, 0, 14, 3, 2, 8, 2, 8]\n",
        "Cantidad_Extremos = [0, 0, 1, 0, 0, 0, 0, 0, 0]\n",
        "Cantidad_FueraRango = [0, 0, 1, 0, 0, 0, 0, 0, 0]\n",
        "# Encabezado de Tabla\n",
        "TD = pd.DataFrame({'Atributo': Atributo, 'Tipo de Escala': Tipo_Escala, 'Cantidad Datos Faltantes': Cantidad_Faltantes, 'Cantidad Datos Extremos': Cantidad_Extremos, 'Cantidad Datos Fuera Rango': Cantidad_FueraRango})\n",
        "TD"
      ],
      "execution_count": null,
      "outputs": [
        {
          "output_type": "execute_result",
          "data": {
            "text/html": [
              "<div>\n",
              "<style scoped>\n",
              "    .dataframe tbody tr th:only-of-type {\n",
              "        vertical-align: middle;\n",
              "    }\n",
              "\n",
              "    .dataframe tbody tr th {\n",
              "        vertical-align: top;\n",
              "    }\n",
              "\n",
              "    .dataframe thead th {\n",
              "        text-align: right;\n",
              "    }\n",
              "</style>\n",
              "<table border=\"1\" class=\"dataframe\">\n",
              "  <thead>\n",
              "    <tr style=\"text-align: right;\">\n",
              "      <th></th>\n",
              "      <th>Atributo</th>\n",
              "      <th>Tipo de Escala</th>\n",
              "      <th>Cantidad Datos Faltantes</th>\n",
              "      <th>Cantidad Datos Extremos</th>\n",
              "      <th>Cantidad Datos Fuera Rango</th>\n",
              "    </tr>\n",
              "  </thead>\n",
              "  <tbody>\n",
              "    <tr>\n",
              "      <th>0</th>\n",
              "      <td>GENERO</td>\n",
              "      <td>Nominal</td>\n",
              "      <td>4</td>\n",
              "      <td>0</td>\n",
              "      <td>0</td>\n",
              "    </tr>\n",
              "    <tr>\n",
              "      <th>1</th>\n",
              "      <td>RENTA</td>\n",
              "      <td>Nominal</td>\n",
              "      <td>14</td>\n",
              "      <td>0</td>\n",
              "      <td>0</td>\n",
              "    </tr>\n",
              "    <tr>\n",
              "      <th>2</th>\n",
              "      <td>EDAD</td>\n",
              "      <td>Absoluta</td>\n",
              "      <td>0</td>\n",
              "      <td>1</td>\n",
              "      <td>1</td>\n",
              "    </tr>\n",
              "    <tr>\n",
              "      <th>3</th>\n",
              "      <td>NIV_EDUC</td>\n",
              "      <td>Ordinal</td>\n",
              "      <td>14</td>\n",
              "      <td>0</td>\n",
              "      <td>0</td>\n",
              "    </tr>\n",
              "    <tr>\n",
              "      <th>4</th>\n",
              "      <td>E_CIVIL</td>\n",
              "      <td>Nominal</td>\n",
              "      <td>3</td>\n",
              "      <td>0</td>\n",
              "      <td>0</td>\n",
              "    </tr>\n",
              "    <tr>\n",
              "      <th>5</th>\n",
              "      <td>COD_COM</td>\n",
              "      <td>Nominal</td>\n",
              "      <td>2</td>\n",
              "      <td>0</td>\n",
              "      <td>0</td>\n",
              "    </tr>\n",
              "    <tr>\n",
              "      <th>6</th>\n",
              "      <td>CIUDAD</td>\n",
              "      <td>Nominal</td>\n",
              "      <td>8</td>\n",
              "      <td>0</td>\n",
              "      <td>0</td>\n",
              "    </tr>\n",
              "    <tr>\n",
              "      <th>7</th>\n",
              "      <td>M_MOROSO</td>\n",
              "      <td>Nominal</td>\n",
              "      <td>2</td>\n",
              "      <td>0</td>\n",
              "      <td>0</td>\n",
              "    </tr>\n",
              "    <tr>\n",
              "      <th>8</th>\n",
              "      <td>SEGURO</td>\n",
              "      <td>Nominal</td>\n",
              "      <td>8</td>\n",
              "      <td>0</td>\n",
              "      <td>0</td>\n",
              "    </tr>\n",
              "  </tbody>\n",
              "</table>\n",
              "</div>"
            ],
            "text/plain": [
              "   Atributo Tipo de Escala  ...  Cantidad Datos Extremos  Cantidad Datos Fuera Rango\n",
              "0    GENERO        Nominal  ...                        0                           0\n",
              "1     RENTA        Nominal  ...                        0                           0\n",
              "2      EDAD       Absoluta  ...                        1                           1\n",
              "3  NIV_EDUC        Ordinal  ...                        0                           0\n",
              "4   E_CIVIL        Nominal  ...                        0                           0\n",
              "5   COD_COM        Nominal  ...                        0                           0\n",
              "6    CIUDAD        Nominal  ...                        0                           0\n",
              "7  M_MOROSO        Nominal  ...                        0                           0\n",
              "8    SEGURO        Nominal  ...                        0                           0\n",
              "\n",
              "[9 rows x 5 columns]"
            ]
          },
          "metadata": {
            "tags": []
          },
          "execution_count": 35
        }
      ]
    },
    {
      "cell_type": "code",
      "metadata": {
        "id": "A-gDWwnNz-zW"
      },
      "source": [
        ""
      ],
      "execution_count": null,
      "outputs": []
    },
    {
      "cell_type": "markdown",
      "metadata": {
        "id": "hixpsAJt6ABW"
      },
      "source": [
        "**Comentarios:** \\\\\n",
        "A partir de aquí, las estrategias de tratamiento de dichos datos faltantes y extremos difiere dependiendo tanto del tipo de escala asociada, de la cantidad de registros involucrados, así como de la naturaleza particular del negocio.\n",
        "\n",
        "1. Para la variable \"EDAD\", dado que pertenece a la escala absoluta, se propone realizar una sustitución de los valores faltantes, fuera de rango y extremos mediante el método de imputación AD-HOC usando la moda.\n",
        "\n",
        "2. Por su parte, para los valores faltantes de la variable \"NIV_EDUC\", cuya escala es de tipo ordinal, se propone reemplazar los niveles expresados por un string, por valores numéricos que muestren el equivalente en años de estudio para cada categoría. Una vez realizado el reemplazo, utilizar el algoritmo de imputación AD-HOC para asignar un valor de acuerdo a la moda.\n",
        "\n",
        "3. En relación con las variables restantes, todas pertenecientes a la escala nominal, el tratamiento es de naturaleza especial, según sea caso.\n",
        "\n",
        "4. De este modo, para el atributo \"GENERO\", por tratarse de una variable binaria, con 11 datos faltantes, se propone reemplazar los valores originales M y F por los valores numéricos 0 y 1, para luego aplicar el método de imputación AD-HOC usando la moda dada su naturaleza. \n",
        "\n",
        "4. En forma análoga a la anterior, para el atributo \"E_CIVIL\", por tratarse de una variable nominal con 4 estados posibles, en la cual hay presentes 11 datos faltantes, también se propone reemplazar los valores originales CAS, SOL, SEP y VIU por los valores numéricos 1, 2, 3 y 4, para luego aplicar el método de imputación AD-HOC, usando la moda.\n",
        "\n",
        "5. Finalmente, para las variables de escala nominal \"COD_COM\" y \"CIUDAD\", solo existen 3 datos faltantes en cada una, siendo menor el impacto de la alteración que podrían generar en la base de datos original, si es que son reemplazados por algún valor específico. Dado que sus posibles estados, es decir, el conjunto de valores que pueden tomar es muy amplio, no es factible replicar los tratamientos anteriores, de modo que una solución posible, es reemplazarlos los datos faltantes por las modas de cada variable. Cabe mencionar que, tal como se observó anteriormente, el código de la comuna y la ciudad tinen relación, correspondiendo el código 90 a la ciudad de Santiago, siendo además dichos valores los resultados para las modas de cada atributo. De este modo, es consistente la sustitución en ambos casos para ese par de valores."
      ]
    },
    {
      "cell_type": "markdown",
      "metadata": {
        "id": "-43USmjEpD2g"
      },
      "source": [
        "A continuación se desarrollan los reemplazos de datos inconsistentes, según la metodología planteada anteriormente."
      ]
    },
    {
      "cell_type": "markdown",
      "metadata": {
        "id": "zrpXQ90i06d1"
      },
      "source": [
        "### Sustitución de variables binarias y nominales"
      ]
    },
    {
      "cell_type": "code",
      "metadata": {
        "id": "5R5wwo5o1owg"
      },
      "source": [
        "Datos2 = datos.copy()"
      ],
      "execution_count": null,
      "outputs": []
    },
    {
      "cell_type": "code",
      "metadata": {
        "colab": {
          "base_uri": "https://localhost:8080/"
        },
        "id": "zGEyXApIq96A",
        "outputId": "5931d714-1095-411f-e113-5e6ad5974a16"
      },
      "source": [
        "# @markdown Sustitución de Valores Variable Binaria GENERO\n",
        "Datos2['GENERO'].replace({'M': 0, 'F': 1}, inplace=True)\n",
        "print(Datos2['GENERO'].value_counts())"
      ],
      "execution_count": null,
      "outputs": [
        {
          "output_type": "stream",
          "text": [
            "0.0    691\n",
            "1.0    505\n",
            "Name: GENERO, dtype: int64\n"
          ],
          "name": "stdout"
        }
      ]
    },
    {
      "cell_type": "code",
      "metadata": {
        "colab": {
          "base_uri": "https://localhost:8080/"
        },
        "id": "kUSdd1MEuDfI",
        "outputId": "d97c5428-3318-44a7-e824-ecac75dd4236"
      },
      "source": [
        "# @markdown Sustitución de Valores Variable Nominal E_CIVIL\n",
        "Datos2['E_CIVIL'].replace({'CAS': 1, 'SOL': 2, 'SEP': 3, 'VIU': 4}, inplace=True)\n",
        "print(Datos2['E_CIVIL'].value_counts())"
      ],
      "execution_count": null,
      "outputs": [
        {
          "output_type": "stream",
          "text": [
            "1.0    697\n",
            "2.0    389\n",
            "4.0     58\n",
            "3.0     53\n",
            "Name: E_CIVIL, dtype: int64\n"
          ],
          "name": "stdout"
        }
      ]
    },
    {
      "cell_type": "markdown",
      "metadata": {
        "id": "-qNFQXx5xoOL"
      },
      "source": [
        "Para el caso del atributo de nivel educacional, se debe definir inicialmente los valores que sustituirán a los strings correspondientes a los diferentes modelos.\n",
        "\n",
        "Una opción posible, con tal de aprovechar la naturaleza ordinal de la variable, es poder asignarle el valor correspondiente al número de años acumulados equivalente para cada nivel de estudios.\n",
        "\n",
        "De este modo, tenemos la siguiente sustitución:\n",
        "\n",
        "\n",
        "*   UNV = 18\n",
        "*   TEC = 14\n",
        "*   MED = 12\n",
        "*   EUN = 15\n",
        "*   BAS = 8\n",
        "\n"
      ]
    },
    {
      "cell_type": "code",
      "metadata": {
        "id": "EO-LPB0RzJYo",
        "colab": {
          "base_uri": "https://localhost:8080/"
        },
        "outputId": "3f0d3f09-ae79-425a-d1ea-dd4aa994d411"
      },
      "source": [
        "# @markdown Sustitución de Valores Variable Ordinal NIV_EDUC\n",
        "Datos2['NIV_EDUC'].replace({'UNV': 18, 'TEC': 14, 'MED': 12, 'EUN': 15, 'BAS': 8}, inplace=True)\n",
        "print(Datos2['NIV_EDUC'].value_counts())"
      ],
      "execution_count": null,
      "outputs": [
        {
          "output_type": "stream",
          "text": [
            "18.0    472\n",
            "14.0    370\n",
            "12.0    338\n",
            "15.0      3\n",
            "8.0       3\n",
            "Name: NIV_EDUC, dtype: int64\n"
          ],
          "name": "stdout"
        }
      ]
    },
    {
      "cell_type": "code",
      "metadata": {
        "colab": {
          "base_uri": "https://localhost:8080/"
        },
        "id": "Tr3SoLHTEELC",
        "outputId": "dfb440a1-ee23-4f5c-e18f-6da092350fd9"
      },
      "source": [
        "Datos2['SEGURO'].replace({'SI': 1, 'NO': 0}, inplace=True)\n",
        "print(Datos2['SEGURO'].value_counts())"
      ],
      "execution_count": null,
      "outputs": [
        {
          "output_type": "stream",
          "text": [
            "0.0    928\n",
            "1.0    264\n",
            "Name: SEGURO, dtype: int64\n"
          ],
          "name": "stdout"
        }
      ]
    },
    {
      "cell_type": "code",
      "metadata": {
        "colab": {
          "base_uri": "https://localhost:8080/"
        },
        "id": "_R2w5-oiG5YN",
        "outputId": "155f7850-49f3-4b4e-b4b2-43e798329b06"
      },
      "source": [
        "Datos2['CIUDAD'].unique()"
      ],
      "execution_count": null,
      "outputs": [
        {
          "output_type": "execute_result",
          "data": {
            "text/plain": [
              "array(['SANTIAGO', 'VALDIVIA', 'ARICA', 'CALAMA', 'CONCEPCION',\n",
              "       'VINA DEL MAR', 'RANCAGUA', 'COYHAIQUE', 'LA CRUZ', 'EL SALVADOR',\n",
              "       'IQUIQUE', 'OSORNO', 'VALPARAISO', 'SAN CLEMENTE', 'PUERTO MONTT',\n",
              "       'COQUIMBO', 'CHUQUICAMATA', 'LA SERENA', 'PANGUIPULLI', 'DONIHUE',\n",
              "       'PUNTA ARENAS', 'COPIAPO', 'AYSEN', 'CHILLAN', 'TALCAHUANO',\n",
              "       'LA CALERA', 'TEMUCO', 'QUILPUE', 'SAN ESTEBAN', 'ANCUD',\n",
              "       'LOS ANGELES', 'PUERTO VARAS', 'EL QUISCO', 'ANTOFAGASTA',\n",
              "       'LLANQUIHUE', 'VILLARRICA', 'SANTA MARIA', 'HIJUELAS', 'CURACAVI',\n",
              "       'MELIPILLA', 'TALCA', 'MACHALI', 'LOS ANDES', 'CURICO',\n",
              "       'SAN PEDRO', 'SAN PABLO', 'FRESIA', 'PENAFLOR', 'TOCOPILLA',\n",
              "       'CASTRO', 'CASABLANCA', 'LLO-LLEO', nan, 'QUILLOTA',\n",
              "       'SAN FERNANDO', 'CALBUCO', 'PENCO', 'LOS MUERMOS', 'STO DOMINGO',\n",
              "       'LINARES', 'CON-CON', 'RENGO', 'MOLINA', 'OVALLE', 'LONCOCHE',\n",
              "       'ROMERAL'], dtype=object)"
            ]
          },
          "metadata": {
            "tags": []
          },
          "execution_count": 104
        }
      ]
    },
    {
      "cell_type": "code",
      "metadata": {
        "colab": {
          "base_uri": "https://localhost:8080/"
        },
        "id": "XooRTIpPEEWi",
        "outputId": "7c21d54f-bf06-4f11-b87a-e84f510fd513"
      },
      "source": [
        "Datos2['CIUDAD'].replace({'LOS ANGELES':1, 'SANTIAGO':2, 'ANTOFAGASTA':3, 'ARICA':4, 'CONCEPCION':5, 'TALCAHUANO':6, 'TEMUCO':7, 'RANCAGUA':8, 'CHUQUICAMATA':9, 'PUERTO OCTAY':10, 'CALAMA':11, 'PUNTA ARENAS':12, 'CON-CON':13, 'VLLA ALEMANA':14, 'OSORNO':15, 'IQUIQUE':16, 'VINA DEL MAR':17, 'TALAGANTE':18, 'LA SERENA':19, 'SAN FELIPE':20, 'RENGO':21, 'CASTRO':22, 'CHILLAN':23, 'COLBUN':24, 'PENAFLOR':25, 'VALDIVIA':26, 'EL SALVADOR':27, 'COYHAIQUE':28, 'ANCUD':29, 'COQUIMBO':30, 'LONCOCHE':31, 'CURICO':32, 'LOS ANDES':33, 'SAN CLEMENTE':34, 'PALENA':35, 'LLANQUIHUE':36, 'LLO-LLEO':37, 'SAN PABLO':38, 'QUILPUE':39, 'CALDERA':40, 'MELIPILLA':41, 'TALCA':42, 'SAN FERNANDO':43, 'PUERTO MONTT':44, 'QUILLOTA':45, 'VALPARAISO':46, 'LA CALERA':47, 'STO DOMINGO':48, 'CURACAVI':49, 'AYSEN':50, 'LOS VILOS':51, 'PANGUIPULLI':52, 'CORONEL':53, 'COPIAPO':54, 'PUERTO VARAS':55, 'LINARES':56, 'SAN PEDRO':57, 'TOCOPILLA':58, 'ANGOL':59, 'PARRAL':60, 'SAN ESTEBAN':61, 'HIJUELAS':62, 'SAN ANTONIO':63, 'MACHALI':64, 'VALLENAR':65, 'CALBUCO':66, 'SANTA CRUZ':67, 'HUASCO':68, 'LOS LAGOS':69, 'VILLARRICA':70, 'LA CRUZ':71, 'PETORCA':72, 'OVALLE':73, 'DONIHUE':74, 'PENCO':75, 'EL QUISCO':76, 'SANTA MARIA':77, 'CASABLANCA': 78, 'MOLINA':79, 'ROMERAL':80, 'LOS MUERMOS':81, 'FRESIA':82 }, inplace=True)\n",
        "print(Datos2['CIUDAD'].value_counts())"
      ],
      "execution_count": null,
      "outputs": [
        {
          "output_type": "stream",
          "text": [
            "2     725\n",
            "4     115\n",
            "5      80\n",
            "17     23\n",
            "3      20\n",
            "     ... \n",
            "36      1\n",
            "38      1\n",
            "81      1\n",
            "49      1\n",
            "82      1\n",
            "Name: CIUDAD, Length: 65, dtype: int64\n"
          ],
          "name": "stdout"
        }
      ]
    },
    {
      "cell_type": "code",
      "metadata": {
        "colab": {
          "base_uri": "https://localhost:8080/"
        },
        "id": "Z7dlLcdJIrHR",
        "outputId": "e5b9f77e-a09a-4815-c868-dbb4bacc249e"
      },
      "source": [
        "Datos2['CIUDAD'].unique()"
      ],
      "execution_count": null,
      "outputs": [
        {
          "output_type": "execute_result",
          "data": {
            "text/plain": [
              "array([ 2, 26,  4, 11,  5, 17,  8, 28, 71, 27, 16, 15, 46, 34, 44, 30,  9,\n",
              "       19, 52, 74, 12, 54, 50, 23,  6, 47,  7, 39, 61, 29,  1, 55, 76,  3,\n",
              "       36, 70, 77, 62, 49, 41, 42, 64, 33, 32, 57, 38, 82, 25, 58, 22, 78,\n",
              "       37, 45, 43, 66, 75, 81, 48, 56, 13, 21, 79, 73, 31, 80])"
            ]
          },
          "metadata": {
            "tags": []
          },
          "execution_count": 151
        }
      ]
    },
    {
      "cell_type": "code",
      "metadata": {
        "id": "oS2N-xxTJaZI"
      },
      "source": [
        ""
      ],
      "execution_count": null,
      "outputs": []
    },
    {
      "cell_type": "markdown",
      "metadata": {
        "id": "155cC5UisP9V"
      },
      "source": [
        "### MÉTODO: Imputación ad-hoc"
      ]
    },
    {
      "cell_type": "code",
      "metadata": {
        "colab": {
          "base_uri": "https://localhost:8080/"
        },
        "id": "w3tVf9CxgUtY",
        "outputId": "81cd0a69-246d-49bd-93b0-7206e3907ceb"
      },
      "source": [
        "# @markdown Reemplazo por la moda: \\\\\n",
        "# @markdown 'GENERO', 'RENTA', 'EDAD', 'NIV_EDUC', 'E_CIVIL', 'COD_COM', 'CIUDAD', 'M_MOROSO', 'SEGURO'\n",
        "# Copia de Base de Datos\n",
        "# Reemplazar Datos Faltantes en Variable \"GENERO\"\n",
        "Datos2['GENERO'].fillna(Datos2['GENERO'].mode().iloc[0], inplace=True)\n",
        "# Reemplazar Datos Faltantes en Variable \"RENTA\"\n",
        "Datos2['RENTA'].fillna(Datos2['RENTA'].mode().iloc[0], inplace=True)\n",
        "# Reemplazar Datos Faltantes en Variable \"NIV_EDUC\"\n",
        "Datos2['NIV_EDUC'].fillna(Datos2['NIV_EDUC'].mode().iloc[0], inplace=True)\n",
        "# Reemplazar Datos Faltantes en Variable \"E_CIVIL\"\n",
        "Datos2['E_CIVIL'].fillna(Datos2['E_CIVIL'].mode().iloc[0], inplace=True)\n",
        "# Reemplazar Datos Faltantes en Variable \"COD_COM\"\n",
        "Datos2['COD_COM'].fillna(Datos2['COD_COM'].mode().iloc[0], inplace=True)\n",
        "# Reemplazar Datos Faltantes en Variable \"CIUDAD\"\n",
        "Datos2['CIUDAD'].fillna(Datos2['CIUDAD'].mode().iloc[0], inplace=True)\n",
        "# Reemplazar Datos Faltantes en Variable \"M_MOROSO\"\n",
        "Datos2['M_MOROSO'].fillna(Datos2['M_MOROSO'].mode().iloc[0], inplace=True)\n",
        "# Reemplazar Datos Faltantes en Variable \"SEGURO\"\n",
        "Datos2['SEGURO'].fillna(Datos2['SEGURO'].mode().iloc[0], inplace=True)\n",
        "\n",
        "# Mostrar DataFrame luego de Reemplazo\n",
        "Datos2.isna().sum()"
      ],
      "execution_count": null,
      "outputs": [
        {
          "output_type": "execute_result",
          "data": {
            "text/plain": [
              "ID                 0\n",
              "GENERO             0\n",
              "RENTA              0\n",
              "EDAD               0\n",
              "NIV_EDUC           0\n",
              "E_CIVIL            0\n",
              "COD_OFI            0\n",
              "COD_COM            0\n",
              "CIUDAD             0\n",
              "D_Marzo            0\n",
              "D_Abril            0\n",
              "D_Mayo             0\n",
              "D_Junio            0\n",
              "D_Julio            0\n",
              "D_Agosto           0\n",
              "D_Septiembre       0\n",
              "M_MOROSO           0\n",
              "MONTO              0\n",
              "SEGURO             0\n",
              "FUGA            1200\n",
              "dtype: int64"
            ]
          },
          "metadata": {
            "tags": []
          },
          "execution_count": 152
        }
      ]
    },
    {
      "cell_type": "code",
      "metadata": {
        "id": "Wqutl6bQ1_w_"
      },
      "source": [
        ""
      ],
      "execution_count": null,
      "outputs": []
    },
    {
      "cell_type": "markdown",
      "metadata": {
        "id": "L3TxkB-_lO3g"
      },
      "source": [
        "Del recuento anterior de datos faltantes, se puede observar que los atributos \"COD_COM\" y \"CIUDAD\", ya no presentan anomalías, puesto que sus datos perdidos fueron reemplazados por las modas respectivas de cada variable."
      ]
    },
    {
      "cell_type": "markdown",
      "metadata": {
        "id": "9JpokYtguLtr"
      },
      "source": [
        "### MÉTODO: Imputación Múltiple"
      ]
    },
    {
      "cell_type": "code",
      "metadata": {
        "colab": {
          "base_uri": "https://localhost:8080/",
          "height": 78
        },
        "id": "9Ybk1rJD5Jxx",
        "outputId": "dcc5e3d0-7077-440e-c4c3-d867b4415a74"
      },
      "source": [
        "# Crear Copia de DataFrame con Avance Anterior\n",
        "Datos3 = Datos2.copy()\n",
        "Datos3.drop('FUGA', axis=1, inplace=True) # Para trabajar con el metodo de imputación multiple sobre la variable edad\n",
        "Datos3[(Datos3['EDAD']>90) | (Datos3['EDAD']<0)]"
      ],
      "execution_count": null,
      "outputs": [
        {
          "output_type": "execute_result",
          "data": {
            "text/html": [
              "<div>\n",
              "<style scoped>\n",
              "    .dataframe tbody tr th:only-of-type {\n",
              "        vertical-align: middle;\n",
              "    }\n",
              "\n",
              "    .dataframe tbody tr th {\n",
              "        vertical-align: top;\n",
              "    }\n",
              "\n",
              "    .dataframe thead th {\n",
              "        text-align: right;\n",
              "    }\n",
              "</style>\n",
              "<table border=\"1\" class=\"dataframe\">\n",
              "  <thead>\n",
              "    <tr style=\"text-align: right;\">\n",
              "      <th></th>\n",
              "      <th>ID</th>\n",
              "      <th>GENERO</th>\n",
              "      <th>RENTA</th>\n",
              "      <th>EDAD</th>\n",
              "      <th>NIV_EDUC</th>\n",
              "      <th>E_CIVIL</th>\n",
              "      <th>COD_OFI</th>\n",
              "      <th>COD_COM</th>\n",
              "      <th>CIUDAD</th>\n",
              "      <th>D_Marzo</th>\n",
              "      <th>D_Abril</th>\n",
              "      <th>D_Mayo</th>\n",
              "      <th>D_Junio</th>\n",
              "      <th>D_Julio</th>\n",
              "      <th>D_Agosto</th>\n",
              "      <th>D_Septiembre</th>\n",
              "      <th>M_MOROSO</th>\n",
              "      <th>MONTO</th>\n",
              "      <th>SEGURO</th>\n",
              "    </tr>\n",
              "  </thead>\n",
              "  <tbody>\n",
              "    <tr>\n",
              "      <th>670</th>\n",
              "      <td>2965</td>\n",
              "      <td>1.0</td>\n",
              "      <td>584605.0</td>\n",
              "      <td>120</td>\n",
              "      <td>12.0</td>\n",
              "      <td>1.0</td>\n",
              "      <td>51</td>\n",
              "      <td>88.0</td>\n",
              "      <td>2</td>\n",
              "      <td>0</td>\n",
              "      <td>124557</td>\n",
              "      <td>0</td>\n",
              "      <td>0</td>\n",
              "      <td>63</td>\n",
              "      <td>18629</td>\n",
              "      <td>0</td>\n",
              "      <td>1.0</td>\n",
              "      <td>3700000</td>\n",
              "      <td>0.0</td>\n",
              "    </tr>\n",
              "  </tbody>\n",
              "</table>\n",
              "</div>"
            ],
            "text/plain": [
              "       ID  GENERO     RENTA  EDAD  ...  D_Septiembre  M_MOROSO    MONTO  SEGURO\n",
              "670  2965     1.0  584605.0   120  ...             0       1.0  3700000     0.0\n",
              "\n",
              "[1 rows x 19 columns]"
            ]
          },
          "metadata": {
            "tags": []
          },
          "execution_count": 153
        }
      ]
    },
    {
      "cell_type": "code",
      "metadata": {
        "colab": {
          "base_uri": "https://localhost:8080/",
          "height": 78
        },
        "id": "12Zhtsi-m4CH",
        "outputId": "b38b4f85-5fae-4b60-9c4f-71104b6489aa"
      },
      "source": [
        "# @markdown Reemplazo Temporal de Datos Extremos y Fuera de Rango por NaN: \\\\\n",
        "# @markdown Variable Edad \n",
        "\n",
        "# Reemplazar Valores Inconsistentes en Variable 'EDAD' por NaN\n",
        "Datos3.loc[Datos3['EDAD']>98, 'EDAD'] = np.nan\n",
        "Datos3.loc[Datos3['EDAD']<0, 'EDAD'] = np.nan\n",
        "#print(\"Cantidad Previa de Datos Faltantes para cada Atributo\")\n",
        "#print(Datos3.isna().sum())\n",
        "Datos3_null = Datos3[Datos3.EDAD.isnull()]\n",
        "Datos3_null.head()"
      ],
      "execution_count": null,
      "outputs": [
        {
          "output_type": "execute_result",
          "data": {
            "text/html": [
              "<div>\n",
              "<style scoped>\n",
              "    .dataframe tbody tr th:only-of-type {\n",
              "        vertical-align: middle;\n",
              "    }\n",
              "\n",
              "    .dataframe tbody tr th {\n",
              "        vertical-align: top;\n",
              "    }\n",
              "\n",
              "    .dataframe thead th {\n",
              "        text-align: right;\n",
              "    }\n",
              "</style>\n",
              "<table border=\"1\" class=\"dataframe\">\n",
              "  <thead>\n",
              "    <tr style=\"text-align: right;\">\n",
              "      <th></th>\n",
              "      <th>ID</th>\n",
              "      <th>GENERO</th>\n",
              "      <th>RENTA</th>\n",
              "      <th>EDAD</th>\n",
              "      <th>NIV_EDUC</th>\n",
              "      <th>E_CIVIL</th>\n",
              "      <th>COD_OFI</th>\n",
              "      <th>COD_COM</th>\n",
              "      <th>CIUDAD</th>\n",
              "      <th>D_Marzo</th>\n",
              "      <th>D_Abril</th>\n",
              "      <th>D_Mayo</th>\n",
              "      <th>D_Junio</th>\n",
              "      <th>D_Julio</th>\n",
              "      <th>D_Agosto</th>\n",
              "      <th>D_Septiembre</th>\n",
              "      <th>M_MOROSO</th>\n",
              "      <th>MONTO</th>\n",
              "      <th>SEGURO</th>\n",
              "    </tr>\n",
              "  </thead>\n",
              "  <tbody>\n",
              "    <tr>\n",
              "      <th>670</th>\n",
              "      <td>2965</td>\n",
              "      <td>1.0</td>\n",
              "      <td>584605.0</td>\n",
              "      <td>NaN</td>\n",
              "      <td>12.0</td>\n",
              "      <td>1.0</td>\n",
              "      <td>51</td>\n",
              "      <td>88.0</td>\n",
              "      <td>2</td>\n",
              "      <td>0</td>\n",
              "      <td>124557</td>\n",
              "      <td>0</td>\n",
              "      <td>0</td>\n",
              "      <td>63</td>\n",
              "      <td>18629</td>\n",
              "      <td>0</td>\n",
              "      <td>1.0</td>\n",
              "      <td>3700000</td>\n",
              "      <td>0.0</td>\n",
              "    </tr>\n",
              "  </tbody>\n",
              "</table>\n",
              "</div>"
            ],
            "text/plain": [
              "       ID  GENERO     RENTA  EDAD  ...  D_Septiembre  M_MOROSO    MONTO  SEGURO\n",
              "670  2965     1.0  584605.0   NaN  ...             0       1.0  3700000     0.0\n",
              "\n",
              "[1 rows x 19 columns]"
            ]
          },
          "metadata": {
            "tags": []
          },
          "execution_count": 154
        }
      ]
    },
    {
      "cell_type": "markdown",
      "metadata": {
        "id": "mpBO1sPGqMbX"
      },
      "source": [
        "Del listado anterior podemos ver que la variable \"EDAD\" pasó de 2 a 8 datos NaN, puesto que los valores fuera de rango, correspondientes a las edades negativas, así como los valores extremos mayores a 98, fueron sustituidos temporalmente, para luego ser reemplazados mediante el método de imputación múltiple."
      ]
    },
    {
      "cell_type": "code",
      "metadata": {
        "id": "XaYzphWJ1_K1",
        "colab": {
          "base_uri": "https://localhost:8080/"
        },
        "outputId": "070eb3be-8ffa-4d9b-e08a-d922cadd123a"
      },
      "source": [
        "# Implementar Método de Imputación\n",
        "mice =  IterativeImputer(random_state=0)\n",
        "mice.fit(Datos3._get_numeric_data())\n",
        "Datos3[Datos3._get_numeric_data().columns] = mice.transform(Datos3._get_numeric_data()).round(2)\n",
        "# Mostrar Resultados\n",
        "print(f\"Filas Resultantes: {len(Datos3)}\")\n",
        "print(Datos3.isna().sum())"
      ],
      "execution_count": null,
      "outputs": [
        {
          "output_type": "stream",
          "text": [
            "Filas Resultantes: 1200\n",
            "ID              0\n",
            "GENERO          0\n",
            "RENTA           0\n",
            "EDAD            0\n",
            "NIV_EDUC        0\n",
            "E_CIVIL         0\n",
            "COD_OFI         0\n",
            "COD_COM         0\n",
            "CIUDAD          0\n",
            "D_Marzo         0\n",
            "D_Abril         0\n",
            "D_Mayo          0\n",
            "D_Junio         0\n",
            "D_Julio         0\n",
            "D_Agosto        0\n",
            "D_Septiembre    0\n",
            "M_MOROSO        0\n",
            "MONTO           0\n",
            "SEGURO          0\n",
            "dtype: int64\n"
          ],
          "name": "stdout"
        }
      ]
    },
    {
      "cell_type": "markdown",
      "metadata": {
        "id": "nqG8kzkY6ICM"
      },
      "source": [
        "Del listado anterior podemos observar que ya no existen datos faltantes en la base de datos. De manera complementaria se han abordado los valores fuera de rango y los valores extremos del atributo \"EDAD\"."
      ]
    },
    {
      "cell_type": "code",
      "metadata": {
        "colab": {
          "base_uri": "https://localhost:8080/",
          "height": 310
        },
        "id": "TIhOOskN3SLd",
        "outputId": "42072e14-df78-4a16-fd52-a9848bb42b3c"
      },
      "source": [
        "Datos3.describe()"
      ],
      "execution_count": null,
      "outputs": [
        {
          "output_type": "execute_result",
          "data": {
            "text/html": [
              "<div>\n",
              "<style scoped>\n",
              "    .dataframe tbody tr th:only-of-type {\n",
              "        vertical-align: middle;\n",
              "    }\n",
              "\n",
              "    .dataframe tbody tr th {\n",
              "        vertical-align: top;\n",
              "    }\n",
              "\n",
              "    .dataframe thead th {\n",
              "        text-align: right;\n",
              "    }\n",
              "</style>\n",
              "<table border=\"1\" class=\"dataframe\">\n",
              "  <thead>\n",
              "    <tr style=\"text-align: right;\">\n",
              "      <th></th>\n",
              "      <th>ID</th>\n",
              "      <th>GENERO</th>\n",
              "      <th>RENTA</th>\n",
              "      <th>EDAD</th>\n",
              "      <th>NIV_EDUC</th>\n",
              "      <th>E_CIVIL</th>\n",
              "      <th>COD_OFI</th>\n",
              "      <th>COD_COM</th>\n",
              "      <th>CIUDAD</th>\n",
              "      <th>D_Marzo</th>\n",
              "      <th>D_Abril</th>\n",
              "      <th>D_Mayo</th>\n",
              "      <th>D_Junio</th>\n",
              "      <th>D_Julio</th>\n",
              "      <th>D_Agosto</th>\n",
              "      <th>D_Septiembre</th>\n",
              "      <th>M_MOROSO</th>\n",
              "      <th>MONTO</th>\n",
              "      <th>SEGURO</th>\n",
              "    </tr>\n",
              "  </thead>\n",
              "  <tbody>\n",
              "    <tr>\n",
              "      <th>count</th>\n",
              "      <td>1200.000000</td>\n",
              "      <td>1200.000000</td>\n",
              "      <td>1.200000e+03</td>\n",
              "      <td>1200.000000</td>\n",
              "      <td>1200.000000</td>\n",
              "      <td>1200.000000</td>\n",
              "      <td>1200.000000</td>\n",
              "      <td>1200.000000</td>\n",
              "      <td>1200.000000</td>\n",
              "      <td>1.200000e+03</td>\n",
              "      <td>1.200000e+03</td>\n",
              "      <td>1.200000e+03</td>\n",
              "      <td>1.200000e+03</td>\n",
              "      <td>1200.000000</td>\n",
              "      <td>1200.00000</td>\n",
              "      <td>1200.000000</td>\n",
              "      <td>1200.000000</td>\n",
              "      <td>1.200000e+03</td>\n",
              "      <td>1200.000000</td>\n",
              "    </tr>\n",
              "    <tr>\n",
              "      <th>mean</th>\n",
              "      <td>2894.500000</td>\n",
              "      <td>0.420833</td>\n",
              "      <td>1.183164e+06</td>\n",
              "      <td>43.318933</td>\n",
              "      <td>15.044167</td>\n",
              "      <td>1.557500</td>\n",
              "      <td>69.536667</td>\n",
              "      <td>111.614167</td>\n",
              "      <td>7.951667</td>\n",
              "      <td>1.388176e+05</td>\n",
              "      <td>2.604670e+05</td>\n",
              "      <td>9.807232e+04</td>\n",
              "      <td>1.845051e+05</td>\n",
              "      <td>499.236667</td>\n",
              "      <td>3184.33250</td>\n",
              "      <td>2178.825000</td>\n",
              "      <td>1.232500</td>\n",
              "      <td>3.341250e+06</td>\n",
              "      <td>0.220000</td>\n",
              "    </tr>\n",
              "    <tr>\n",
              "      <th>std</th>\n",
              "      <td>346.554469</td>\n",
              "      <td>0.493899</td>\n",
              "      <td>1.871020e+06</td>\n",
              "      <td>8.470153</td>\n",
              "      <td>2.571847</td>\n",
              "      <td>0.790916</td>\n",
              "      <td>39.742125</td>\n",
              "      <td>86.378641</td>\n",
              "      <td>14.009088</td>\n",
              "      <td>4.416169e+05</td>\n",
              "      <td>3.810925e+05</td>\n",
              "      <td>6.588924e+05</td>\n",
              "      <td>3.801482e+05</td>\n",
              "      <td>921.331742</td>\n",
              "      <td>8092.93584</td>\n",
              "      <td>10019.762703</td>\n",
              "      <td>0.774991</td>\n",
              "      <td>2.254036e+06</td>\n",
              "      <td>0.414419</td>\n",
              "    </tr>\n",
              "    <tr>\n",
              "      <th>min</th>\n",
              "      <td>2295.000000</td>\n",
              "      <td>0.000000</td>\n",
              "      <td>7.200000e+01</td>\n",
              "      <td>21.000000</td>\n",
              "      <td>8.000000</td>\n",
              "      <td>1.000000</td>\n",
              "      <td>10.000000</td>\n",
              "      <td>1.000000</td>\n",
              "      <td>1.000000</td>\n",
              "      <td>0.000000e+00</td>\n",
              "      <td>0.000000e+00</td>\n",
              "      <td>0.000000e+00</td>\n",
              "      <td>0.000000e+00</td>\n",
              "      <td>0.000000</td>\n",
              "      <td>0.00000</td>\n",
              "      <td>0.000000</td>\n",
              "      <td>0.000000</td>\n",
              "      <td>5.000000e+05</td>\n",
              "      <td>0.000000</td>\n",
              "    </tr>\n",
              "    <tr>\n",
              "      <th>25%</th>\n",
              "      <td>2594.750000</td>\n",
              "      <td>0.000000</td>\n",
              "      <td>1.476235e+05</td>\n",
              "      <td>38.000000</td>\n",
              "      <td>12.000000</td>\n",
              "      <td>1.000000</td>\n",
              "      <td>31.000000</td>\n",
              "      <td>83.000000</td>\n",
              "      <td>2.000000</td>\n",
              "      <td>0.000000e+00</td>\n",
              "      <td>1.415900e+04</td>\n",
              "      <td>0.000000e+00</td>\n",
              "      <td>0.000000e+00</td>\n",
              "      <td>3.000000</td>\n",
              "      <td>0.00000</td>\n",
              "      <td>0.000000</td>\n",
              "      <td>1.000000</td>\n",
              "      <td>1.600000e+06</td>\n",
              "      <td>0.000000</td>\n",
              "    </tr>\n",
              "    <tr>\n",
              "      <th>50%</th>\n",
              "      <td>2894.500000</td>\n",
              "      <td>0.000000</td>\n",
              "      <td>5.105000e+05</td>\n",
              "      <td>44.000000</td>\n",
              "      <td>14.000000</td>\n",
              "      <td>1.000000</td>\n",
              "      <td>60.000000</td>\n",
              "      <td>90.000000</td>\n",
              "      <td>2.000000</td>\n",
              "      <td>0.000000e+00</td>\n",
              "      <td>1.225470e+05</td>\n",
              "      <td>0.000000e+00</td>\n",
              "      <td>1.716900e+04</td>\n",
              "      <td>124.000000</td>\n",
              "      <td>0.00000</td>\n",
              "      <td>90.500000</td>\n",
              "      <td>1.000000</td>\n",
              "      <td>2.500000e+06</td>\n",
              "      <td>0.000000</td>\n",
              "    </tr>\n",
              "    <tr>\n",
              "      <th>75%</th>\n",
              "      <td>3194.250000</td>\n",
              "      <td>1.000000</td>\n",
              "      <td>1.029724e+06</td>\n",
              "      <td>50.000000</td>\n",
              "      <td>18.000000</td>\n",
              "      <td>2.000000</td>\n",
              "      <td>90.000000</td>\n",
              "      <td>119.000000</td>\n",
              "      <td>5.000000</td>\n",
              "      <td>0.000000e+00</td>\n",
              "      <td>3.282468e+05</td>\n",
              "      <td>0.000000e+00</td>\n",
              "      <td>1.932172e+05</td>\n",
              "      <td>607.250000</td>\n",
              "      <td>1500.25000</td>\n",
              "      <td>572.250000</td>\n",
              "      <td>2.000000</td>\n",
              "      <td>4.500000e+06</td>\n",
              "      <td>0.000000</td>\n",
              "    </tr>\n",
              "    <tr>\n",
              "      <th>max</th>\n",
              "      <td>3494.000000</td>\n",
              "      <td>1.000000</td>\n",
              "      <td>9.600000e+06</td>\n",
              "      <td>64.000000</td>\n",
              "      <td>18.000000</td>\n",
              "      <td>4.000000</td>\n",
              "      <td>155.000000</td>\n",
              "      <td>516.000000</td>\n",
              "      <td>82.000000</td>\n",
              "      <td>3.961350e+06</td>\n",
              "      <td>3.429083e+06</td>\n",
              "      <td>1.071868e+07</td>\n",
              "      <td>2.892126e+06</td>\n",
              "      <td>11167.000000</td>\n",
              "      <td>82283.00000</td>\n",
              "      <td>165348.000000</td>\n",
              "      <td>3.000000</td>\n",
              "      <td>8.000000e+06</td>\n",
              "      <td>1.000000</td>\n",
              "    </tr>\n",
              "  </tbody>\n",
              "</table>\n",
              "</div>"
            ],
            "text/plain": [
              "                ID       GENERO  ...         MONTO       SEGURO\n",
              "count  1200.000000  1200.000000  ...  1.200000e+03  1200.000000\n",
              "mean   2894.500000     0.420833  ...  3.341250e+06     0.220000\n",
              "std     346.554469     0.493899  ...  2.254036e+06     0.414419\n",
              "min    2295.000000     0.000000  ...  5.000000e+05     0.000000\n",
              "25%    2594.750000     0.000000  ...  1.600000e+06     0.000000\n",
              "50%    2894.500000     0.000000  ...  2.500000e+06     0.000000\n",
              "75%    3194.250000     1.000000  ...  4.500000e+06     0.000000\n",
              "max    3494.000000     1.000000  ...  8.000000e+06     1.000000\n",
              "\n",
              "[8 rows x 19 columns]"
            ]
          },
          "metadata": {
            "tags": []
          },
          "execution_count": 156
        }
      ]
    },
    {
      "cell_type": "code",
      "metadata": {
        "id": "4J78xnx96HRY",
        "colab": {
          "base_uri": "https://localhost:8080/"
        },
        "outputId": "85b43e3e-a617-4233-aeb5-c9df0fafb5fd"
      },
      "source": [
        "Datos3.info()"
      ],
      "execution_count": null,
      "outputs": [
        {
          "output_type": "stream",
          "text": [
            "<class 'pandas.core.frame.DataFrame'>\n",
            "RangeIndex: 1200 entries, 0 to 1199\n",
            "Data columns (total 19 columns):\n",
            " #   Column        Non-Null Count  Dtype  \n",
            "---  ------        --------------  -----  \n",
            " 0   ID            1200 non-null   float64\n",
            " 1   GENERO        1200 non-null   float64\n",
            " 2   RENTA         1200 non-null   float64\n",
            " 3   EDAD          1200 non-null   float64\n",
            " 4   NIV_EDUC      1200 non-null   float64\n",
            " 5   E_CIVIL       1200 non-null   float64\n",
            " 6   COD_OFI       1200 non-null   float64\n",
            " 7   COD_COM       1200 non-null   float64\n",
            " 8   CIUDAD        1200 non-null   float64\n",
            " 9   D_Marzo       1200 non-null   float64\n",
            " 10  D_Abril       1200 non-null   float64\n",
            " 11  D_Mayo        1200 non-null   float64\n",
            " 12  D_Junio       1200 non-null   float64\n",
            " 13  D_Julio       1200 non-null   float64\n",
            " 14  D_Agosto      1200 non-null   float64\n",
            " 15  D_Septiembre  1200 non-null   float64\n",
            " 16  M_MOROSO      1200 non-null   float64\n",
            " 17  MONTO         1200 non-null   float64\n",
            " 18  SEGURO        1200 non-null   float64\n",
            "dtypes: float64(19)\n",
            "memory usage: 178.2 KB\n"
          ],
          "name": "stdout"
        }
      ]
    },
    {
      "cell_type": "markdown",
      "metadata": {
        "id": "_qaq0nUn2M4U"
      },
      "source": [
        "## Nuevas Variables"
      ]
    },
    {
      "cell_type": "markdown",
      "metadata": {
        "id": "ge24rYg8bt48"
      },
      "source": [
        "A modo de explorar las distancias que existen entre los montos de deuda se crean nuevas variables extraídas desde el rango de fechas disponible de Marzo a Septiembre, estas son las siguientes:\n",
        " \n",
        "Valor de la deuda mínima\t\t\t: ‘D_min’ ;\n",
        "Valor de la deuda máxima\t\t\t: ‘D_max’ ;\n",
        "Desviación estándar del periodo de deudas\t:  ‘D_std’\n"
      ]
    },
    {
      "cell_type": "code",
      "metadata": {
        "id": "5MOR9mx556Xh"
      },
      "source": [
        "df = Datos3.copy()"
      ],
      "execution_count": null,
      "outputs": []
    },
    {
      "cell_type": "markdown",
      "metadata": {
        "id": "UraLwFPitM-M"
      },
      "source": [
        "### Dinamismo de la Deuda Mensual"
      ]
    },
    {
      "cell_type": "markdown",
      "metadata": {
        "id": "LKik9OyOoZbW"
      },
      "source": [
        "Considerando que existen los montos de deuda para 7 meses consecutivos, asociados a cada cliente, se puede modelar el dinamismo de la deuda. Puntualmente, dicho dinamismo se puede representar, entre otras formas, por la razón entre el mes actual y el mes anterior.\n",
        "\n",
        "De este modo, a continuación, se realiza el cálculo de la comparación antes mencionada."
      ]
    },
    {
      "cell_type": "code",
      "metadata": {
        "id": "YBgUTgta4RdK"
      },
      "source": [
        "def RelacionSeries(Serie1, Serie2):\n",
        "  SerieR = []\n",
        "  Razon = float()\n",
        "  length = len(Serie1)\n",
        "  for k in length:\n",
        "    if (Serie1[k] == 0) & (Serie2[k] == 0):\n",
        "      Razon = 0\n",
        "    elif (Serie1[k] != 0) & (Serie2[k] == 0):\n",
        "      Razon = Serie1[k]\n",
        "    else:\n",
        "      Razon = Serie1[k]/Serie2[k]\n",
        "    SerieR.append(Razon)\n",
        "  return SerieR"
      ],
      "execution_count": null,
      "outputs": []
    },
    {
      "cell_type": "code",
      "metadata": {
        "id": "SzCq6Qdc8AqJ"
      },
      "source": [
        "df2 = df.copy()\n",
        "df2['D_Marzo2']= df2['D_Marzo']+1\n",
        "#df2.replace({'D_Marzo2': {0:1}})\n",
        "df2['D_Abril2']= df2['D_Abril']+1\n",
        "#df2.replace({'D_Abril2': {0:1}})\n",
        "df2['D_Mayo2']= df2['D_Mayo']+1\n",
        "#df2.replace({'D_Mayo2': {0:1}})\n",
        "df2['D_Junio2']= df2['D_Junio']+1\n",
        "#df2.replace({'D_Junio2': {0:1}})\n",
        "df2['D_Julio2']= df2['D_Julio']+1\n",
        "#df2.replace({'D_Julio2': {0:1}})\n",
        "df2['D_Agosto2']= df2['D_Agosto']+1\n",
        "#df2.replace({'D_Agosto2': {0:1}})\n",
        "df2['D_Septiembre2']= df2['D_Septiembre']+1\n",
        "#df2.replace({'D_Septiembre2': {0:1}})"
      ],
      "execution_count": null,
      "outputs": []
    },
    {
      "cell_type": "code",
      "metadata": {
        "id": "M_nNyeWxtwQ2",
        "colab": {
          "base_uri": "https://localhost:8080/",
          "height": 220
        },
        "outputId": "e050e5a0-d593-4d61-9c71-b5f6c3391d2a"
      },
      "source": [
        "# @markdown Relación de Variación Mensual de Monto de Deuda\n",
        "# Cálculo Variación Abril/Marzo\n",
        "df2['VM_AbrilMarzo'] = df2['D_Abril2']/df2['D_Marzo2']\n",
        "# Cálculo Variación Mayo/Abril\n",
        "df2['VM_MayoAbril'] = df2['D_Mayo2']/df2['D_Abril2']\n",
        "# Cálculo Variación Junio/Mayo\n",
        "df2['VM_JunioMayo'] = df2['D_Junio2']/df2['D_Mayo2']\n",
        "# Cálculo Variación Julio/Junio\n",
        "df2['VM_JulioJunio'] = df2['D_Julio2']/df2['D_Junio2']\n",
        "# Cálculo Variación Agosto/Julio\n",
        "df2['VM_AgostoJulio'] = df2['D_Agosto2']/df2['D_Julio2']\n",
        "# Cálculo Variación Septiembre/Agosto\n",
        "df2['VM_SeptiembreAgosto'] = df2['D_Septiembre2']/df2['D_Agosto2']\n",
        "df2.head(5).round(3)"
      ],
      "execution_count": null,
      "outputs": [
        {
          "output_type": "execute_result",
          "data": {
            "text/html": [
              "<div>\n",
              "<style scoped>\n",
              "    .dataframe tbody tr th:only-of-type {\n",
              "        vertical-align: middle;\n",
              "    }\n",
              "\n",
              "    .dataframe tbody tr th {\n",
              "        vertical-align: top;\n",
              "    }\n",
              "\n",
              "    .dataframe thead th {\n",
              "        text-align: right;\n",
              "    }\n",
              "</style>\n",
              "<table border=\"1\" class=\"dataframe\">\n",
              "  <thead>\n",
              "    <tr style=\"text-align: right;\">\n",
              "      <th></th>\n",
              "      <th>ID</th>\n",
              "      <th>GENERO</th>\n",
              "      <th>RENTA</th>\n",
              "      <th>EDAD</th>\n",
              "      <th>NIV_EDUC</th>\n",
              "      <th>E_CIVIL</th>\n",
              "      <th>COD_OFI</th>\n",
              "      <th>COD_COM</th>\n",
              "      <th>CIUDAD</th>\n",
              "      <th>D_Marzo</th>\n",
              "      <th>D_Abril</th>\n",
              "      <th>D_Mayo</th>\n",
              "      <th>D_Junio</th>\n",
              "      <th>D_Julio</th>\n",
              "      <th>D_Agosto</th>\n",
              "      <th>D_Septiembre</th>\n",
              "      <th>M_MOROSO</th>\n",
              "      <th>MONTO</th>\n",
              "      <th>SEGURO</th>\n",
              "      <th>D_Marzo2</th>\n",
              "      <th>D_Abril2</th>\n",
              "      <th>D_Mayo2</th>\n",
              "      <th>D_Junio2</th>\n",
              "      <th>D_Julio2</th>\n",
              "      <th>D_Agosto2</th>\n",
              "      <th>D_Septiembre2</th>\n",
              "      <th>VM_AbrilMarzo</th>\n",
              "      <th>VM_MayoAbril</th>\n",
              "      <th>VM_JunioMayo</th>\n",
              "      <th>VM_JulioJunio</th>\n",
              "      <th>VM_AgostoJulio</th>\n",
              "      <th>VM_SeptiembreAgosto</th>\n",
              "    </tr>\n",
              "  </thead>\n",
              "  <tbody>\n",
              "    <tr>\n",
              "      <th>0</th>\n",
              "      <td>2295.0</td>\n",
              "      <td>0.0</td>\n",
              "      <td>457693.0</td>\n",
              "      <td>45.0</td>\n",
              "      <td>18.0</td>\n",
              "      <td>1.0</td>\n",
              "      <td>31.0</td>\n",
              "      <td>119.0</td>\n",
              "      <td>2.0</td>\n",
              "      <td>0.0</td>\n",
              "      <td>190591.0</td>\n",
              "      <td>0.0</td>\n",
              "      <td>20396.0</td>\n",
              "      <td>0.0</td>\n",
              "      <td>0.0</td>\n",
              "      <td>415.0</td>\n",
              "      <td>1.0</td>\n",
              "      <td>2700000.0</td>\n",
              "      <td>0.0</td>\n",
              "      <td>1.0</td>\n",
              "      <td>190592.0</td>\n",
              "      <td>1.0</td>\n",
              "      <td>20397.0</td>\n",
              "      <td>1.0</td>\n",
              "      <td>1.0</td>\n",
              "      <td>416.0</td>\n",
              "      <td>190592.000</td>\n",
              "      <td>0.000</td>\n",
              "      <td>20397.0</td>\n",
              "      <td>0.000</td>\n",
              "      <td>1.000</td>\n",
              "      <td>416.0</td>\n",
              "    </tr>\n",
              "    <tr>\n",
              "      <th>1</th>\n",
              "      <td>2296.0</td>\n",
              "      <td>1.0</td>\n",
              "      <td>2258382.0</td>\n",
              "      <td>30.0</td>\n",
              "      <td>14.0</td>\n",
              "      <td>2.0</td>\n",
              "      <td>74.0</td>\n",
              "      <td>272.0</td>\n",
              "      <td>26.0</td>\n",
              "      <td>0.0</td>\n",
              "      <td>47354.0</td>\n",
              "      <td>0.0</td>\n",
              "      <td>0.0</td>\n",
              "      <td>0.0</td>\n",
              "      <td>0.0</td>\n",
              "      <td>2.0</td>\n",
              "      <td>0.0</td>\n",
              "      <td>1900000.0</td>\n",
              "      <td>0.0</td>\n",
              "      <td>1.0</td>\n",
              "      <td>47355.0</td>\n",
              "      <td>1.0</td>\n",
              "      <td>1.0</td>\n",
              "      <td>1.0</td>\n",
              "      <td>1.0</td>\n",
              "      <td>3.0</td>\n",
              "      <td>47355.000</td>\n",
              "      <td>0.000</td>\n",
              "      <td>1.0</td>\n",
              "      <td>1.000</td>\n",
              "      <td>1.000</td>\n",
              "      <td>3.0</td>\n",
              "    </tr>\n",
              "    <tr>\n",
              "      <th>2</th>\n",
              "      <td>2297.0</td>\n",
              "      <td>0.0</td>\n",
              "      <td>546190.0</td>\n",
              "      <td>51.0</td>\n",
              "      <td>18.0</td>\n",
              "      <td>1.0</td>\n",
              "      <td>138.0</td>\n",
              "      <td>1.0</td>\n",
              "      <td>4.0</td>\n",
              "      <td>622808.0</td>\n",
              "      <td>61646.0</td>\n",
              "      <td>0.0</td>\n",
              "      <td>268771.0</td>\n",
              "      <td>235.0</td>\n",
              "      <td>2913.0</td>\n",
              "      <td>0.0</td>\n",
              "      <td>1.0</td>\n",
              "      <td>1100000.0</td>\n",
              "      <td>1.0</td>\n",
              "      <td>622809.0</td>\n",
              "      <td>61647.0</td>\n",
              "      <td>1.0</td>\n",
              "      <td>268772.0</td>\n",
              "      <td>236.0</td>\n",
              "      <td>2914.0</td>\n",
              "      <td>1.0</td>\n",
              "      <td>0.099</td>\n",
              "      <td>0.000</td>\n",
              "      <td>268772.0</td>\n",
              "      <td>0.001</td>\n",
              "      <td>12.347</td>\n",
              "      <td>0.0</td>\n",
              "    </tr>\n",
              "    <tr>\n",
              "      <th>3</th>\n",
              "      <td>2298.0</td>\n",
              "      <td>1.0</td>\n",
              "      <td>424424.0</td>\n",
              "      <td>41.0</td>\n",
              "      <td>12.0</td>\n",
              "      <td>2.0</td>\n",
              "      <td>138.0</td>\n",
              "      <td>80.0</td>\n",
              "      <td>2.0</td>\n",
              "      <td>0.0</td>\n",
              "      <td>1054.0</td>\n",
              "      <td>0.0</td>\n",
              "      <td>392871.0</td>\n",
              "      <td>1961.0</td>\n",
              "      <td>0.0</td>\n",
              "      <td>1022.0</td>\n",
              "      <td>3.0</td>\n",
              "      <td>3500000.0</td>\n",
              "      <td>0.0</td>\n",
              "      <td>1.0</td>\n",
              "      <td>1055.0</td>\n",
              "      <td>1.0</td>\n",
              "      <td>392872.0</td>\n",
              "      <td>1962.0</td>\n",
              "      <td>1.0</td>\n",
              "      <td>1023.0</td>\n",
              "      <td>1055.000</td>\n",
              "      <td>0.001</td>\n",
              "      <td>392872.0</td>\n",
              "      <td>0.005</td>\n",
              "      <td>0.001</td>\n",
              "      <td>1023.0</td>\n",
              "    </tr>\n",
              "    <tr>\n",
              "      <th>4</th>\n",
              "      <td>2299.0</td>\n",
              "      <td>0.0</td>\n",
              "      <td>6862726.0</td>\n",
              "      <td>42.0</td>\n",
              "      <td>12.0</td>\n",
              "      <td>1.0</td>\n",
              "      <td>52.0</td>\n",
              "      <td>91.0</td>\n",
              "      <td>2.0</td>\n",
              "      <td>0.0</td>\n",
              "      <td>264308.0</td>\n",
              "      <td>0.0</td>\n",
              "      <td>87931.0</td>\n",
              "      <td>74.0</td>\n",
              "      <td>0.0</td>\n",
              "      <td>38.0</td>\n",
              "      <td>1.0</td>\n",
              "      <td>2000000.0</td>\n",
              "      <td>0.0</td>\n",
              "      <td>1.0</td>\n",
              "      <td>264309.0</td>\n",
              "      <td>1.0</td>\n",
              "      <td>87932.0</td>\n",
              "      <td>75.0</td>\n",
              "      <td>1.0</td>\n",
              "      <td>39.0</td>\n",
              "      <td>264309.000</td>\n",
              "      <td>0.000</td>\n",
              "      <td>87932.0</td>\n",
              "      <td>0.001</td>\n",
              "      <td>0.013</td>\n",
              "      <td>39.0</td>\n",
              "    </tr>\n",
              "  </tbody>\n",
              "</table>\n",
              "</div>"
            ],
            "text/plain": [
              "       ID  GENERO  ...  VM_AgostoJulio  VM_SeptiembreAgosto\n",
              "0  2295.0     0.0  ...           1.000                416.0\n",
              "1  2296.0     1.0  ...           1.000                  3.0\n",
              "2  2297.0     0.0  ...          12.347                  0.0\n",
              "3  2298.0     1.0  ...           0.001               1023.0\n",
              "4  2299.0     0.0  ...           0.013                 39.0\n",
              "\n",
              "[5 rows x 32 columns]"
            ]
          },
          "metadata": {
            "tags": []
          },
          "execution_count": 161
        }
      ]
    },
    {
      "cell_type": "markdown",
      "metadata": {
        "id": "Ua9AjvzDbsTv"
      },
      "source": [
        "En la tabla anterior se observa la incorporación de 6 nuevos atributos, correspondientes a las razones de la deuda mensual, para dos meses consecutivos, en todo el intervalo de tiempo comprendido entre Marzo y Septiembre. Al considerar en el denominador, y por ende como referencia, el mes \"i\" o anterior y en el numerador el mes \"i+1\" o siguiente, podemos obtener una idea de la variación que presentó la deuda a fin del mes i+1 en relación a como terminó en el mes i, recordando que las deudas en meses distintos no se traspasan ni acumulan.\n",
        "\n",
        "Es importante señalar que para efectos de cálculo, puntualmente para evitar indefiniciones, se ha sumado $1 a la deuda de cada cliente en cada mes. Este efecto es despreciable en lo que a monto se refiere y no induce mayores errores en la medida de la variación mensual."
      ]
    },
    {
      "cell_type": "markdown",
      "metadata": {
        "id": "oSSGFhkHbbRL"
      },
      "source": [
        "De la distribución presentada en los gráficos anteriores, es clara la altísima concentración en valores pequeños, junto a la existencia de pocos valores muy altos. De este modo, toma sentido aplicar una transformación logarítmica, para estudiar mejor el comportamiento de la nueva variable."
      ]
    },
    {
      "cell_type": "markdown",
      "metadata": {
        "id": "JwZ5sijXjnXe"
      },
      "source": [
        "A continuación se realiza la transformación logarítmica mencionada. Con tal de evitar problemas de indefinición, se le suma 1 en el argumento del logaritmo."
      ]
    },
    {
      "cell_type": "code",
      "metadata": {
        "id": "rY33HRjgiZPU"
      },
      "source": [
        "df2['logVM_MayoAbril']=np.log(df2['VM_MayoAbril']+1)\n",
        "df2['logVM_AbrilMarzo']=np.log(df2['VM_AbrilMarzo']+1)\n",
        "df2['logVM_JunioMayo']=np.log(df2['VM_JunioMayo']+1)\n",
        "df2['logVM_JulioJunio']=np.log(df2['VM_JulioJunio']+1)\n",
        "df2['logVM_AgostoJulio']=np.log(df2['VM_AgostoJulio']+1)\n",
        "df2['logVM_SeptiembreAgosto']=np.log(df2['VM_SeptiembreAgosto']+1)"
      ],
      "execution_count": null,
      "outputs": []
    },
    {
      "cell_type": "code",
      "metadata": {
        "id": "t83EVR7BHVyS"
      },
      "source": [
        ""
      ],
      "execution_count": null,
      "outputs": []
    },
    {
      "cell_type": "markdown",
      "metadata": {
        "id": "v_aLpErLkdpu"
      },
      "source": [
        "De la distribución anterior, podemos observar comportamiento muy similar de la variación mensual de la deuda de Marzo a Abril en el set de datos analizados, independiente de si los clientes caen o no en fuga. Particularmente, se tiene una gran cantidad de clientes que mantuvieron su deuda (transformada) de un mes a otro, que corresponden a los datos de clientes concentrados en el tramo entre 0 y 1 (teniendo en cuenta que log(1+1) es 0.3 aproximadamente, para los casos en que D_Marzo = D_Abril). Complementariamente, se tienen numerosos clientes concentrados en el rango entre 11 y 14, siempre tanto en casos de fuga como no fuga."
      ]
    },
    {
      "cell_type": "markdown",
      "metadata": {
        "id": "tpo8Yyr7rN_q"
      },
      "source": [
        "Al igual que en el gráfico de distribución de barras, en este gráfico de dispersión de la transformada logarítmica de la variación mensual de las deudas de Marzo y Abril, podemos observar una gran concentración de datos para rentas entre 0 y 2 millones de pesos, para valores del logaritmo de la razón de la deuda entre 0 y 2 y mayormente entre 7 y 15, independiente de si el cliente fuga o no."
      ]
    },
    {
      "cell_type": "markdown",
      "metadata": {
        "id": "7byVAlEAVs3G"
      },
      "source": [
        "### RFM"
      ]
    },
    {
      "cell_type": "markdown",
      "metadata": {
        "id": "pvCKGFGRuhV9"
      },
      "source": [
        "Con tal de obtener una visión adicional del dinamismo de la deuda, pero en este caso, que entregue información sobre el conjunto completo de datos del período, es que se propone generar un trío de atributos como los de la transformación RFM, en el que se entregen valores de la actualidad (reciente), la frecuencia y el monto total de los meses con deuda."
      ]
    },
    {
      "cell_type": "code",
      "metadata": {
        "id": "JmK1lXYzSEMB",
        "colab": {
          "base_uri": "https://localhost:8080/",
          "height": 190
        },
        "outputId": "02716763-0c0f-454b-a584-a099a8a86268"
      },
      "source": [
        "df3 = df2.copy()\n",
        "df3['Monto_Total_Deuda'] = df3[['D_Marzo', 'D_Abril', 'D_Mayo', 'D_Junio', 'D_Julio', 'D_Agosto', 'D_Septiembre']].sum(axis=1)\n",
        "df3.head(4)"
      ],
      "execution_count": null,
      "outputs": [
        {
          "output_type": "execute_result",
          "data": {
            "text/html": [
              "<div>\n",
              "<style scoped>\n",
              "    .dataframe tbody tr th:only-of-type {\n",
              "        vertical-align: middle;\n",
              "    }\n",
              "\n",
              "    .dataframe tbody tr th {\n",
              "        vertical-align: top;\n",
              "    }\n",
              "\n",
              "    .dataframe thead th {\n",
              "        text-align: right;\n",
              "    }\n",
              "</style>\n",
              "<table border=\"1\" class=\"dataframe\">\n",
              "  <thead>\n",
              "    <tr style=\"text-align: right;\">\n",
              "      <th></th>\n",
              "      <th>ID</th>\n",
              "      <th>GENERO</th>\n",
              "      <th>RENTA</th>\n",
              "      <th>EDAD</th>\n",
              "      <th>NIV_EDUC</th>\n",
              "      <th>E_CIVIL</th>\n",
              "      <th>COD_OFI</th>\n",
              "      <th>COD_COM</th>\n",
              "      <th>CIUDAD</th>\n",
              "      <th>D_Marzo</th>\n",
              "      <th>D_Abril</th>\n",
              "      <th>D_Mayo</th>\n",
              "      <th>D_Junio</th>\n",
              "      <th>D_Julio</th>\n",
              "      <th>D_Agosto</th>\n",
              "      <th>D_Septiembre</th>\n",
              "      <th>M_MOROSO</th>\n",
              "      <th>MONTO</th>\n",
              "      <th>SEGURO</th>\n",
              "      <th>D_Marzo2</th>\n",
              "      <th>D_Abril2</th>\n",
              "      <th>D_Mayo2</th>\n",
              "      <th>D_Junio2</th>\n",
              "      <th>D_Julio2</th>\n",
              "      <th>D_Agosto2</th>\n",
              "      <th>D_Septiembre2</th>\n",
              "      <th>VM_AbrilMarzo</th>\n",
              "      <th>VM_MayoAbril</th>\n",
              "      <th>VM_JunioMayo</th>\n",
              "      <th>VM_JulioJunio</th>\n",
              "      <th>VM_AgostoJulio</th>\n",
              "      <th>VM_SeptiembreAgosto</th>\n",
              "      <th>logVM_MayoAbril</th>\n",
              "      <th>logVM_AbrilMarzo</th>\n",
              "      <th>logVM_JunioMayo</th>\n",
              "      <th>logVM_JulioJunio</th>\n",
              "      <th>logVM_AgostoJulio</th>\n",
              "      <th>logVM_SeptiembreAgosto</th>\n",
              "      <th>Monto_Total_Deuda</th>\n",
              "    </tr>\n",
              "  </thead>\n",
              "  <tbody>\n",
              "    <tr>\n",
              "      <th>0</th>\n",
              "      <td>2295.0</td>\n",
              "      <td>0.0</td>\n",
              "      <td>457693.0</td>\n",
              "      <td>45.0</td>\n",
              "      <td>18.0</td>\n",
              "      <td>1.0</td>\n",
              "      <td>31.0</td>\n",
              "      <td>119.0</td>\n",
              "      <td>2.0</td>\n",
              "      <td>0.0</td>\n",
              "      <td>190591.0</td>\n",
              "      <td>0.0</td>\n",
              "      <td>20396.0</td>\n",
              "      <td>0.0</td>\n",
              "      <td>0.0</td>\n",
              "      <td>415.0</td>\n",
              "      <td>1.0</td>\n",
              "      <td>2700000.0</td>\n",
              "      <td>0.0</td>\n",
              "      <td>1.0</td>\n",
              "      <td>190592.0</td>\n",
              "      <td>1.0</td>\n",
              "      <td>20397.0</td>\n",
              "      <td>1.0</td>\n",
              "      <td>1.0</td>\n",
              "      <td>416.0</td>\n",
              "      <td>190592.000000</td>\n",
              "      <td>0.000005</td>\n",
              "      <td>20397.0</td>\n",
              "      <td>0.000049</td>\n",
              "      <td>1.000000</td>\n",
              "      <td>416.000000</td>\n",
              "      <td>0.000005</td>\n",
              "      <td>12.157896</td>\n",
              "      <td>9.923192</td>\n",
              "      <td>0.000049</td>\n",
              "      <td>0.693147</td>\n",
              "      <td>6.033086</td>\n",
              "      <td>211402.0</td>\n",
              "    </tr>\n",
              "    <tr>\n",
              "      <th>1</th>\n",
              "      <td>2296.0</td>\n",
              "      <td>1.0</td>\n",
              "      <td>2258382.0</td>\n",
              "      <td>30.0</td>\n",
              "      <td>14.0</td>\n",
              "      <td>2.0</td>\n",
              "      <td>74.0</td>\n",
              "      <td>272.0</td>\n",
              "      <td>26.0</td>\n",
              "      <td>0.0</td>\n",
              "      <td>47354.0</td>\n",
              "      <td>0.0</td>\n",
              "      <td>0.0</td>\n",
              "      <td>0.0</td>\n",
              "      <td>0.0</td>\n",
              "      <td>2.0</td>\n",
              "      <td>0.0</td>\n",
              "      <td>1900000.0</td>\n",
              "      <td>0.0</td>\n",
              "      <td>1.0</td>\n",
              "      <td>47355.0</td>\n",
              "      <td>1.0</td>\n",
              "      <td>1.0</td>\n",
              "      <td>1.0</td>\n",
              "      <td>1.0</td>\n",
              "      <td>3.0</td>\n",
              "      <td>47355.000000</td>\n",
              "      <td>0.000021</td>\n",
              "      <td>1.0</td>\n",
              "      <td>1.000000</td>\n",
              "      <td>1.000000</td>\n",
              "      <td>3.000000</td>\n",
              "      <td>0.000021</td>\n",
              "      <td>10.765449</td>\n",
              "      <td>0.693147</td>\n",
              "      <td>0.693147</td>\n",
              "      <td>0.693147</td>\n",
              "      <td>1.386294</td>\n",
              "      <td>47356.0</td>\n",
              "    </tr>\n",
              "    <tr>\n",
              "      <th>2</th>\n",
              "      <td>2297.0</td>\n",
              "      <td>0.0</td>\n",
              "      <td>546190.0</td>\n",
              "      <td>51.0</td>\n",
              "      <td>18.0</td>\n",
              "      <td>1.0</td>\n",
              "      <td>138.0</td>\n",
              "      <td>1.0</td>\n",
              "      <td>4.0</td>\n",
              "      <td>622808.0</td>\n",
              "      <td>61646.0</td>\n",
              "      <td>0.0</td>\n",
              "      <td>268771.0</td>\n",
              "      <td>235.0</td>\n",
              "      <td>2913.0</td>\n",
              "      <td>0.0</td>\n",
              "      <td>1.0</td>\n",
              "      <td>1100000.0</td>\n",
              "      <td>1.0</td>\n",
              "      <td>622809.0</td>\n",
              "      <td>61647.0</td>\n",
              "      <td>1.0</td>\n",
              "      <td>268772.0</td>\n",
              "      <td>236.0</td>\n",
              "      <td>2914.0</td>\n",
              "      <td>1.0</td>\n",
              "      <td>0.098982</td>\n",
              "      <td>0.000016</td>\n",
              "      <td>268772.0</td>\n",
              "      <td>0.000878</td>\n",
              "      <td>12.347458</td>\n",
              "      <td>0.000343</td>\n",
              "      <td>0.000016</td>\n",
              "      <td>0.094384</td>\n",
              "      <td>12.501622</td>\n",
              "      <td>0.000878</td>\n",
              "      <td>2.591326</td>\n",
              "      <td>0.000343</td>\n",
              "      <td>956373.0</td>\n",
              "    </tr>\n",
              "    <tr>\n",
              "      <th>3</th>\n",
              "      <td>2298.0</td>\n",
              "      <td>1.0</td>\n",
              "      <td>424424.0</td>\n",
              "      <td>41.0</td>\n",
              "      <td>12.0</td>\n",
              "      <td>2.0</td>\n",
              "      <td>138.0</td>\n",
              "      <td>80.0</td>\n",
              "      <td>2.0</td>\n",
              "      <td>0.0</td>\n",
              "      <td>1054.0</td>\n",
              "      <td>0.0</td>\n",
              "      <td>392871.0</td>\n",
              "      <td>1961.0</td>\n",
              "      <td>0.0</td>\n",
              "      <td>1022.0</td>\n",
              "      <td>3.0</td>\n",
              "      <td>3500000.0</td>\n",
              "      <td>0.0</td>\n",
              "      <td>1.0</td>\n",
              "      <td>1055.0</td>\n",
              "      <td>1.0</td>\n",
              "      <td>392872.0</td>\n",
              "      <td>1962.0</td>\n",
              "      <td>1.0</td>\n",
              "      <td>1023.0</td>\n",
              "      <td>1055.000000</td>\n",
              "      <td>0.000948</td>\n",
              "      <td>392872.0</td>\n",
              "      <td>0.004994</td>\n",
              "      <td>0.000510</td>\n",
              "      <td>1023.000000</td>\n",
              "      <td>0.000947</td>\n",
              "      <td>6.962243</td>\n",
              "      <td>12.881242</td>\n",
              "      <td>0.004982</td>\n",
              "      <td>0.000510</td>\n",
              "      <td>6.931472</td>\n",
              "      <td>396908.0</td>\n",
              "    </tr>\n",
              "  </tbody>\n",
              "</table>\n",
              "</div>"
            ],
            "text/plain": [
              "       ID  GENERO  ...  logVM_SeptiembreAgosto  Monto_Total_Deuda\n",
              "0  2295.0     0.0  ...                6.033086           211402.0\n",
              "1  2296.0     1.0  ...                1.386294            47356.0\n",
              "2  2297.0     0.0  ...                0.000343           956373.0\n",
              "3  2298.0     1.0  ...                6.931472           396908.0\n",
              "\n",
              "[4 rows x 39 columns]"
            ]
          },
          "metadata": {
            "tags": []
          },
          "execution_count": 163
        }
      ]
    },
    {
      "cell_type": "markdown",
      "metadata": {
        "id": "ly5xASAywoIo"
      },
      "source": [
        "En la tabla anterior podemos observar la incorporación del atributo \"Monto Total Deuda\", que tal como su nombre lo indica, muestra el acumulado o suma de los montos finales adeudados en cada mes, para cada cliente. Es importante recordar, que por definición del problema, la deuda mensual de los clientes, no se transfiere de un mes a otro. En ese sentido, esta variable nos orienta a cuánto fue el total de deuda existente alcanzada durante el período de análisis, independiente de que haya sido cancelada o que tenga asociada meses de insolvencia, en que dichos montos particulares de cada mes, no fuesen pagados."
      ]
    },
    {
      "cell_type": "code",
      "metadata": {
        "id": "iKFWq4u6Qdy0"
      },
      "source": [
        "#sns.displot(data=df3, x='Monto_Total_Deuda', col='FUGA')"
      ],
      "execution_count": null,
      "outputs": []
    },
    {
      "cell_type": "markdown",
      "metadata": {
        "id": "_C3KgfLIyqGq"
      },
      "source": [
        "En los gráficos de distribución recién presentados, se observa una gran concentración de datos en valores bajos y pocos pero ampliamente distribuidos valores altos. De este modo, con tal de obtener mejor entendimiento del comportamiento de la variable del total de la deuda, se vuelve necesaria la aplicación de una transformación logarítmica, la que se presenta a continuación."
      ]
    },
    {
      "cell_type": "code",
      "metadata": {
        "colab": {
          "base_uri": "https://localhost:8080/",
          "height": 190
        },
        "id": "5O2XL4teQ6ZL",
        "outputId": "30ecdebd-e608-4d4a-ef03-7e182ca1740e"
      },
      "source": [
        "df3['logMTD']=np.log(df3['Monto_Total_Deuda']+1)\n",
        "df3.head(4)"
      ],
      "execution_count": null,
      "outputs": [
        {
          "output_type": "execute_result",
          "data": {
            "text/html": [
              "<div>\n",
              "<style scoped>\n",
              "    .dataframe tbody tr th:only-of-type {\n",
              "        vertical-align: middle;\n",
              "    }\n",
              "\n",
              "    .dataframe tbody tr th {\n",
              "        vertical-align: top;\n",
              "    }\n",
              "\n",
              "    .dataframe thead th {\n",
              "        text-align: right;\n",
              "    }\n",
              "</style>\n",
              "<table border=\"1\" class=\"dataframe\">\n",
              "  <thead>\n",
              "    <tr style=\"text-align: right;\">\n",
              "      <th></th>\n",
              "      <th>ID</th>\n",
              "      <th>GENERO</th>\n",
              "      <th>RENTA</th>\n",
              "      <th>EDAD</th>\n",
              "      <th>NIV_EDUC</th>\n",
              "      <th>E_CIVIL</th>\n",
              "      <th>COD_OFI</th>\n",
              "      <th>COD_COM</th>\n",
              "      <th>CIUDAD</th>\n",
              "      <th>D_Marzo</th>\n",
              "      <th>D_Abril</th>\n",
              "      <th>D_Mayo</th>\n",
              "      <th>D_Junio</th>\n",
              "      <th>D_Julio</th>\n",
              "      <th>D_Agosto</th>\n",
              "      <th>D_Septiembre</th>\n",
              "      <th>M_MOROSO</th>\n",
              "      <th>MONTO</th>\n",
              "      <th>SEGURO</th>\n",
              "      <th>D_Marzo2</th>\n",
              "      <th>D_Abril2</th>\n",
              "      <th>D_Mayo2</th>\n",
              "      <th>D_Junio2</th>\n",
              "      <th>D_Julio2</th>\n",
              "      <th>D_Agosto2</th>\n",
              "      <th>D_Septiembre2</th>\n",
              "      <th>VM_AbrilMarzo</th>\n",
              "      <th>VM_MayoAbril</th>\n",
              "      <th>VM_JunioMayo</th>\n",
              "      <th>VM_JulioJunio</th>\n",
              "      <th>VM_AgostoJulio</th>\n",
              "      <th>VM_SeptiembreAgosto</th>\n",
              "      <th>logVM_MayoAbril</th>\n",
              "      <th>logVM_AbrilMarzo</th>\n",
              "      <th>logVM_JunioMayo</th>\n",
              "      <th>logVM_JulioJunio</th>\n",
              "      <th>logVM_AgostoJulio</th>\n",
              "      <th>logVM_SeptiembreAgosto</th>\n",
              "      <th>Monto_Total_Deuda</th>\n",
              "      <th>logMTD</th>\n",
              "    </tr>\n",
              "  </thead>\n",
              "  <tbody>\n",
              "    <tr>\n",
              "      <th>0</th>\n",
              "      <td>2295.0</td>\n",
              "      <td>0.0</td>\n",
              "      <td>457693.0</td>\n",
              "      <td>45.0</td>\n",
              "      <td>18.0</td>\n",
              "      <td>1.0</td>\n",
              "      <td>31.0</td>\n",
              "      <td>119.0</td>\n",
              "      <td>2.0</td>\n",
              "      <td>0.0</td>\n",
              "      <td>190591.0</td>\n",
              "      <td>0.0</td>\n",
              "      <td>20396.0</td>\n",
              "      <td>0.0</td>\n",
              "      <td>0.0</td>\n",
              "      <td>415.0</td>\n",
              "      <td>1.0</td>\n",
              "      <td>2700000.0</td>\n",
              "      <td>0.0</td>\n",
              "      <td>1.0</td>\n",
              "      <td>190592.0</td>\n",
              "      <td>1.0</td>\n",
              "      <td>20397.0</td>\n",
              "      <td>1.0</td>\n",
              "      <td>1.0</td>\n",
              "      <td>416.0</td>\n",
              "      <td>190592.000000</td>\n",
              "      <td>0.000005</td>\n",
              "      <td>20397.0</td>\n",
              "      <td>0.000049</td>\n",
              "      <td>1.000000</td>\n",
              "      <td>416.000000</td>\n",
              "      <td>0.000005</td>\n",
              "      <td>12.157896</td>\n",
              "      <td>9.923192</td>\n",
              "      <td>0.000049</td>\n",
              "      <td>0.693147</td>\n",
              "      <td>6.033086</td>\n",
              "      <td>211402.0</td>\n",
              "      <td>12.261522</td>\n",
              "    </tr>\n",
              "    <tr>\n",
              "      <th>1</th>\n",
              "      <td>2296.0</td>\n",
              "      <td>1.0</td>\n",
              "      <td>2258382.0</td>\n",
              "      <td>30.0</td>\n",
              "      <td>14.0</td>\n",
              "      <td>2.0</td>\n",
              "      <td>74.0</td>\n",
              "      <td>272.0</td>\n",
              "      <td>26.0</td>\n",
              "      <td>0.0</td>\n",
              "      <td>47354.0</td>\n",
              "      <td>0.0</td>\n",
              "      <td>0.0</td>\n",
              "      <td>0.0</td>\n",
              "      <td>0.0</td>\n",
              "      <td>2.0</td>\n",
              "      <td>0.0</td>\n",
              "      <td>1900000.0</td>\n",
              "      <td>0.0</td>\n",
              "      <td>1.0</td>\n",
              "      <td>47355.0</td>\n",
              "      <td>1.0</td>\n",
              "      <td>1.0</td>\n",
              "      <td>1.0</td>\n",
              "      <td>1.0</td>\n",
              "      <td>3.0</td>\n",
              "      <td>47355.000000</td>\n",
              "      <td>0.000021</td>\n",
              "      <td>1.0</td>\n",
              "      <td>1.000000</td>\n",
              "      <td>1.000000</td>\n",
              "      <td>3.000000</td>\n",
              "      <td>0.000021</td>\n",
              "      <td>10.765449</td>\n",
              "      <td>0.693147</td>\n",
              "      <td>0.693147</td>\n",
              "      <td>0.693147</td>\n",
              "      <td>1.386294</td>\n",
              "      <td>47356.0</td>\n",
              "      <td>10.765470</td>\n",
              "    </tr>\n",
              "    <tr>\n",
              "      <th>2</th>\n",
              "      <td>2297.0</td>\n",
              "      <td>0.0</td>\n",
              "      <td>546190.0</td>\n",
              "      <td>51.0</td>\n",
              "      <td>18.0</td>\n",
              "      <td>1.0</td>\n",
              "      <td>138.0</td>\n",
              "      <td>1.0</td>\n",
              "      <td>4.0</td>\n",
              "      <td>622808.0</td>\n",
              "      <td>61646.0</td>\n",
              "      <td>0.0</td>\n",
              "      <td>268771.0</td>\n",
              "      <td>235.0</td>\n",
              "      <td>2913.0</td>\n",
              "      <td>0.0</td>\n",
              "      <td>1.0</td>\n",
              "      <td>1100000.0</td>\n",
              "      <td>1.0</td>\n",
              "      <td>622809.0</td>\n",
              "      <td>61647.0</td>\n",
              "      <td>1.0</td>\n",
              "      <td>268772.0</td>\n",
              "      <td>236.0</td>\n",
              "      <td>2914.0</td>\n",
              "      <td>1.0</td>\n",
              "      <td>0.098982</td>\n",
              "      <td>0.000016</td>\n",
              "      <td>268772.0</td>\n",
              "      <td>0.000878</td>\n",
              "      <td>12.347458</td>\n",
              "      <td>0.000343</td>\n",
              "      <td>0.000016</td>\n",
              "      <td>0.094384</td>\n",
              "      <td>12.501622</td>\n",
              "      <td>0.000878</td>\n",
              "      <td>2.591326</td>\n",
              "      <td>0.000343</td>\n",
              "      <td>956373.0</td>\n",
              "      <td>13.770904</td>\n",
              "    </tr>\n",
              "    <tr>\n",
              "      <th>3</th>\n",
              "      <td>2298.0</td>\n",
              "      <td>1.0</td>\n",
              "      <td>424424.0</td>\n",
              "      <td>41.0</td>\n",
              "      <td>12.0</td>\n",
              "      <td>2.0</td>\n",
              "      <td>138.0</td>\n",
              "      <td>80.0</td>\n",
              "      <td>2.0</td>\n",
              "      <td>0.0</td>\n",
              "      <td>1054.0</td>\n",
              "      <td>0.0</td>\n",
              "      <td>392871.0</td>\n",
              "      <td>1961.0</td>\n",
              "      <td>0.0</td>\n",
              "      <td>1022.0</td>\n",
              "      <td>3.0</td>\n",
              "      <td>3500000.0</td>\n",
              "      <td>0.0</td>\n",
              "      <td>1.0</td>\n",
              "      <td>1055.0</td>\n",
              "      <td>1.0</td>\n",
              "      <td>392872.0</td>\n",
              "      <td>1962.0</td>\n",
              "      <td>1.0</td>\n",
              "      <td>1023.0</td>\n",
              "      <td>1055.000000</td>\n",
              "      <td>0.000948</td>\n",
              "      <td>392872.0</td>\n",
              "      <td>0.004994</td>\n",
              "      <td>0.000510</td>\n",
              "      <td>1023.000000</td>\n",
              "      <td>0.000947</td>\n",
              "      <td>6.962243</td>\n",
              "      <td>12.881242</td>\n",
              "      <td>0.004982</td>\n",
              "      <td>0.000510</td>\n",
              "      <td>6.931472</td>\n",
              "      <td>396908.0</td>\n",
              "      <td>12.891462</td>\n",
              "    </tr>\n",
              "  </tbody>\n",
              "</table>\n",
              "</div>"
            ],
            "text/plain": [
              "       ID  GENERO  ...  Monto_Total_Deuda     logMTD\n",
              "0  2295.0     0.0  ...           211402.0  12.261522\n",
              "1  2296.0     1.0  ...            47356.0  10.765470\n",
              "2  2297.0     0.0  ...           956373.0  13.770904\n",
              "3  2298.0     1.0  ...           396908.0  12.891462\n",
              "\n",
              "[4 rows x 40 columns]"
            ]
          },
          "metadata": {
            "tags": []
          },
          "execution_count": 164
        }
      ]
    },
    {
      "cell_type": "code",
      "metadata": {
        "id": "7-QrSfFnRHxL"
      },
      "source": [
        "#sns.displot(data=df3, x='logMTD', col='FUGA')"
      ],
      "execution_count": null,
      "outputs": []
    },
    {
      "cell_type": "markdown",
      "metadata": {
        "id": "9W0p39QSTYSG"
      },
      "source": [
        "Según lo esperado, en la distribución del logaritmo del monto total de deuda, tenemos los datos restringidos a un rango menor de valores posibles. Se puede observar una distribución cargada hacia la derecha, con concentración de valores entre 10 y 16, con valores acumulados máximos alrededor de 14, independiente si los clientes fugan o no."
      ]
    },
    {
      "cell_type": "markdown",
      "metadata": {
        "id": "l1yzkBH8VBeF"
      },
      "source": [
        "###### Recency "
      ]
    },
    {
      "cell_type": "markdown",
      "metadata": {
        "id": "Zgrxi_xLv4G2"
      },
      "source": [
        "A continuación, se crea la variable \"Recency\", que da una noción de qué tan actual ha sido la última instancia en que los clientes han tenido una deuda mensual mayor que cero, lo que da una sensibilidad de lo reciente o actual de la condición de deuda, siempre vinculado con el dinamismo."
      ]
    },
    {
      "cell_type": "code",
      "metadata": {
        "colab": {
          "base_uri": "https://localhost:8080/",
          "height": 190
        },
        "id": "9l_2nkMPtTzN",
        "outputId": "32078890-15e6-4e03-e67e-8a244b901136"
      },
      "source": [
        "dfr= df3[['D_Marzo',\t'D_Abril',\t'D_Mayo',\t'D_Junio',\t'D_Julio',\t'D_Agosto',\t'D_Septiembre']]\n",
        "dfr['D_Marzo'] = np.where(dfr['D_Marzo']> 0, 3, 0)\n",
        "dfr['D_Abril'] = np.where(dfr['D_Abril']> 0, 4, 0)\n",
        "dfr['D_Mayo'] = np.where(dfr['D_Mayo']> 0, 5, 0)\n",
        "dfr['D_Junio'] = np.where(dfr['D_Junio']> 0, 6, 0)\n",
        "dfr['D_Julio'] = np.where(dfr['D_Julio']> 0, 7, 0)\n",
        "dfr['D_Agosto'] = np.where(dfr['D_Agosto']> 0, 8, 0)\n",
        "dfr['D_Septiembre'] = np.where(dfr['D_Septiembre']> 0, 9, 0)\n",
        "df3['Recency']= dfr.max(axis=1)\n",
        "df3.head(4)"
      ],
      "execution_count": null,
      "outputs": [
        {
          "output_type": "execute_result",
          "data": {
            "text/html": [
              "<div>\n",
              "<style scoped>\n",
              "    .dataframe tbody tr th:only-of-type {\n",
              "        vertical-align: middle;\n",
              "    }\n",
              "\n",
              "    .dataframe tbody tr th {\n",
              "        vertical-align: top;\n",
              "    }\n",
              "\n",
              "    .dataframe thead th {\n",
              "        text-align: right;\n",
              "    }\n",
              "</style>\n",
              "<table border=\"1\" class=\"dataframe\">\n",
              "  <thead>\n",
              "    <tr style=\"text-align: right;\">\n",
              "      <th></th>\n",
              "      <th>ID</th>\n",
              "      <th>GENERO</th>\n",
              "      <th>RENTA</th>\n",
              "      <th>EDAD</th>\n",
              "      <th>NIV_EDUC</th>\n",
              "      <th>E_CIVIL</th>\n",
              "      <th>COD_OFI</th>\n",
              "      <th>COD_COM</th>\n",
              "      <th>CIUDAD</th>\n",
              "      <th>D_Marzo</th>\n",
              "      <th>D_Abril</th>\n",
              "      <th>D_Mayo</th>\n",
              "      <th>D_Junio</th>\n",
              "      <th>D_Julio</th>\n",
              "      <th>D_Agosto</th>\n",
              "      <th>D_Septiembre</th>\n",
              "      <th>M_MOROSO</th>\n",
              "      <th>MONTO</th>\n",
              "      <th>SEGURO</th>\n",
              "      <th>D_Marzo2</th>\n",
              "      <th>D_Abril2</th>\n",
              "      <th>D_Mayo2</th>\n",
              "      <th>D_Junio2</th>\n",
              "      <th>D_Julio2</th>\n",
              "      <th>D_Agosto2</th>\n",
              "      <th>D_Septiembre2</th>\n",
              "      <th>VM_AbrilMarzo</th>\n",
              "      <th>VM_MayoAbril</th>\n",
              "      <th>VM_JunioMayo</th>\n",
              "      <th>VM_JulioJunio</th>\n",
              "      <th>VM_AgostoJulio</th>\n",
              "      <th>VM_SeptiembreAgosto</th>\n",
              "      <th>logVM_MayoAbril</th>\n",
              "      <th>logVM_AbrilMarzo</th>\n",
              "      <th>logVM_JunioMayo</th>\n",
              "      <th>logVM_JulioJunio</th>\n",
              "      <th>logVM_AgostoJulio</th>\n",
              "      <th>logVM_SeptiembreAgosto</th>\n",
              "      <th>Monto_Total_Deuda</th>\n",
              "      <th>logMTD</th>\n",
              "      <th>Recency</th>\n",
              "    </tr>\n",
              "  </thead>\n",
              "  <tbody>\n",
              "    <tr>\n",
              "      <th>0</th>\n",
              "      <td>2295.0</td>\n",
              "      <td>0.0</td>\n",
              "      <td>457693.0</td>\n",
              "      <td>45.0</td>\n",
              "      <td>18.0</td>\n",
              "      <td>1.0</td>\n",
              "      <td>31.0</td>\n",
              "      <td>119.0</td>\n",
              "      <td>2.0</td>\n",
              "      <td>0.0</td>\n",
              "      <td>190591.0</td>\n",
              "      <td>0.0</td>\n",
              "      <td>20396.0</td>\n",
              "      <td>0.0</td>\n",
              "      <td>0.0</td>\n",
              "      <td>415.0</td>\n",
              "      <td>1.0</td>\n",
              "      <td>2700000.0</td>\n",
              "      <td>0.0</td>\n",
              "      <td>1.0</td>\n",
              "      <td>190592.0</td>\n",
              "      <td>1.0</td>\n",
              "      <td>20397.0</td>\n",
              "      <td>1.0</td>\n",
              "      <td>1.0</td>\n",
              "      <td>416.0</td>\n",
              "      <td>190592.000000</td>\n",
              "      <td>0.000005</td>\n",
              "      <td>20397.0</td>\n",
              "      <td>0.000049</td>\n",
              "      <td>1.000000</td>\n",
              "      <td>416.000000</td>\n",
              "      <td>0.000005</td>\n",
              "      <td>12.157896</td>\n",
              "      <td>9.923192</td>\n",
              "      <td>0.000049</td>\n",
              "      <td>0.693147</td>\n",
              "      <td>6.033086</td>\n",
              "      <td>211402.0</td>\n",
              "      <td>12.261522</td>\n",
              "      <td>9</td>\n",
              "    </tr>\n",
              "    <tr>\n",
              "      <th>1</th>\n",
              "      <td>2296.0</td>\n",
              "      <td>1.0</td>\n",
              "      <td>2258382.0</td>\n",
              "      <td>30.0</td>\n",
              "      <td>14.0</td>\n",
              "      <td>2.0</td>\n",
              "      <td>74.0</td>\n",
              "      <td>272.0</td>\n",
              "      <td>26.0</td>\n",
              "      <td>0.0</td>\n",
              "      <td>47354.0</td>\n",
              "      <td>0.0</td>\n",
              "      <td>0.0</td>\n",
              "      <td>0.0</td>\n",
              "      <td>0.0</td>\n",
              "      <td>2.0</td>\n",
              "      <td>0.0</td>\n",
              "      <td>1900000.0</td>\n",
              "      <td>0.0</td>\n",
              "      <td>1.0</td>\n",
              "      <td>47355.0</td>\n",
              "      <td>1.0</td>\n",
              "      <td>1.0</td>\n",
              "      <td>1.0</td>\n",
              "      <td>1.0</td>\n",
              "      <td>3.0</td>\n",
              "      <td>47355.000000</td>\n",
              "      <td>0.000021</td>\n",
              "      <td>1.0</td>\n",
              "      <td>1.000000</td>\n",
              "      <td>1.000000</td>\n",
              "      <td>3.000000</td>\n",
              "      <td>0.000021</td>\n",
              "      <td>10.765449</td>\n",
              "      <td>0.693147</td>\n",
              "      <td>0.693147</td>\n",
              "      <td>0.693147</td>\n",
              "      <td>1.386294</td>\n",
              "      <td>47356.0</td>\n",
              "      <td>10.765470</td>\n",
              "      <td>9</td>\n",
              "    </tr>\n",
              "    <tr>\n",
              "      <th>2</th>\n",
              "      <td>2297.0</td>\n",
              "      <td>0.0</td>\n",
              "      <td>546190.0</td>\n",
              "      <td>51.0</td>\n",
              "      <td>18.0</td>\n",
              "      <td>1.0</td>\n",
              "      <td>138.0</td>\n",
              "      <td>1.0</td>\n",
              "      <td>4.0</td>\n",
              "      <td>622808.0</td>\n",
              "      <td>61646.0</td>\n",
              "      <td>0.0</td>\n",
              "      <td>268771.0</td>\n",
              "      <td>235.0</td>\n",
              "      <td>2913.0</td>\n",
              "      <td>0.0</td>\n",
              "      <td>1.0</td>\n",
              "      <td>1100000.0</td>\n",
              "      <td>1.0</td>\n",
              "      <td>622809.0</td>\n",
              "      <td>61647.0</td>\n",
              "      <td>1.0</td>\n",
              "      <td>268772.0</td>\n",
              "      <td>236.0</td>\n",
              "      <td>2914.0</td>\n",
              "      <td>1.0</td>\n",
              "      <td>0.098982</td>\n",
              "      <td>0.000016</td>\n",
              "      <td>268772.0</td>\n",
              "      <td>0.000878</td>\n",
              "      <td>12.347458</td>\n",
              "      <td>0.000343</td>\n",
              "      <td>0.000016</td>\n",
              "      <td>0.094384</td>\n",
              "      <td>12.501622</td>\n",
              "      <td>0.000878</td>\n",
              "      <td>2.591326</td>\n",
              "      <td>0.000343</td>\n",
              "      <td>956373.0</td>\n",
              "      <td>13.770904</td>\n",
              "      <td>8</td>\n",
              "    </tr>\n",
              "    <tr>\n",
              "      <th>3</th>\n",
              "      <td>2298.0</td>\n",
              "      <td>1.0</td>\n",
              "      <td>424424.0</td>\n",
              "      <td>41.0</td>\n",
              "      <td>12.0</td>\n",
              "      <td>2.0</td>\n",
              "      <td>138.0</td>\n",
              "      <td>80.0</td>\n",
              "      <td>2.0</td>\n",
              "      <td>0.0</td>\n",
              "      <td>1054.0</td>\n",
              "      <td>0.0</td>\n",
              "      <td>392871.0</td>\n",
              "      <td>1961.0</td>\n",
              "      <td>0.0</td>\n",
              "      <td>1022.0</td>\n",
              "      <td>3.0</td>\n",
              "      <td>3500000.0</td>\n",
              "      <td>0.0</td>\n",
              "      <td>1.0</td>\n",
              "      <td>1055.0</td>\n",
              "      <td>1.0</td>\n",
              "      <td>392872.0</td>\n",
              "      <td>1962.0</td>\n",
              "      <td>1.0</td>\n",
              "      <td>1023.0</td>\n",
              "      <td>1055.000000</td>\n",
              "      <td>0.000948</td>\n",
              "      <td>392872.0</td>\n",
              "      <td>0.004994</td>\n",
              "      <td>0.000510</td>\n",
              "      <td>1023.000000</td>\n",
              "      <td>0.000947</td>\n",
              "      <td>6.962243</td>\n",
              "      <td>12.881242</td>\n",
              "      <td>0.004982</td>\n",
              "      <td>0.000510</td>\n",
              "      <td>6.931472</td>\n",
              "      <td>396908.0</td>\n",
              "      <td>12.891462</td>\n",
              "      <td>9</td>\n",
              "    </tr>\n",
              "  </tbody>\n",
              "</table>\n",
              "</div>"
            ],
            "text/plain": [
              "       ID  GENERO      RENTA  ...  Monto_Total_Deuda     logMTD  Recency\n",
              "0  2295.0     0.0   457693.0  ...           211402.0  12.261522        9\n",
              "1  2296.0     1.0  2258382.0  ...            47356.0  10.765470        9\n",
              "2  2297.0     0.0   546190.0  ...           956373.0  13.770904        8\n",
              "3  2298.0     1.0   424424.0  ...           396908.0  12.891462        9\n",
              "\n",
              "[4 rows x 41 columns]"
            ]
          },
          "metadata": {
            "tags": []
          },
          "execution_count": 165
        }
      ]
    },
    {
      "cell_type": "markdown",
      "metadata": {
        "id": "lF0yVhIbW-K8"
      },
      "source": [
        "A continuación se desarrolla la variable que muestra la frecuencia con que los clientes han tenido deuda mensual durante el período de análisis."
      ]
    },
    {
      "cell_type": "code",
      "metadata": {
        "colab": {
          "base_uri": "https://localhost:8080/",
          "height": 190
        },
        "id": "X3NncWCoPlOE",
        "outputId": "65a55f60-ba94-4fe4-c5d3-6cfebf0b4bc4"
      },
      "source": [
        "c01 = df3.loc[:, 'D_Marzo':'D_Septiembre']!=0\n",
        "Aux01 = df3[c01].count(axis=1)\n",
        "df3['Frecuencia']= Aux01\n",
        "df3.head(4)"
      ],
      "execution_count": null,
      "outputs": [
        {
          "output_type": "execute_result",
          "data": {
            "text/html": [
              "<div>\n",
              "<style scoped>\n",
              "    .dataframe tbody tr th:only-of-type {\n",
              "        vertical-align: middle;\n",
              "    }\n",
              "\n",
              "    .dataframe tbody tr th {\n",
              "        vertical-align: top;\n",
              "    }\n",
              "\n",
              "    .dataframe thead th {\n",
              "        text-align: right;\n",
              "    }\n",
              "</style>\n",
              "<table border=\"1\" class=\"dataframe\">\n",
              "  <thead>\n",
              "    <tr style=\"text-align: right;\">\n",
              "      <th></th>\n",
              "      <th>ID</th>\n",
              "      <th>GENERO</th>\n",
              "      <th>RENTA</th>\n",
              "      <th>EDAD</th>\n",
              "      <th>NIV_EDUC</th>\n",
              "      <th>E_CIVIL</th>\n",
              "      <th>COD_OFI</th>\n",
              "      <th>COD_COM</th>\n",
              "      <th>CIUDAD</th>\n",
              "      <th>D_Marzo</th>\n",
              "      <th>D_Abril</th>\n",
              "      <th>D_Mayo</th>\n",
              "      <th>D_Junio</th>\n",
              "      <th>D_Julio</th>\n",
              "      <th>D_Agosto</th>\n",
              "      <th>D_Septiembre</th>\n",
              "      <th>M_MOROSO</th>\n",
              "      <th>MONTO</th>\n",
              "      <th>SEGURO</th>\n",
              "      <th>D_Marzo2</th>\n",
              "      <th>D_Abril2</th>\n",
              "      <th>D_Mayo2</th>\n",
              "      <th>D_Junio2</th>\n",
              "      <th>D_Julio2</th>\n",
              "      <th>D_Agosto2</th>\n",
              "      <th>D_Septiembre2</th>\n",
              "      <th>VM_AbrilMarzo</th>\n",
              "      <th>VM_MayoAbril</th>\n",
              "      <th>VM_JunioMayo</th>\n",
              "      <th>VM_JulioJunio</th>\n",
              "      <th>VM_AgostoJulio</th>\n",
              "      <th>VM_SeptiembreAgosto</th>\n",
              "      <th>logVM_MayoAbril</th>\n",
              "      <th>logVM_AbrilMarzo</th>\n",
              "      <th>logVM_JunioMayo</th>\n",
              "      <th>logVM_JulioJunio</th>\n",
              "      <th>logVM_AgostoJulio</th>\n",
              "      <th>logVM_SeptiembreAgosto</th>\n",
              "      <th>Monto_Total_Deuda</th>\n",
              "      <th>logMTD</th>\n",
              "      <th>Recency</th>\n",
              "      <th>Frecuencia</th>\n",
              "    </tr>\n",
              "  </thead>\n",
              "  <tbody>\n",
              "    <tr>\n",
              "      <th>0</th>\n",
              "      <td>2295.0</td>\n",
              "      <td>0.0</td>\n",
              "      <td>457693.0</td>\n",
              "      <td>45.0</td>\n",
              "      <td>18.0</td>\n",
              "      <td>1.0</td>\n",
              "      <td>31.0</td>\n",
              "      <td>119.0</td>\n",
              "      <td>2.0</td>\n",
              "      <td>0.0</td>\n",
              "      <td>190591.0</td>\n",
              "      <td>0.0</td>\n",
              "      <td>20396.0</td>\n",
              "      <td>0.0</td>\n",
              "      <td>0.0</td>\n",
              "      <td>415.0</td>\n",
              "      <td>1.0</td>\n",
              "      <td>2700000.0</td>\n",
              "      <td>0.0</td>\n",
              "      <td>1.0</td>\n",
              "      <td>190592.0</td>\n",
              "      <td>1.0</td>\n",
              "      <td>20397.0</td>\n",
              "      <td>1.0</td>\n",
              "      <td>1.0</td>\n",
              "      <td>416.0</td>\n",
              "      <td>190592.000000</td>\n",
              "      <td>0.000005</td>\n",
              "      <td>20397.0</td>\n",
              "      <td>0.000049</td>\n",
              "      <td>1.000000</td>\n",
              "      <td>416.000000</td>\n",
              "      <td>0.000005</td>\n",
              "      <td>12.157896</td>\n",
              "      <td>9.923192</td>\n",
              "      <td>0.000049</td>\n",
              "      <td>0.693147</td>\n",
              "      <td>6.033086</td>\n",
              "      <td>211402.0</td>\n",
              "      <td>12.261522</td>\n",
              "      <td>9</td>\n",
              "      <td>3</td>\n",
              "    </tr>\n",
              "    <tr>\n",
              "      <th>1</th>\n",
              "      <td>2296.0</td>\n",
              "      <td>1.0</td>\n",
              "      <td>2258382.0</td>\n",
              "      <td>30.0</td>\n",
              "      <td>14.0</td>\n",
              "      <td>2.0</td>\n",
              "      <td>74.0</td>\n",
              "      <td>272.0</td>\n",
              "      <td>26.0</td>\n",
              "      <td>0.0</td>\n",
              "      <td>47354.0</td>\n",
              "      <td>0.0</td>\n",
              "      <td>0.0</td>\n",
              "      <td>0.0</td>\n",
              "      <td>0.0</td>\n",
              "      <td>2.0</td>\n",
              "      <td>0.0</td>\n",
              "      <td>1900000.0</td>\n",
              "      <td>0.0</td>\n",
              "      <td>1.0</td>\n",
              "      <td>47355.0</td>\n",
              "      <td>1.0</td>\n",
              "      <td>1.0</td>\n",
              "      <td>1.0</td>\n",
              "      <td>1.0</td>\n",
              "      <td>3.0</td>\n",
              "      <td>47355.000000</td>\n",
              "      <td>0.000021</td>\n",
              "      <td>1.0</td>\n",
              "      <td>1.000000</td>\n",
              "      <td>1.000000</td>\n",
              "      <td>3.000000</td>\n",
              "      <td>0.000021</td>\n",
              "      <td>10.765449</td>\n",
              "      <td>0.693147</td>\n",
              "      <td>0.693147</td>\n",
              "      <td>0.693147</td>\n",
              "      <td>1.386294</td>\n",
              "      <td>47356.0</td>\n",
              "      <td>10.765470</td>\n",
              "      <td>9</td>\n",
              "      <td>2</td>\n",
              "    </tr>\n",
              "    <tr>\n",
              "      <th>2</th>\n",
              "      <td>2297.0</td>\n",
              "      <td>0.0</td>\n",
              "      <td>546190.0</td>\n",
              "      <td>51.0</td>\n",
              "      <td>18.0</td>\n",
              "      <td>1.0</td>\n",
              "      <td>138.0</td>\n",
              "      <td>1.0</td>\n",
              "      <td>4.0</td>\n",
              "      <td>622808.0</td>\n",
              "      <td>61646.0</td>\n",
              "      <td>0.0</td>\n",
              "      <td>268771.0</td>\n",
              "      <td>235.0</td>\n",
              "      <td>2913.0</td>\n",
              "      <td>0.0</td>\n",
              "      <td>1.0</td>\n",
              "      <td>1100000.0</td>\n",
              "      <td>1.0</td>\n",
              "      <td>622809.0</td>\n",
              "      <td>61647.0</td>\n",
              "      <td>1.0</td>\n",
              "      <td>268772.0</td>\n",
              "      <td>236.0</td>\n",
              "      <td>2914.0</td>\n",
              "      <td>1.0</td>\n",
              "      <td>0.098982</td>\n",
              "      <td>0.000016</td>\n",
              "      <td>268772.0</td>\n",
              "      <td>0.000878</td>\n",
              "      <td>12.347458</td>\n",
              "      <td>0.000343</td>\n",
              "      <td>0.000016</td>\n",
              "      <td>0.094384</td>\n",
              "      <td>12.501622</td>\n",
              "      <td>0.000878</td>\n",
              "      <td>2.591326</td>\n",
              "      <td>0.000343</td>\n",
              "      <td>956373.0</td>\n",
              "      <td>13.770904</td>\n",
              "      <td>8</td>\n",
              "      <td>5</td>\n",
              "    </tr>\n",
              "    <tr>\n",
              "      <th>3</th>\n",
              "      <td>2298.0</td>\n",
              "      <td>1.0</td>\n",
              "      <td>424424.0</td>\n",
              "      <td>41.0</td>\n",
              "      <td>12.0</td>\n",
              "      <td>2.0</td>\n",
              "      <td>138.0</td>\n",
              "      <td>80.0</td>\n",
              "      <td>2.0</td>\n",
              "      <td>0.0</td>\n",
              "      <td>1054.0</td>\n",
              "      <td>0.0</td>\n",
              "      <td>392871.0</td>\n",
              "      <td>1961.0</td>\n",
              "      <td>0.0</td>\n",
              "      <td>1022.0</td>\n",
              "      <td>3.0</td>\n",
              "      <td>3500000.0</td>\n",
              "      <td>0.0</td>\n",
              "      <td>1.0</td>\n",
              "      <td>1055.0</td>\n",
              "      <td>1.0</td>\n",
              "      <td>392872.0</td>\n",
              "      <td>1962.0</td>\n",
              "      <td>1.0</td>\n",
              "      <td>1023.0</td>\n",
              "      <td>1055.000000</td>\n",
              "      <td>0.000948</td>\n",
              "      <td>392872.0</td>\n",
              "      <td>0.004994</td>\n",
              "      <td>0.000510</td>\n",
              "      <td>1023.000000</td>\n",
              "      <td>0.000947</td>\n",
              "      <td>6.962243</td>\n",
              "      <td>12.881242</td>\n",
              "      <td>0.004982</td>\n",
              "      <td>0.000510</td>\n",
              "      <td>6.931472</td>\n",
              "      <td>396908.0</td>\n",
              "      <td>12.891462</td>\n",
              "      <td>9</td>\n",
              "      <td>4</td>\n",
              "    </tr>\n",
              "  </tbody>\n",
              "</table>\n",
              "</div>"
            ],
            "text/plain": [
              "       ID  GENERO      RENTA  ...     logMTD  Recency  Frecuencia\n",
              "0  2295.0     0.0   457693.0  ...  12.261522        9           3\n",
              "1  2296.0     1.0  2258382.0  ...  10.765470        9           2\n",
              "2  2297.0     0.0   546190.0  ...  13.770904        8           5\n",
              "3  2298.0     1.0   424424.0  ...  12.891462        9           4\n",
              "\n",
              "[4 rows x 42 columns]"
            ]
          },
          "metadata": {
            "tags": []
          },
          "execution_count": 166
        }
      ]
    },
    {
      "cell_type": "code",
      "metadata": {
        "id": "AXEOQnNuPpor"
      },
      "source": [
        "#sns.scatterplot(x='Frecuencia', y='RENTA',  hue='FUGA', data= df3, palette=\"inferno\")"
      ],
      "execution_count": null,
      "outputs": []
    },
    {
      "cell_type": "markdown",
      "metadata": {
        "id": "LIdOPTU7Y5HY"
      },
      "source": [
        "Por tratarse de una opción discreta y restringida a nunca presentar deuda o bien tener deuda todos los meses desde Marzo a Septiembre, es que el gráfico de dispersión anterior nos muestra 8 concentraciones de datos, para valores de 0 a 7. Aquí podemos apreciar una mayor preponderancia de casos de fuga en los casos en que existe deuda en 4 o más meses, independiente del rango de renta. Por su parte, la mayoría de los clientes que no se fugan, tienen deuda mensual entre 0 y 3 meses durante el intervalo de tiempo analizado."
      ]
    },
    {
      "cell_type": "code",
      "metadata": {
        "id": "0OP31QiiPtYM"
      },
      "source": [
        "#sns.displot(data=df3, x='Frecuencia', hue='FUGA', multiple='dodge')"
      ],
      "execution_count": null,
      "outputs": []
    },
    {
      "cell_type": "markdown",
      "metadata": {
        "id": "vvLvZl7saLSQ"
      },
      "source": [
        "El gráfico de barras anterior, refuerza que la distribución de clientes que fuga posee, en general, mayor cantidad de meses con presencia de deuda, que los clientes que se mantienen fieles a la empresa."
      ]
    },
    {
      "cell_type": "markdown",
      "metadata": {
        "id": "Va3x2eUJcWiR"
      },
      "source": [
        "Con el fin de poder explorar el comportamiento de fuga de los clientes a través de la relación entre la deuda de los clientes y su poder adquisitivo, de modo que se tenga una noción de que tan alta es la deuda, ya sea total acumulada o la máxima alcanzada en un solo mes, es que se crean a continuación las variables dadas por la razón entre la deuda máxima mensual y la renta, así como la deuda mensual total acumulada y la renta."
      ]
    },
    {
      "cell_type": "markdown",
      "metadata": {
        "id": "xEKuzM4NbYE7"
      },
      "source": [
        "Se desarrolla a continuación la generación del atributo dado por la división de la deuda mensual máxima y la renta, para cada cliente en el set de datos."
      ]
    },
    {
      "cell_type": "code",
      "metadata": {
        "id": "9EQRGK6s-C-S"
      },
      "source": [
        "df3['D_max']= df3.max(axis=1)"
      ],
      "execution_count": null,
      "outputs": []
    },
    {
      "cell_type": "code",
      "metadata": {
        "id": "ipWKOfK-6mLn"
      },
      "source": [
        "df3['DMax/Renta'] = df3['D_max']/df3['RENTA']"
      ],
      "execution_count": null,
      "outputs": []
    },
    {
      "cell_type": "code",
      "metadata": {
        "id": "0-CvicNIip5e"
      },
      "source": [
        "#sns.displot(data=df3, x='DMax/Renta', col='FUGA')"
      ],
      "execution_count": null,
      "outputs": []
    },
    {
      "cell_type": "markdown",
      "metadata": {
        "id": "wd8JopI4dtbl"
      },
      "source": [
        "Del gráfico anterior, con tal de obtener mayor noción del comportamiento de la nueva variable, es necesario aplicar una transformación logarítmica que acerque los valores extremos mayores y despliegue de manera menos concentrada los valores menores."
      ]
    },
    {
      "cell_type": "code",
      "metadata": {
        "id": "ikBH_iZ48u4K"
      },
      "source": [
        "df3['logDMax/Renta'] = np.log(df3['DMax/Renta']+1)"
      ],
      "execution_count": null,
      "outputs": []
    },
    {
      "cell_type": "code",
      "metadata": {
        "id": "1nnyAG_e83DQ"
      },
      "source": [
        "#sns.displot(data=df3, x='logDMax/Renta', col='FUGA')"
      ],
      "execution_count": null,
      "outputs": []
    },
    {
      "cell_type": "markdown",
      "metadata": {
        "id": "X-8vbJreeYTu"
      },
      "source": [
        "De los gráficos aquí presentados, tenemos que la mayoría de los clientes, que fugan y no, se concentran en valores entre 0 y 2, principalmente."
      ]
    },
    {
      "cell_type": "markdown",
      "metadata": {
        "id": "BHEAPgpZaJsW"
      },
      "source": [
        "A continuación, se realiza un desarrollo análogo con la nueva variable correspondiente a la razón entre monto total de la deuda y la renta, para cada cliente."
      ]
    },
    {
      "cell_type": "code",
      "metadata": {
        "id": "_FRP10vu9QRy"
      },
      "source": [
        "df3['MTD/Renta'] = df3['Monto_Total_Deuda']/df3['RENTA']"
      ],
      "execution_count": null,
      "outputs": []
    },
    {
      "cell_type": "code",
      "metadata": {
        "id": "pW2gsPef9dXg"
      },
      "source": [
        "#sns.displot(data=df3, x='MTD/Renta', col='FUGA')"
      ],
      "execution_count": null,
      "outputs": []
    },
    {
      "cell_type": "code",
      "metadata": {
        "id": "FHbQiTyY9poo"
      },
      "source": [
        "df3['logMTD/Renta'] = np.log(df3['MTD/Renta']+1)"
      ],
      "execution_count": null,
      "outputs": []
    },
    {
      "cell_type": "code",
      "metadata": {
        "id": "FzR5ksqC9xc-"
      },
      "source": [
        "#sns.displot(data=df3, x='logMTD/Renta', col='FUGA')"
      ],
      "execution_count": null,
      "outputs": []
    },
    {
      "cell_type": "markdown",
      "metadata": {
        "id": "1g0Ng6nrq5EJ"
      },
      "source": [
        "Tenemos que la mayoría de los clientes, que fugan y no, se concentran en valores entre 0 y 2, principalmente."
      ]
    },
    {
      "cell_type": "markdown",
      "metadata": {
        "id": "VkwOPhw_VU5B"
      },
      "source": [
        "## Normalización de Atributos"
      ]
    },
    {
      "cell_type": "markdown",
      "metadata": {
        "id": "OaW8IZ0DVei2"
      },
      "source": [
        "Abordados los problemas iniciales existentes en la base de datos, ahora corresponde seguir con la normalización de los atributos existentes, con el objetivo de evitar distorsiones debido a las magnitudes diferentes de cada variable, es decir, hacerlas más comparables."
      ]
    },
    {
      "cell_type": "code",
      "metadata": {
        "id": "zb37N00b48AD"
      },
      "source": [
        "#dfnorm['CIUDAD'].unique()"
      ],
      "execution_count": null,
      "outputs": []
    },
    {
      "cell_type": "code",
      "metadata": {
        "id": "R9q-Asx35zeR",
        "colab": {
          "base_uri": "https://localhost:8080/",
          "height": 190
        },
        "outputId": "82cc453d-d420-4f92-9990-70cf40d05200"
      },
      "source": [
        "df3.head(4)"
      ],
      "execution_count": null,
      "outputs": [
        {
          "output_type": "execute_result",
          "data": {
            "text/html": [
              "<div>\n",
              "<style scoped>\n",
              "    .dataframe tbody tr th:only-of-type {\n",
              "        vertical-align: middle;\n",
              "    }\n",
              "\n",
              "    .dataframe tbody tr th {\n",
              "        vertical-align: top;\n",
              "    }\n",
              "\n",
              "    .dataframe thead th {\n",
              "        text-align: right;\n",
              "    }\n",
              "</style>\n",
              "<table border=\"1\" class=\"dataframe\">\n",
              "  <thead>\n",
              "    <tr style=\"text-align: right;\">\n",
              "      <th></th>\n",
              "      <th>ID</th>\n",
              "      <th>GENERO</th>\n",
              "      <th>RENTA</th>\n",
              "      <th>EDAD</th>\n",
              "      <th>NIV_EDUC</th>\n",
              "      <th>E_CIVIL</th>\n",
              "      <th>COD_OFI</th>\n",
              "      <th>COD_COM</th>\n",
              "      <th>CIUDAD</th>\n",
              "      <th>D_Marzo</th>\n",
              "      <th>D_Abril</th>\n",
              "      <th>D_Mayo</th>\n",
              "      <th>D_Junio</th>\n",
              "      <th>D_Julio</th>\n",
              "      <th>D_Agosto</th>\n",
              "      <th>D_Septiembre</th>\n",
              "      <th>M_MOROSO</th>\n",
              "      <th>MONTO</th>\n",
              "      <th>SEGURO</th>\n",
              "      <th>D_Marzo2</th>\n",
              "      <th>D_Abril2</th>\n",
              "      <th>D_Mayo2</th>\n",
              "      <th>D_Junio2</th>\n",
              "      <th>D_Julio2</th>\n",
              "      <th>D_Agosto2</th>\n",
              "      <th>D_Septiembre2</th>\n",
              "      <th>VM_AbrilMarzo</th>\n",
              "      <th>VM_MayoAbril</th>\n",
              "      <th>VM_JunioMayo</th>\n",
              "      <th>VM_JulioJunio</th>\n",
              "      <th>VM_AgostoJulio</th>\n",
              "      <th>VM_SeptiembreAgosto</th>\n",
              "      <th>logVM_MayoAbril</th>\n",
              "      <th>logVM_AbrilMarzo</th>\n",
              "      <th>logVM_JunioMayo</th>\n",
              "      <th>logVM_JulioJunio</th>\n",
              "      <th>logVM_AgostoJulio</th>\n",
              "      <th>logVM_SeptiembreAgosto</th>\n",
              "      <th>Monto_Total_Deuda</th>\n",
              "      <th>logMTD</th>\n",
              "      <th>Recency</th>\n",
              "      <th>Frecuencia</th>\n",
              "      <th>D_max</th>\n",
              "      <th>DMax/Renta</th>\n",
              "      <th>logDMax/Renta</th>\n",
              "      <th>MTD/Renta</th>\n",
              "      <th>logMTD/Renta</th>\n",
              "    </tr>\n",
              "  </thead>\n",
              "  <tbody>\n",
              "    <tr>\n",
              "      <th>0</th>\n",
              "      <td>2295.0</td>\n",
              "      <td>0.0</td>\n",
              "      <td>457693.0</td>\n",
              "      <td>45.0</td>\n",
              "      <td>18.0</td>\n",
              "      <td>1.0</td>\n",
              "      <td>31.0</td>\n",
              "      <td>119.0</td>\n",
              "      <td>2.0</td>\n",
              "      <td>0.0</td>\n",
              "      <td>190591.0</td>\n",
              "      <td>0.0</td>\n",
              "      <td>20396.0</td>\n",
              "      <td>0.0</td>\n",
              "      <td>0.0</td>\n",
              "      <td>415.0</td>\n",
              "      <td>1.0</td>\n",
              "      <td>2700000.0</td>\n",
              "      <td>0.0</td>\n",
              "      <td>1.0</td>\n",
              "      <td>190592.0</td>\n",
              "      <td>1.0</td>\n",
              "      <td>20397.0</td>\n",
              "      <td>1.0</td>\n",
              "      <td>1.0</td>\n",
              "      <td>416.0</td>\n",
              "      <td>190592.000000</td>\n",
              "      <td>0.000005</td>\n",
              "      <td>20397.0</td>\n",
              "      <td>0.000049</td>\n",
              "      <td>1.000000</td>\n",
              "      <td>416.000000</td>\n",
              "      <td>0.000005</td>\n",
              "      <td>12.157896</td>\n",
              "      <td>9.923192</td>\n",
              "      <td>0.000049</td>\n",
              "      <td>0.693147</td>\n",
              "      <td>6.033086</td>\n",
              "      <td>211402.0</td>\n",
              "      <td>12.261522</td>\n",
              "      <td>9</td>\n",
              "      <td>3</td>\n",
              "      <td>2700000.0</td>\n",
              "      <td>5.899151</td>\n",
              "      <td>1.931398</td>\n",
              "      <td>0.461886</td>\n",
              "      <td>0.379727</td>\n",
              "    </tr>\n",
              "    <tr>\n",
              "      <th>1</th>\n",
              "      <td>2296.0</td>\n",
              "      <td>1.0</td>\n",
              "      <td>2258382.0</td>\n",
              "      <td>30.0</td>\n",
              "      <td>14.0</td>\n",
              "      <td>2.0</td>\n",
              "      <td>74.0</td>\n",
              "      <td>272.0</td>\n",
              "      <td>26.0</td>\n",
              "      <td>0.0</td>\n",
              "      <td>47354.0</td>\n",
              "      <td>0.0</td>\n",
              "      <td>0.0</td>\n",
              "      <td>0.0</td>\n",
              "      <td>0.0</td>\n",
              "      <td>2.0</td>\n",
              "      <td>0.0</td>\n",
              "      <td>1900000.0</td>\n",
              "      <td>0.0</td>\n",
              "      <td>1.0</td>\n",
              "      <td>47355.0</td>\n",
              "      <td>1.0</td>\n",
              "      <td>1.0</td>\n",
              "      <td>1.0</td>\n",
              "      <td>1.0</td>\n",
              "      <td>3.0</td>\n",
              "      <td>47355.000000</td>\n",
              "      <td>0.000021</td>\n",
              "      <td>1.0</td>\n",
              "      <td>1.000000</td>\n",
              "      <td>1.000000</td>\n",
              "      <td>3.000000</td>\n",
              "      <td>0.000021</td>\n",
              "      <td>10.765449</td>\n",
              "      <td>0.693147</td>\n",
              "      <td>0.693147</td>\n",
              "      <td>0.693147</td>\n",
              "      <td>1.386294</td>\n",
              "      <td>47356.0</td>\n",
              "      <td>10.765470</td>\n",
              "      <td>9</td>\n",
              "      <td>2</td>\n",
              "      <td>2258382.0</td>\n",
              "      <td>1.000000</td>\n",
              "      <td>0.693147</td>\n",
              "      <td>0.020969</td>\n",
              "      <td>0.020752</td>\n",
              "    </tr>\n",
              "    <tr>\n",
              "      <th>2</th>\n",
              "      <td>2297.0</td>\n",
              "      <td>0.0</td>\n",
              "      <td>546190.0</td>\n",
              "      <td>51.0</td>\n",
              "      <td>18.0</td>\n",
              "      <td>1.0</td>\n",
              "      <td>138.0</td>\n",
              "      <td>1.0</td>\n",
              "      <td>4.0</td>\n",
              "      <td>622808.0</td>\n",
              "      <td>61646.0</td>\n",
              "      <td>0.0</td>\n",
              "      <td>268771.0</td>\n",
              "      <td>235.0</td>\n",
              "      <td>2913.0</td>\n",
              "      <td>0.0</td>\n",
              "      <td>1.0</td>\n",
              "      <td>1100000.0</td>\n",
              "      <td>1.0</td>\n",
              "      <td>622809.0</td>\n",
              "      <td>61647.0</td>\n",
              "      <td>1.0</td>\n",
              "      <td>268772.0</td>\n",
              "      <td>236.0</td>\n",
              "      <td>2914.0</td>\n",
              "      <td>1.0</td>\n",
              "      <td>0.098982</td>\n",
              "      <td>0.000016</td>\n",
              "      <td>268772.0</td>\n",
              "      <td>0.000878</td>\n",
              "      <td>12.347458</td>\n",
              "      <td>0.000343</td>\n",
              "      <td>0.000016</td>\n",
              "      <td>0.094384</td>\n",
              "      <td>12.501622</td>\n",
              "      <td>0.000878</td>\n",
              "      <td>2.591326</td>\n",
              "      <td>0.000343</td>\n",
              "      <td>956373.0</td>\n",
              "      <td>13.770904</td>\n",
              "      <td>8</td>\n",
              "      <td>5</td>\n",
              "      <td>1100000.0</td>\n",
              "      <td>2.013951</td>\n",
              "      <td>1.103252</td>\n",
              "      <td>1.750990</td>\n",
              "      <td>1.011961</td>\n",
              "    </tr>\n",
              "    <tr>\n",
              "      <th>3</th>\n",
              "      <td>2298.0</td>\n",
              "      <td>1.0</td>\n",
              "      <td>424424.0</td>\n",
              "      <td>41.0</td>\n",
              "      <td>12.0</td>\n",
              "      <td>2.0</td>\n",
              "      <td>138.0</td>\n",
              "      <td>80.0</td>\n",
              "      <td>2.0</td>\n",
              "      <td>0.0</td>\n",
              "      <td>1054.0</td>\n",
              "      <td>0.0</td>\n",
              "      <td>392871.0</td>\n",
              "      <td>1961.0</td>\n",
              "      <td>0.0</td>\n",
              "      <td>1022.0</td>\n",
              "      <td>3.0</td>\n",
              "      <td>3500000.0</td>\n",
              "      <td>0.0</td>\n",
              "      <td>1.0</td>\n",
              "      <td>1055.0</td>\n",
              "      <td>1.0</td>\n",
              "      <td>392872.0</td>\n",
              "      <td>1962.0</td>\n",
              "      <td>1.0</td>\n",
              "      <td>1023.0</td>\n",
              "      <td>1055.000000</td>\n",
              "      <td>0.000948</td>\n",
              "      <td>392872.0</td>\n",
              "      <td>0.004994</td>\n",
              "      <td>0.000510</td>\n",
              "      <td>1023.000000</td>\n",
              "      <td>0.000947</td>\n",
              "      <td>6.962243</td>\n",
              "      <td>12.881242</td>\n",
              "      <td>0.004982</td>\n",
              "      <td>0.000510</td>\n",
              "      <td>6.931472</td>\n",
              "      <td>396908.0</td>\n",
              "      <td>12.891462</td>\n",
              "      <td>9</td>\n",
              "      <td>4</td>\n",
              "      <td>3500000.0</td>\n",
              "      <td>8.246471</td>\n",
              "      <td>2.224242</td>\n",
              "      <td>0.935169</td>\n",
              "      <td>0.660194</td>\n",
              "    </tr>\n",
              "  </tbody>\n",
              "</table>\n",
              "</div>"
            ],
            "text/plain": [
              "       ID  GENERO      RENTA  ...  logDMax/Renta  MTD/Renta  logMTD/Renta\n",
              "0  2295.0     0.0   457693.0  ...       1.931398   0.461886      0.379727\n",
              "1  2296.0     1.0  2258382.0  ...       0.693147   0.020969      0.020752\n",
              "2  2297.0     0.0   546190.0  ...       1.103252   1.750990      1.011961\n",
              "3  2298.0     1.0   424424.0  ...       2.224242   0.935169      0.660194\n",
              "\n",
              "[4 rows x 47 columns]"
            ]
          },
          "metadata": {
            "tags": []
          },
          "execution_count": 172
        }
      ]
    },
    {
      "cell_type": "code",
      "metadata": {
        "colab": {
          "base_uri": "https://localhost:8080/",
          "height": 190
        },
        "id": "4ru4xd4q52yU",
        "outputId": "c503b2ff-bb8c-443b-fe57-72af5daa10bf"
      },
      "source": [
        "dfnorm = df3.copy()\n",
        "dfnorm.head(4)"
      ],
      "execution_count": null,
      "outputs": [
        {
          "output_type": "execute_result",
          "data": {
            "text/html": [
              "<div>\n",
              "<style scoped>\n",
              "    .dataframe tbody tr th:only-of-type {\n",
              "        vertical-align: middle;\n",
              "    }\n",
              "\n",
              "    .dataframe tbody tr th {\n",
              "        vertical-align: top;\n",
              "    }\n",
              "\n",
              "    .dataframe thead th {\n",
              "        text-align: right;\n",
              "    }\n",
              "</style>\n",
              "<table border=\"1\" class=\"dataframe\">\n",
              "  <thead>\n",
              "    <tr style=\"text-align: right;\">\n",
              "      <th></th>\n",
              "      <th>ID</th>\n",
              "      <th>GENERO</th>\n",
              "      <th>RENTA</th>\n",
              "      <th>EDAD</th>\n",
              "      <th>NIV_EDUC</th>\n",
              "      <th>E_CIVIL</th>\n",
              "      <th>COD_OFI</th>\n",
              "      <th>COD_COM</th>\n",
              "      <th>CIUDAD</th>\n",
              "      <th>D_Marzo</th>\n",
              "      <th>D_Abril</th>\n",
              "      <th>D_Mayo</th>\n",
              "      <th>D_Junio</th>\n",
              "      <th>D_Julio</th>\n",
              "      <th>D_Agosto</th>\n",
              "      <th>D_Septiembre</th>\n",
              "      <th>M_MOROSO</th>\n",
              "      <th>MONTO</th>\n",
              "      <th>SEGURO</th>\n",
              "      <th>D_Marzo2</th>\n",
              "      <th>D_Abril2</th>\n",
              "      <th>D_Mayo2</th>\n",
              "      <th>D_Junio2</th>\n",
              "      <th>D_Julio2</th>\n",
              "      <th>D_Agosto2</th>\n",
              "      <th>D_Septiembre2</th>\n",
              "      <th>VM_AbrilMarzo</th>\n",
              "      <th>VM_MayoAbril</th>\n",
              "      <th>VM_JunioMayo</th>\n",
              "      <th>VM_JulioJunio</th>\n",
              "      <th>VM_AgostoJulio</th>\n",
              "      <th>VM_SeptiembreAgosto</th>\n",
              "      <th>logVM_MayoAbril</th>\n",
              "      <th>logVM_AbrilMarzo</th>\n",
              "      <th>logVM_JunioMayo</th>\n",
              "      <th>logVM_JulioJunio</th>\n",
              "      <th>logVM_AgostoJulio</th>\n",
              "      <th>logVM_SeptiembreAgosto</th>\n",
              "      <th>Monto_Total_Deuda</th>\n",
              "      <th>logMTD</th>\n",
              "      <th>Recency</th>\n",
              "      <th>Frecuencia</th>\n",
              "      <th>D_max</th>\n",
              "      <th>DMax/Renta</th>\n",
              "      <th>logDMax/Renta</th>\n",
              "      <th>MTD/Renta</th>\n",
              "      <th>logMTD/Renta</th>\n",
              "    </tr>\n",
              "  </thead>\n",
              "  <tbody>\n",
              "    <tr>\n",
              "      <th>0</th>\n",
              "      <td>2295.0</td>\n",
              "      <td>0.0</td>\n",
              "      <td>457693.0</td>\n",
              "      <td>45.0</td>\n",
              "      <td>18.0</td>\n",
              "      <td>1.0</td>\n",
              "      <td>31.0</td>\n",
              "      <td>119.0</td>\n",
              "      <td>2.0</td>\n",
              "      <td>0.0</td>\n",
              "      <td>190591.0</td>\n",
              "      <td>0.0</td>\n",
              "      <td>20396.0</td>\n",
              "      <td>0.0</td>\n",
              "      <td>0.0</td>\n",
              "      <td>415.0</td>\n",
              "      <td>1.0</td>\n",
              "      <td>2700000.0</td>\n",
              "      <td>0.0</td>\n",
              "      <td>1.0</td>\n",
              "      <td>190592.0</td>\n",
              "      <td>1.0</td>\n",
              "      <td>20397.0</td>\n",
              "      <td>1.0</td>\n",
              "      <td>1.0</td>\n",
              "      <td>416.0</td>\n",
              "      <td>190592.000000</td>\n",
              "      <td>0.000005</td>\n",
              "      <td>20397.0</td>\n",
              "      <td>0.000049</td>\n",
              "      <td>1.000000</td>\n",
              "      <td>416.000000</td>\n",
              "      <td>0.000005</td>\n",
              "      <td>12.157896</td>\n",
              "      <td>9.923192</td>\n",
              "      <td>0.000049</td>\n",
              "      <td>0.693147</td>\n",
              "      <td>6.033086</td>\n",
              "      <td>211402.0</td>\n",
              "      <td>12.261522</td>\n",
              "      <td>9</td>\n",
              "      <td>3</td>\n",
              "      <td>2700000.0</td>\n",
              "      <td>5.899151</td>\n",
              "      <td>1.931398</td>\n",
              "      <td>0.461886</td>\n",
              "      <td>0.379727</td>\n",
              "    </tr>\n",
              "    <tr>\n",
              "      <th>1</th>\n",
              "      <td>2296.0</td>\n",
              "      <td>1.0</td>\n",
              "      <td>2258382.0</td>\n",
              "      <td>30.0</td>\n",
              "      <td>14.0</td>\n",
              "      <td>2.0</td>\n",
              "      <td>74.0</td>\n",
              "      <td>272.0</td>\n",
              "      <td>26.0</td>\n",
              "      <td>0.0</td>\n",
              "      <td>47354.0</td>\n",
              "      <td>0.0</td>\n",
              "      <td>0.0</td>\n",
              "      <td>0.0</td>\n",
              "      <td>0.0</td>\n",
              "      <td>2.0</td>\n",
              "      <td>0.0</td>\n",
              "      <td>1900000.0</td>\n",
              "      <td>0.0</td>\n",
              "      <td>1.0</td>\n",
              "      <td>47355.0</td>\n",
              "      <td>1.0</td>\n",
              "      <td>1.0</td>\n",
              "      <td>1.0</td>\n",
              "      <td>1.0</td>\n",
              "      <td>3.0</td>\n",
              "      <td>47355.000000</td>\n",
              "      <td>0.000021</td>\n",
              "      <td>1.0</td>\n",
              "      <td>1.000000</td>\n",
              "      <td>1.000000</td>\n",
              "      <td>3.000000</td>\n",
              "      <td>0.000021</td>\n",
              "      <td>10.765449</td>\n",
              "      <td>0.693147</td>\n",
              "      <td>0.693147</td>\n",
              "      <td>0.693147</td>\n",
              "      <td>1.386294</td>\n",
              "      <td>47356.0</td>\n",
              "      <td>10.765470</td>\n",
              "      <td>9</td>\n",
              "      <td>2</td>\n",
              "      <td>2258382.0</td>\n",
              "      <td>1.000000</td>\n",
              "      <td>0.693147</td>\n",
              "      <td>0.020969</td>\n",
              "      <td>0.020752</td>\n",
              "    </tr>\n",
              "    <tr>\n",
              "      <th>2</th>\n",
              "      <td>2297.0</td>\n",
              "      <td>0.0</td>\n",
              "      <td>546190.0</td>\n",
              "      <td>51.0</td>\n",
              "      <td>18.0</td>\n",
              "      <td>1.0</td>\n",
              "      <td>138.0</td>\n",
              "      <td>1.0</td>\n",
              "      <td>4.0</td>\n",
              "      <td>622808.0</td>\n",
              "      <td>61646.0</td>\n",
              "      <td>0.0</td>\n",
              "      <td>268771.0</td>\n",
              "      <td>235.0</td>\n",
              "      <td>2913.0</td>\n",
              "      <td>0.0</td>\n",
              "      <td>1.0</td>\n",
              "      <td>1100000.0</td>\n",
              "      <td>1.0</td>\n",
              "      <td>622809.0</td>\n",
              "      <td>61647.0</td>\n",
              "      <td>1.0</td>\n",
              "      <td>268772.0</td>\n",
              "      <td>236.0</td>\n",
              "      <td>2914.0</td>\n",
              "      <td>1.0</td>\n",
              "      <td>0.098982</td>\n",
              "      <td>0.000016</td>\n",
              "      <td>268772.0</td>\n",
              "      <td>0.000878</td>\n",
              "      <td>12.347458</td>\n",
              "      <td>0.000343</td>\n",
              "      <td>0.000016</td>\n",
              "      <td>0.094384</td>\n",
              "      <td>12.501622</td>\n",
              "      <td>0.000878</td>\n",
              "      <td>2.591326</td>\n",
              "      <td>0.000343</td>\n",
              "      <td>956373.0</td>\n",
              "      <td>13.770904</td>\n",
              "      <td>8</td>\n",
              "      <td>5</td>\n",
              "      <td>1100000.0</td>\n",
              "      <td>2.013951</td>\n",
              "      <td>1.103252</td>\n",
              "      <td>1.750990</td>\n",
              "      <td>1.011961</td>\n",
              "    </tr>\n",
              "    <tr>\n",
              "      <th>3</th>\n",
              "      <td>2298.0</td>\n",
              "      <td>1.0</td>\n",
              "      <td>424424.0</td>\n",
              "      <td>41.0</td>\n",
              "      <td>12.0</td>\n",
              "      <td>2.0</td>\n",
              "      <td>138.0</td>\n",
              "      <td>80.0</td>\n",
              "      <td>2.0</td>\n",
              "      <td>0.0</td>\n",
              "      <td>1054.0</td>\n",
              "      <td>0.0</td>\n",
              "      <td>392871.0</td>\n",
              "      <td>1961.0</td>\n",
              "      <td>0.0</td>\n",
              "      <td>1022.0</td>\n",
              "      <td>3.0</td>\n",
              "      <td>3500000.0</td>\n",
              "      <td>0.0</td>\n",
              "      <td>1.0</td>\n",
              "      <td>1055.0</td>\n",
              "      <td>1.0</td>\n",
              "      <td>392872.0</td>\n",
              "      <td>1962.0</td>\n",
              "      <td>1.0</td>\n",
              "      <td>1023.0</td>\n",
              "      <td>1055.000000</td>\n",
              "      <td>0.000948</td>\n",
              "      <td>392872.0</td>\n",
              "      <td>0.004994</td>\n",
              "      <td>0.000510</td>\n",
              "      <td>1023.000000</td>\n",
              "      <td>0.000947</td>\n",
              "      <td>6.962243</td>\n",
              "      <td>12.881242</td>\n",
              "      <td>0.004982</td>\n",
              "      <td>0.000510</td>\n",
              "      <td>6.931472</td>\n",
              "      <td>396908.0</td>\n",
              "      <td>12.891462</td>\n",
              "      <td>9</td>\n",
              "      <td>4</td>\n",
              "      <td>3500000.0</td>\n",
              "      <td>8.246471</td>\n",
              "      <td>2.224242</td>\n",
              "      <td>0.935169</td>\n",
              "      <td>0.660194</td>\n",
              "    </tr>\n",
              "  </tbody>\n",
              "</table>\n",
              "</div>"
            ],
            "text/plain": [
              "       ID  GENERO      RENTA  ...  logDMax/Renta  MTD/Renta  logMTD/Renta\n",
              "0  2295.0     0.0   457693.0  ...       1.931398   0.461886      0.379727\n",
              "1  2296.0     1.0  2258382.0  ...       0.693147   0.020969      0.020752\n",
              "2  2297.0     0.0   546190.0  ...       1.103252   1.750990      1.011961\n",
              "3  2298.0     1.0   424424.0  ...       2.224242   0.935169      0.660194\n",
              "\n",
              "[4 rows x 47 columns]"
            ]
          },
          "metadata": {
            "tags": []
          },
          "execution_count": 173
        }
      ]
    },
    {
      "cell_type": "code",
      "metadata": {
        "id": "-2KZSDBE8Ya1"
      },
      "source": [
        "#dfnorm.isnull().sum()"
      ],
      "execution_count": null,
      "outputs": []
    },
    {
      "cell_type": "code",
      "metadata": {
        "colab": {
          "base_uri": "https://localhost:8080/",
          "height": 190
        },
        "id": "rbJeMIET496_",
        "outputId": "bfa89567-eadd-4e2e-b396-13b55dfdfb12"
      },
      "source": [
        "scaler = MinMaxScaler()\n",
        "scaled = scaler.fit_transform(dfnorm)\n",
        "scaled = pd.DataFrame(scaled)\n",
        "scaled.columns = dfnorm.columns\n",
        "scaled.head(4)"
      ],
      "execution_count": null,
      "outputs": [
        {
          "output_type": "execute_result",
          "data": {
            "text/html": [
              "<div>\n",
              "<style scoped>\n",
              "    .dataframe tbody tr th:only-of-type {\n",
              "        vertical-align: middle;\n",
              "    }\n",
              "\n",
              "    .dataframe tbody tr th {\n",
              "        vertical-align: top;\n",
              "    }\n",
              "\n",
              "    .dataframe thead th {\n",
              "        text-align: right;\n",
              "    }\n",
              "</style>\n",
              "<table border=\"1\" class=\"dataframe\">\n",
              "  <thead>\n",
              "    <tr style=\"text-align: right;\">\n",
              "      <th></th>\n",
              "      <th>ID</th>\n",
              "      <th>GENERO</th>\n",
              "      <th>RENTA</th>\n",
              "      <th>EDAD</th>\n",
              "      <th>NIV_EDUC</th>\n",
              "      <th>E_CIVIL</th>\n",
              "      <th>COD_OFI</th>\n",
              "      <th>COD_COM</th>\n",
              "      <th>CIUDAD</th>\n",
              "      <th>D_Marzo</th>\n",
              "      <th>D_Abril</th>\n",
              "      <th>D_Mayo</th>\n",
              "      <th>D_Junio</th>\n",
              "      <th>D_Julio</th>\n",
              "      <th>D_Agosto</th>\n",
              "      <th>D_Septiembre</th>\n",
              "      <th>M_MOROSO</th>\n",
              "      <th>MONTO</th>\n",
              "      <th>SEGURO</th>\n",
              "      <th>D_Marzo2</th>\n",
              "      <th>D_Abril2</th>\n",
              "      <th>D_Mayo2</th>\n",
              "      <th>D_Junio2</th>\n",
              "      <th>D_Julio2</th>\n",
              "      <th>D_Agosto2</th>\n",
              "      <th>D_Septiembre2</th>\n",
              "      <th>VM_AbrilMarzo</th>\n",
              "      <th>VM_MayoAbril</th>\n",
              "      <th>VM_JunioMayo</th>\n",
              "      <th>VM_JulioJunio</th>\n",
              "      <th>VM_AgostoJulio</th>\n",
              "      <th>VM_SeptiembreAgosto</th>\n",
              "      <th>logVM_MayoAbril</th>\n",
              "      <th>logVM_AbrilMarzo</th>\n",
              "      <th>logVM_JunioMayo</th>\n",
              "      <th>logVM_JulioJunio</th>\n",
              "      <th>logVM_AgostoJulio</th>\n",
              "      <th>logVM_SeptiembreAgosto</th>\n",
              "      <th>Monto_Total_Deuda</th>\n",
              "      <th>logMTD</th>\n",
              "      <th>Recency</th>\n",
              "      <th>Frecuencia</th>\n",
              "      <th>D_max</th>\n",
              "      <th>DMax/Renta</th>\n",
              "      <th>logDMax/Renta</th>\n",
              "      <th>MTD/Renta</th>\n",
              "      <th>logMTD/Renta</th>\n",
              "    </tr>\n",
              "  </thead>\n",
              "  <tbody>\n",
              "    <tr>\n",
              "      <th>0</th>\n",
              "      <td>0.000000</td>\n",
              "      <td>0.0</td>\n",
              "      <td>0.047669</td>\n",
              "      <td>0.558140</td>\n",
              "      <td>1.0</td>\n",
              "      <td>0.000000</td>\n",
              "      <td>0.144828</td>\n",
              "      <td>0.229126</td>\n",
              "      <td>0.012346</td>\n",
              "      <td>0.000000</td>\n",
              "      <td>0.055581</td>\n",
              "      <td>0.0</td>\n",
              "      <td>0.007052</td>\n",
              "      <td>0.000000</td>\n",
              "      <td>0.000000</td>\n",
              "      <td>0.002510</td>\n",
              "      <td>0.333333</td>\n",
              "      <td>0.293333</td>\n",
              "      <td>0.0</td>\n",
              "      <td>0.000000</td>\n",
              "      <td>0.055581</td>\n",
              "      <td>0.0</td>\n",
              "      <td>0.007052</td>\n",
              "      <td>0.000000</td>\n",
              "      <td>0.000000</td>\n",
              "      <td>0.002510</td>\n",
              "      <td>5.558102e-02</td>\n",
              "      <td>6.342484e-13</td>\n",
              "      <td>7.052595e-03</td>\n",
              "      <td>6.246458e-09</td>\n",
              "      <td>1.298814e-05</td>\n",
              "      <td>2.515891e-03</td>\n",
              "      <td>3.122104e-07</td>\n",
              "      <td>0.807951</td>\n",
              "      <td>0.666993</td>\n",
              "      <td>0.000005</td>\n",
              "      <td>0.061593</td>\n",
              "      <td>0.502095</td>\n",
              "      <td>0.018618</td>\n",
              "      <td>0.754781</td>\n",
              "      <td>1.000000</td>\n",
              "      <td>0.428571</td>\n",
              "      <td>0.202679</td>\n",
              "      <td>0.000225</td>\n",
              "      <td>0.133206</td>\n",
              "      <td>0.000048</td>\n",
              "      <td>0.041409</td>\n",
              "    </tr>\n",
              "    <tr>\n",
              "      <th>1</th>\n",
              "      <td>0.000834</td>\n",
              "      <td>1.0</td>\n",
              "      <td>0.235242</td>\n",
              "      <td>0.209302</td>\n",
              "      <td>0.6</td>\n",
              "      <td>0.333333</td>\n",
              "      <td>0.441379</td>\n",
              "      <td>0.526214</td>\n",
              "      <td>0.308642</td>\n",
              "      <td>0.000000</td>\n",
              "      <td>0.013810</td>\n",
              "      <td>0.0</td>\n",
              "      <td>0.000000</td>\n",
              "      <td>0.000000</td>\n",
              "      <td>0.000000</td>\n",
              "      <td>0.000012</td>\n",
              "      <td>0.000000</td>\n",
              "      <td>0.186667</td>\n",
              "      <td>0.0</td>\n",
              "      <td>0.000000</td>\n",
              "      <td>0.013810</td>\n",
              "      <td>0.0</td>\n",
              "      <td>0.000000</td>\n",
              "      <td>0.000000</td>\n",
              "      <td>0.000000</td>\n",
              "      <td>0.000012</td>\n",
              "      <td>1.380981e-02</td>\n",
              "      <td>2.665595e-12</td>\n",
              "      <td>3.457662e-07</td>\n",
              "      <td>1.288493e-04</td>\n",
              "      <td>1.298814e-05</td>\n",
              "      <td>1.814337e-05</td>\n",
              "      <td>1.312136e-06</td>\n",
              "      <td>0.715417</td>\n",
              "      <td>0.046590</td>\n",
              "      <td>0.077386</td>\n",
              "      <td>0.061593</td>\n",
              "      <td>0.115372</td>\n",
              "      <td>0.004171</td>\n",
              "      <td>0.662689</td>\n",
              "      <td>1.000000</td>\n",
              "      <td>0.285714</td>\n",
              "      <td>0.161994</td>\n",
              "      <td>0.000000</td>\n",
              "      <td>0.000000</td>\n",
              "      <td>0.000002</td>\n",
              "      <td>0.002263</td>\n",
              "    </tr>\n",
              "    <tr>\n",
              "      <th>2</th>\n",
              "      <td>0.001668</td>\n",
              "      <td>0.0</td>\n",
              "      <td>0.056888</td>\n",
              "      <td>0.697674</td>\n",
              "      <td>1.0</td>\n",
              "      <td>0.000000</td>\n",
              "      <td>0.882759</td>\n",
              "      <td>0.000000</td>\n",
              "      <td>0.037037</td>\n",
              "      <td>0.157221</td>\n",
              "      <td>0.017977</td>\n",
              "      <td>0.0</td>\n",
              "      <td>0.092932</td>\n",
              "      <td>0.021044</td>\n",
              "      <td>0.035402</td>\n",
              "      <td>0.000000</td>\n",
              "      <td>0.333333</td>\n",
              "      <td>0.080000</td>\n",
              "      <td>1.0</td>\n",
              "      <td>0.157221</td>\n",
              "      <td>0.017977</td>\n",
              "      <td>0.0</td>\n",
              "      <td>0.092932</td>\n",
              "      <td>0.021044</td>\n",
              "      <td>0.035402</td>\n",
              "      <td>0.000000</td>\n",
              "      <td>2.886536e-08</td>\n",
              "      <td>2.038960e-12</td>\n",
              "      <td>9.293230e-02</td>\n",
              "      <td>1.130679e-07</td>\n",
              "      <td>1.603922e-04</td>\n",
              "      <td>2.001935e-09</td>\n",
              "      <td>1.003678e-06</td>\n",
              "      <td>0.006272</td>\n",
              "      <td>0.840304</td>\n",
              "      <td>0.000098</td>\n",
              "      <td>0.230303</td>\n",
              "      <td>0.000028</td>\n",
              "      <td>0.084228</td>\n",
              "      <td>0.847694</td>\n",
              "      <td>0.888889</td>\n",
              "      <td>0.714286</td>\n",
              "      <td>0.055276</td>\n",
              "      <td>0.000047</td>\n",
              "      <td>0.044117</td>\n",
              "      <td>0.000182</td>\n",
              "      <td>0.110354</td>\n",
              "    </tr>\n",
              "    <tr>\n",
              "      <th>3</th>\n",
              "      <td>0.002502</td>\n",
              "      <td>1.0</td>\n",
              "      <td>0.044204</td>\n",
              "      <td>0.465116</td>\n",
              "      <td>0.4</td>\n",
              "      <td>0.333333</td>\n",
              "      <td>0.882759</td>\n",
              "      <td>0.153398</td>\n",
              "      <td>0.012346</td>\n",
              "      <td>0.000000</td>\n",
              "      <td>0.000307</td>\n",
              "      <td>0.0</td>\n",
              "      <td>0.135842</td>\n",
              "      <td>0.175607</td>\n",
              "      <td>0.000000</td>\n",
              "      <td>0.006181</td>\n",
              "      <td>1.000000</td>\n",
              "      <td>0.400000</td>\n",
              "      <td>0.0</td>\n",
              "      <td>0.000000</td>\n",
              "      <td>0.000307</td>\n",
              "      <td>0.0</td>\n",
              "      <td>0.135842</td>\n",
              "      <td>0.175607</td>\n",
              "      <td>0.000000</td>\n",
              "      <td>0.006181</td>\n",
              "      <td>3.076623e-04</td>\n",
              "      <td>1.212867e-10</td>\n",
              "      <td>1.358419e-01</td>\n",
              "      <td>6.434023e-07</td>\n",
              "      <td>4.707706e-09</td>\n",
              "      <td>6.186914e-03</td>\n",
              "      <td>5.967559e-05</td>\n",
              "      <td>0.462675</td>\n",
              "      <td>0.865820</td>\n",
              "      <td>0.000556</td>\n",
              "      <td>0.000032</td>\n",
              "      <td>0.576862</td>\n",
              "      <td>0.034956</td>\n",
              "      <td>0.793558</td>\n",
              "      <td>1.000000</td>\n",
              "      <td>0.571429</td>\n",
              "      <td>0.276380</td>\n",
              "      <td>0.000333</td>\n",
              "      <td>0.164709</td>\n",
              "      <td>0.000097</td>\n",
              "      <td>0.071994</td>\n",
              "    </tr>\n",
              "  </tbody>\n",
              "</table>\n",
              "</div>"
            ],
            "text/plain": [
              "         ID  GENERO     RENTA  ...  logDMax/Renta  MTD/Renta  logMTD/Renta\n",
              "0  0.000000     0.0  0.047669  ...       0.133206   0.000048      0.041409\n",
              "1  0.000834     1.0  0.235242  ...       0.000000   0.000002      0.002263\n",
              "2  0.001668     0.0  0.056888  ...       0.044117   0.000182      0.110354\n",
              "3  0.002502     1.0  0.044204  ...       0.164709   0.000097      0.071994\n",
              "\n",
              "[4 rows x 47 columns]"
            ]
          },
          "metadata": {
            "tags": []
          },
          "execution_count": 174
        }
      ]
    },
    {
      "cell_type": "code",
      "metadata": {
        "id": "xEB3tNv2KN6F"
      },
      "source": [
        "#scaled.isnull().sum()"
      ],
      "execution_count": null,
      "outputs": []
    },
    {
      "cell_type": "code",
      "metadata": {
        "id": "V_3mAtPe82cF"
      },
      "source": [
        "#sns.scatterplot(x='RENTA', y='EDAD',  hue='FUGA', data= scaled, palette=\"inferno\")"
      ],
      "execution_count": null,
      "outputs": []
    },
    {
      "cell_type": "markdown",
      "metadata": {
        "id": "y-vD62KrzSbS"
      },
      "source": [
        "Del gráfico de dispersión, se puede observar que hay una concentración de clientes que sí fugan, los cuales poseen edades normalizadas entre 0.4 y 0.8, y cuya renta normalizada varía en todo el intervalo posible, pero que es más frecuente para valores entre 0 y 0.2 del rango original de rentas."
      ]
    },
    {
      "cell_type": "code",
      "metadata": {
        "id": "zGWjdjHV__lZ"
      },
      "source": [
        "#sns.scatterplot(x='RENTA', y='NIV_EDUC',  hue='FUGA', data= scaled, palette=\"inferno\")"
      ],
      "execution_count": null,
      "outputs": []
    },
    {
      "cell_type": "markdown",
      "metadata": {
        "id": "3eB4wf_A3RXu"
      },
      "source": [
        "En la dispersión de datos anteriores, dado que el atributo correspondiente a nivel educacional es originalmente una variable categórica, se tiene una concentración de datos para los distintos niveles transformados de educación.\n",
        "\n",
        "Particularmente, se destaca que en el nivel de educación más alto, correspondiente a educación universitaria completa en la forma original de la variable, existe una gran cantidad de clientes fugados. En el segundo nivel de educación normalizado también se observa presencia de varios clientes fugados.\n"
      ]
    },
    {
      "cell_type": "code",
      "metadata": {
        "id": "y2v70K5lAHI3"
      },
      "source": [
        "#sns.scatterplot(x='EDAD', y='Monto_Total_Deuda',  hue='FUGA', data= scaled, palette=\"inferno\")"
      ],
      "execution_count": null,
      "outputs": []
    },
    {
      "cell_type": "markdown",
      "metadata": {
        "id": "AcFcrVbGE4ez"
      },
      "source": [
        "En la dispersión anterior, se aprecia una mayor cantidad de clientes que sí fugan, cuya edad normalizada se mueve entre 0.4 y 0.8, junto a poseer un monto total de deuda normalizado que varía entre 0 y 0.2 principalmente."
      ]
    },
    {
      "cell_type": "code",
      "metadata": {
        "id": "BYA_vLZWAZTH"
      },
      "source": [
        "#group1 = scaled.copy()\n",
        "#plt.rcParams[\"figure.figsize\"] = (25, 5)\n",
        "#group1.groupby(['CIUDAD','FUGA']).size().unstack(fill_value=0).plot(kind='bar',stacked=True)\n",
        "#plt.legend(loc='upper center', ncol=3, bbox_to_anchor=(0.5, 1.05))\n",
        "#plt.xlabel('CIUDAD', color='#2D3249')\n",
        "#plt.ylabel('FUGA', color='#FF3333')\n",
        "#plt.xticks(rotation=90)\n",
        "#plt.show()"
      ],
      "execution_count": null,
      "outputs": []
    },
    {
      "cell_type": "markdown",
      "metadata": {
        "id": "jOTn7TSdHrUB"
      },
      "source": [
        "## Selección de Atributos"
      ]
    },
    {
      "cell_type": "markdown",
      "metadata": {
        "id": "Gq8f0fBFHD9O"
      },
      "source": [
        "Para realizar la selección de atributos, lo primero que se debe ejecutar, es la eliminación de variables que se presenten redundantes, tal como ocurre con el caso de atributos y sus versiones transformadas."
      ]
    },
    {
      "cell_type": "code",
      "metadata": {
        "id": "jZM9acJNH-RX"
      },
      "source": [
        "DFscaled = scaled.copy()"
      ],
      "execution_count": null,
      "outputs": []
    },
    {
      "cell_type": "code",
      "metadata": {
        "colab": {
          "base_uri": "https://localhost:8080/",
          "height": 220
        },
        "id": "B6dHdc0RIcxm",
        "outputId": "bc741d48-d800-4ddf-d60c-245e1bb9e77b"
      },
      "source": [
        "DFscaled.drop(['D_Marzo2',\t'D_Abril2',\t'D_Mayo2',\t'D_Junio2',\t'D_Julio2',\t'D_Agosto2',\t'D_Septiembre2'], axis=1, inplace=True)\n",
        "DFscaled.drop(['VM_AbrilMarzo', 'VM_MayoAbril', 'VM_JunioMayo',\t'VM_JulioJunio', 'VM_AgostoJulio', 'VM_SeptiembreAgosto'], axis=1, inplace=True)\n",
        "DFscaled.drop(['Monto_Total_Deuda'], axis=1, inplace=True)\n",
        "DFscaled.drop(['DMax/Renta'], axis=1, inplace=True)\n",
        "DFscaled.drop(['MTD/Renta'], axis=1, inplace=True)\n",
        "DFscaled.head(5)"
      ],
      "execution_count": null,
      "outputs": [
        {
          "output_type": "execute_result",
          "data": {
            "text/html": [
              "<div>\n",
              "<style scoped>\n",
              "    .dataframe tbody tr th:only-of-type {\n",
              "        vertical-align: middle;\n",
              "    }\n",
              "\n",
              "    .dataframe tbody tr th {\n",
              "        vertical-align: top;\n",
              "    }\n",
              "\n",
              "    .dataframe thead th {\n",
              "        text-align: right;\n",
              "    }\n",
              "</style>\n",
              "<table border=\"1\" class=\"dataframe\">\n",
              "  <thead>\n",
              "    <tr style=\"text-align: right;\">\n",
              "      <th></th>\n",
              "      <th>ID</th>\n",
              "      <th>GENERO</th>\n",
              "      <th>RENTA</th>\n",
              "      <th>EDAD</th>\n",
              "      <th>NIV_EDUC</th>\n",
              "      <th>E_CIVIL</th>\n",
              "      <th>COD_OFI</th>\n",
              "      <th>COD_COM</th>\n",
              "      <th>CIUDAD</th>\n",
              "      <th>D_Marzo</th>\n",
              "      <th>D_Abril</th>\n",
              "      <th>D_Mayo</th>\n",
              "      <th>D_Junio</th>\n",
              "      <th>D_Julio</th>\n",
              "      <th>D_Agosto</th>\n",
              "      <th>D_Septiembre</th>\n",
              "      <th>M_MOROSO</th>\n",
              "      <th>MONTO</th>\n",
              "      <th>SEGURO</th>\n",
              "      <th>logVM_MayoAbril</th>\n",
              "      <th>logVM_AbrilMarzo</th>\n",
              "      <th>logVM_JunioMayo</th>\n",
              "      <th>logVM_JulioJunio</th>\n",
              "      <th>logVM_AgostoJulio</th>\n",
              "      <th>logVM_SeptiembreAgosto</th>\n",
              "      <th>logMTD</th>\n",
              "      <th>Recency</th>\n",
              "      <th>Frecuencia</th>\n",
              "      <th>D_max</th>\n",
              "      <th>logDMax/Renta</th>\n",
              "      <th>logMTD/Renta</th>\n",
              "    </tr>\n",
              "  </thead>\n",
              "  <tbody>\n",
              "    <tr>\n",
              "      <th>0</th>\n",
              "      <td>0.000000</td>\n",
              "      <td>0.0</td>\n",
              "      <td>0.047669</td>\n",
              "      <td>0.558140</td>\n",
              "      <td>1.0</td>\n",
              "      <td>0.000000</td>\n",
              "      <td>0.144828</td>\n",
              "      <td>0.229126</td>\n",
              "      <td>0.012346</td>\n",
              "      <td>0.000000</td>\n",
              "      <td>0.055581</td>\n",
              "      <td>0.0</td>\n",
              "      <td>0.007052</td>\n",
              "      <td>0.000000</td>\n",
              "      <td>0.000000</td>\n",
              "      <td>0.002510</td>\n",
              "      <td>0.333333</td>\n",
              "      <td>0.293333</td>\n",
              "      <td>0.0</td>\n",
              "      <td>3.122104e-07</td>\n",
              "      <td>0.807951</td>\n",
              "      <td>0.666993</td>\n",
              "      <td>0.000005</td>\n",
              "      <td>0.061593</td>\n",
              "      <td>0.502095</td>\n",
              "      <td>0.754781</td>\n",
              "      <td>1.000000</td>\n",
              "      <td>0.428571</td>\n",
              "      <td>0.202679</td>\n",
              "      <td>0.133206</td>\n",
              "      <td>0.041409</td>\n",
              "    </tr>\n",
              "    <tr>\n",
              "      <th>1</th>\n",
              "      <td>0.000834</td>\n",
              "      <td>1.0</td>\n",
              "      <td>0.235242</td>\n",
              "      <td>0.209302</td>\n",
              "      <td>0.6</td>\n",
              "      <td>0.333333</td>\n",
              "      <td>0.441379</td>\n",
              "      <td>0.526214</td>\n",
              "      <td>0.308642</td>\n",
              "      <td>0.000000</td>\n",
              "      <td>0.013810</td>\n",
              "      <td>0.0</td>\n",
              "      <td>0.000000</td>\n",
              "      <td>0.000000</td>\n",
              "      <td>0.000000</td>\n",
              "      <td>0.000012</td>\n",
              "      <td>0.000000</td>\n",
              "      <td>0.186667</td>\n",
              "      <td>0.0</td>\n",
              "      <td>1.312136e-06</td>\n",
              "      <td>0.715417</td>\n",
              "      <td>0.046590</td>\n",
              "      <td>0.077386</td>\n",
              "      <td>0.061593</td>\n",
              "      <td>0.115372</td>\n",
              "      <td>0.662689</td>\n",
              "      <td>1.000000</td>\n",
              "      <td>0.285714</td>\n",
              "      <td>0.161994</td>\n",
              "      <td>0.000000</td>\n",
              "      <td>0.002263</td>\n",
              "    </tr>\n",
              "    <tr>\n",
              "      <th>2</th>\n",
              "      <td>0.001668</td>\n",
              "      <td>0.0</td>\n",
              "      <td>0.056888</td>\n",
              "      <td>0.697674</td>\n",
              "      <td>1.0</td>\n",
              "      <td>0.000000</td>\n",
              "      <td>0.882759</td>\n",
              "      <td>0.000000</td>\n",
              "      <td>0.037037</td>\n",
              "      <td>0.157221</td>\n",
              "      <td>0.017977</td>\n",
              "      <td>0.0</td>\n",
              "      <td>0.092932</td>\n",
              "      <td>0.021044</td>\n",
              "      <td>0.035402</td>\n",
              "      <td>0.000000</td>\n",
              "      <td>0.333333</td>\n",
              "      <td>0.080000</td>\n",
              "      <td>1.0</td>\n",
              "      <td>1.003678e-06</td>\n",
              "      <td>0.006272</td>\n",
              "      <td>0.840304</td>\n",
              "      <td>0.000098</td>\n",
              "      <td>0.230303</td>\n",
              "      <td>0.000028</td>\n",
              "      <td>0.847694</td>\n",
              "      <td>0.888889</td>\n",
              "      <td>0.714286</td>\n",
              "      <td>0.055276</td>\n",
              "      <td>0.044117</td>\n",
              "      <td>0.110354</td>\n",
              "    </tr>\n",
              "    <tr>\n",
              "      <th>3</th>\n",
              "      <td>0.002502</td>\n",
              "      <td>1.0</td>\n",
              "      <td>0.044204</td>\n",
              "      <td>0.465116</td>\n",
              "      <td>0.4</td>\n",
              "      <td>0.333333</td>\n",
              "      <td>0.882759</td>\n",
              "      <td>0.153398</td>\n",
              "      <td>0.012346</td>\n",
              "      <td>0.000000</td>\n",
              "      <td>0.000307</td>\n",
              "      <td>0.0</td>\n",
              "      <td>0.135842</td>\n",
              "      <td>0.175607</td>\n",
              "      <td>0.000000</td>\n",
              "      <td>0.006181</td>\n",
              "      <td>1.000000</td>\n",
              "      <td>0.400000</td>\n",
              "      <td>0.0</td>\n",
              "      <td>5.967559e-05</td>\n",
              "      <td>0.462675</td>\n",
              "      <td>0.865820</td>\n",
              "      <td>0.000556</td>\n",
              "      <td>0.000032</td>\n",
              "      <td>0.576862</td>\n",
              "      <td>0.793558</td>\n",
              "      <td>1.000000</td>\n",
              "      <td>0.571429</td>\n",
              "      <td>0.276380</td>\n",
              "      <td>0.164709</td>\n",
              "      <td>0.071994</td>\n",
              "    </tr>\n",
              "    <tr>\n",
              "      <th>4</th>\n",
              "      <td>0.003336</td>\n",
              "      <td>0.0</td>\n",
              "      <td>0.714865</td>\n",
              "      <td>0.488372</td>\n",
              "      <td>0.4</td>\n",
              "      <td>0.000000</td>\n",
              "      <td>0.289655</td>\n",
              "      <td>0.174757</td>\n",
              "      <td>0.012346</td>\n",
              "      <td>0.000000</td>\n",
              "      <td>0.077078</td>\n",
              "      <td>0.0</td>\n",
              "      <td>0.030404</td>\n",
              "      <td>0.006627</td>\n",
              "      <td>0.000000</td>\n",
              "      <td>0.000230</td>\n",
              "      <td>0.333333</td>\n",
              "      <td>0.200000</td>\n",
              "      <td>0.0</td>\n",
              "      <td>2.200090e-07</td>\n",
              "      <td>0.829681</td>\n",
              "      <td>0.765204</td>\n",
              "      <td>0.000095</td>\n",
              "      <td>0.001164</td>\n",
              "      <td>0.307001</td>\n",
              "      <td>0.786228</td>\n",
              "      <td>1.000000</td>\n",
              "      <td>0.571429</td>\n",
              "      <td>0.586176</td>\n",
              "      <td>0.000000</td>\n",
              "      <td>0.005460</td>\n",
              "    </tr>\n",
              "  </tbody>\n",
              "</table>\n",
              "</div>"
            ],
            "text/plain": [
              "         ID  GENERO     RENTA  ...     D_max  logDMax/Renta  logMTD/Renta\n",
              "0  0.000000     0.0  0.047669  ...  0.202679       0.133206      0.041409\n",
              "1  0.000834     1.0  0.235242  ...  0.161994       0.000000      0.002263\n",
              "2  0.001668     0.0  0.056888  ...  0.055276       0.044117      0.110354\n",
              "3  0.002502     1.0  0.044204  ...  0.276380       0.164709      0.071994\n",
              "4  0.003336     0.0  0.714865  ...  0.586176       0.000000      0.005460\n",
              "\n",
              "[5 rows x 31 columns]"
            ]
          },
          "metadata": {
            "tags": []
          },
          "execution_count": 181
        }
      ]
    },
    {
      "cell_type": "markdown",
      "metadata": {
        "id": "LgZnwn4YFWh-"
      },
      "source": [
        "### Varianza "
      ]
    },
    {
      "cell_type": "markdown",
      "metadata": {
        "id": "H-llQNIIsYLF"
      },
      "source": [
        "Con tal de identificar cuáles atributos aportan con la mayor cantidad de varianza a un posible posterior modelo predictivo, es que a continuación se analiza la variación estándar de cada variable."
      ]
    },
    {
      "cell_type": "code",
      "metadata": {
        "id": "5e6OMD4Nm25d"
      },
      "source": [
        "#DFscaled.std()"
      ],
      "execution_count": null,
      "outputs": []
    },
    {
      "cell_type": "markdown",
      "metadata": {
        "id": "v4NdegYDvJ1B"
      },
      "source": [
        "Del listado anterior, podemos observar que los atributos correspondientes a los valores de las deudas mensuales aisladas, es decir, el valor independiente para cada mes, poseen varias de las menores desviaciones estándares, y por ende variabilidad, de todos los atributos disponibles, siendo la más alta para \"D_Agosto\" con 0.100661 y la más baja para \"D_Junio\" con 0.032494, recordando que todos los atributos se encuentran normalizados.\n",
        "\n",
        "En conjunto con lo anterior, dada la construcción de variables adicionales presentada anteriormente, la información contenida en los atributos de deuda mensual, también se encuentra incorporada en las variables que muestran el dinamismo de la deuda, como lo son las transformadas logarítmicas normalizadas de las variaciones (divisiones) entre meses consecutivos de deuda.\n",
        "\n",
        "De este modo, dado que las variables de deuda mensual presentan varias de las menores desviaciones estándares y que su información está incorporada en otros nuevos atributos, se opta por eliminar las variables de deuda de Marzo a Septiembre.\n",
        "\n",
        "Cabe mencionar además, que las otras 3 variables con menor varianza asociada, mostrada mediante la desviación estándar, son los atributos creados de deuda máxima, deuda mínima y desviación estándar de la deuda."
      ]
    },
    {
      "cell_type": "code",
      "metadata": {
        "id": "2QfAu7jZy2CT"
      },
      "source": [
        "DFscaled.drop(['D_Marzo',\t'D_Abril',\t'D_Mayo',\t'D_Junio',\t'D_Julio',\t'D_Agosto',\t'D_Septiembre'], axis=1, inplace=True)"
      ],
      "execution_count": null,
      "outputs": []
    },
    {
      "cell_type": "markdown",
      "metadata": {
        "id": "dLRJXN-oFPB9"
      },
      "source": [
        "### Matriz de Correlación"
      ]
    },
    {
      "cell_type": "markdown",
      "metadata": {
        "id": "TUxmpAkl08XP"
      },
      "source": [
        "A partir de aquí, se puede revisar nuevamente la matriz de Correlación para los atributos hasta ahora remanentes."
      ]
    },
    {
      "cell_type": "code",
      "metadata": {
        "colab": {
          "base_uri": "https://localhost:8080/",
          "height": 1000
        },
        "id": "Mv5xWPgp1Gq0",
        "outputId": "361a1757-85aa-44dd-b77d-08f160cf9738"
      },
      "source": [
        "plt.figure(figsize=(20,15))\n",
        "corr_matrix = DFscaled.corr(method ='spearman')\n",
        "mask = np.triu(np.ones_like(corr_matrix, dtype=bool))\n",
        "sns.heatmap(corr_matrix,mask=mask, annot=True)"
      ],
      "execution_count": null,
      "outputs": [
        {
          "output_type": "execute_result",
          "data": {
            "text/plain": [
              "<matplotlib.axes._subplots.AxesSubplot at 0x7fdaf51e1e50>"
            ]
          },
          "metadata": {
            "tags": []
          },
          "execution_count": 184
        },
        {
          "output_type": "display_data",
          "data": {
            "image/png": "[encoded data removed]",
            "text/plain": [
              "<Figure size 1440x1080 with 2 Axes>"
            ]
          },
          "metadata": {
            "tags": [],
            "needs_background": "light"
          }
        }
      ]
    },
    {
      "cell_type": "markdown",
      "metadata": {
        "id": "_OEssRahVOp5"
      },
      "source": [
        "De la nueva visualización anterior, se puede apreciar que destacan las correlaciones directas entre los siguientes pares de atributos:\n",
        "\n",
        "\n",
        "1.   D_std y D_max, con un coeficiente de correlación de 0.99.\n",
        "2.   LogMTD y D_max, con un coeficiente de correlación de 0.97.\n",
        "3.   LogMTD y D_std, con un coeficiente de correlación de 0.99.\n",
        "4.   LogMTD/Renta y LogDMax/Renta, con un coeficiente de correlación de 0.98.\n",
        "\n"
      ]
    },
    {
      "cell_type": "markdown",
      "metadata": {
        "id": "dSX6hm6b96Jd"
      },
      "source": [
        "Teniendo en cuenta la variabilidad presente en cada atributo de manera individual, así como las correlaciones antes mencionadas, al descartar las variables \"D_max\" y \"D_std\", se podrían eliminar 2 atributos que no solo contribuyen con poco varianza al resto del conjunto de datos, sino que además generan 3 de las 4 altas correlaciones recién mencionadas.\n",
        "\n",
        "Cabe señalar en forma complementaria, que todos los valores de deuda mensual, y por ende los valores mínimos, máximos y en alguna medida la desviación, se encuentran incorporados dentro de los atributos que muestran el dinamismo de la deuda, para todos los clientes registrados en el set de datos.\n",
        "\n",
        "Desde el punto de vista del negocio y el caso de estudio, en este caso orientado a pronosticar comportamiento de fuga, la deuda mínima para los distintos clientes no se presenta como información tan crítica para el análisis, como podrían ser a priori, los meses en que ha habido mora, la renta, la variación de la deuda misma, etc. A esto se suma el hecho ya mencionado de que la variable \"D_min\", presenta la menor desviación estándar, y por ende contribuye con la menor cantidad de varianza a un futuro modelo predicitivo, en relación con el resto de los atributos existentes.\n",
        "\n",
        "Dado todo lo antes mencionado, es que se descartan acontinuación, las 3 variables \"D_max\", \"D_min\" y \"D_std\"."
      ]
    },
    {
      "cell_type": "code",
      "metadata": {
        "id": "DYR2d6x9kJEw"
      },
      "source": [
        "DFscaled.drop(['D_max'], axis=1, inplace=True)"
      ],
      "execution_count": null,
      "outputs": []
    },
    {
      "cell_type": "code",
      "metadata": {
        "colab": {
          "base_uri": "https://localhost:8080/"
        },
        "id": "J_SHBWFE1bZQ",
        "outputId": "ad33373b-e818-4002-ae3f-6887bd601cb2"
      },
      "source": [
        "DFscaled.std()"
      ],
      "execution_count": null,
      "outputs": [
        {
          "output_type": "execute_result",
          "data": {
            "text/plain": [
              "ID                        0.288864\n",
              "GENERO                    0.488182\n",
              "RENTA                     0.163200\n",
              "EDAD                      0.194603\n",
              "NIV_EDUC                  0.258867\n",
              "E_CIVIL                   0.259469\n",
              "COD_OFI                   0.259128\n",
              "COD_COM                   0.164505\n",
              "CIUDAD                    0.183075\n",
              "M_MOROSO                  0.250635\n",
              "MONTO                     0.305724\n",
              "SEGURO                    0.406231\n",
              "FUGA                      0.500090\n",
              "logVM_MayoAbril           0.067871\n",
              "logVM_JunioMayo           0.335259\n",
              "logVM_JulioJunio          0.279958\n",
              "logVM_AgostoJulio         0.229348\n",
              "logVM_SeptiembreAgosto    0.256463\n",
              "logVM_AbrilMarzo          0.343763\n",
              "logMTD                    0.141836\n",
              "Recency                   0.133027\n",
              "Frecuencia                0.180010\n",
              "logDMax/Renta             0.159794\n",
              "logMTD/Renta              0.169038\n",
              "dtype: float64"
            ]
          },
          "metadata": {
            "tags": []
          },
          "execution_count": 65
        }
      ]
    },
    {
      "cell_type": "markdown",
      "metadata": {
        "id": "s9ZPZ-EkHRFw"
      },
      "source": [
        "### Test Kolmogorov"
      ]
    },
    {
      "cell_type": "code",
      "metadata": {
        "id": "QT4MCSVnLHl2"
      },
      "source": [
        "#@title Test de Hipótesis para logDMax/Renta y logMTD/Renta\n",
        "#plot_kolmogorov(DFscaled['logDMax/Renta'], DFscaled['logMTD/Renta'])"
      ],
      "execution_count": null,
      "outputs": []
    },
    {
      "cell_type": "markdown",
      "metadata": {
        "id": "nZrA_MRWO-Ez"
      },
      "source": [
        "Si bien los atributos logDMax/Renta y logMTD/Renta presentan un coeficiente de correlación igual a 0.98, el test de Kolmogorov-Smirnov nos entrega como resultado que son variables independientes, razón por la cual una no se puede explicar por la otra."
      ]
    },
    {
      "cell_type": "code",
      "metadata": {
        "id": "iCKiD4wHOQ1q"
      },
      "source": [
        "#@title Test de Hipótesis para logVM_JunioMayo y logVM_JulioJunio\n",
        "#plot_kolmogorov(DFscaled['logVM_JunioMayo'], DFscaled['logVM_JulioJunio'])"
      ],
      "execution_count": null,
      "outputs": []
    },
    {
      "cell_type": "markdown",
      "metadata": {
        "id": "_XWPLbBoPol8"
      },
      "source": [
        "Si bien los atributos logVM_JunioMayo y logVM_JulioJunio presentan un coeficiente de correlación igual a -0.79, el test de Kolmogorov-Smirnov nos entrega como resultado que son variables independientes, razón por la cual una no se puede explicar por la otra."
      ]
    },
    {
      "cell_type": "code",
      "metadata": {
        "colab": {
          "base_uri": "https://localhost:8080/",
          "height": 158
        },
        "id": "JKHLefR3KkoR",
        "outputId": "ccc222f6-62c9-4cf8-ef6b-64c1a02f8b59"
      },
      "source": [
        "DFscaled.head(3)"
      ],
      "execution_count": null,
      "outputs": [
        {
          "output_type": "execute_result",
          "data": {
            "text/html": [
              "<div>\n",
              "<style scoped>\n",
              "    .dataframe tbody tr th:only-of-type {\n",
              "        vertical-align: middle;\n",
              "    }\n",
              "\n",
              "    .dataframe tbody tr th {\n",
              "        vertical-align: top;\n",
              "    }\n",
              "\n",
              "    .dataframe thead th {\n",
              "        text-align: right;\n",
              "    }\n",
              "</style>\n",
              "<table border=\"1\" class=\"dataframe\">\n",
              "  <thead>\n",
              "    <tr style=\"text-align: right;\">\n",
              "      <th></th>\n",
              "      <th>ID</th>\n",
              "      <th>GENERO</th>\n",
              "      <th>RENTA</th>\n",
              "      <th>EDAD</th>\n",
              "      <th>NIV_EDUC</th>\n",
              "      <th>E_CIVIL</th>\n",
              "      <th>COD_OFI</th>\n",
              "      <th>COD_COM</th>\n",
              "      <th>CIUDAD</th>\n",
              "      <th>M_MOROSO</th>\n",
              "      <th>MONTO</th>\n",
              "      <th>SEGURO</th>\n",
              "      <th>logVM_MayoAbril</th>\n",
              "      <th>logVM_AbrilMarzo</th>\n",
              "      <th>logVM_JunioMayo</th>\n",
              "      <th>logVM_JulioJunio</th>\n",
              "      <th>logVM_AgostoJulio</th>\n",
              "      <th>logVM_SeptiembreAgosto</th>\n",
              "      <th>logMTD</th>\n",
              "      <th>Recency</th>\n",
              "      <th>Frecuencia</th>\n",
              "      <th>logDMax/Renta</th>\n",
              "      <th>logMTD/Renta</th>\n",
              "    </tr>\n",
              "  </thead>\n",
              "  <tbody>\n",
              "    <tr>\n",
              "      <th>0</th>\n",
              "      <td>0.000000</td>\n",
              "      <td>0.0</td>\n",
              "      <td>0.047669</td>\n",
              "      <td>0.558140</td>\n",
              "      <td>1.0</td>\n",
              "      <td>0.000000</td>\n",
              "      <td>0.144828</td>\n",
              "      <td>0.229126</td>\n",
              "      <td>0.012346</td>\n",
              "      <td>0.333333</td>\n",
              "      <td>0.293333</td>\n",
              "      <td>0.0</td>\n",
              "      <td>3.122104e-07</td>\n",
              "      <td>0.807951</td>\n",
              "      <td>0.666993</td>\n",
              "      <td>0.000005</td>\n",
              "      <td>0.061593</td>\n",
              "      <td>0.502095</td>\n",
              "      <td>0.754781</td>\n",
              "      <td>1.000000</td>\n",
              "      <td>0.428571</td>\n",
              "      <td>0.133206</td>\n",
              "      <td>0.041409</td>\n",
              "    </tr>\n",
              "    <tr>\n",
              "      <th>1</th>\n",
              "      <td>0.000834</td>\n",
              "      <td>1.0</td>\n",
              "      <td>0.235242</td>\n",
              "      <td>0.209302</td>\n",
              "      <td>0.6</td>\n",
              "      <td>0.333333</td>\n",
              "      <td>0.441379</td>\n",
              "      <td>0.526214</td>\n",
              "      <td>0.308642</td>\n",
              "      <td>0.000000</td>\n",
              "      <td>0.186667</td>\n",
              "      <td>0.0</td>\n",
              "      <td>1.312136e-06</td>\n",
              "      <td>0.715417</td>\n",
              "      <td>0.046590</td>\n",
              "      <td>0.077386</td>\n",
              "      <td>0.061593</td>\n",
              "      <td>0.115372</td>\n",
              "      <td>0.662689</td>\n",
              "      <td>1.000000</td>\n",
              "      <td>0.285714</td>\n",
              "      <td>0.000000</td>\n",
              "      <td>0.002263</td>\n",
              "    </tr>\n",
              "    <tr>\n",
              "      <th>2</th>\n",
              "      <td>0.001668</td>\n",
              "      <td>0.0</td>\n",
              "      <td>0.056888</td>\n",
              "      <td>0.697674</td>\n",
              "      <td>1.0</td>\n",
              "      <td>0.000000</td>\n",
              "      <td>0.882759</td>\n",
              "      <td>0.000000</td>\n",
              "      <td>0.037037</td>\n",
              "      <td>0.333333</td>\n",
              "      <td>0.080000</td>\n",
              "      <td>1.0</td>\n",
              "      <td>1.003678e-06</td>\n",
              "      <td>0.006272</td>\n",
              "      <td>0.840304</td>\n",
              "      <td>0.000098</td>\n",
              "      <td>0.230303</td>\n",
              "      <td>0.000028</td>\n",
              "      <td>0.847694</td>\n",
              "      <td>0.888889</td>\n",
              "      <td>0.714286</td>\n",
              "      <td>0.044117</td>\n",
              "      <td>0.110354</td>\n",
              "    </tr>\n",
              "  </tbody>\n",
              "</table>\n",
              "</div>"
            ],
            "text/plain": [
              "         ID  GENERO     RENTA  ...  Frecuencia  logDMax/Renta  logMTD/Renta\n",
              "0  0.000000     0.0  0.047669  ...    0.428571       0.133206      0.041409\n",
              "1  0.000834     1.0  0.235242  ...    0.285714       0.000000      0.002263\n",
              "2  0.001668     0.0  0.056888  ...    0.714286       0.044117      0.110354\n",
              "\n",
              "[3 rows x 23 columns]"
            ]
          },
          "metadata": {
            "tags": []
          },
          "execution_count": 191
        }
      ]
    },
    {
      "cell_type": "code",
      "metadata": {
        "id": "8zYdRegQP_qT"
      },
      "source": [
        "# @title Test de Hipótesis para GENERO y RENTA\n",
        "#ct1 = pd.concat([DFscaled['GENERO'],pd.cut(DFscaled['RENTA'], bins=5)],axis=1).groupby(['RENTA', 'GENERO']).size().unstack('GENERO')\n",
        "#ct1"
      ],
      "execution_count": null,
      "outputs": []
    },
    {
      "cell_type": "code",
      "metadata": {
        "id": "nc8rMB11XWuY"
      },
      "source": [
        "#from scipy.stats import chi2_contingency \n",
        "# aplicamos el test\n",
        "#stat, p_val, dof, expected = chi2_contingency(ct1) \n",
        "  \n",
        "# interpretamos el p-value \n",
        "#alpha = 0.05\n",
        "#print(f\"p-value = {round(p_val,4)}\") \n",
        "#if p_val <= alpha: \n",
        "#    print('Las distribuciones son independientes (Acepta Hipótesis Nula)') \n",
        "#else: \n",
        "#    print('Las distribuciones son dependientes (Rechaza Hipótesis Nula)') "
      ],
      "execution_count": null,
      "outputs": []
    },
    {
      "cell_type": "markdown",
      "metadata": {
        "id": "LHMeYkHVYPUU"
      },
      "source": [
        "Del Test de Chi Cuadrado anterior obtenemos que las variables GENERO y RENTA son independientes, por lo que no se puede explicar o modelar una en base a la otra. De este modo, no es posible descartar ninguna de ellas de la base de datos."
      ]
    },
    {
      "cell_type": "code",
      "metadata": {
        "id": "5ycKIeV3Yi4T"
      },
      "source": [
        "# @title Test de Hipótesis para EDAD y RENTA\n",
        "#ct2 = pd.concat([pd.cut(DFscaled['EDAD'], bins=5),pd.cut(DFscaled['RENTA'], bins=5)],axis=1).groupby(['RENTA', 'EDAD']).size().unstack('EDAD')\n",
        "#ct2"
      ],
      "execution_count": null,
      "outputs": []
    },
    {
      "cell_type": "code",
      "metadata": {
        "id": "NFQOil-xZMqS"
      },
      "source": [
        "#stat, p_val, dof, expected = chi2_contingency(ct2)\n",
        "#alpha = 0.05\n",
        "#print(f\"p-value = {round(p_val,4)}\") \n",
        "#if p_val <= alpha: \n",
        "#    print('Las distribuciones son independientes (Acepta Hipótesis Nula)') \n",
        "#else: \n",
        "#    print('Las distribuciones son dependientes (Rechaza Hipótesis Nula)') "
      ],
      "execution_count": null,
      "outputs": []
    },
    {
      "cell_type": "markdown",
      "metadata": {
        "id": "MSsMM-WsaMDm"
      },
      "source": [
        "Del Test de Chi Cuadrado anterior obtenemos que las variables EDAD y RENTA son independientes, por lo que no se puede explicar o modelar una en base a la otra. De este modo, no es posible descartar ninguna de ellas de la base de datos."
      ]
    },
    {
      "cell_type": "code",
      "metadata": {
        "id": "mpeTytoLkRiN"
      },
      "source": [
        "#@title Test de Hipótesis KS para EDAD y RENTA\n",
        "#plot_kolmogorov(DFscaled['EDAD'], DFscaled['RENTA'])"
      ],
      "execution_count": null,
      "outputs": []
    },
    {
      "cell_type": "markdown",
      "metadata": {
        "id": "t1etMa48kygF"
      },
      "source": [
        "Del test Kolmogorov - Smirnov anterior, tenemos que las variables EDAD y RENTA son independientes, por lo que no podemos desechar ninguno de los dos atributos."
      ]
    },
    {
      "cell_type": "code",
      "metadata": {
        "id": "WGemNIU6bCoL"
      },
      "source": [
        "# @title Test de Hipótesis para NIV_EDUC y RENTA\n",
        "#ct3 = pd.concat([DFscaled['NIV_EDUC'],pd.cut(DFscaled['RENTA'], bins=5)],axis=1).groupby(['RENTA', 'NIV_EDUC']).size().unstack('NIV_EDUC')\n",
        "#ct3"
      ],
      "execution_count": null,
      "outputs": []
    },
    {
      "cell_type": "code",
      "metadata": {
        "id": "jRWIowwPbbeu"
      },
      "source": [
        "#stat, p_val, dof, expected = chi2_contingency(ct3)\n",
        "#alpha = 0.05\n",
        "#print(f\"p-value = {round(p_val,4)}\") \n",
        "#if p_val <= alpha: \n",
        "#    print('Las distribuciones son independientes (Acepta Hipótesis Nula)') \n",
        "#else: \n",
        "#    print('Las distribuciones son dependientes (Rechaza Hipótesis Nula)') "
      ],
      "execution_count": null,
      "outputs": []
    },
    {
      "cell_type": "markdown",
      "metadata": {
        "id": "Q9IryVdvbq3O"
      },
      "source": [
        "Del Test de Chi Cuadrado anterior obtenemos que las variables NIVEL EDUCACIONAL y RENTA son independientes, por lo que no se puede explicar o modelar una en base a la otra. De este modo, no es posible descartar ninguna de ellas de la base de datos."
      ]
    },
    {
      "cell_type": "code",
      "metadata": {
        "id": "W7jfAAspYhtM"
      },
      "source": [
        "#@title Test de Hipótesis KS para RENTA y MONTO\n",
        "#plot_kolmogorov(DFscaled['RENTA'], DFscaled['MONTO'])"
      ],
      "execution_count": null,
      "outputs": []
    },
    {
      "cell_type": "markdown",
      "metadata": {
        "id": "buvGUaKysvDD"
      },
      "source": [
        "Del test Kolmogorov - Smirnov anterior, tenemos que las variables RENTA y MONTO son independientes, por lo que no podemos desechar ninguno de los dos atributos (al menos, por decisión entre ellos)."
      ]
    },
    {
      "cell_type": "code",
      "metadata": {
        "id": "FY004BHed4wT"
      },
      "source": [
        "# @title Test de Hipótesis para NIV_EDUC y E_CIVIL\n",
        "#ct4 = pd.concat([DFscaled['NIV_EDUC'],DFscaled['E_CIVIL']],axis=1).groupby(['E_CIVIL', 'NIV_EDUC']).size().unstack('E_CIVIL')\n",
        "#ct4.fillna(0, inplace=True)\n",
        "#ct4"
      ],
      "execution_count": null,
      "outputs": []
    },
    {
      "cell_type": "code",
      "metadata": {
        "id": "7Feb9HqimJS4"
      },
      "source": [
        "#stat, p_val, dof, expected = chi2_contingency(ct4)\n",
        "#alpha = 0.05\n",
        "#print(f\"p-value = {round(p_val,4)}\") \n",
        "#if p_val <= alpha: \n",
        "#    print('Las distribuciones son independientes (Acepta Hipótesis Nula)') \n",
        "#else: \n",
        "#    print('Las distribuciones son dependientes (Rechaza Hipótesis Nula)') "
      ],
      "execution_count": null,
      "outputs": []
    },
    {
      "cell_type": "markdown",
      "metadata": {
        "id": "6B83-LjS1rF3"
      },
      "source": [
        "Del Test de Chi Cuadrado anterior obtenemos que las variables NIVEL EDUCACIONAL y E_CIVIL son independientes, por lo que no se puede explicar o modelar una en base a la otra. De este modo, no es posible descartar ninguna de ellas de la base de datos."
      ]
    },
    {
      "cell_type": "code",
      "metadata": {
        "id": "mTxm-j2WtyGs"
      },
      "source": [
        "#@title Test de Hipótesis KS para logMTD y logMTD/Renta\n",
        "#plot_kolmogorov(DFscaled['logMTD'], DFscaled['logMTD/Renta'])"
      ],
      "execution_count": null,
      "outputs": []
    },
    {
      "cell_type": "markdown",
      "metadata": {
        "id": "xAlk4efBw8SU"
      },
      "source": [
        "Del test Kolmogorov - Smirnov anterior, tenemos que las variables logMTD y logMTD/Renta son independientes, a pesar de la construcción similar de cada una de ellas, por lo que no podemos desechar ninguno de los dos atributos (al menos, por decisión entre ellos)."
      ]
    },
    {
      "cell_type": "code",
      "metadata": {
        "id": "_Z6Nhvx6lEq4"
      },
      "source": [
        "#@title Test de Hipótesis KS para COD_COM y COD_OFI\n",
        "#plot_kolmogorov(DFscaled['COD_COM'], DFscaled['COD_OFI'])"
      ],
      "execution_count": null,
      "outputs": []
    },
    {
      "cell_type": "markdown",
      "metadata": {
        "id": "LHYOpXBDn06v"
      },
      "source": [
        "Del test Kolmogorov - Smirnov anterior, tenemos que las variables COD_COM y COD_OFI son independientes, por lo que no podemos desechar ninguno de los dos atributos."
      ]
    },
    {
      "cell_type": "code",
      "metadata": {
        "id": "Cn5n4TqBLk6u"
      },
      "source": [
        "#@title Test de Hipótesis KS para COD_COM y CIUDAD\n",
        "#plot_kolmogorov(DFscaled['COD_COM'], DFscaled['CIUDAD'])"
      ],
      "execution_count": null,
      "outputs": []
    },
    {
      "cell_type": "markdown",
      "metadata": {
        "id": "5-oqkoFQ8K2p"
      },
      "source": [
        "Del test Kolmogorov - Smirnov anterior, tenemos que las variables COD_COM y CIUDAD son independientes, por lo que a priori, no podemos desechar ninguno de los dos atributos, según test de hipótesis."
      ]
    },
    {
      "cell_type": "code",
      "metadata": {
        "id": "meSiz8Qv66LO"
      },
      "source": [
        "#@title Test de Hipótesis KS para COD_OFI y CIUDAD\n",
        "#plot_kolmogorov(DFscaled['COD_OFI'], DFscaled['CIUDAD'])"
      ],
      "execution_count": null,
      "outputs": []
    },
    {
      "cell_type": "markdown",
      "metadata": {
        "id": "yhv46aNJ7oJW"
      },
      "source": [
        "Del test Kolmogorov - Smirnov anterior, tenemos que las variables COD_OFI y CIUDAD son independientes, por lo que a priori, no podemos desechar ninguno de los dos atributos, según test de hipótesis.\n",
        "\n"
      ]
    },
    {
      "cell_type": "markdown",
      "metadata": {
        "id": "53xdM3Hb9EUd"
      },
      "source": [
        "A nivel general, los atributos COD_OFI, COD_COM y CIUDAD, nos aportan información asociada a la ubicación espacial o geográfica de los clientes del set de datos. En forma complementaria, es inherente a dichas variables que, desde el punto de vista del negocio, existe algún grado de vínculo entre ellas, puesto que las oficinas, necesariamente están ubicadas en una comuna espcífica, y a su vez, las comunas son directamente vinculadas con las ciudades.\n",
        "\n",
        "Si bien lo anterior es válido desde la intuición y el sentido común, en la base de datos disponible, no se ve reflejado en forma estadísticamente significativa, puntualmente a través de los test de hipótesis antes desarrollados, puesto que, más allá de la normalización de los datos, los códigos de oficina, los códigos de comuna y las ciudades, no han sido imputadas de forma consistente, con tal de que la relación natural antes planteada, pueda ser evidenciada mediante los códigos esepcíficos.\n",
        "\n",
        "Cabe señalar, que si se siguiese algún estandar conocido para asignación del código de oficina en conjunto con el código de comuna, vinculado este último de alguna manera correlativa a la ciudad, podría quizás verse reflejado de manera más fácil, la relación estadísticamente significativa en los test de hipótesis. En el caso del set de datos, se desconoce la lógica o arbitrariedad de la imputación realizada por la organización.\n",
        "\n",
        "De este modo, considerando que los 3 atributos antes mencionados apuntan de forma general a la misma información, es que desde el punto de vista del negocio, se define reducir la dimensionalidad del problema, eliminando 2 de las 3 variables con orientación espacial. Particularmente, se define dejar el atributo CIUDAD."
      ]
    },
    {
      "cell_type": "code",
      "metadata": {
        "id": "XKDxrrd8AdIJ"
      },
      "source": [
        "DFscaled.drop(['COD_OFI', 'COD_COM'], axis=1, inplace=True)"
      ],
      "execution_count": null,
      "outputs": []
    },
    {
      "cell_type": "code",
      "metadata": {
        "id": "HETtmK2upOUS"
      },
      "source": [
        "# @title Test de Hipótesis para M_MOROSO y RENTA\n",
        "#ct5 = pd.concat([DFscaled['M_MOROSO'],pd.cut(DFscaled['RENTA'], bins=5)],axis=1).groupby(['RENTA', 'M_MOROSO']).size().unstack('M_MOROSO')\n",
        "#ct5"
      ],
      "execution_count": null,
      "outputs": []
    },
    {
      "cell_type": "code",
      "metadata": {
        "id": "AMYL1n91YrLz"
      },
      "source": [
        "#stat, p_val, dof, expected = chi2_contingency(ct5)\n",
        "#alpha = 0.05\n",
        "#print(f\"p-value = {round(p_val,4)}\") \n",
        "#if p_val <= alpha: \n",
        "#    print('Las distribuciones son independientes (Acepta Hipótesis Nula)') \n",
        "#else: \n",
        "#    print('Las distribuciones son dependientes (Rechaza Hipótesis Nula)') "
      ],
      "execution_count": null,
      "outputs": []
    },
    {
      "cell_type": "markdown",
      "metadata": {
        "id": "E2X6VQu3q2Iy"
      },
      "source": [
        "Del Test de Chi Cuadrado anterior obtenemos que las variables M_MOROSO y RENTA son dependientes, por lo que sí se puede explicar o modelar una en base a la otra. De este modo, es posible eliminar una ellas de la base de datos."
      ]
    },
    {
      "cell_type": "code",
      "metadata": {
        "id": "NOW4ntCncKor"
      },
      "source": [
        "# @title Test de Hipótesis para M_MOROSO y FUGA\n",
        "#ct6 = pd.concat([DFscaled['M_MOROSO'],DFscaled['FUGA']],axis=1).groupby(['FUGA', 'M_MOROSO']).size().unstack('M_MOROSO')\n",
        "#ct6.fillna(0, inplace=True)\n",
        "#ct6"
      ],
      "execution_count": null,
      "outputs": []
    },
    {
      "cell_type": "code",
      "metadata": {
        "id": "4nEJRB71ckWC"
      },
      "source": [
        "#stat, p_val, dof, expected = chi2_contingency(ct6)\n",
        "#alpha = 0.05\n",
        "#print(f\"p-value = {round(p_val,4)}\") \n",
        "#if p_val <= alpha: \n",
        "#    print('Las distribuciones son independientes (Acepta Hipótesis Nula)') \n",
        "#else: \n",
        "#    print('Las distribuciones son dependientes (Rechaza Hipótesis Nula)') "
      ],
      "execution_count": null,
      "outputs": []
    },
    {
      "cell_type": "markdown",
      "metadata": {
        "id": "CBVSaWdd0EHC"
      },
      "source": [
        "Del test anterior, tenemos que el atributo M_MOROSO no explica por sí solo el comportamiento de la variable objetivo FUGA. Sin embargo, se mantiene su utilización, puesto que colabora con el resto de los atributos a aportar varianza al caso de estudio."
      ]
    },
    {
      "cell_type": "markdown",
      "metadata": {
        "id": "fjrkLaFM9St1"
      },
      "source": [
        "A continuación, según lo ya analizado, se define eliminar el atributo RENTA, puesto que es dependiente con la variable M_MOROSO, permitiendo a ésta última explicar el comportamiento de la primera. A esto se debe sumar que la información de RENTA, también se encuentra de alguna manera contenida en las variables logDMax/Renta y logMTD/Renta. Por último, y también asociado a estas dos variables recién mencionadas, al eliminar el atributo RENTA, se evitará tener las correlaciones mostradas en la matriz, iguales a -0.63 y -0.65, las que si bien tienen una naturaleza media en cuanto a su intensidad, se cuentan entre las más altas correlaciones remanentes dentro del conjunto de atributos, permitiendo evitar mayores problemas en los futuros modelos predictivos."
      ]
    },
    {
      "cell_type": "code",
      "metadata": {
        "id": "HvUTU-r289ry"
      },
      "source": [
        "DFscaled.drop(['RENTA'], axis=1, inplace=True)"
      ],
      "execution_count": null,
      "outputs": []
    },
    {
      "cell_type": "markdown",
      "metadata": {
        "id": "ztJsU7xuej-A"
      },
      "source": [
        "Por otro lado, si bien anteriormente ya se evidenció mediante el test de Kolmogorov - Smirnov que las variables logMTD y logMTD/Renta son estadísticamente independientes, por naturaleza misma de la construcción de dichas variables, un incorpora a la otra.\n",
        "\n",
        "Desde el punto de vista del negocio, recordando que las deudas mensuales no pasan o se acumulan de un mes al siguiente, resulta más interesante tener una visión del total de deuda existente durante el período de análisis en relación con el poder adquisitivo de los clientes. De este modo, el atributo sintético logMTD/Renta, nos aporta mayor cantidad de información respecto a la naturaleza particular de cada cliente. Cabe señalar, que esto último se ve avalado en la varianza, medida a través de la desviación estándar para cada variable, donde este estadístico, es mayor para logMTD/Renta, igual a 0.169038, que para logMTD, en cuyo caso tenemos un valor de 0.141836, siendo alrededor de 19% menor.\n",
        "\n",
        "En vista de lo anterior, y con tal de reducir la dimensionalidad del problema en análisis, se define eliminar la variable logMTD."
      ]
    },
    {
      "cell_type": "code",
      "metadata": {
        "id": "1ff6d680ikyZ"
      },
      "source": [
        "DFscaled.drop(['logMTD'], axis=1, inplace=True)"
      ],
      "execution_count": null,
      "outputs": []
    },
    {
      "cell_type": "markdown",
      "metadata": {
        "id": "wmEFt69LAzCw"
      },
      "source": [
        "Como resultado de la construcción, análisis y eliminación de variables, tenemos 19 atributos en nuestro set de datos, de los que podemos identificar, a grandes rasgos, 3 grupos:\n",
        "\n",
        "\n",
        "*   Variables descriptivas de los clientes como personas naturales, que corresponden a género, edad, estado civil, nivel educacional y ciudad.\n",
        "*   Variables descriptivas de los clientes en su condición general de afiliado a la entidad financiera, enfocado en su situación de usuario, que considera los meses en que ha presentado mora, los montos preaprobados de crédito y su condición de asegurado o no.\n",
        "*   Variables de dinamismo de la deuda del cliente, que apuntan a la evolución temporal de la deuda mensual, así como al monto de la misma en el período. En este grupo particular, tenemos la razón de deuda entre meses consecutivos, la frecuencia con que se ha presentado una deuda no nula durante un mes, lo reciente de la existencia de una deuda no nula, así como las deudas máxima en un mes y el total sumado del intervalo de tiempo estudiado, pero estas últimas, ambas comparadas con el ingreso, y por ende, con la capacidad de pago, de cada cliente.\n",
        "\n"
      ]
    },
    {
      "cell_type": "code",
      "metadata": {
        "colab": {
          "base_uri": "https://localhost:8080/",
          "height": 428
        },
        "id": "LhRQU--XBN5n",
        "outputId": "f47d5301-8796-4a63-b3e1-60f5ec1ac00d"
      },
      "source": [
        "DFscaled"
      ],
      "execution_count": null,
      "outputs": [
        {
          "output_type": "execute_result",
          "data": {
            "text/html": [
              "<div>\n",
              "<style scoped>\n",
              "    .dataframe tbody tr th:only-of-type {\n",
              "        vertical-align: middle;\n",
              "    }\n",
              "\n",
              "    .dataframe tbody tr th {\n",
              "        vertical-align: top;\n",
              "    }\n",
              "\n",
              "    .dataframe thead th {\n",
              "        text-align: right;\n",
              "    }\n",
              "</style>\n",
              "<table border=\"1\" class=\"dataframe\">\n",
              "  <thead>\n",
              "    <tr style=\"text-align: right;\">\n",
              "      <th></th>\n",
              "      <th>ID</th>\n",
              "      <th>GENERO</th>\n",
              "      <th>EDAD</th>\n",
              "      <th>NIV_EDUC</th>\n",
              "      <th>E_CIVIL</th>\n",
              "      <th>CIUDAD</th>\n",
              "      <th>M_MOROSO</th>\n",
              "      <th>MONTO</th>\n",
              "      <th>SEGURO</th>\n",
              "      <th>logVM_MayoAbril</th>\n",
              "      <th>logVM_AbrilMarzo</th>\n",
              "      <th>logVM_JunioMayo</th>\n",
              "      <th>logVM_JulioJunio</th>\n",
              "      <th>logVM_AgostoJulio</th>\n",
              "      <th>logVM_SeptiembreAgosto</th>\n",
              "      <th>Recency</th>\n",
              "      <th>Frecuencia</th>\n",
              "      <th>logDMax/Renta</th>\n",
              "      <th>logMTD/Renta</th>\n",
              "    </tr>\n",
              "  </thead>\n",
              "  <tbody>\n",
              "    <tr>\n",
              "      <th>0</th>\n",
              "      <td>0.000000</td>\n",
              "      <td>0.0</td>\n",
              "      <td>0.558140</td>\n",
              "      <td>1.0</td>\n",
              "      <td>0.000000</td>\n",
              "      <td>0.012346</td>\n",
              "      <td>0.333333</td>\n",
              "      <td>0.293333</td>\n",
              "      <td>0.0</td>\n",
              "      <td>3.122104e-07</td>\n",
              "      <td>0.807951</td>\n",
              "      <td>0.666993</td>\n",
              "      <td>0.000005</td>\n",
              "      <td>0.061593</td>\n",
              "      <td>0.502095</td>\n",
              "      <td>1.000000</td>\n",
              "      <td>0.428571</td>\n",
              "      <td>0.133206</td>\n",
              "      <td>0.041409</td>\n",
              "    </tr>\n",
              "    <tr>\n",
              "      <th>1</th>\n",
              "      <td>0.000834</td>\n",
              "      <td>1.0</td>\n",
              "      <td>0.209302</td>\n",
              "      <td>0.6</td>\n",
              "      <td>0.333333</td>\n",
              "      <td>0.308642</td>\n",
              "      <td>0.000000</td>\n",
              "      <td>0.186667</td>\n",
              "      <td>0.0</td>\n",
              "      <td>1.312136e-06</td>\n",
              "      <td>0.715417</td>\n",
              "      <td>0.046590</td>\n",
              "      <td>0.077386</td>\n",
              "      <td>0.061593</td>\n",
              "      <td>0.115372</td>\n",
              "      <td>1.000000</td>\n",
              "      <td>0.285714</td>\n",
              "      <td>0.000000</td>\n",
              "      <td>0.002263</td>\n",
              "    </tr>\n",
              "    <tr>\n",
              "      <th>2</th>\n",
              "      <td>0.001668</td>\n",
              "      <td>0.0</td>\n",
              "      <td>0.697674</td>\n",
              "      <td>1.0</td>\n",
              "      <td>0.000000</td>\n",
              "      <td>0.037037</td>\n",
              "      <td>0.333333</td>\n",
              "      <td>0.080000</td>\n",
              "      <td>1.0</td>\n",
              "      <td>1.003678e-06</td>\n",
              "      <td>0.006272</td>\n",
              "      <td>0.840304</td>\n",
              "      <td>0.000098</td>\n",
              "      <td>0.230303</td>\n",
              "      <td>0.000028</td>\n",
              "      <td>0.888889</td>\n",
              "      <td>0.714286</td>\n",
              "      <td>0.044117</td>\n",
              "      <td>0.110354</td>\n",
              "    </tr>\n",
              "    <tr>\n",
              "      <th>3</th>\n",
              "      <td>0.002502</td>\n",
              "      <td>1.0</td>\n",
              "      <td>0.465116</td>\n",
              "      <td>0.4</td>\n",
              "      <td>0.333333</td>\n",
              "      <td>0.012346</td>\n",
              "      <td>1.000000</td>\n",
              "      <td>0.400000</td>\n",
              "      <td>0.0</td>\n",
              "      <td>5.967559e-05</td>\n",
              "      <td>0.462675</td>\n",
              "      <td>0.865820</td>\n",
              "      <td>0.000556</td>\n",
              "      <td>0.000032</td>\n",
              "      <td>0.576862</td>\n",
              "      <td>1.000000</td>\n",
              "      <td>0.571429</td>\n",
              "      <td>0.164709</td>\n",
              "      <td>0.071994</td>\n",
              "    </tr>\n",
              "    <tr>\n",
              "      <th>4</th>\n",
              "      <td>0.003336</td>\n",
              "      <td>0.0</td>\n",
              "      <td>0.488372</td>\n",
              "      <td>0.4</td>\n",
              "      <td>0.000000</td>\n",
              "      <td>0.012346</td>\n",
              "      <td>0.333333</td>\n",
              "      <td>0.200000</td>\n",
              "      <td>0.0</td>\n",
              "      <td>2.200090e-07</td>\n",
              "      <td>0.829681</td>\n",
              "      <td>0.765204</td>\n",
              "      <td>0.000095</td>\n",
              "      <td>0.001164</td>\n",
              "      <td>0.307001</td>\n",
              "      <td>1.000000</td>\n",
              "      <td>0.571429</td>\n",
              "      <td>0.000000</td>\n",
              "      <td>0.005460</td>\n",
              "    </tr>\n",
              "    <tr>\n",
              "      <th>...</th>\n",
              "      <td>...</td>\n",
              "      <td>...</td>\n",
              "      <td>...</td>\n",
              "      <td>...</td>\n",
              "      <td>...</td>\n",
              "      <td>...</td>\n",
              "      <td>...</td>\n",
              "      <td>...</td>\n",
              "      <td>...</td>\n",
              "      <td>...</td>\n",
              "      <td>...</td>\n",
              "      <td>...</td>\n",
              "      <td>...</td>\n",
              "      <td>...</td>\n",
              "      <td>...</td>\n",
              "      <td>...</td>\n",
              "      <td>...</td>\n",
              "      <td>...</td>\n",
              "      <td>...</td>\n",
              "    </tr>\n",
              "    <tr>\n",
              "      <th>1195</th>\n",
              "      <td>0.996664</td>\n",
              "      <td>1.0</td>\n",
              "      <td>0.651163</td>\n",
              "      <td>1.0</td>\n",
              "      <td>0.000000</td>\n",
              "      <td>0.012346</td>\n",
              "      <td>0.666667</td>\n",
              "      <td>0.253333</td>\n",
              "      <td>0.0</td>\n",
              "      <td>1.053948e-06</td>\n",
              "      <td>0.007920</td>\n",
              "      <td>0.836019</td>\n",
              "      <td>0.000155</td>\n",
              "      <td>0.273731</td>\n",
              "      <td>0.003707</td>\n",
              "      <td>1.000000</td>\n",
              "      <td>0.857143</td>\n",
              "      <td>0.072776</td>\n",
              "      <td>0.073234</td>\n",
              "    </tr>\n",
              "    <tr>\n",
              "      <th>1196</th>\n",
              "      <td>0.997498</td>\n",
              "      <td>1.0</td>\n",
              "      <td>0.627907</td>\n",
              "      <td>1.0</td>\n",
              "      <td>0.000000</td>\n",
              "      <td>0.037037</td>\n",
              "      <td>0.333333</td>\n",
              "      <td>0.200000</td>\n",
              "      <td>1.0</td>\n",
              "      <td>4.367309e-02</td>\n",
              "      <td>0.046063</td>\n",
              "      <td>0.046590</td>\n",
              "      <td>0.077386</td>\n",
              "      <td>0.061593</td>\n",
              "      <td>0.618212</td>\n",
              "      <td>1.000000</td>\n",
              "      <td>0.142857</td>\n",
              "      <td>0.098571</td>\n",
              "      <td>0.000366</td>\n",
              "    </tr>\n",
              "    <tr>\n",
              "      <th>1197</th>\n",
              "      <td>0.998332</td>\n",
              "      <td>1.0</td>\n",
              "      <td>0.465116</td>\n",
              "      <td>0.6</td>\n",
              "      <td>0.333333</td>\n",
              "      <td>0.012346</td>\n",
              "      <td>0.333333</td>\n",
              "      <td>0.173333</td>\n",
              "      <td>1.0</td>\n",
              "      <td>1.539560e-07</td>\n",
              "      <td>0.851243</td>\n",
              "      <td>0.046590</td>\n",
              "      <td>0.536343</td>\n",
              "      <td>0.000718</td>\n",
              "      <td>0.428875</td>\n",
              "      <td>1.000000</td>\n",
              "      <td>0.428571</td>\n",
              "      <td>0.247851</td>\n",
              "      <td>0.172589</td>\n",
              "    </tr>\n",
              "    <tr>\n",
              "      <th>1198</th>\n",
              "      <td>0.999166</td>\n",
              "      <td>1.0</td>\n",
              "      <td>0.395349</td>\n",
              "      <td>0.6</td>\n",
              "      <td>0.000000</td>\n",
              "      <td>0.012346</td>\n",
              "      <td>0.333333</td>\n",
              "      <td>0.426667</td>\n",
              "      <td>0.0</td>\n",
              "      <td>6.558210e-06</td>\n",
              "      <td>0.609228</td>\n",
              "      <td>0.046590</td>\n",
              "      <td>0.684761</td>\n",
              "      <td>0.324400</td>\n",
              "      <td>0.000004</td>\n",
              "      <td>0.888889</td>\n",
              "      <td>0.428571</td>\n",
              "      <td>0.107785</td>\n",
              "      <td>0.003518</td>\n",
              "    </tr>\n",
              "    <tr>\n",
              "      <th>1199</th>\n",
              "      <td>1.000000</td>\n",
              "      <td>0.0</td>\n",
              "      <td>0.558140</td>\n",
              "      <td>1.0</td>\n",
              "      <td>0.000000</td>\n",
              "      <td>0.012346</td>\n",
              "      <td>0.666667</td>\n",
              "      <td>0.693333</td>\n",
              "      <td>0.0</td>\n",
              "      <td>2.457001e-06</td>\n",
              "      <td>0.674160</td>\n",
              "      <td>0.904788</td>\n",
              "      <td>0.000188</td>\n",
              "      <td>0.321696</td>\n",
              "      <td>0.004165</td>\n",
              "      <td>1.000000</td>\n",
              "      <td>0.714286</td>\n",
              "      <td>0.101341</td>\n",
              "      <td>0.048519</td>\n",
              "    </tr>\n",
              "  </tbody>\n",
              "</table>\n",
              "<p>1200 rows × 19 columns</p>\n",
              "</div>"
            ],
            "text/plain": [
              "            ID  GENERO      EDAD  ...  Frecuencia  logDMax/Renta  logMTD/Renta\n",
              "0     0.000000     0.0  0.558140  ...    0.428571       0.133206      0.041409\n",
              "1     0.000834     1.0  0.209302  ...    0.285714       0.000000      0.002263\n",
              "2     0.001668     0.0  0.697674  ...    0.714286       0.044117      0.110354\n",
              "3     0.002502     1.0  0.465116  ...    0.571429       0.164709      0.071994\n",
              "4     0.003336     0.0  0.488372  ...    0.571429       0.000000      0.005460\n",
              "...        ...     ...       ...  ...         ...            ...           ...\n",
              "1195  0.996664     1.0  0.651163  ...    0.857143       0.072776      0.073234\n",
              "1196  0.997498     1.0  0.627907  ...    0.142857       0.098571      0.000366\n",
              "1197  0.998332     1.0  0.465116  ...    0.428571       0.247851      0.172589\n",
              "1198  0.999166     1.0  0.395349  ...    0.428571       0.107785      0.003518\n",
              "1199  1.000000     0.0  0.558140  ...    0.714286       0.101341      0.048519\n",
              "\n",
              "[1200 rows x 19 columns]"
            ]
          },
          "metadata": {
            "tags": []
          },
          "execution_count": 213
        }
      ]
    },
    {
      "cell_type": "code",
      "metadata": {
        "id": "lLqnaxTjCSqd"
      },
      "source": [
        "#DFscaled.std()"
      ],
      "execution_count": null,
      "outputs": []
    },
    {
      "cell_type": "code",
      "metadata": {
        "colab": {
          "base_uri": "https://localhost:8080/",
          "height": 1000
        },
        "id": "Lkm-ZhR6DCmz",
        "outputId": "f33f4bf4-3bc3-4fdb-a6ee-5cb8f46e24c5"
      },
      "source": [
        "plt.figure(figsize=(20,15))\n",
        "corr_matrix = DFscaled.corr(method ='spearman')\n",
        "mask = np.triu(np.ones_like(corr_matrix, dtype=bool))\n",
        "sns.heatmap(corr_matrix,mask=mask, annot=True)"
      ],
      "execution_count": null,
      "outputs": [
        {
          "output_type": "execute_result",
          "data": {
            "text/plain": [
              "<matplotlib.axes._subplots.AxesSubplot at 0x7f25da94b850>"
            ]
          },
          "metadata": {
            "tags": []
          },
          "execution_count": 92
        },
        {
          "output_type": "display_data",
          "data": {
            "image/png": "[encoded data removed]",
            "text/plain": [
              "<Figure size 1440x1080 with 2 Axes>"
            ]
          },
          "metadata": {
            "tags": [],
            "needs_background": "light"
          }
        }
      ]
    },
    {
      "cell_type": "code",
      "metadata": {
        "id": "kUWeYSnMJDRH"
      },
      "source": [
        "#McovDF = DFscaled.cov()\n",
        "#McovDF"
      ],
      "execution_count": null,
      "outputs": []
    },
    {
      "cell_type": "code",
      "metadata": {
        "id": "gf1xb5pVXITO"
      },
      "source": [
        "#from numpy.linalg import eigh\n",
        "#eig_values, eig_vectors = eigh(McovDF)\n",
        "#print('Eigen values: \\n', eig_values)\n",
        "#print('Eigen vectors: \\n', eig_vectors)"
      ],
      "execution_count": null,
      "outputs": []
    },
    {
      "cell_type": "code",
      "metadata": {
        "id": "VKVq96ZSZbPy",
        "colab": {
          "base_uri": "https://localhost:8080/",
          "height": 220
        },
        "outputId": "82b56a96-1c1d-4f91-9e88-abd2c3025044"
      },
      "source": [
        "dffinal = DFscaled.copy()\n",
        "dffinal.head()"
      ],
      "execution_count": null,
      "outputs": [
        {
          "output_type": "execute_result",
          "data": {
            "text/html": [
              "<div>\n",
              "<style scoped>\n",
              "    .dataframe tbody tr th:only-of-type {\n",
              "        vertical-align: middle;\n",
              "    }\n",
              "\n",
              "    .dataframe tbody tr th {\n",
              "        vertical-align: top;\n",
              "    }\n",
              "\n",
              "    .dataframe thead th {\n",
              "        text-align: right;\n",
              "    }\n",
              "</style>\n",
              "<table border=\"1\" class=\"dataframe\">\n",
              "  <thead>\n",
              "    <tr style=\"text-align: right;\">\n",
              "      <th></th>\n",
              "      <th>ID</th>\n",
              "      <th>GENERO</th>\n",
              "      <th>EDAD</th>\n",
              "      <th>NIV_EDUC</th>\n",
              "      <th>E_CIVIL</th>\n",
              "      <th>CIUDAD</th>\n",
              "      <th>M_MOROSO</th>\n",
              "      <th>MONTO</th>\n",
              "      <th>SEGURO</th>\n",
              "      <th>logVM_MayoAbril</th>\n",
              "      <th>logVM_AbrilMarzo</th>\n",
              "      <th>logVM_JunioMayo</th>\n",
              "      <th>logVM_JulioJunio</th>\n",
              "      <th>logVM_AgostoJulio</th>\n",
              "      <th>logVM_SeptiembreAgosto</th>\n",
              "      <th>Recency</th>\n",
              "      <th>Frecuencia</th>\n",
              "      <th>logDMax/Renta</th>\n",
              "      <th>logMTD/Renta</th>\n",
              "    </tr>\n",
              "  </thead>\n",
              "  <tbody>\n",
              "    <tr>\n",
              "      <th>0</th>\n",
              "      <td>0.000000</td>\n",
              "      <td>0.0</td>\n",
              "      <td>0.558140</td>\n",
              "      <td>1.0</td>\n",
              "      <td>0.000000</td>\n",
              "      <td>0.012346</td>\n",
              "      <td>0.333333</td>\n",
              "      <td>0.293333</td>\n",
              "      <td>0.0</td>\n",
              "      <td>3.122104e-07</td>\n",
              "      <td>0.807951</td>\n",
              "      <td>0.666993</td>\n",
              "      <td>0.000005</td>\n",
              "      <td>0.061593</td>\n",
              "      <td>0.502095</td>\n",
              "      <td>1.000000</td>\n",
              "      <td>0.428571</td>\n",
              "      <td>0.133206</td>\n",
              "      <td>0.041409</td>\n",
              "    </tr>\n",
              "    <tr>\n",
              "      <th>1</th>\n",
              "      <td>0.000834</td>\n",
              "      <td>1.0</td>\n",
              "      <td>0.209302</td>\n",
              "      <td>0.6</td>\n",
              "      <td>0.333333</td>\n",
              "      <td>0.308642</td>\n",
              "      <td>0.000000</td>\n",
              "      <td>0.186667</td>\n",
              "      <td>0.0</td>\n",
              "      <td>1.312136e-06</td>\n",
              "      <td>0.715417</td>\n",
              "      <td>0.046590</td>\n",
              "      <td>0.077386</td>\n",
              "      <td>0.061593</td>\n",
              "      <td>0.115372</td>\n",
              "      <td>1.000000</td>\n",
              "      <td>0.285714</td>\n",
              "      <td>0.000000</td>\n",
              "      <td>0.002263</td>\n",
              "    </tr>\n",
              "    <tr>\n",
              "      <th>2</th>\n",
              "      <td>0.001668</td>\n",
              "      <td>0.0</td>\n",
              "      <td>0.697674</td>\n",
              "      <td>1.0</td>\n",
              "      <td>0.000000</td>\n",
              "      <td>0.037037</td>\n",
              "      <td>0.333333</td>\n",
              "      <td>0.080000</td>\n",
              "      <td>1.0</td>\n",
              "      <td>1.003678e-06</td>\n",
              "      <td>0.006272</td>\n",
              "      <td>0.840304</td>\n",
              "      <td>0.000098</td>\n",
              "      <td>0.230303</td>\n",
              "      <td>0.000028</td>\n",
              "      <td>0.888889</td>\n",
              "      <td>0.714286</td>\n",
              "      <td>0.044117</td>\n",
              "      <td>0.110354</td>\n",
              "    </tr>\n",
              "    <tr>\n",
              "      <th>3</th>\n",
              "      <td>0.002502</td>\n",
              "      <td>1.0</td>\n",
              "      <td>0.465116</td>\n",
              "      <td>0.4</td>\n",
              "      <td>0.333333</td>\n",
              "      <td>0.012346</td>\n",
              "      <td>1.000000</td>\n",
              "      <td>0.400000</td>\n",
              "      <td>0.0</td>\n",
              "      <td>5.967559e-05</td>\n",
              "      <td>0.462675</td>\n",
              "      <td>0.865820</td>\n",
              "      <td>0.000556</td>\n",
              "      <td>0.000032</td>\n",
              "      <td>0.576862</td>\n",
              "      <td>1.000000</td>\n",
              "      <td>0.571429</td>\n",
              "      <td>0.164709</td>\n",
              "      <td>0.071994</td>\n",
              "    </tr>\n",
              "    <tr>\n",
              "      <th>4</th>\n",
              "      <td>0.003336</td>\n",
              "      <td>0.0</td>\n",
              "      <td>0.488372</td>\n",
              "      <td>0.4</td>\n",
              "      <td>0.000000</td>\n",
              "      <td>0.012346</td>\n",
              "      <td>0.333333</td>\n",
              "      <td>0.200000</td>\n",
              "      <td>0.0</td>\n",
              "      <td>2.200090e-07</td>\n",
              "      <td>0.829681</td>\n",
              "      <td>0.765204</td>\n",
              "      <td>0.000095</td>\n",
              "      <td>0.001164</td>\n",
              "      <td>0.307001</td>\n",
              "      <td>1.000000</td>\n",
              "      <td>0.571429</td>\n",
              "      <td>0.000000</td>\n",
              "      <td>0.005460</td>\n",
              "    </tr>\n",
              "  </tbody>\n",
              "</table>\n",
              "</div>"
            ],
            "text/plain": [
              "         ID  GENERO      EDAD  ...  Frecuencia  logDMax/Renta  logMTD/Renta\n",
              "0  0.000000     0.0  0.558140  ...    0.428571       0.133206      0.041409\n",
              "1  0.000834     1.0  0.209302  ...    0.285714       0.000000      0.002263\n",
              "2  0.001668     0.0  0.697674  ...    0.714286       0.044117      0.110354\n",
              "3  0.002502     1.0  0.465116  ...    0.571429       0.164709      0.071994\n",
              "4  0.003336     0.0  0.488372  ...    0.571429       0.000000      0.005460\n",
              "\n",
              "[5 rows x 19 columns]"
            ]
          },
          "metadata": {
            "tags": []
          },
          "execution_count": 218
        }
      ]
    },
    {
      "cell_type": "code",
      "metadata": {
        "id": "zTdTyCSLMtUe"
      },
      "source": [
        ""
      ],
      "execution_count": null,
      "outputs": []
    },
    {
      "cell_type": "code",
      "metadata": {
        "id": "OH6fUfprMsAY"
      },
      "source": [
        ""
      ],
      "execution_count": null,
      "outputs": []
    },
    {
      "cell_type": "code",
      "metadata": {
        "id": "ZiLdmsk8P9CV",
        "colab": {
          "base_uri": "https://localhost:8080/",
          "height": 17
        },
        "outputId": "d19c66e4-d49b-42cd-f2da-9774d008338b"
      },
      "source": [
        "# @title Descarga de dataframe resultante\n",
        "#from google.colab import files\n",
        "#dfpro.to_csv('dffinal.csv')\n",
        "#files.download('dfinal.csv')"
      ],
      "execution_count": null,
      "outputs": [
        {
          "output_type": "display_data",
          "data": {
            "application/javascript": [
              "\n",
              "    async function download(id, filename, size) {\n",
              "      if (!google.colab.kernel.accessAllowed) {\n",
              "        return;\n",
              "      }\n",
              "      const div = document.createElement('div');\n",
              "      const label = document.createElement('label');\n",
              "      label.textContent = `Downloading \"${filename}\": `;\n",
              "      div.appendChild(label);\n",
              "      const progress = document.createElement('progress');\n",
              "      progress.max = size;\n",
              "      div.appendChild(progress);\n",
              "      document.body.appendChild(div);\n",
              "\n",
              "      const buffers = [];\n",
              "      let downloaded = 0;\n",
              "\n",
              "      const channel = await google.colab.kernel.comms.open(id);\n",
              "      // Send a message to notify the kernel that we're ready.\n",
              "      channel.send({})\n",
              "\n",
              "      for await (const message of channel.messages) {\n",
              "        // Send a message to notify the kernel that we're ready.\n",
              "        channel.send({})\n",
              "        if (message.buffers) {\n",
              "          for (const buffer of message.buffers) {\n",
              "            buffers.push(buffer);\n",
              "            downloaded += buffer.byteLength;\n",
              "            progress.value = downloaded;\n",
              "          }\n",
              "        }\n",
              "      }\n",
              "      const blob = new Blob(buffers, {type: 'application/binary'});\n",
              "      const a = document.createElement('a');\n",
              "      a.href = window.URL.createObjectURL(blob);\n",
              "      a.download = filename;\n",
              "      div.appendChild(a);\n",
              "      a.click();\n",
              "      div.remove();\n",
              "    }\n",
              "  "
            ],
            "text/plain": [
              "<IPython.core.display.Javascript object>"
            ]
          },
          "metadata": {
            "tags": []
          }
        },
        {
          "output_type": "display_data",
          "data": {
            "application/javascript": [
              "download(\"download_5087431b-c2c1-4a80-b7ee-e7f9d7ece815\", \"dfpro.csv\", 733092)"
            ],
            "text/plain": [
              "<IPython.core.display.Javascript object>"
            ]
          },
          "metadata": {
            "tags": []
          }
        }
      ]
    },
    {
      "cell_type": "code",
      "metadata": {
        "id": "3225KFUGaUDE"
      },
      "source": [
        ""
      ],
      "execution_count": null,
      "outputs": []
    },
    {
      "cell_type": "code",
      "metadata": {
        "id": "bKMVm9RfaJjY"
      },
      "source": [
        ""
      ],
      "execution_count": null,
      "outputs": []
    }
  ]
}